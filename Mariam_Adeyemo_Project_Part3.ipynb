{
 "cells": [
  {
   "cell_type": "markdown",
   "id": "7c907e73-4988-45cb-893b-11c483f91ff3",
   "metadata": {},
   "source": [
    "### Mariam Adeyemo\n",
    "BDP Final Project"
   ]
  },
  {
   "cell_type": "markdown",
   "id": "6bd33874-9b6c-4395-841f-ade03fb1ec2b",
   "metadata": {},
   "source": [
    "## Part 3\n",
    "\n",
    "**Location of Twitterers**"
   ]
  },
  {
   "cell_type": "code",
   "execution_count": 1,
   "id": "bdca1882-4803-42e4-b17c-4ac103125c88",
   "metadata": {},
   "outputs": [
    {
     "data": {
      "text/plain": [
       "'3.1.3'"
      ]
     },
     "execution_count": 1,
     "metadata": {},
     "output_type": "execute_result"
    }
   ],
   "source": [
    "#Ensure we are using the right kernel\n",
    "spark.version"
   ]
  },
  {
   "cell_type": "code",
   "execution_count": 2,
   "id": "3ce6a52e-d728-42bf-8730-c4a2d54866b5",
   "metadata": {},
   "outputs": [],
   "source": [
    "import os\n",
    "import subprocess\n",
    "import shutil\n",
    "import pandas as pd\n",
    "from pyspark.sql.functions import *\n",
    "from pyspark import SparkContext\n",
    "from pyspark.sql import SQLContext\n",
    "from pyspark.sql.types import *"
   ]
  },
  {
   "cell_type": "code",
   "execution_count": 3,
   "id": "ede9eb20-ff7d-4027-b0ca-0a547a727496",
   "metadata": {},
   "outputs": [],
   "source": [
    "%matplotlib inline\n",
    "import pandas as pd\n",
    "import matplotlib.pyplot as plt"
   ]
  },
  {
   "cell_type": "code",
   "execution_count": 4,
   "id": "c466bbd7-51c5-4482-b1a9-9e14e4e04626",
   "metadata": {},
   "outputs": [],
   "source": [
    "warnings.filterwarnings(action='ignore')\n",
    "spark = SparkSession.builder.getOrCreate()"
   ]
  },
  {
   "cell_type": "code",
   "execution_count": 5,
   "id": "60c6c375-aa7d-4790-8b4b-966faf7286dd",
   "metadata": {},
   "outputs": [],
   "source": [
    "#Add \"eagerEval.enabled\" to beautify the way Spark DF is displayed\n",
    "spark.conf.set(\"spark.sql.repl.eagerEval.enabled\",True)"
   ]
  },
  {
   "cell_type": "code",
   "execution_count": 6,
   "id": "4fdd27a3-956e-4083-9162-7d27c3cdb36a",
   "metadata": {},
   "outputs": [],
   "source": [
    "# Saving results into individual bucket\n",
    "bucket_write = 'msca-bdp-data-shared'"
   ]
  },
  {
   "cell_type": "markdown",
   "id": "6b1a025d-0044-406b-88dd-604f762d16b6",
   "metadata": {},
   "source": [
    "### Loading the processed tweet into spark dataframe"
   ]
  },
  {
   "cell_type": "code",
   "execution_count": 7,
   "id": "54b25d4f-d7ca-4b97-8206-fc2e362a5030",
   "metadata": {},
   "outputs": [],
   "source": [
    "path_read = 'gs://msca-bdp-students-bucket/shared_data/mariamoluwatobi/categorised_twitterers'"
   ]
  },
  {
   "cell_type": "code",
   "execution_count": 8,
   "id": "a1d7f730-e2cf-404c-ba09-3c5a9073edb8",
   "metadata": {},
   "outputs": [
    {
     "name": "stderr",
     "output_type": "stream",
     "text": [
      "                                                                                \r"
     ]
    },
    {
     "name": "stdout",
     "output_type": "stream",
     "text": [
      "CPU times: user 9.91 ms, sys: 0 ns, total: 9.91 ms\n",
      "Wall time: 7.6 s\n"
     ]
    },
    {
     "name": "stderr",
     "output_type": "stream",
     "text": [
      "23/03/09 05:59:31 WARN org.apache.spark.sql.catalyst.util.package: Truncated the string representation of a plan since it was too large. This behavior can be adjusted by setting 'spark.sql.debug.maxToStringFields'.\n"
     ]
    }
   ],
   "source": [
    "%%time\n",
    "\n",
    "tweets_filt2 = spark.read.parquet(path_read)"
   ]
  },
  {
   "cell_type": "code",
   "execution_count": 9,
   "id": "42873304-0e35-46c6-a873-486be6bb969f",
   "metadata": {},
   "outputs": [
    {
     "name": "stderr",
     "output_type": "stream",
     "text": [
      "                                                                                \r"
     ]
    },
    {
     "data": {
      "text/plain": [
       "36600074"
      ]
     },
     "execution_count": 9,
     "metadata": {},
     "output_type": "execute_result"
    }
   ],
   "source": [
    "tweets_filt2.count()"
   ]
  },
  {
   "cell_type": "markdown",
   "id": "d5db0015-bac5-4804-bccb-3922a4177293",
   "metadata": {},
   "source": [
    "## Question 2: Where are these Twitterers (all of them, not just influencers) located?"
   ]
  },
  {
   "cell_type": "code",
   "execution_count": 10,
   "id": "f5d55062-02bb-43d5-804f-6527098b8d1d",
   "metadata": {
    "tags": []
   },
   "outputs": [
    {
     "name": "stderr",
     "output_type": "stream",
     "text": [
      "                                                                                \r"
     ]
    },
    {
     "data": {
      "text/html": [
       "<table border='1'>\n",
       "<tr><th>user_id</th><th>user_screen_name</th><th>user_location</th><th>user_category</th><th>tweet_text</th><th>tweet_created_at</th></tr>\n",
       "<tr><td>1519012655788220416</td><td>bridalblueeyes</td><td>null</td><td>Someone Else</td><td>It was truly an h...</td><td>2022-08-02 13:50:40</td></tr>\n",
       "<tr><td>855619901716930560</td><td>Iviebihh</td><td>Downtown, Atlanta</td><td>Someone Else</td><td>The\n",
       "&quot;married by 2...</td><td>2022-08-02 13:50:41</td></tr>\n",
       "<tr><td>1132202998447378432</td><td>SA_Kolawole</td><td>Nigeria</td><td>Someone Else</td><td>The University of...</td><td>2022-08-02 13:50:41</td></tr>\n",
       "<tr><td>986685574789713922</td><td>TravisBranham_</td><td>Lexington, KY</td><td>Social Media Infl...</td><td>Kwame &#x27;KJ&#x27; Evans,...</td><td>2022-08-02 13:50:42</td></tr>\n",
       "<tr><td>1351845066592169986</td><td>YAMII_SAMAA</td><td>Lagos, Nigeria</td><td>Someone Else</td><td>WTF is a 25 year ...</td><td>2022-08-02 13:50:43</td></tr>\n",
       "</table>\n"
      ],
      "text/plain": [
       "+-------------------+----------------+-------------+-------------+--------------------+-------------------+\n",
       "|            user_id|user_screen_name|user_location|user_category|          tweet_text|   tweet_created_at|\n",
       "+-------------------+----------------+-------------+-------------+--------------------+-------------------+\n",
       "|1028222537413611521|    ankita_reema|         null| Someone Else|We celebrated the...|2022-11-17 13:52:32|\n",
       "|1518714444511158273|   american12110|         null| Someone Else|@ninaturner My So...|2022-11-17 13:52:31|\n",
       "|           40216315|       jfeilders|       Canada| Someone Else|@stillgray A univ...|2022-11-17 13:52:32|\n",
       "|1404998434092990464|  truditheetopic|  BUCKBLOCK4L| Someone Else|i cannot be aroun...|2022-11-17 13:52:32|\n",
       "|          817251872|       ColDevNet|     Stirling|   University|✍️ 'CLD Standards...|2022-11-17 13:52:32|\n",
       "+-------------------+----------------+-------------+-------------+--------------------+-------------------+"
      ]
     },
     "execution_count": 10,
     "metadata": {},
     "output_type": "execute_result"
    }
   ],
   "source": [
    "tweets_df = tweets_filt2.select(\n",
    "            col('user_id'),\n",
    "            col('user_screen_name'),\n",
    "            col('user_location'),\n",
    "            col('user_category'),\n",
    "            col('tweet_text'),\n",
    "            col('tweet_created_at')\n",
    ")\n",
    "\n",
    "tweets_df.limit(5)"
   ]
  },
  {
   "cell_type": "code",
   "execution_count": 11,
   "id": "1dd79e60-1f04-4882-b48a-8a66b545929e",
   "metadata": {},
   "outputs": [],
   "source": [
    "# Extract the year, month, day, and hour from the tweet_created_at column\n",
    "tweets_df = tweets_df.withColumn(\"year\", year(tweets_df[\"tweet_created_at\"]))\n",
    "tweets_df = tweets_df.withColumn(\"month\", month(tweets_df[\"tweet_created_at\"]))\n",
    "tweets_df = tweets_df.withColumn(\"day\", dayofmonth(tweets_df[\"tweet_created_at\"]))\n",
    "tweets_df = tweets_df.withColumn(\"hour\", hour(tweets_df[\"tweet_created_at\"]))"
   ]
  },
  {
   "cell_type": "code",
   "execution_count": 12,
   "id": "eb0f5f88-ace6-4034-ac0f-4332d878a7b4",
   "metadata": {},
   "outputs": [
    {
     "name": "stderr",
     "output_type": "stream",
     "text": [
      "                                                                                \r"
     ]
    },
    {
     "data": {
      "text/plain": [
       "22405191"
      ]
     },
     "execution_count": 12,
     "metadata": {},
     "output_type": "execute_result"
    }
   ],
   "source": [
    "tweets_df = tweets_df.na.drop(subset=[\"user_location\"])\n",
    "tweets_df.count()"
   ]
  },
  {
   "cell_type": "code",
   "execution_count": 13,
   "id": "660e940e-190b-42ec-a6f2-71e8cc4d3bd2",
   "metadata": {},
   "outputs": [
    {
     "name": "stderr",
     "output_type": "stream",
     "text": [
      "                                                                                \r"
     ]
    }
   ],
   "source": [
    "#save the sampled tweet into my bucket in a parquet format for easier loading\n",
    "tweets_df.write.format(\"parquet\").\\\n",
    "mode('overwrite').\\\n",
    "save('gs://msca-bdp-students-bucket/shared_data/mariamoluwatobi/twitterers_loc')"
   ]
  },
  {
   "cell_type": "code",
   "execution_count": 7,
   "id": "ad6c01a4-1aa0-41c6-9327-0c1628009a97",
   "metadata": {},
   "outputs": [],
   "source": [
    "path_read = 'gs://msca-bdp-students-bucket/shared_data/mariamoluwatobi/twitterers_loc'"
   ]
  },
  {
   "cell_type": "code",
   "execution_count": 8,
   "id": "1ed0ede5-cce0-4f2d-b654-0cacc368749a",
   "metadata": {},
   "outputs": [
    {
     "name": "stderr",
     "output_type": "stream",
     "text": [
      "                                                                                \r"
     ]
    },
    {
     "name": "stdout",
     "output_type": "stream",
     "text": [
      "CPU times: user 7.48 ms, sys: 858 µs, total: 8.34 ms\n",
      "Wall time: 6.23 s\n"
     ]
    }
   ],
   "source": [
    "%%time\n",
    "\n",
    "tweets_df = spark.read.parquet(path_read)"
   ]
  },
  {
   "cell_type": "code",
   "execution_count": 9,
   "id": "a4918c14-c129-4af1-9cf9-6c7c728558bf",
   "metadata": {},
   "outputs": [
    {
     "name": "stderr",
     "output_type": "stream",
     "text": [
      "                                                                                \r"
     ]
    },
    {
     "data": {
      "text/plain": [
       "22405191"
      ]
     },
     "execution_count": 9,
     "metadata": {},
     "output_type": "execute_result"
    }
   ],
   "source": [
    "tweets_df.count()"
   ]
  },
  {
   "cell_type": "code",
   "execution_count": 10,
   "id": "3070de70-2be9-4561-8bc7-82c822b4ecca",
   "metadata": {},
   "outputs": [
    {
     "name": "stderr",
     "output_type": "stream",
     "text": [
      "                                                                                \r"
     ]
    },
    {
     "data": {
      "text/html": [
       "<table border='1'>\n",
       "<tr><th>user_id</th><th>user_screen_name</th><th>user_location</th><th>user_category</th><th>tweet_text</th><th>tweet_created_at</th><th>year</th><th>month</th><th>day</th><th>hour</th></tr>\n",
       "<tr><td>1033370885372211202</td><td>Austin2Jacobsen</td><td>kearney, ne</td><td>Someone Else</td><td>Lopers win set th...</td><td>2022-08-31 01:11:16</td><td>2022</td><td>8</td><td>31</td><td>1</td></tr>\n",
       "<tr><td>70307637</td><td>thecodyrose</td><td>üt: 30.613384,-96...</td><td>Someone Else</td><td>True story: Forme...</td><td>2022-08-31 01:11:18</td><td>2022</td><td>8</td><td>31</td><td>1</td></tr>\n",
       "<tr><td>628922495</td><td>zoemcmahon</td><td>san diego, ca</td><td>Someone Else</td><td>College is so fun...</td><td>2022-08-31 01:11:19</td><td>2022</td><td>8</td><td>31</td><td>1</td></tr>\n",
       "<tr><td>18139940</td><td>thelaurenbell</td><td>jersey city</td><td>News Outlet</td><td>How about signing...</td><td>2022-08-31 01:11:20</td><td>2022</td><td>8</td><td>31</td><td>1</td></tr>\n",
       "<tr><td>1072209339593752576</td><td>NISPEredhawks</td><td>ligma and iladies</td><td>Someone Else</td><td>As a string of Ca...</td><td>2022-08-31 01:11:20</td><td>2022</td><td>8</td><td>31</td><td>1</td></tr>\n",
       "</table>\n"
      ],
      "text/plain": [
       "+------------------+----------------+-------------+-------------+--------------------+-------------------+----+-----+---+----+\n",
       "|           user_id|user_screen_name|user_location|user_category|          tweet_text|   tweet_created_at|year|month|day|hour|\n",
       "+------------------+----------------+-------------+-------------+--------------------+-------------------+----+-----+---+----+\n",
       "|         254788767|    louavullcard|   louisville| Someone Else|A lot of people h...|2022-05-20 18:55:17|2022|    5| 20|  18|\n",
       "|727988946580410368| ms_pistolicious|         🇺🇸| Someone Else|@libsoftiktok @Pk...|2022-05-20 18:55:19|2022|    5| 20|  18|\n",
       "|        2744298692|  johnsonalvin43|   texas, usa| Someone Else|Virginia Mom Says...|2022-05-20 18:55:19|2022|    5| 20|  18|\n",
       "|930454707587383297|        Toksadee|      nigeria| Someone Else|I thought nobody ...|2022-05-20 18:55:19|2022|    5| 20|  18|\n",
       "|        2309555215|       satvicked|    new delhi|  News Outlet|BREAKING: Days af...|2022-05-20 18:55:20|2022|    5| 20|  18|\n",
       "+------------------+----------------+-------------+-------------+--------------------+-------------------+----+-----+---+----+"
      ]
     },
     "execution_count": 10,
     "metadata": {},
     "output_type": "execute_result"
    }
   ],
   "source": [
    "# lowercase values in the location column\n",
    "tweets_df = tweets_df.withColumn(\"user_location\", lower(col(\"user_location\")))\n",
    "tweets_df.limit(5)"
   ]
  },
  {
   "cell_type": "markdown",
   "id": "f08084dc-d047-4534-afa1-47f115289662",
   "metadata": {},
   "source": [
    "### Standardize the location column "
   ]
  },
  {
   "cell_type": "code",
   "execution_count": 15,
   "id": "e3a35307-c26c-46c1-852d-b4e70cd92e5b",
   "metadata": {},
   "outputs": [],
   "source": [
    "us = ['al', 'ak', 'az', 'ar', 'ca', 'co', 'ct', 'de', 'fl', 'ga', 'hi', 'id', 'il', 'in', 'ia', 'ks', 'ky', 'la', 'me', 'md', \n",
    "        'ma', 'mi', 'mn', 'ms', 'mo', 'mt', 'ne', 'nv', 'nh', 'nj', 'nm', 'ny', 'nc', 'nd', 'oh', 'ok', 'or', 'pa', 'ri', 'sc', \n",
    "        'sd', 'tn', 'tx', 'ut', 'vt', 'va', 'wa', 'wv', 'wi', 'wy', \"alabama\", \"alaska\", \"arizona\", \"arkansas\", \"california\", \n",
    "        \"colorado\", \"connecticut\", \"delaware\", \"florida\", \"georgia\", \"hawaii\", \"idaho\", \"illinois\", \"indiana\", \"iowa\", \"kansas\",\n",
    "        \"kentucky\", \"louisiana\", \"maine\", \"maryland\", \"massachusetts\", \"michigan\", \"minnesota\", \"mississippi\", \"missouri\", \"montana\",\n",
    "        \"nebraska\", \"nevada\", \"new hampshire\", \"new jersey\", \"new mexico\", \"new york\", \"north carolina\", \"north dakota\", \"ohio\", \"oklahoma\",\n",
    "        \"oregon\", \"pennsylvania\", \"rhode island\", \"south carolina\", \"south dakota\", \"tennessee\", \"texas\", \"utah\", \"vermont\",\n",
    "        \"virginia\", \"washington\", \"west virginia\", \"wisconsin\", \"wyoming\", \"us\", \"usa\", \"united states\", 'new york', 'los angeles', 'chicago',\n",
    "        'houston', 'miami', 'philadelphia', 'phoenix', 'san antonio', 'san diego', 'dallas', 'san jose', 'austin', 'jacksonville', 'fort worth',\n",
    "        'columbus', 'san francisco', 'charlotte', 'indianapolis', 'seattle', 'denver', 'washington', 'boston', 'nashville', 'el paso', 'detroit',\n",
    "        'memphis', 'portland', 'oklahoma city', 'las vegas', 'louisville', 'baltimore', 'milwaukee', 'albuquerque', 'tucson', 'fresno', 'sacramento',\n",
    "        'mesa', 'atlanta', 'colorado springs', 'omaha', 'raleigh', 'miami beach', 'long beach', 'virginia beach', 'oakland', 'minneapolis', 'tulsa',\n",
    "         'wichita', 'tampa', 'aurora']\n",
    "\n",
    "nigeria = ['abia', 'adamawa', 'akwa ibom', 'anambra', 'bauchi', 'bayelsa', 'benue', 'borno', 'cross river', 'delta', \n",
    "            'ebonyi', 'edo', 'ekiti', 'enugu', 'gombe', 'imo', 'jigawa', 'kaduna', 'kano', 'katsina', 'kebbi', 'kogi', \n",
    "            'kwara', 'lagos', 'nasarawa', 'niger', 'ogun', 'ondo', 'osun', 'oyo', 'plateau', 'rivers', 'sokoto', 'taraba', \n",
    "            'yobe', 'zamfara', \"nigeria\", \"ngn\", \"ng\"]\n",
    "\n",
    "india = ['andhra pradesh', 'arunachal pradesh', 'assam', 'bihar', 'chhattisgarh', 'goa', 'gujarat', 'haryana', 'himachal pradesh', 'jammu and kashmir', 'jharkhand',\n",
    "       'karnataka', 'kerala', 'madhya pradesh', 'maharashtra', 'manipur', 'meghalaya', 'mizoram', 'nagaland', 'odisha', 'punjab', 'rajasthan', 'sikkim', 'tamil nadu',\n",
    "       'telangana', 'tripura', 'uttar pradesh', 'uttarakhand', 'west bengal', 'ap', 'ar', 'as', 'br', 'cg', 'ga', 'gj', 'hr', 'hp', 'jk', 'jh', 'ka', 'kl',\n",
    "       'mp', 'mh', 'mn', 'ml', 'mz', 'nl', 'or', 'pb', 'rj', 'sk', 'tn', 'tg', 'tr', 'up', 'ut', 'wb', \"india\", \"mumbai\", \"delhi\", \"kolkata\", \"chennai\", \"bangalore\",\n",
    "       \"hyderabad\", \"ahmedabad\", \"pune\", \"surat\", \"jaipur\", \"new delhi\"]\n",
    "\n",
    "canada = ['alberta', 'british columbia', 'manitoba', 'new brunswick', 'newfoundland and labrador', 'northwest territories', 'nova scotia',\n",
    "        'nunavut', 'ontario', 'prince edward island', 'quebec', 'saskatchewan', 'yukon', 'ab', 'bc', 'mb', 'nb', 'nl', 'nt', 'ns', 'nu', 'on',\n",
    "        'pe', 'qc', 'sk', 'yt', 'canada']\n",
    "\n",
    "uk = ['london', 'manchester', 'birmingham', 'liverpool', 'glasgow', 'edinburgh', 'cardiff', 'belfast', 'bristol', 'newcastle', 'leeds',\n",
    "     'england', 'scotland', 'wales', 'northern ireland', 'uk', 'united kingdom']\n",
    "\n",
    "kenya = ['baringo', 'bomet', 'bungoma', 'busia', 'elgeyo_marakwet', 'embu', 'garissa', 'homa_bay', 'isiolo', 'kajiado', 'kakamega',\n",
    "        'kericho', 'kiambu', 'kilifi', 'kirinyaga', 'kisii', 'kisumu', 'kitui', 'kwale', 'laikipia', 'lamu', 'machakos', 'makueni',\n",
    "        'mandera', 'marsabit', 'meru', 'migori', 'mombasa', 'murang\\'a', 'nairobi', 'nakuru', 'nandi', 'narok', 'nyamira', 'nyandarua',\n",
    "        'nyeri', 'samburu', 'siaya', 'taita_taveta', 'tana_river', 'tharaka_nithi', 'trans_nzoia', 'turkana', 'uasin_gishu', 'vihiga',\n",
    "        'wajir', 'west_pokot', 'kenya']\n"
   ]
  },
  {
   "cell_type": "code",
   "execution_count": 16,
   "id": "55667409-2a7c-4485-8b4d-fa74adf6fbce",
   "metadata": {},
   "outputs": [],
   "source": [
    "pattern1 = \"\\\\b(\" + \"|\".join(us) + \")\\\\b\"\n",
    "pattern2 = \"\\\\b(\" + \"|\".join(nigeria) + \")\\\\b\"\n",
    "pattern3 = \"\\\\b(\" + \"|\".join(india) + \")\\\\b\"\n",
    "pattern4 = \"\\\\b(\" + \"|\".join(canada) + \")\\\\b\"\n",
    "pattern5 = \"\\\\b(\" + \"|\".join(uk) + \")\\\\b\"\n",
    "pattern6 = \"\\\\b(\" + \"|\".join(kenya) + \")\\\\b\""
   ]
  },
  {
   "cell_type": "code",
   "execution_count": 17,
   "id": "624721d8-652b-42fc-9ece-945aafb67280",
   "metadata": {},
   "outputs": [],
   "source": [
    "tweets_country = tweets_df.withColumn(\"user_country\",\n",
    "            when(lower(col(\"user_location\")).rlike(pattern1), \"United States\")\n",
    "           .when(lower(col(\"user_location\")).rlike(pattern2), \"Nigeria\")\n",
    "           .when(lower(col(\"user_location\")).rlike(pattern3), \"India\")\n",
    "           .when(lower(col(\"user_location\")).rlike(pattern4), \"Canada\")\n",
    "           .when(lower(col(\"user_location\")).rlike(pattern5), \"United Kingdom\")\n",
    "           .when(lower(col(\"user_location\")).rlike(pattern6), \"Kenya\")\n",
    "           .otherwise(col(\"user_location\")))"
   ]
  },
  {
   "cell_type": "code",
   "execution_count": 18,
   "id": "c91c69aa-e4b0-4d95-aa95-fe999224ede1",
   "metadata": {},
   "outputs": [
    {
     "name": "stderr",
     "output_type": "stream",
     "text": [
      "                                                                                \r"
     ]
    },
    {
     "data": {
      "text/html": [
       "<table border='1'>\n",
       "<tr><th>user_id</th><th>user_screen_name</th><th>user_location</th><th>user_category</th><th>tweet_text</th><th>tweet_created_at</th><th>year</th><th>month</th><th>day</th><th>hour</th><th>user_country</th></tr>\n",
       "<tr><td>980487277603442688</td><td>xXofaninha</td><td>brasil 🇧🇷</td><td>Someone Else</td><td>“What could you p...</td><td>2022-07-13 19:42:21</td><td>2022</td><td>7</td><td>13</td><td>19</td><td>brasil 🇧🇷</td></tr>\n",
       "<tr><td>256830348</td><td>Kaiti_Hart</td><td>prairie grove sch...</td><td>Someone Else</td><td>@MrsOlsen19 @Jmui...</td><td>2022-07-13 19:42:22</td><td>2022</td><td>7</td><td>13</td><td>19</td><td>prairie grove sch...</td></tr>\n",
       "<tr><td>1198599817741684736</td><td>chuulette</td><td>odu</td><td>Someone Else</td><td>In junior high sc...</td><td>2022-07-13 19:42:22</td><td>2022</td><td>7</td><td>13</td><td>19</td><td>odu</td></tr>\n",
       "<tr><td>1487575140250664963</td><td>ameer_mason</td><td>somerset, nj</td><td>University</td><td>Thankful to recei...</td><td>2022-07-13 19:42:23</td><td>2022</td><td>7</td><td>13</td><td>19</td><td>United States</td></tr>\n",
       "<tr><td>15757699</td><td>dances</td><td>the lay/philly/ny...</td><td>Social Media Infl...</td><td>@GovanJones Becau...</td><td>2022-07-13 19:42:23</td><td>2022</td><td>7</td><td>13</td><td>19</td><td>the lay/philly/ny...</td></tr>\n",
       "<tr><td>112512081</td><td>JohnWhoWaits</td><td>wandering</td><td>Someone Else</td><td>@laurenboebert I ...</td><td>2022-07-13 19:42:24</td><td>2022</td><td>7</td><td>13</td><td>19</td><td>wandering</td></tr>\n",
       "<tr><td>833457446928662528</td><td>Cc_405</td><td>wichita falls, tx</td><td>Government Entity</td><td>‘IT’S INSANITY’: ...</td><td>2022-07-13 19:42:26</td><td>2022</td><td>7</td><td>13</td><td>19</td><td>United States</td></tr>\n",
       "<tr><td>3959679133</td><td>juliansmoment</td><td>your mom&#x27;s house</td><td>Someone Else</td><td>Ivy League legacy...</td><td>2022-07-13 19:42:26</td><td>2022</td><td>7</td><td>13</td><td>19</td><td>your mom&#x27;s house</td></tr>\n",
       "<tr><td>357489441</td><td>MrsDonohue11</td><td>ocean, nj</td><td>Someone Else</td><td>🎉 #ClearTheList ...</td><td>2022-07-13 19:42:27</td><td>2022</td><td>7</td><td>13</td><td>19</td><td>United States</td></tr>\n",
       "<tr><td>1140070669591502848</td><td>jennthetutor</td><td>test free allianc...</td><td>Someone Else</td><td>I’ve been delayin...</td><td>2022-07-13 19:42:27</td><td>2022</td><td>7</td><td>13</td><td>19</td><td>test free allianc...</td></tr>\n",
       "</table>\n"
      ],
      "text/plain": [
       "+-------------------+----------------+-------------------+--------------------+--------------------+-------------------+----+-----+---+----+-------------+\n",
       "|            user_id|user_screen_name|      user_location|       user_category|          tweet_text|   tweet_created_at|year|month|day|hour| user_country|\n",
       "+-------------------+----------------+-------------------+--------------------+--------------------+-------------------+----+-----+---+----+-------------+\n",
       "| 855619901716930560|        Iviebihh|  downtown, atlanta|        Someone Else|The\n",
       "\"married by 2...|2022-08-02 13:50:41|2022|    8|  2|  13|United States|\n",
       "|1132202998447378432|     SA_Kolawole|            nigeria|        Someone Else|The University of...|2022-08-02 13:50:41|2022|    8|  2|  13|      Nigeria|\n",
       "| 986685574789713922|  TravisBranham_|      lexington, ky|Social Media Infl...|Kwame 'KJ' Evans,...|2022-08-02 13:50:42|2022|    8|  2|  13|United States|\n",
       "|1351845066592169986|     YAMII_SAMAA|     lagos, nigeria|        Someone Else|WTF is a 25 year ...|2022-08-02 13:50:43|2022|    8|  2|  13|      Nigeria|\n",
       "|           87832393|           NJASL|trenton, new jersey|          University|@CHHCS @RobinCoga...|2022-08-02 13:50:43|2022|    8|  2|  13|United States|\n",
       "| 857582923247222784|       MahutsRue|           zimbabwe|        Someone Else|Universities also...|2022-08-02 13:50:45|2022|    8|  2|  13|     zimbabwe|\n",
       "|1173774376723996672|   toniesposito3|  staten island, ny|        Someone Else|I only need $204 ...|2022-08-02 13:50:47|2022|    8|  2|  13|United States|\n",
       "|1547955713242124292|        SuMin99_|             españa|        Someone Else|Where are those k...|2022-08-02 13:50:49|2022|    8|  2|  13|       españa|\n",
       "|          716440796|     TheFundBalt|     baltimore city|          University|City Schools is s...|2022-08-02 13:50:50|2022|    8|  2|  13|United States|\n",
       "|          434526754|  KiingPrince757|           va beach|        Someone Else|I wanna run throu...|2022-08-02 13:50:50|2022|    8|  2|  13|United States|\n",
       "+-------------------+----------------+-------------------+--------------------+--------------------+-------------------+----+-----+---+----+-------------+"
      ]
     },
     "execution_count": 18,
     "metadata": {},
     "output_type": "execute_result"
    }
   ],
   "source": [
    "tweets_country.limit(10)"
   ]
  },
  {
   "cell_type": "code",
   "execution_count": 19,
   "id": "50836489-aefc-405c-aa51-262c98656f5f",
   "metadata": {},
   "outputs": [],
   "source": [
    "location_df2 = tweets_country.groupBy(\"user_country\").agg({\"user_id\": \"count\"}).withColumnRenamed(\"count(user_id)\", \"user_count\")"
   ]
  },
  {
   "cell_type": "code",
   "execution_count": 20,
   "id": "2b3863be-ccf1-4c81-9a85-dd20fb38626d",
   "metadata": {},
   "outputs": [],
   "source": [
    "#sort the data in descending order\n",
    "sorted_location_df2 = location_df2.sort(col(\"user_count\").desc())"
   ]
  },
  {
   "cell_type": "code",
   "execution_count": 21,
   "id": "026577ac-09e8-43d4-a9dd-39b9ed556eb6",
   "metadata": {},
   "outputs": [
    {
     "name": "stderr",
     "output_type": "stream",
     "text": [
      "                                                                                \r"
     ]
    },
    {
     "data": {
      "text/html": [
       "<div>\n",
       "<style scoped>\n",
       "    .dataframe tbody tr th:only-of-type {\n",
       "        vertical-align: middle;\n",
       "    }\n",
       "\n",
       "    .dataframe tbody tr th {\n",
       "        vertical-align: top;\n",
       "    }\n",
       "\n",
       "    .dataframe thead th {\n",
       "        text-align: right;\n",
       "    }\n",
       "</style>\n",
       "<table border=\"1\" class=\"dataframe\">\n",
       "  <thead>\n",
       "    <tr style=\"text-align: right;\">\n",
       "      <th></th>\n",
       "      <th>user_country</th>\n",
       "      <th>user_count</th>\n",
       "    </tr>\n",
       "  </thead>\n",
       "  <tbody>\n",
       "    <tr>\n",
       "      <th>0</th>\n",
       "      <td>United States</td>\n",
       "      <td>9630631</td>\n",
       "    </tr>\n",
       "    <tr>\n",
       "      <th>1</th>\n",
       "      <td>India</td>\n",
       "      <td>1091027</td>\n",
       "    </tr>\n",
       "    <tr>\n",
       "      <th>2</th>\n",
       "      <td>United Kingdom</td>\n",
       "      <td>1017366</td>\n",
       "    </tr>\n",
       "    <tr>\n",
       "      <th>3</th>\n",
       "      <td>Nigeria</td>\n",
       "      <td>657443</td>\n",
       "    </tr>\n",
       "    <tr>\n",
       "      <th>4</th>\n",
       "      <td>Canada</td>\n",
       "      <td>641574</td>\n",
       "    </tr>\n",
       "  </tbody>\n",
       "</table>\n",
       "</div>"
      ],
      "text/plain": [
       "     user_country  user_count\n",
       "0   United States     9630631\n",
       "1           India     1091027\n",
       "2  United Kingdom     1017366\n",
       "3         Nigeria      657443\n",
       "4          Canada      641574"
      ]
     },
     "execution_count": 21,
     "metadata": {},
     "output_type": "execute_result"
    }
   ],
   "source": [
    "pd_sorted_location_df2 = sorted_location_df2.limit(5).toPandas()\n",
    "pd_sorted_location_df2.head(5)"
   ]
  },
  {
   "cell_type": "code",
   "execution_count": 22,
   "id": "77e5ae63-0add-4ac0-b72f-9f92e7e1034f",
   "metadata": {},
   "outputs": [],
   "source": [
    "pd_sorted_location_df2 = pd_sorted_location_df2.iloc[::-1]"
   ]
  },
  {
   "cell_type": "code",
   "execution_count": 23,
   "id": "a0fb3f3f-b5d8-4c41-8edc-9942aff9dca5",
   "metadata": {},
   "outputs": [
    {
     "data": {
      "text/plain": [
       "Text(0, 0.5, 'The User Location')"
      ]
     },
     "execution_count": 23,
     "metadata": {},
     "output_type": "execute_result"
    },
    {
     "data": {
      "image/png": "[encoded data removed]",
      "text/plain": [
       "<Figure size 800x600 with 1 Axes>"
      ]
     },
     "metadata": {},
     "output_type": "display_data"
    }
   ],
   "source": [
    "pd_sorted_location_df2_plot = pd_sorted_location_df2.plot(kind='barh',x='user_country', y='user_count', legend=None, title=\"The Geographical Location of Twitterers by Country\", figsize=(8, 6))\n",
    "pd_sorted_location_df2_plot.set_xlabel(\"Total Twitterers\")\n",
    "pd_sorted_location_df2_plot.set_ylabel(\"The User Location\")"
   ]
  },
  {
   "cell_type": "code",
   "execution_count": 27,
   "id": "46ffdfb0-2343-4d33-a15c-dd6aafd0d6fd",
   "metadata": {
    "collapsed": true,
    "jupyter": {
     "outputs_hidden": true
    },
    "tags": []
   },
   "outputs": [
    {
     "name": "stdout",
     "output_type": "stream",
     "text": [
      "Collecting a-world-of-countries\n",
      "  Downloading a_world_of_countries-1.0.0-py3-none-any.whl (34 kB)\n",
      "Collecting pydash\n",
      "  Downloading pydash-6.0.2-py3-none-any.whl (85 kB)\n",
      "\u001b[2K     \u001b[90m━━━━━━━━━━━━━━━━━━━━━━━━━━━━━━━━━━━━━━━━\u001b[0m \u001b[32m85.4/85.4 kB\u001b[0m \u001b[31m4.3 MB/s\u001b[0m eta \u001b[36m0:00:00\u001b[0m\n",
      "\u001b[?25hInstalling collected packages: pydash, a-world-of-countries\n",
      "Successfully installed a-world-of-countries-1.0.0 pydash-6.0.2\n",
      "\u001b[33mWARNING: Running pip as the 'root' user can result in broken permissions and conflicting behaviour with the system package manager. It is recommended to use a virtual environment instead: https://pip.pypa.io/warnings/venv\u001b[0m\u001b[33m\n",
      "\u001b[0mNote: you may need to restart the kernel to use updated packages.\n"
     ]
    },
    {
     "name": "stderr",
     "output_type": "stream",
     "text": [
      "ERROR:root:Exception while sending command.\n",
      "Traceback (most recent call last):\n",
      "  File \"/usr/lib/spark/python/lib/py4j-0.10.9-src.zip/py4j/java_gateway.py\", line 1207, in send_command\n",
      "    raise Py4JNetworkError(\"Answer from Java side is empty\")\n",
      "py4j.protocol.Py4JNetworkError: Answer from Java side is empty\n",
      "\n",
      "During handling of the above exception, another exception occurred:\n",
      "\n",
      "Traceback (most recent call last):\n",
      "  File \"/usr/lib/spark/python/lib/py4j-0.10.9-src.zip/py4j/java_gateway.py\", line 1033, in send_command\n",
      "    response = connection.send_command(command)\n",
      "  File \"/usr/lib/spark/python/lib/py4j-0.10.9-src.zip/py4j/java_gateway.py\", line 1211, in send_command\n",
      "    raise Py4JNetworkError(\n",
      "py4j.protocol.Py4JNetworkError: Error while receiving\n"
     ]
    }
   ],
   "source": [
    "#pip install a-world-of-countries"
   ]
  },
  {
   "cell_type": "code",
   "execution_count": 24,
   "id": "cd2f14c5-16d6-4784-ba13-14bf83c99765",
   "metadata": {},
   "outputs": [],
   "source": [
    "import awoc\n",
    "my_world = awoc.AWOC()"
   ]
  },
  {
   "cell_type": "code",
   "execution_count": 25,
   "id": "2bd80b26-c538-43d8-a733-3d3d5ababbee",
   "metadata": {},
   "outputs": [],
   "source": [
    "africa = my_world.get_countries_list_of('Africa')\n",
    "africa = [x.lower() for x in africa]\n",
    "africa1 = '|'.join([f'({c})' for c in africa])\n",
    "\n",
    "europe1 = my_world.get_countries_list_of('Europe')\n",
    "europe1 = [x.lower() for x in europe1]\n",
    "europe3 = '|'.join([f'({c})' for c in europe1])\n",
    "\n",
    "south_a = my_world.get_countries_list_of('South America')\n",
    "south_a = [x.lower() for x in south_a]\n",
    "south_a2 = '|'.join([f'({c})' for c in south_a])\n",
    "\n",
    "north_a = my_world.get_countries_list_of('North America')\n",
    "north_a = [x.lower() for x in north_a]\n",
    "north_a2 = '|'.join([f'({c})' for c in north_a])\n",
    "\n",
    "oceania = my_world.get_countries_list_of('Oceania')\n",
    "oceania = [x.lower() for x in oceania]\n",
    "oceania2 = '|'.join([f'({c})' for c in oceania])\n",
    "\n",
    "asia = my_world.get_countries_list_of('Asia')\n",
    "asia = [x.lower() for x in asia]\n",
    "asia1 = '|'.join([f'({c})' for c in asia])"
   ]
  },
  {
   "cell_type": "code",
   "execution_count": 26,
   "id": "d5e8b675-39e2-4690-be51-fe0f5059cfe6",
   "metadata": {},
   "outputs": [],
   "source": [
    "tweet_region = tweets_country.withColumn(\"user_region\",\n",
    "            when(lower(col(\"user_country\")).rlike(africa1), \"Africa\")\n",
    "           .when(lower(col(\"user_country\")).rlike(europe3), \"Europe\")\n",
    "           .when(lower(col(\"user_country\")).rlike(south_a2), \"South America\")\n",
    "           .when(lower(col(\"user_country\")).rlike(north_a2), \"North America\")\n",
    "           .when(lower(col(\"user_country\")).rlike(oceania2), \"Oceania\")\n",
    "           .when(lower(col(\"user_country\")).rlike(asia1), \"Asia\")\n",
    "           .otherwise(col(\"user_country\")))"
   ]
  },
  {
   "cell_type": "code",
   "execution_count": 27,
   "id": "b4a31fe2-bf94-4e0c-9110-4560b7772055",
   "metadata": {},
   "outputs": [
    {
     "name": "stderr",
     "output_type": "stream",
     "text": [
      "                                                                                \r"
     ]
    },
    {
     "data": {
      "text/html": [
       "<table border='1'>\n",
       "<tr><th>user_id</th><th>user_screen_name</th><th>user_location</th><th>user_category</th><th>tweet_text</th><th>tweet_created_at</th><th>year</th><th>month</th><th>day</th><th>hour</th><th>user_country</th><th>user_region</th></tr>\n",
       "<tr><td>855619901716930560</td><td>Iviebihh</td><td>downtown, atlanta</td><td>Someone Else</td><td>The\n",
       "&quot;married by 2...</td><td>2022-08-02 13:50:41</td><td>2022</td><td>8</td><td>2</td><td>13</td><td>United States</td><td>North America</td></tr>\n",
       "<tr><td>1132202998447378432</td><td>SA_Kolawole</td><td>nigeria</td><td>Someone Else</td><td>The University of...</td><td>2022-08-02 13:50:41</td><td>2022</td><td>8</td><td>2</td><td>13</td><td>Nigeria</td><td>Africa</td></tr>\n",
       "<tr><td>986685574789713922</td><td>TravisBranham_</td><td>lexington, ky</td><td>Social Media Infl...</td><td>Kwame &#x27;KJ&#x27; Evans,...</td><td>2022-08-02 13:50:42</td><td>2022</td><td>8</td><td>2</td><td>13</td><td>United States</td><td>North America</td></tr>\n",
       "<tr><td>1351845066592169986</td><td>YAMII_SAMAA</td><td>lagos, nigeria</td><td>Someone Else</td><td>WTF is a 25 year ...</td><td>2022-08-02 13:50:43</td><td>2022</td><td>8</td><td>2</td><td>13</td><td>Nigeria</td><td>Africa</td></tr>\n",
       "<tr><td>87832393</td><td>NJASL</td><td>trenton, new jersey</td><td>University</td><td>@CHHCS @RobinCoga...</td><td>2022-08-02 13:50:43</td><td>2022</td><td>8</td><td>2</td><td>13</td><td>United States</td><td>North America</td></tr>\n",
       "<tr><td>857582923247222784</td><td>MahutsRue</td><td>zimbabwe</td><td>Someone Else</td><td>Universities also...</td><td>2022-08-02 13:50:45</td><td>2022</td><td>8</td><td>2</td><td>13</td><td>zimbabwe</td><td>Africa</td></tr>\n",
       "<tr><td>1173774376723996672</td><td>toniesposito3</td><td>staten island, ny</td><td>Someone Else</td><td>I only need $204 ...</td><td>2022-08-02 13:50:47</td><td>2022</td><td>8</td><td>2</td><td>13</td><td>United States</td><td>North America</td></tr>\n",
       "<tr><td>1547955713242124292</td><td>SuMin99_</td><td>españa</td><td>Someone Else</td><td>Where are those k...</td><td>2022-08-02 13:50:49</td><td>2022</td><td>8</td><td>2</td><td>13</td><td>españa</td><td>españa</td></tr>\n",
       "<tr><td>716440796</td><td>TheFundBalt</td><td>baltimore city</td><td>University</td><td>City Schools is s...</td><td>2022-08-02 13:50:50</td><td>2022</td><td>8</td><td>2</td><td>13</td><td>United States</td><td>North America</td></tr>\n",
       "<tr><td>434526754</td><td>KiingPrince757</td><td>va beach</td><td>Someone Else</td><td>I wanna run throu...</td><td>2022-08-02 13:50:50</td><td>2022</td><td>8</td><td>2</td><td>13</td><td>United States</td><td>North America</td></tr>\n",
       "</table>\n"
      ],
      "text/plain": [
       "+-------------------+----------------+-------------------+--------------------+--------------------+-------------------+----+-----+---+----+-------------+-------------+\n",
       "|            user_id|user_screen_name|      user_location|       user_category|          tweet_text|   tweet_created_at|year|month|day|hour| user_country|  user_region|\n",
       "+-------------------+----------------+-------------------+--------------------+--------------------+-------------------+----+-----+---+----+-------------+-------------+\n",
       "| 855619901716930560|        Iviebihh|  downtown, atlanta|        Someone Else|The\n",
       "\"married by 2...|2022-08-02 13:50:41|2022|    8|  2|  13|United States|North America|\n",
       "|1132202998447378432|     SA_Kolawole|            nigeria|        Someone Else|The University of...|2022-08-02 13:50:41|2022|    8|  2|  13|      Nigeria|       Africa|\n",
       "| 986685574789713922|  TravisBranham_|      lexington, ky|Social Media Infl...|Kwame 'KJ' Evans,...|2022-08-02 13:50:42|2022|    8|  2|  13|United States|North America|\n",
       "|1351845066592169986|     YAMII_SAMAA|     lagos, nigeria|        Someone Else|WTF is a 25 year ...|2022-08-02 13:50:43|2022|    8|  2|  13|      Nigeria|       Africa|\n",
       "|           87832393|           NJASL|trenton, new jersey|          University|@CHHCS @RobinCoga...|2022-08-02 13:50:43|2022|    8|  2|  13|United States|North America|\n",
       "| 857582923247222784|       MahutsRue|           zimbabwe|        Someone Else|Universities also...|2022-08-02 13:50:45|2022|    8|  2|  13|     zimbabwe|       Africa|\n",
       "|1173774376723996672|   toniesposito3|  staten island, ny|        Someone Else|I only need $204 ...|2022-08-02 13:50:47|2022|    8|  2|  13|United States|North America|\n",
       "|1547955713242124292|        SuMin99_|             españa|        Someone Else|Where are those k...|2022-08-02 13:50:49|2022|    8|  2|  13|       españa|       españa|\n",
       "|          716440796|     TheFundBalt|     baltimore city|          University|City Schools is s...|2022-08-02 13:50:50|2022|    8|  2|  13|United States|North America|\n",
       "|          434526754|  KiingPrince757|           va beach|        Someone Else|I wanna run throu...|2022-08-02 13:50:50|2022|    8|  2|  13|United States|North America|\n",
       "+-------------------+----------------+-------------------+--------------------+--------------------+-------------------+----+-----+---+----+-------------+-------------+"
      ]
     },
     "execution_count": 27,
     "metadata": {},
     "output_type": "execute_result"
    }
   ],
   "source": [
    "tweet_region.limit(10)"
   ]
  },
  {
   "cell_type": "code",
   "execution_count": 28,
   "id": "1b781ebb-e028-48c7-9c30-f82dae214e8a",
   "metadata": {},
   "outputs": [],
   "source": [
    "continent = ['Africa','Europe','South America','North America','Oceania','Asia']\n",
    "continent2 = '|'.join([f'({c})' for c in continent])"
   ]
  },
  {
   "cell_type": "code",
   "execution_count": 29,
   "id": "3d38fc55-7299-4c5e-8174-1c71068b3680",
   "metadata": {},
   "outputs": [
    {
     "name": "stderr",
     "output_type": "stream",
     "text": [
      "                                                                                \r"
     ]
    }
   ],
   "source": [
    "pd_location_df3 = tweet_region.groupBy('user_region').agg(count('user_id').alias('user_count'))\\\n",
    ".orderBy('user_count',ascending=False)\\\n",
    ".filter(tweet_region['user_region'].rlike(continent2)).toPandas()"
   ]
  },
  {
   "cell_type": "code",
   "execution_count": 30,
   "id": "7b9d6fbd-c156-4e41-8bdf-b120537425ae",
   "metadata": {},
   "outputs": [
    {
     "data": {
      "text/html": [
       "<div>\n",
       "<style scoped>\n",
       "    .dataframe tbody tr th:only-of-type {\n",
       "        vertical-align: middle;\n",
       "    }\n",
       "\n",
       "    .dataframe tbody tr th {\n",
       "        vertical-align: top;\n",
       "    }\n",
       "\n",
       "    .dataframe thead th {\n",
       "        text-align: right;\n",
       "    }\n",
       "</style>\n",
       "<table border=\"1\" class=\"dataframe\">\n",
       "  <thead>\n",
       "    <tr style=\"text-align: right;\">\n",
       "      <th></th>\n",
       "      <th>user_region</th>\n",
       "      <th>user_count</th>\n",
       "    </tr>\n",
       "  </thead>\n",
       "  <tbody>\n",
       "    <tr>\n",
       "      <th>0</th>\n",
       "      <td>North America</td>\n",
       "      <td>10356527</td>\n",
       "    </tr>\n",
       "    <tr>\n",
       "      <th>1</th>\n",
       "      <td>Asia</td>\n",
       "      <td>1690232</td>\n",
       "    </tr>\n",
       "    <tr>\n",
       "      <th>2</th>\n",
       "      <td>Europe</td>\n",
       "      <td>1380771</td>\n",
       "    </tr>\n",
       "    <tr>\n",
       "      <th>3</th>\n",
       "      <td>Africa</td>\n",
       "      <td>1372837</td>\n",
       "    </tr>\n",
       "    <tr>\n",
       "      <th>4</th>\n",
       "      <td>Oceania</td>\n",
       "      <td>137252</td>\n",
       "    </tr>\n",
       "    <tr>\n",
       "      <th>5</th>\n",
       "      <td>South America</td>\n",
       "      <td>84329</td>\n",
       "    </tr>\n",
       "  </tbody>\n",
       "</table>\n",
       "</div>"
      ],
      "text/plain": [
       "     user_region  user_count\n",
       "0  North America    10356527\n",
       "1           Asia     1690232\n",
       "2         Europe     1380771\n",
       "3         Africa     1372837\n",
       "4        Oceania      137252\n",
       "5  South America       84329"
      ]
     },
     "execution_count": 30,
     "metadata": {},
     "output_type": "execute_result"
    }
   ],
   "source": [
    "pd_location_df3.head(10)"
   ]
  },
  {
   "cell_type": "code",
   "execution_count": 31,
   "id": "5a3372f9-ed84-4d9f-8af3-07ecda0be878",
   "metadata": {},
   "outputs": [],
   "source": [
    "pd_location_df3 = pd_location_df3.iloc[::-1]"
   ]
  },
  {
   "cell_type": "code",
   "execution_count": 32,
   "id": "cb3d7ef0-823d-415d-9c9c-0a73583b2055",
   "metadata": {},
   "outputs": [
    {
     "data": {
      "text/plain": [
       "Text(0, 0.5, 'The User Region')"
      ]
     },
     "execution_count": 32,
     "metadata": {},
     "output_type": "execute_result"
    },
    {
     "data": {
      "image/png": "[encoded data removed]",
      "text/plain": [
       "<Figure size 800x600 with 1 Axes>"
      ]
     },
     "metadata": {},
     "output_type": "display_data"
    }
   ],
   "source": [
    "pd_location_df3_plot = pd_location_df3.plot(kind='barh',x='user_region', y='user_count', legend=None, title=\"The Geographical Location of Twitterers by Region\", figsize=(8, 6))\n",
    "pd_location_df3_plot.set_xlabel(\"Total Twitterers\")\n",
    "pd_location_df3_plot.set_ylabel(\"The User Region\")"
   ]
  },
  {
   "cell_type": "markdown",
   "id": "4101f0bf-3bbb-41e1-a063-d7d6049fc664",
   "metadata": {},
   "source": [
    "## Question 4b: Do you see any relationship between the emergence of new issues in education and progression and locations of these Twitterers?"
   ]
  },
  {
   "cell_type": "markdown",
   "id": "4ee1f6e5-1e0c-4c3d-960a-f82f311000a5",
   "metadata": {},
   "source": [
    "Based on my research on the emergence of new issues in education, I will be analyzing these two topics: **Student Loan Forgiveness\" and Teacher's Salaries**"
   ]
  },
  {
   "cell_type": "code",
   "execution_count": 33,
   "id": "b6f06739-0e36-48eb-92a2-793fc30b538c",
   "metadata": {},
   "outputs": [],
   "source": [
    "from pyspark.ml.feature import RegexTokenizer\n",
    "\n",
    "unwanted_expression = RegexTokenizer(inputCol=\"tweet_text\", outputCol=\"words\", pattern=\"\\\\W\")\n",
    "\n",
    "lower_case = udf(lambda x: x.lower())\n",
    "\n",
    "tweet_region = tweet_region.withColumn(\"tweet_text\", lower(regexp_replace(\"tweet_text\", \"[\\$#,&%\\\".]\", \"\")))\n",
    "tweet_region = unwanted_expression.transform(tweet_region)\n",
    "tweet_region = tweet_region.withColumn(\"tweet_text\", concat_ws(\" \", \"words\"))\n",
    "tweet_region = tweet_region.drop(\"words\")"
   ]
  },
  {
   "cell_type": "code",
   "execution_count": 34,
   "id": "5922773f-9254-4a1c-9775-cc8f5c7494ab",
   "metadata": {},
   "outputs": [],
   "source": [
    "#key words for the topics\n",
    "SLF_key = ['student loan', 'debt relief', 'loan forgiveness', 'loan payoff', 'student loan debt',\n",
    "          'public service loan forgiveness']\n",
    "\n",
    "TS_key = ['teacher pay raise', 'teacher salary reform', 'teacher pay', 'teacher compensation',\n",
    "         'salary increase for teachers', 'fair teacher wages', 'educator salaries', 'teacher salary negotiations']"
   ]
  },
  {
   "cell_type": "code",
   "execution_count": 35,
   "id": "05526bec-7131-4697-9ac5-b3f1366082b4",
   "metadata": {},
   "outputs": [],
   "source": [
    "SLF_pattern = \"|\".join(SLF_key)\n",
    "TS_pattern = \"|\".join(TS_key)"
   ]
  },
  {
   "cell_type": "code",
   "execution_count": 36,
   "id": "9b2cead0-25dd-456d-b88f-4575e4d7a994",
   "metadata": {},
   "outputs": [],
   "source": [
    "tweet_region2 = tweet_region.withColumn(\"emergent_issue\",\n",
    "            when(lower(col(\"tweet_text\")).rlike(SLF_pattern), \"Student Loan\")\n",
    "           .when(lower(col(\"tweet_text\")).rlike(TS_pattern), \"Teacher Salaries\")\n",
    "           .otherwise(\"None\"))"
   ]
  },
  {
   "cell_type": "markdown",
   "id": "a27da4e0-2df4-45ef-9e54-7fa3c1f3d0a5",
   "metadata": {},
   "source": [
    "### Student loan forgiveness per country"
   ]
  },
  {
   "cell_type": "code",
   "execution_count": 37,
   "id": "c69d9087-063f-4a91-a5bf-7c70f12acd37",
   "metadata": {},
   "outputs": [
    {
     "name": "stderr",
     "output_type": "stream",
     "text": [
      "                                                                                \r"
     ]
    },
    {
     "data": {
      "text/plain": [
       "117065"
      ]
     },
     "execution_count": 37,
     "metadata": {},
     "output_type": "execute_result"
    }
   ],
   "source": [
    "#filter for student loan\n",
    "std_loan = tweet_region2.filter(tweet_region2.emergent_issue == 'Student Loan')\n",
    "std_loan.count()"
   ]
  },
  {
   "cell_type": "code",
   "execution_count": 39,
   "id": "f52e5cdb-4fde-4781-9838-fb75d68a1fac",
   "metadata": {},
   "outputs": [
    {
     "name": "stderr",
     "output_type": "stream",
     "text": [
      "                                                                                \r"
     ]
    },
    {
     "data": {
      "text/html": [
       "<table border='1'>\n",
       "<tr><th>user_id</th><th>user_screen_name</th><th>user_location</th><th>user_category</th><th>tweet_text</th><th>tweet_created_at</th><th>year</th><th>month</th><th>day</th><th>hour</th><th>user_country</th><th>user_region</th><th>emergent_issue</th></tr>\n",
       "<tr><td>29137381</td><td>laran3313</td><td>consciousness</td><td>News Outlet</td><td>something i ve be...</td><td>2022-08-31 01:12:51</td><td>2022</td><td>8</td><td>31</td><td>1</td><td>consciousness</td><td>consciousness</td><td>Student Loan</td></tr>\n",
       "<tr><td>578625464</td><td>centralgirl2010</td><td>kansas, usa</td><td>Someone Else</td><td>bipartisan s2598 ...</td><td>2022-08-31 01:13:27</td><td>2022</td><td>8</td><td>31</td><td>1</td><td>United States</td><td>North America</td><td>Student Loan</td></tr>\n",
       "<tr><td>3433409499</td><td>MoneyVisCoach</td><td>chicago,il</td><td>Someone Else</td><td>the federal stude...</td><td>2022-08-31 01:14:18</td><td>2022</td><td>8</td><td>31</td><td>1</td><td>United States</td><td>North America</td><td>Student Loan</td></tr>\n",
       "<tr><td>16713534</td><td>angelsscream</td><td>chicago, il</td><td>Someone Else</td><td>something i ve be...</td><td>2022-08-31 01:14:31</td><td>2022</td><td>8</td><td>31</td><td>1</td><td>United States</td><td>North America</td><td>Student Loan</td></tr>\n",
       "<tr><td>50056568</td><td>cubsncards</td><td>st. simons island...</td><td>Someone Else</td><td>why do i a colleg...</td><td>2022-08-31 01:15:33</td><td>2022</td><td>8</td><td>31</td><td>1</td><td>United States</td><td>North America</td><td>Student Loan</td></tr>\n",
       "</table>\n"
      ],
      "text/plain": [
       "+----------+----------------+--------------------+-------------+--------------------+-------------------+----+-----+---+----+-------------+-------------+--------------+\n",
       "|   user_id|user_screen_name|       user_location|user_category|          tweet_text|   tweet_created_at|year|month|day|hour| user_country|  user_region|emergent_issue|\n",
       "+----------+----------------+--------------------+-------------+--------------------+-------------------+----+-----+---+----+-------------+-------------+--------------+\n",
       "|  29137381|       laran3313|       consciousness|  News Outlet|something i ve be...|2022-08-31 01:12:51|2022|    8| 31|   1|consciousness|consciousness|  Student Loan|\n",
       "| 578625464| centralgirl2010|         kansas, usa| Someone Else|bipartisan s2598 ...|2022-08-31 01:13:27|2022|    8| 31|   1|United States|North America|  Student Loan|\n",
       "|3433409499|   MoneyVisCoach|          chicago,il| Someone Else|the federal stude...|2022-08-31 01:14:18|2022|    8| 31|   1|United States|North America|  Student Loan|\n",
       "|  16713534|    angelsscream|         chicago, il| Someone Else|something i ve be...|2022-08-31 01:14:31|2022|    8| 31|   1|United States|North America|  Student Loan|\n",
       "|  50056568|      cubsncards|st. simons island...| Someone Else|why do i a colleg...|2022-08-31 01:15:33|2022|    8| 31|   1|United States|North America|  Student Loan|\n",
       "+----------+----------------+--------------------+-------------+--------------------+-------------------+----+-----+---+----+-------------+-------------+--------------+"
      ]
     },
     "execution_count": 39,
     "metadata": {},
     "output_type": "execute_result"
    }
   ],
   "source": [
    "std_loan.limit(5)"
   ]
  },
  {
   "cell_type": "code",
   "execution_count": 40,
   "id": "350b211e-2016-4d49-b696-85a2887f9d31",
   "metadata": {},
   "outputs": [],
   "source": [
    "location_df4 = std_loan.groupBy(\"user_country\").agg({\"emergent_issue\": \"count\"}).withColumnRenamed(\"count(emergent_issue)\", \"issue_count\")"
   ]
  },
  {
   "cell_type": "code",
   "execution_count": 41,
   "id": "10564117-983a-42ad-889c-5f48b54ae141",
   "metadata": {},
   "outputs": [],
   "source": [
    "#sort the data in descending order\n",
    "sorted_location_df4 = location_df4.sort(col(\"issue_count\").desc())"
   ]
  },
  {
   "cell_type": "code",
   "execution_count": 42,
   "id": "c08924a5-1b4b-4db6-9af1-74952e9044e9",
   "metadata": {},
   "outputs": [
    {
     "name": "stderr",
     "output_type": "stream",
     "text": [
      "                                                                                \r"
     ]
    },
    {
     "data": {
      "text/html": [
       "<div>\n",
       "<style scoped>\n",
       "    .dataframe tbody tr th:only-of-type {\n",
       "        vertical-align: middle;\n",
       "    }\n",
       "\n",
       "    .dataframe tbody tr th {\n",
       "        vertical-align: top;\n",
       "    }\n",
       "\n",
       "    .dataframe thead th {\n",
       "        text-align: right;\n",
       "    }\n",
       "</style>\n",
       "<table border=\"1\" class=\"dataframe\">\n",
       "  <thead>\n",
       "    <tr style=\"text-align: right;\">\n",
       "      <th></th>\n",
       "      <th>user_country</th>\n",
       "      <th>issue_count</th>\n",
       "    </tr>\n",
       "  </thead>\n",
       "  <tbody>\n",
       "    <tr>\n",
       "      <th>0</th>\n",
       "      <td>United States</td>\n",
       "      <td>80691</td>\n",
       "    </tr>\n",
       "    <tr>\n",
       "      <th>1</th>\n",
       "      <td>Canada</td>\n",
       "      <td>2673</td>\n",
       "    </tr>\n",
       "    <tr>\n",
       "      <th>2</th>\n",
       "      <td>United Kingdom</td>\n",
       "      <td>2219</td>\n",
       "    </tr>\n",
       "    <tr>\n",
       "      <th>3</th>\n",
       "      <td>Nigeria</td>\n",
       "      <td>1073</td>\n",
       "    </tr>\n",
       "  </tbody>\n",
       "</table>\n",
       "</div>"
      ],
      "text/plain": [
       "     user_country  issue_count\n",
       "0   United States        80691\n",
       "1          Canada         2673\n",
       "2  United Kingdom         2219\n",
       "3         Nigeria         1073"
      ]
     },
     "execution_count": 42,
     "metadata": {},
     "output_type": "execute_result"
    }
   ],
   "source": [
    "pd_sorted_location_df4 = sorted_location_df4.limit(4).toPandas()\n",
    "pd_sorted_location_df4.head(4)"
   ]
  },
  {
   "cell_type": "code",
   "execution_count": 43,
   "id": "d18aa506-f8ba-465a-9557-4b275f0abf14",
   "metadata": {},
   "outputs": [],
   "source": [
    "pd_sorted_location_df4 = pd_sorted_location_df4.iloc[::-1]"
   ]
  },
  {
   "cell_type": "code",
   "execution_count": 44,
   "id": "48a82a22-08f4-41bd-bcf7-88d634c7425e",
   "metadata": {},
   "outputs": [
    {
     "data": {
      "text/plain": [
       "Text(0, 0.5, 'The User Region')"
      ]
     },
     "execution_count": 44,
     "metadata": {},
     "output_type": "execute_result"
    },
    {
     "data": {
      "image/png": "[encoded data removed]",
      "text/plain": [
       "<Figure size 800x600 with 1 Axes>"
      ]
     },
     "metadata": {},
     "output_type": "display_data"
    }
   ],
   "source": [
    "sorted_location_df4_plot = pd_sorted_location_df4.plot(kind='barh',x='user_country', y='issue_count', legend=None, title=\"Twitterers Discussing Student Loan Forgiveness by Country\", figsize=(8, 6))\n",
    "sorted_location_df4_plot.grid(False)\n",
    "sorted_location_df4_plot.set_xlabel(\"Total Twitterers\")\n",
    "sorted_location_df4_plot.set_ylabel(\"The User Region\")"
   ]
  },
  {
   "cell_type": "markdown",
   "id": "6eca314d-9965-4f9c-8315-cabfcdf1f0cc",
   "metadata": {},
   "source": [
    "### Check the timeline of the tweets for students loan forgiveness"
   ]
  },
  {
   "cell_type": "code",
   "execution_count": 45,
   "id": "ee09bd24-07d7-4f50-9321-793a7b390a72",
   "metadata": {},
   "outputs": [],
   "source": [
    "#use the \"createOrReplaceTempView\" to store my dataframe in order to run SparkSQL statements against the data\n",
    "std_loan.createOrReplaceTempView(\"std_loan_data\")"
   ]
  },
  {
   "cell_type": "code",
   "execution_count": 46,
   "id": "3d766051-de48-411b-8a8f-7df4d017088f",
   "metadata": {},
   "outputs": [],
   "source": [
    "tweets_timeline2 = spark.sql(\\\n",
    "                              \"SELECT year, month, day, count(*) AS total_tweets\\\n",
    "                              FROM std_loan_data\\\n",
    "                              GROUP BY year, month, day\\\n",
    "                              ORDER BY month\")"
   ]
  },
  {
   "cell_type": "code",
   "execution_count": null,
   "id": "5300f62b-f36d-4dc3-88e4-15f00f73f090",
   "metadata": {},
   "outputs": [
    {
     "name": "stderr",
     "output_type": "stream",
     "text": [
      "                                                                                \r"
     ]
    },
    {
     "data": {
      "text/html": [
       "<div>\n",
       "<style scoped>\n",
       "    .dataframe tbody tr th:only-of-type {\n",
       "        vertical-align: middle;\n",
       "    }\n",
       "\n",
       "    .dataframe tbody tr th {\n",
       "        vertical-align: top;\n",
       "    }\n",
       "\n",
       "    .dataframe thead th {\n",
       "        text-align: right;\n",
       "    }\n",
       "</style>\n",
       "<table border=\"1\" class=\"dataframe\">\n",
       "  <thead>\n",
       "    <tr style=\"text-align: right;\">\n",
       "      <th></th>\n",
       "      <th>year</th>\n",
       "      <th>month</th>\n",
       "      <th>day</th>\n",
       "      <th>total_tweets</th>\n",
       "    </tr>\n",
       "  </thead>\n",
       "  <tbody>\n",
       "    <tr>\n",
       "      <th>0</th>\n",
       "      <td>2023</td>\n",
       "      <td>1</td>\n",
       "      <td>25</td>\n",
       "      <td>54</td>\n",
       "    </tr>\n",
       "    <tr>\n",
       "      <th>1</th>\n",
       "      <td>2023</td>\n",
       "      <td>1</td>\n",
       "      <td>17</td>\n",
       "      <td>82</td>\n",
       "    </tr>\n",
       "    <tr>\n",
       "      <th>2</th>\n",
       "      <td>2023</td>\n",
       "      <td>1</td>\n",
       "      <td>26</td>\n",
       "      <td>65</td>\n",
       "    </tr>\n",
       "    <tr>\n",
       "      <th>3</th>\n",
       "      <td>2023</td>\n",
       "      <td>1</td>\n",
       "      <td>2</td>\n",
       "      <td>33</td>\n",
       "    </tr>\n",
       "    <tr>\n",
       "      <th>4</th>\n",
       "      <td>2023</td>\n",
       "      <td>1</td>\n",
       "      <td>4</td>\n",
       "      <td>66</td>\n",
       "    </tr>\n",
       "  </tbody>\n",
       "</table>\n",
       "</div>"
      ],
      "text/plain": [
       "   year  month  day  total_tweets\n",
       "0  2023      1   25            54\n",
       "1  2023      1   17            82\n",
       "2  2023      1   26            65\n",
       "3  2023      1    2            33\n",
       "4  2023      1    4            66"
      ]
     },
     "execution_count": 47,
     "metadata": {},
     "output_type": "execute_result"
    }
   ],
   "source": [
    "pd_tweets_timeline2 = tweets_timeline2.limit(1_000).toPandas()\n",
    "pd_tweets_timeline2.head(5)"
   ]
  },
  {
   "cell_type": "code",
   "execution_count": 49,
   "id": "3a971f37-dfa3-4dd6-8192-22f8c8110c78",
   "metadata": {},
   "outputs": [
    {
     "data": {
      "text/plain": [
       "array([2023, 2022], dtype=int32)"
      ]
     },
     "execution_count": 49,
     "metadata": {},
     "output_type": "execute_result"
    }
   ],
   "source": [
    "pd_tweets_timeline2[\"year\"].unique()"
   ]
  },
  {
   "cell_type": "code",
   "execution_count": 50,
   "id": "394192e5-60e9-4d6f-8b74-17720f66842e",
   "metadata": {},
   "outputs": [
    {
     "data": {
      "text/html": [
       "<div>\n",
       "<style scoped>\n",
       "    .dataframe tbody tr th:only-of-type {\n",
       "        vertical-align: middle;\n",
       "    }\n",
       "\n",
       "    .dataframe tbody tr th {\n",
       "        vertical-align: top;\n",
       "    }\n",
       "\n",
       "    .dataframe thead th {\n",
       "        text-align: right;\n",
       "    }\n",
       "</style>\n",
       "<table border=\"1\" class=\"dataframe\">\n",
       "  <thead>\n",
       "    <tr style=\"text-align: right;\">\n",
       "      <th></th>\n",
       "      <th>year</th>\n",
       "      <th>month</th>\n",
       "      <th>day</th>\n",
       "      <th>total_tweets</th>\n",
       "    </tr>\n",
       "  </thead>\n",
       "  <tbody>\n",
       "    <tr>\n",
       "      <th>39</th>\n",
       "      <td>2022</td>\n",
       "      <td>4</td>\n",
       "      <td>29</td>\n",
       "      <td>5623</td>\n",
       "    </tr>\n",
       "    <tr>\n",
       "      <th>40</th>\n",
       "      <td>2022</td>\n",
       "      <td>4</td>\n",
       "      <td>6</td>\n",
       "      <td>376</td>\n",
       "    </tr>\n",
       "    <tr>\n",
       "      <th>41</th>\n",
       "      <td>2022</td>\n",
       "      <td>4</td>\n",
       "      <td>17</td>\n",
       "      <td>107</td>\n",
       "    </tr>\n",
       "    <tr>\n",
       "      <th>42</th>\n",
       "      <td>2022</td>\n",
       "      <td>4</td>\n",
       "      <td>19</td>\n",
       "      <td>139</td>\n",
       "    </tr>\n",
       "    <tr>\n",
       "      <th>43</th>\n",
       "      <td>2022</td>\n",
       "      <td>4</td>\n",
       "      <td>15</td>\n",
       "      <td>114</td>\n",
       "    </tr>\n",
       "  </tbody>\n",
       "</table>\n",
       "</div>"
      ],
      "text/plain": [
       "    year  month  day  total_tweets\n",
       "39  2022      4   29          5623\n",
       "40  2022      4    6           376\n",
       "41  2022      4   17           107\n",
       "42  2022      4   19           139\n",
       "43  2022      4   15           114"
      ]
     },
     "execution_count": 50,
     "metadata": {},
     "output_type": "execute_result"
    }
   ],
   "source": [
    "#Filtering to get the monthly and daily tweet in 2022\n",
    "pd_tweets_timeline_2_22 = pd_tweets_timeline2[pd_tweets_timeline2['year'] == 2022]\n",
    "pd_tweets_timeline_2_22.head(5)"
   ]
  },
  {
   "cell_type": "code",
   "execution_count": 52,
   "id": "bffc1cb3-0fe1-490d-9719-73a76e40efe9",
   "metadata": {},
   "outputs": [
    {
     "data": {
      "image/png": "[encoded data removed]",
      "text/plain": [
       "<Figure size 700x400 with 1 Axes>"
      ]
     },
     "metadata": {},
     "output_type": "display_data"
    }
   ],
   "source": [
    "# Plot the timeline of tweets per month and day\n",
    "cmap = plt.cm.tab20\n",
    "\n",
    "fig, ax = plt.subplots(figsize=(7, 4))\n",
    "pd_tweets_timeline_2_22.pivot(index='day', columns='month', values='total_tweets').plot(ax=ax, cmap=cmap)\n",
    "plt.xlabel('Day')\n",
    "plt.ylabel('Number of Tweets')\n",
    "plt.title('Timeline of Student Loan Forgiveness Tweets per Month and Day in 2022', fontsize=10)\n",
    "legend = plt.legend(title=\"Month\", bbox_to_anchor=(1.05, 1), loc='upper left', fontsize='small')\n",
    "plt.show()"
   ]
  },
  {
   "cell_type": "code",
   "execution_count": 53,
   "id": "eac3a66b-ac72-499f-a11a-75175051a04e",
   "metadata": {},
   "outputs": [
    {
     "data": {
      "text/html": [
       "<div>\n",
       "<style scoped>\n",
       "    .dataframe tbody tr th:only-of-type {\n",
       "        vertical-align: middle;\n",
       "    }\n",
       "\n",
       "    .dataframe tbody tr th {\n",
       "        vertical-align: top;\n",
       "    }\n",
       "\n",
       "    .dataframe thead th {\n",
       "        text-align: right;\n",
       "    }\n",
       "</style>\n",
       "<table border=\"1\" class=\"dataframe\">\n",
       "  <thead>\n",
       "    <tr style=\"text-align: right;\">\n",
       "      <th></th>\n",
       "      <th>year</th>\n",
       "      <th>month</th>\n",
       "      <th>day</th>\n",
       "      <th>total_tweets</th>\n",
       "    </tr>\n",
       "  </thead>\n",
       "  <tbody>\n",
       "    <tr>\n",
       "      <th>0</th>\n",
       "      <td>2023</td>\n",
       "      <td>1</td>\n",
       "      <td>25</td>\n",
       "      <td>54</td>\n",
       "    </tr>\n",
       "    <tr>\n",
       "      <th>1</th>\n",
       "      <td>2023</td>\n",
       "      <td>1</td>\n",
       "      <td>17</td>\n",
       "      <td>82</td>\n",
       "    </tr>\n",
       "    <tr>\n",
       "      <th>2</th>\n",
       "      <td>2023</td>\n",
       "      <td>1</td>\n",
       "      <td>26</td>\n",
       "      <td>65</td>\n",
       "    </tr>\n",
       "    <tr>\n",
       "      <th>3</th>\n",
       "      <td>2023</td>\n",
       "      <td>1</td>\n",
       "      <td>2</td>\n",
       "      <td>33</td>\n",
       "    </tr>\n",
       "    <tr>\n",
       "      <th>4</th>\n",
       "      <td>2023</td>\n",
       "      <td>1</td>\n",
       "      <td>4</td>\n",
       "      <td>66</td>\n",
       "    </tr>\n",
       "  </tbody>\n",
       "</table>\n",
       "</div>"
      ],
      "text/plain": [
       "   year  month  day  total_tweets\n",
       "0  2023      1   25            54\n",
       "1  2023      1   17            82\n",
       "2  2023      1   26            65\n",
       "3  2023      1    2            33\n",
       "4  2023      1    4            66"
      ]
     },
     "execution_count": 53,
     "metadata": {},
     "output_type": "execute_result"
    }
   ],
   "source": [
    "#Filtering to get the monthly and daily tweet in 2023\n",
    "pd_tweets_timeline_23 = pd_tweets_timeline2[pd_tweets_timeline2['year'] == 2023]\n",
    "pd_tweets_timeline_23.head(5)"
   ]
  },
  {
   "cell_type": "code",
   "execution_count": 54,
   "id": "3004c8b6-b645-4ef1-b342-55f6160856e9",
   "metadata": {},
   "outputs": [
    {
     "data": {
      "image/png": "[encoded data removed]",
      "text/plain": [
       "<Figure size 700x400 with 1 Axes>"
      ]
     },
     "metadata": {},
     "output_type": "display_data"
    }
   ],
   "source": [
    "# Plot the timeline of tweets per month and day\n",
    "cmap = plt.cm.tab20\n",
    "\n",
    "fig, ax = plt.subplots(figsize=(7, 4))\n",
    "pd_tweets_timeline_23.pivot(index='day', columns='month', values='total_tweets').plot(ax=ax, cmap=cmap)\n",
    "plt.xlabel('Day')\n",
    "plt.ylabel('Number of Tweets')\n",
    "plt.title('Timeline of Student Loan Forgiveness Tweets per Month and Day in 2023', fontsize=10)\n",
    "legend = plt.legend(title=\"Month\", bbox_to_anchor=(1.05, 1), loc='upper left', fontsize='small')\n",
    "plt.show()"
   ]
  },
  {
   "cell_type": "markdown",
   "id": "d469102d-d003-4580-9700-6d0add47a7b8",
   "metadata": {},
   "source": [
    "### Student loan forgiveness per region"
   ]
  },
  {
   "cell_type": "code",
   "execution_count": 55,
   "id": "e632d677-f12c-4a92-8851-60f78feab5c6",
   "metadata": {},
   "outputs": [
    {
     "name": "stderr",
     "output_type": "stream",
     "text": [
      "                                                                                \r"
     ]
    }
   ],
   "source": [
    "pd_location_df5 = std_loan.groupBy('user_region').agg(count('emergent_issue').alias('issue_count'))\\\n",
    ".orderBy('issue_count',ascending=False)\\\n",
    ".filter(std_loan['user_region'].rlike(continent2)).toPandas()"
   ]
  },
  {
   "cell_type": "code",
   "execution_count": 56,
   "id": "8a2088c5-54f3-4495-abee-c023abe13a17",
   "metadata": {},
   "outputs": [
    {
     "data": {
      "text/html": [
       "<div>\n",
       "<style scoped>\n",
       "    .dataframe tbody tr th:only-of-type {\n",
       "        vertical-align: middle;\n",
       "    }\n",
       "\n",
       "    .dataframe tbody tr th {\n",
       "        vertical-align: top;\n",
       "    }\n",
       "\n",
       "    .dataframe thead th {\n",
       "        text-align: right;\n",
       "    }\n",
       "</style>\n",
       "<table border=\"1\" class=\"dataframe\">\n",
       "  <thead>\n",
       "    <tr style=\"text-align: right;\">\n",
       "      <th></th>\n",
       "      <th>user_region</th>\n",
       "      <th>issue_count</th>\n",
       "    </tr>\n",
       "  </thead>\n",
       "  <tbody>\n",
       "    <tr>\n",
       "      <th>0</th>\n",
       "      <td>North America</td>\n",
       "      <td>83705</td>\n",
       "    </tr>\n",
       "    <tr>\n",
       "      <th>1</th>\n",
       "      <td>Europe</td>\n",
       "      <td>3183</td>\n",
       "    </tr>\n",
       "    <tr>\n",
       "      <th>2</th>\n",
       "      <td>Africa</td>\n",
       "      <td>1724</td>\n",
       "    </tr>\n",
       "    <tr>\n",
       "      <th>3</th>\n",
       "      <td>Asia</td>\n",
       "      <td>1036</td>\n",
       "    </tr>\n",
       "    <tr>\n",
       "      <th>4</th>\n",
       "      <td>Oceania</td>\n",
       "      <td>368</td>\n",
       "    </tr>\n",
       "    <tr>\n",
       "      <th>5</th>\n",
       "      <td>South America</td>\n",
       "      <td>149</td>\n",
       "    </tr>\n",
       "  </tbody>\n",
       "</table>\n",
       "</div>"
      ],
      "text/plain": [
       "     user_region  issue_count\n",
       "0  North America        83705\n",
       "1         Europe         3183\n",
       "2         Africa         1724\n",
       "3           Asia         1036\n",
       "4        Oceania          368\n",
       "5  South America          149"
      ]
     },
     "execution_count": 56,
     "metadata": {},
     "output_type": "execute_result"
    }
   ],
   "source": [
    "pd_location_df5.head(10)"
   ]
  },
  {
   "cell_type": "code",
   "execution_count": 57,
   "id": "7a6369cd-9336-41ca-b01f-0273dc648549",
   "metadata": {},
   "outputs": [],
   "source": [
    "pd_location_df5 = pd_location_df5.iloc[::-1]"
   ]
  },
  {
   "cell_type": "code",
   "execution_count": 58,
   "id": "9fd85b80-f0df-437e-a3d5-44eb84c8f709",
   "metadata": {},
   "outputs": [
    {
     "data": {
      "text/plain": [
       "Text(0, 0.5, 'The User Region')"
      ]
     },
     "execution_count": 58,
     "metadata": {},
     "output_type": "execute_result"
    },
    {
     "data": {
      "image/png": "[encoded data removed]",
      "text/plain": [
       "<Figure size 800x600 with 1 Axes>"
      ]
     },
     "metadata": {},
     "output_type": "display_data"
    }
   ],
   "source": [
    "pd_location_df5_plot = pd_location_df5.plot(kind='barh',x='user_region', y='issue_count', legend=None, title=\"Twitterers Discussing Student Loan Forgiveness by Region\", figsize=(8, 6))\n",
    "pd_location_df5_plot.grid(False)\n",
    "pd_location_df5_plot.set_xlabel(\"Total Twitterers\")\n",
    "pd_location_df5_plot.set_ylabel(\"The User Region\")"
   ]
  },
  {
   "cell_type": "markdown",
   "id": "e042dc2e-c8fa-43d4-a818-7901ef973822",
   "metadata": {},
   "source": [
    "### Student loan forgiveness by organization"
   ]
  },
  {
   "cell_type": "code",
   "execution_count": 59,
   "id": "dc8a4d20-8359-4162-8d1e-4f37985f3365",
   "metadata": {},
   "outputs": [],
   "source": [
    "location_df2a = std_loan.groupBy(\"user_category\").agg({\"emergent_issue\": \"count\"}).withColumnRenamed(\"count(emergent_issue)\", \"issue_count\")"
   ]
  },
  {
   "cell_type": "code",
   "execution_count": 60,
   "id": "93843e10-4fbb-4686-b7a5-dc201552b472",
   "metadata": {},
   "outputs": [
    {
     "name": "stderr",
     "output_type": "stream",
     "text": [
      "                                                                                \r"
     ]
    },
    {
     "data": {
      "text/html": [
       "<table border='1'>\n",
       "<tr><th>user_category</th><th>issue_count</th></tr>\n",
       "<tr><td>Someone Else</td><td>95700</td></tr>\n",
       "<tr><td>News Outlet</td><td>6015</td></tr>\n",
       "<tr><td>Government Entity</td><td>5354</td></tr>\n",
       "<tr><td>Social Media Infl...</td><td>5089</td></tr>\n",
       "<tr><td>University</td><td>4091</td></tr>\n",
       "<tr><td>Nonprofit Organiz...</td><td>659</td></tr>\n",
       "<tr><td>School</td><td>157</td></tr>\n",
       "</table>\n"
      ],
      "text/plain": [
       "+--------------------+-----------+\n",
       "|       user_category|issue_count|\n",
       "+--------------------+-----------+\n",
       "|        Someone Else|      95700|\n",
       "|         News Outlet|       6015|\n",
       "|   Government Entity|       5354|\n",
       "|Social Media Infl...|       5089|\n",
       "|          University|       4091|\n",
       "|Nonprofit Organiz...|        659|\n",
       "|              School|        157|\n",
       "+--------------------+-----------+"
      ]
     },
     "execution_count": 60,
     "metadata": {},
     "output_type": "execute_result"
    }
   ],
   "source": [
    "#sort the data in descending order\n",
    "sorted_location_df2a = location_df2a.sort(col(\"issue_count\").desc())\n",
    "sorted_location_df2a.limit(10)"
   ]
  },
  {
   "cell_type": "markdown",
   "id": "62a6c3aa-76ae-468e-afce-80ea1929c122",
   "metadata": {},
   "source": [
    "### Teacher's salaries per country"
   ]
  },
  {
   "cell_type": "code",
   "execution_count": 61,
   "id": "533f776f-088f-4f1b-8448-a924450856a0",
   "metadata": {},
   "outputs": [
    {
     "name": "stderr",
     "output_type": "stream",
     "text": [
      "                                                                                \r"
     ]
    },
    {
     "data": {
      "text/plain": [
       "9174"
      ]
     },
     "execution_count": 61,
     "metadata": {},
     "output_type": "execute_result"
    }
   ],
   "source": [
    "#filter for teacher's salaries\n",
    "ts_df = tweet_region2.filter(tweet_region2.emergent_issue == 'Teacher Salaries')\n",
    "ts_df.count()"
   ]
  },
  {
   "cell_type": "code",
   "execution_count": 62,
   "id": "8804e8fb-f41b-4073-a49f-a39aa4ef1782",
   "metadata": {},
   "outputs": [
    {
     "name": "stderr",
     "output_type": "stream",
     "text": [
      "                                                                                \r"
     ]
    },
    {
     "data": {
      "text/html": [
       "<table border='1'>\n",
       "<tr><th>user_id</th><th>user_screen_name</th><th>user_location</th><th>user_category</th><th>tweet_text</th><th>tweet_created_at</th><th>year</th><th>month</th><th>day</th><th>hour</th><th>user_country</th><th>user_region</th><th>emergent_issue</th></tr>\n",
       "<tr><td>2491487924</td><td>SchoolsWeek</td><td>greenwich, london</td><td>University</td><td>union demands to ...</td><td>2023-02-01 17:34:00</td><td>2023</td><td>2</td><td>1</td><td>17</td><td>United Kingdom</td><td>Europe</td><td>Teacher Salaries</td></tr>\n",
       "<tr><td>1109894199032328192</td><td>pwb85742</td><td>tucson, az</td><td>Someone Else</td><td>greg abbott is ly...</td><td>2022-10-01 04:48:30</td><td>2022</td><td>10</td><td>1</td><td>4</td><td>United States</td><td>North America</td><td>Teacher Salaries</td></tr>\n",
       "<tr><td>114886324</td><td>rockilu</td><td>austin, tx</td><td>Someone Else</td><td>after abbott says...</td><td>2022-10-01 04:48:53</td><td>2022</td><td>10</td><td>1</td><td>4</td><td>United States</td><td>North America</td><td>Teacher Salaries</td></tr>\n",
       "<tr><td>813572101550604288</td><td>Thoreaus_Horse</td><td>united states</td><td>Someone Else</td><td>79 of florida s k...</td><td>2022-09-26 13:42:06</td><td>2022</td><td>9</td><td>26</td><td>13</td><td>United States</td><td>North America</td><td>Teacher Salaries</td></tr>\n",
       "<tr><td>547245452</td><td>MaryPapazian</td><td>california</td><td>University</td><td>importance of int...</td><td>2022-10-24 16:44:34</td><td>2022</td><td>10</td><td>24</td><td>16</td><td>United States</td><td>North America</td><td>Teacher Salaries</td></tr>\n",
       "</table>\n"
      ],
      "text/plain": [
       "+-------------------+----------------+--------------------+--------------------+--------------------+-------------------+----+-----+---+----+--------------------+--------------------+----------------+\n",
       "|            user_id|user_screen_name|       user_location|       user_category|          tweet_text|   tweet_created_at|year|month|day|hour|        user_country|         user_region|  emergent_issue|\n",
       "+-------------------+----------------+--------------------+--------------------+--------------------+-------------------+----+-----+---+----+--------------------+--------------------+----------------+\n",
       "|1205561817818259456|      okgolfer57|              canada|        Someone Else|legroff reduces t...|2022-08-16 00:00:57|2022|    8| 16|   0|              Canada|       North America|Teacher Salaries|\n",
       "|          203943065|      danluke319|        florida, usa|        Someone Else|rhino184 if u rea...|2022-08-16 21:36:34|2022|    8| 16|  21|       United States|       North America|Teacher Salaries|\n",
       "|1056864703186534400|        exbrodia|             meanjin|        Someone Else|holy fuck qld gov...|2022-08-23 22:10:14|2022|    8| 23|  22|             meanjin|             meanjin|Teacher Salaries|\n",
       "|         1199052942|    annejowrites|deep in a blue state|        Someone Else|i support teacher...|2022-05-02 19:11:08|2022|    5|  2|  19|       United States|       North America|Teacher Salaries|\n",
       "|          328756439|   ResisterSis20|somewhere some place|Social Media Infl...|when staceyabrams...|2022-06-13 14:27:31|2022|    6| 13|  14|somewhere some place|somewhere some place|Teacher Salaries|\n",
       "+-------------------+----------------+--------------------+--------------------+--------------------+-------------------+----+-----+---+----+--------------------+--------------------+----------------+"
      ]
     },
     "execution_count": 62,
     "metadata": {},
     "output_type": "execute_result"
    }
   ],
   "source": [
    "ts_df.limit(5)"
   ]
  },
  {
   "cell_type": "code",
   "execution_count": 63,
   "id": "8b93073f-f956-4d49-bf81-ec25adc7c330",
   "metadata": {},
   "outputs": [],
   "source": [
    "location_df6 = ts_df.groupBy(\"user_country\").agg({\"emergent_issue\": \"count\"}).withColumnRenamed(\"count(emergent_issue)\", \"issue_count\")"
   ]
  },
  {
   "cell_type": "code",
   "execution_count": 64,
   "id": "6d56ddcc-d368-402e-8c34-4507b96af7e8",
   "metadata": {},
   "outputs": [],
   "source": [
    "#sort the data in descending order\n",
    "sorted_location_df6 = location_df6.sort(col(\"issue_count\").desc())"
   ]
  },
  {
   "cell_type": "code",
   "execution_count": null,
   "id": "f025f703-309d-4f05-96b1-a1f5d8db410e",
   "metadata": {},
   "outputs": [
    {
     "name": "stderr",
     "output_type": "stream",
     "text": [
      "                                                                                \r"
     ]
    },
    {
     "data": {
      "text/html": [
       "<div>\n",
       "<style scoped>\n",
       "    .dataframe tbody tr th:only-of-type {\n",
       "        vertical-align: middle;\n",
       "    }\n",
       "\n",
       "    .dataframe tbody tr th {\n",
       "        vertical-align: top;\n",
       "    }\n",
       "\n",
       "    .dataframe thead th {\n",
       "        text-align: right;\n",
       "    }\n",
       "</style>\n",
       "<table border=\"1\" class=\"dataframe\">\n",
       "  <thead>\n",
       "    <tr style=\"text-align: right;\">\n",
       "      <th></th>\n",
       "      <th>user_country</th>\n",
       "      <th>issue_count</th>\n",
       "    </tr>\n",
       "  </thead>\n",
       "  <tbody>\n",
       "    <tr>\n",
       "      <th>0</th>\n",
       "      <td>United States</td>\n",
       "      <td>6544</td>\n",
       "    </tr>\n",
       "    <tr>\n",
       "      <th>1</th>\n",
       "      <td>United Kingdom</td>\n",
       "      <td>710</td>\n",
       "    </tr>\n",
       "    <tr>\n",
       "      <th>2</th>\n",
       "      <td>marsala, sicily</td>\n",
       "      <td>135</td>\n",
       "    </tr>\n",
       "    <tr>\n",
       "      <th>3</th>\n",
       "      <td>Canada</td>\n",
       "      <td>133</td>\n",
       "    </tr>\n",
       "  </tbody>\n",
       "</table>\n",
       "</div>"
      ],
      "text/plain": [
       "      user_country  issue_count\n",
       "0    United States         6544\n",
       "1   United Kingdom          710\n",
       "2  marsala, sicily          135\n",
       "3           Canada          133"
      ]
     },
     "execution_count": 65,
     "metadata": {},
     "output_type": "execute_result"
    }
   ],
   "source": [
    "pd_sorted_location_df6 = sorted_location_df6.limit(4).toPandas()\n",
    "pd_sorted_location_df6.head(4)"
   ]
  },
  {
   "cell_type": "code",
   "execution_count": 66,
   "id": "da3daad6-1d6b-47c6-8610-6bc55d5dacf7",
   "metadata": {},
   "outputs": [],
   "source": [
    "pd_sorted_location_df6['user_country'] = pd_sorted_location_df6['user_country'].replace('marsala, sicily', 'Italy')"
   ]
  },
  {
   "cell_type": "code",
   "execution_count": 67,
   "id": "f69595f6-af84-4eb0-a733-7608b42119b6",
   "metadata": {},
   "outputs": [],
   "source": [
    "pd_sorted_location_df6 = pd_sorted_location_df6.iloc[::-1]"
   ]
  },
  {
   "cell_type": "code",
   "execution_count": 68,
   "id": "ec7cc8d1-69b1-4dc3-9dd6-3bd70d4feb62",
   "metadata": {},
   "outputs": [
    {
     "data": {
      "text/plain": [
       "Text(0, 0.5, 'The User Country')"
      ]
     },
     "execution_count": 68,
     "metadata": {},
     "output_type": "execute_result"
    },
    {
     "data": {
      "image/png": "[encoded data removed]",
      "text/plain": [
       "<Figure size 800x600 with 1 Axes>"
      ]
     },
     "metadata": {},
     "output_type": "display_data"
    }
   ],
   "source": [
    "sorted_location_df6_plot = pd_sorted_location_df6.plot(kind='barh',x='user_country', y='issue_count', legend=None, title=\"Twitterers Discussing Teacher's Salaries by Country\", figsize=(8, 6))\n",
    "sorted_location_df6_plot.grid(False)\n",
    "sorted_location_df6_plot.set_xlabel(\"Total Twitterers\")\n",
    "sorted_location_df6_plot.set_ylabel(\"The User Country\")"
   ]
  },
  {
   "cell_type": "markdown",
   "id": "a44834cc-d375-4293-891b-45a394413fb7",
   "metadata": {},
   "source": [
    "### Check the timeline of the tweets for teacher's salaries"
   ]
  },
  {
   "cell_type": "code",
   "execution_count": 69,
   "id": "4257a8d4-64d9-4951-8524-39d9e13e68c3",
   "metadata": {},
   "outputs": [],
   "source": [
    "#use the \"createOrReplaceTempView\" to store my dataframe in order to run SparkSQL statements against the data\n",
    "ts_df.createOrReplaceTempView(\"ts_df_data\")"
   ]
  },
  {
   "cell_type": "code",
   "execution_count": 72,
   "id": "7059b9b4-67b4-41ae-9da4-df4533b33128",
   "metadata": {},
   "outputs": [],
   "source": [
    "tweets_timeline2 = spark.sql(\\\n",
    "                              \"SELECT year, month, day, count(*) AS total_tweets\\\n",
    "                              FROM ts_df_data\\\n",
    "                              GROUP BY year, month, day\\\n",
    "                              ORDER BY month\")"
   ]
  },
  {
   "cell_type": "code",
   "execution_count": 73,
   "id": "ba862bf4-b313-4483-b0f9-d966b0b4dac1",
   "metadata": {},
   "outputs": [
    {
     "name": "stderr",
     "output_type": "stream",
     "text": [
      "                                                                                \r"
     ]
    },
    {
     "data": {
      "text/html": [
       "<div>\n",
       "<style scoped>\n",
       "    .dataframe tbody tr th:only-of-type {\n",
       "        vertical-align: middle;\n",
       "    }\n",
       "\n",
       "    .dataframe tbody tr th {\n",
       "        vertical-align: top;\n",
       "    }\n",
       "\n",
       "    .dataframe thead th {\n",
       "        text-align: right;\n",
       "    }\n",
       "</style>\n",
       "<table border=\"1\" class=\"dataframe\">\n",
       "  <thead>\n",
       "    <tr style=\"text-align: right;\">\n",
       "      <th></th>\n",
       "      <th>year</th>\n",
       "      <th>month</th>\n",
       "      <th>day</th>\n",
       "      <th>total_tweets</th>\n",
       "    </tr>\n",
       "  </thead>\n",
       "  <tbody>\n",
       "    <tr>\n",
       "      <th>0</th>\n",
       "      <td>2023</td>\n",
       "      <td>1</td>\n",
       "      <td>10</td>\n",
       "      <td>15</td>\n",
       "    </tr>\n",
       "    <tr>\n",
       "      <th>1</th>\n",
       "      <td>2023</td>\n",
       "      <td>1</td>\n",
       "      <td>30</td>\n",
       "      <td>46</td>\n",
       "    </tr>\n",
       "    <tr>\n",
       "      <th>2</th>\n",
       "      <td>2023</td>\n",
       "      <td>1</td>\n",
       "      <td>22</td>\n",
       "      <td>9</td>\n",
       "    </tr>\n",
       "    <tr>\n",
       "      <th>3</th>\n",
       "      <td>2023</td>\n",
       "      <td>1</td>\n",
       "      <td>23</td>\n",
       "      <td>256</td>\n",
       "    </tr>\n",
       "    <tr>\n",
       "      <th>4</th>\n",
       "      <td>2023</td>\n",
       "      <td>1</td>\n",
       "      <td>6</td>\n",
       "      <td>5</td>\n",
       "    </tr>\n",
       "  </tbody>\n",
       "</table>\n",
       "</div>"
      ],
      "text/plain": [
       "   year  month  day  total_tweets\n",
       "0  2023      1   10            15\n",
       "1  2023      1   30            46\n",
       "2  2023      1   22             9\n",
       "3  2023      1   23           256\n",
       "4  2023      1    6             5"
      ]
     },
     "execution_count": 73,
     "metadata": {},
     "output_type": "execute_result"
    }
   ],
   "source": [
    "pd_tweets_timeline2 = tweets_timeline2.limit(1_000).toPandas()\n",
    "pd_tweets_timeline2.head(5)"
   ]
  },
  {
   "cell_type": "code",
   "execution_count": 74,
   "id": "8223cd33-d550-4a15-a3d4-c20a7b9bd37b",
   "metadata": {},
   "outputs": [
    {
     "data": {
      "text/plain": [
       "array([2023, 2022], dtype=int32)"
      ]
     },
     "execution_count": 74,
     "metadata": {},
     "output_type": "execute_result"
    }
   ],
   "source": [
    "pd_tweets_timeline2[\"year\"].unique()"
   ]
  },
  {
   "cell_type": "code",
   "execution_count": 75,
   "id": "955716ae-ee02-4611-9bc4-ffdc7642799c",
   "metadata": {},
   "outputs": [
    {
     "data": {
      "text/html": [
       "<div>\n",
       "<style scoped>\n",
       "    .dataframe tbody tr th:only-of-type {\n",
       "        vertical-align: middle;\n",
       "    }\n",
       "\n",
       "    .dataframe tbody tr th {\n",
       "        vertical-align: top;\n",
       "    }\n",
       "\n",
       "    .dataframe thead th {\n",
       "        text-align: right;\n",
       "    }\n",
       "</style>\n",
       "<table border=\"1\" class=\"dataframe\">\n",
       "  <thead>\n",
       "    <tr style=\"text-align: right;\">\n",
       "      <th></th>\n",
       "      <th>year</th>\n",
       "      <th>month</th>\n",
       "      <th>day</th>\n",
       "      <th>total_tweets</th>\n",
       "    </tr>\n",
       "  </thead>\n",
       "  <tbody>\n",
       "    <tr>\n",
       "      <th>39</th>\n",
       "      <td>2022</td>\n",
       "      <td>4</td>\n",
       "      <td>19</td>\n",
       "      <td>13</td>\n",
       "    </tr>\n",
       "    <tr>\n",
       "      <th>40</th>\n",
       "      <td>2022</td>\n",
       "      <td>4</td>\n",
       "      <td>26</td>\n",
       "      <td>17</td>\n",
       "    </tr>\n",
       "    <tr>\n",
       "      <th>41</th>\n",
       "      <td>2022</td>\n",
       "      <td>4</td>\n",
       "      <td>25</td>\n",
       "      <td>14</td>\n",
       "    </tr>\n",
       "    <tr>\n",
       "      <th>42</th>\n",
       "      <td>2022</td>\n",
       "      <td>4</td>\n",
       "      <td>23</td>\n",
       "      <td>29</td>\n",
       "    </tr>\n",
       "    <tr>\n",
       "      <th>43</th>\n",
       "      <td>2022</td>\n",
       "      <td>4</td>\n",
       "      <td>28</td>\n",
       "      <td>52</td>\n",
       "    </tr>\n",
       "  </tbody>\n",
       "</table>\n",
       "</div>"
      ],
      "text/plain": [
       "    year  month  day  total_tweets\n",
       "39  2022      4   19            13\n",
       "40  2022      4   26            17\n",
       "41  2022      4   25            14\n",
       "42  2022      4   23            29\n",
       "43  2022      4   28            52"
      ]
     },
     "execution_count": 75,
     "metadata": {},
     "output_type": "execute_result"
    }
   ],
   "source": [
    "#Filtering to get the monthly and daily tweet in 2022\n",
    "pd_tweets_timeline_2_22 = pd_tweets_timeline2[pd_tweets_timeline2['year'] == 2022]\n",
    "pd_tweets_timeline_2_22.head(5)"
   ]
  },
  {
   "cell_type": "code",
   "execution_count": 76,
   "id": "131eae39-c795-4563-b6f6-2c1f8db8cd4d",
   "metadata": {},
   "outputs": [
    {
     "data": {
      "image/png": "[encoded data removed]",
      "text/plain": [
       "<Figure size 700x400 with 1 Axes>"
      ]
     },
     "metadata": {},
     "output_type": "display_data"
    }
   ],
   "source": [
    "# Plot the timeline of tweets per month and day\n",
    "cmap = plt.cm.tab20\n",
    "\n",
    "fig, ax = plt.subplots(figsize=(7, 4))\n",
    "pd_tweets_timeline_2_22.pivot(index='day', columns='month', values='total_tweets').plot(ax=ax, cmap=cmap)\n",
    "plt.xlabel('Day')\n",
    "plt.ylabel('Number of Tweets')\n",
    "plt.title('Timeline of Teachers Salaries Tweets per Month and Day in 2022', fontsize=10)\n",
    "legend = plt.legend(title=\"Month\", bbox_to_anchor=(1.05, 1), loc='upper left', fontsize='small')\n",
    "plt.show()"
   ]
  },
  {
   "cell_type": "code",
   "execution_count": 77,
   "id": "0c94051e-62e0-4de2-a789-b8c5cecd2906",
   "metadata": {},
   "outputs": [
    {
     "data": {
      "text/html": [
       "<div>\n",
       "<style scoped>\n",
       "    .dataframe tbody tr th:only-of-type {\n",
       "        vertical-align: middle;\n",
       "    }\n",
       "\n",
       "    .dataframe tbody tr th {\n",
       "        vertical-align: top;\n",
       "    }\n",
       "\n",
       "    .dataframe thead th {\n",
       "        text-align: right;\n",
       "    }\n",
       "</style>\n",
       "<table border=\"1\" class=\"dataframe\">\n",
       "  <thead>\n",
       "    <tr style=\"text-align: right;\">\n",
       "      <th></th>\n",
       "      <th>year</th>\n",
       "      <th>month</th>\n",
       "      <th>day</th>\n",
       "      <th>total_tweets</th>\n",
       "    </tr>\n",
       "  </thead>\n",
       "  <tbody>\n",
       "    <tr>\n",
       "      <th>0</th>\n",
       "      <td>2023</td>\n",
       "      <td>1</td>\n",
       "      <td>10</td>\n",
       "      <td>15</td>\n",
       "    </tr>\n",
       "    <tr>\n",
       "      <th>1</th>\n",
       "      <td>2023</td>\n",
       "      <td>1</td>\n",
       "      <td>30</td>\n",
       "      <td>46</td>\n",
       "    </tr>\n",
       "    <tr>\n",
       "      <th>2</th>\n",
       "      <td>2023</td>\n",
       "      <td>1</td>\n",
       "      <td>22</td>\n",
       "      <td>9</td>\n",
       "    </tr>\n",
       "    <tr>\n",
       "      <th>3</th>\n",
       "      <td>2023</td>\n",
       "      <td>1</td>\n",
       "      <td>23</td>\n",
       "      <td>256</td>\n",
       "    </tr>\n",
       "    <tr>\n",
       "      <th>4</th>\n",
       "      <td>2023</td>\n",
       "      <td>1</td>\n",
       "      <td>6</td>\n",
       "      <td>5</td>\n",
       "    </tr>\n",
       "  </tbody>\n",
       "</table>\n",
       "</div>"
      ],
      "text/plain": [
       "   year  month  day  total_tweets\n",
       "0  2023      1   10            15\n",
       "1  2023      1   30            46\n",
       "2  2023      1   22             9\n",
       "3  2023      1   23           256\n",
       "4  2023      1    6             5"
      ]
     },
     "execution_count": 77,
     "metadata": {},
     "output_type": "execute_result"
    }
   ],
   "source": [
    "#Filtering to get the monthly and daily tweet in 2023\n",
    "pd_tweets_timeline_23 = pd_tweets_timeline2[pd_tweets_timeline2['year'] == 2023]\n",
    "pd_tweets_timeline_23.head(5)"
   ]
  },
  {
   "cell_type": "code",
   "execution_count": 78,
   "id": "4d7ec585-224b-4691-b3c5-1d9280d11a77",
   "metadata": {},
   "outputs": [
    {
     "data": {
      "image/png": "[encoded data removed]",
      "text/plain": [
       "<Figure size 700x400 with 1 Axes>"
      ]
     },
     "metadata": {},
     "output_type": "display_data"
    }
   ],
   "source": [
    "# Plot the timeline of tweets per month and day\n",
    "cmap = plt.cm.tab20\n",
    "\n",
    "fig, ax = plt.subplots(figsize=(7, 4))\n",
    "pd_tweets_timeline_23.pivot(index='day', columns='month', values='total_tweets').plot(ax=ax, cmap=cmap)\n",
    "plt.xlabel('Day')\n",
    "plt.ylabel('Number of Tweets')\n",
    "plt.title('Timeline of Teachers Salaries Tweets per Month and Day in 2023', fontsize=10)\n",
    "legend = plt.legend(title=\"Month\", bbox_to_anchor=(1.05, 1), loc='upper left', fontsize='small')\n",
    "plt.show()"
   ]
  },
  {
   "cell_type": "markdown",
   "id": "e786205c-d9a1-49c8-b0ba-f15bb97010a5",
   "metadata": {},
   "source": [
    "### Teacher's salaries per region"
   ]
  },
  {
   "cell_type": "code",
   "execution_count": 79,
   "id": "49cbd497-d66b-4a4b-b375-198ef97c2d3c",
   "metadata": {},
   "outputs": [
    {
     "name": "stderr",
     "output_type": "stream",
     "text": [
      "                                                                                \r"
     ]
    }
   ],
   "source": [
    "pd_location_df7 = ts_df.groupBy('user_region').agg(count('emergent_issue').alias('issue_count'))\\\n",
    ".orderBy('issue_count',ascending=False)\\\n",
    ".filter(ts_df['user_region'].rlike(continent2)).toPandas()"
   ]
  },
  {
   "cell_type": "code",
   "execution_count": 80,
   "id": "c82c4b51-5d73-40da-8f4f-2b084e11ddbf",
   "metadata": {},
   "outputs": [
    {
     "data": {
      "text/html": [
       "<div>\n",
       "<style scoped>\n",
       "    .dataframe tbody tr th:only-of-type {\n",
       "        vertical-align: middle;\n",
       "    }\n",
       "\n",
       "    .dataframe tbody tr th {\n",
       "        vertical-align: top;\n",
       "    }\n",
       "\n",
       "    .dataframe thead th {\n",
       "        text-align: right;\n",
       "    }\n",
       "</style>\n",
       "<table border=\"1\" class=\"dataframe\">\n",
       "  <thead>\n",
       "    <tr style=\"text-align: right;\">\n",
       "      <th></th>\n",
       "      <th>user_region</th>\n",
       "      <th>issue_count</th>\n",
       "    </tr>\n",
       "  </thead>\n",
       "  <tbody>\n",
       "    <tr>\n",
       "      <th>0</th>\n",
       "      <td>North America</td>\n",
       "      <td>6686</td>\n",
       "    </tr>\n",
       "    <tr>\n",
       "      <th>1</th>\n",
       "      <td>Europe</td>\n",
       "      <td>754</td>\n",
       "    </tr>\n",
       "    <tr>\n",
       "      <th>2</th>\n",
       "      <td>Asia</td>\n",
       "      <td>53</td>\n",
       "    </tr>\n",
       "    <tr>\n",
       "      <th>3</th>\n",
       "      <td>Africa</td>\n",
       "      <td>32</td>\n",
       "    </tr>\n",
       "    <tr>\n",
       "      <th>4</th>\n",
       "      <td>Oceania</td>\n",
       "      <td>32</td>\n",
       "    </tr>\n",
       "    <tr>\n",
       "      <th>5</th>\n",
       "      <td>South America</td>\n",
       "      <td>6</td>\n",
       "    </tr>\n",
       "  </tbody>\n",
       "</table>\n",
       "</div>"
      ],
      "text/plain": [
       "     user_region  issue_count\n",
       "0  North America         6686\n",
       "1         Europe          754\n",
       "2           Asia           53\n",
       "3         Africa           32\n",
       "4        Oceania           32\n",
       "5  South America            6"
      ]
     },
     "execution_count": 80,
     "metadata": {},
     "output_type": "execute_result"
    }
   ],
   "source": [
    "pd_location_df7.head(10)"
   ]
  },
  {
   "cell_type": "code",
   "execution_count": 81,
   "id": "de26be0f-1d86-4b20-9b05-9cb20cbaf8ff",
   "metadata": {},
   "outputs": [],
   "source": [
    "pd_location_df7 = pd_location_df7.iloc[::-1]"
   ]
  },
  {
   "cell_type": "code",
   "execution_count": 82,
   "id": "bb965cbb-95b8-4e56-923a-2473107151bc",
   "metadata": {},
   "outputs": [
    {
     "data": {
      "text/plain": [
       "Text(0, 0.5, 'The User Region')"
      ]
     },
     "execution_count": 82,
     "metadata": {},
     "output_type": "execute_result"
    },
    {
     "data": {
      "image/png": "[encoded data removed]",
      "text/plain": [
       "<Figure size 800x600 with 1 Axes>"
      ]
     },
     "metadata": {},
     "output_type": "display_data"
    }
   ],
   "source": [
    "pd_location_df7_plot = pd_location_df7.plot(kind='barh',x='user_region', y='issue_count', legend=None, title=\"Twitterers Discussing Teaher's Salaries by Region\", figsize=(8, 6))\n",
    "pd_location_df7_plot.grid(False)\n",
    "pd_location_df7_plot.set_xlabel(\"Total Twitterers\")\n",
    "pd_location_df7_plot.set_ylabel(\"The User Region\")"
   ]
  },
  {
   "cell_type": "markdown",
   "id": "fbda6846-ec22-473a-8a6f-e13cd7798a7b",
   "metadata": {},
   "source": [
    "### Teacher's salaries by organization"
   ]
  },
  {
   "cell_type": "code",
   "execution_count": 83,
   "id": "6fc3cd12-3773-4949-93c5-309cde4ffc2c",
   "metadata": {},
   "outputs": [],
   "source": [
    "location_df2b = ts_df.groupBy(\"user_category\").agg({\"emergent_issue\": \"count\"}).withColumnRenamed(\"count(emergent_issue)\", \"issue_count\")"
   ]
  },
  {
   "cell_type": "code",
   "execution_count": 85,
   "id": "8bd223ee-67e8-41b1-ae0a-7b726e708a98",
   "metadata": {},
   "outputs": [
    {
     "name": "stderr",
     "output_type": "stream",
     "text": [
      "                                                                                \r"
     ]
    },
    {
     "data": {
      "text/html": [
       "<table border='1'>\n",
       "<tr><th>user_category</th><th>issue_count</th></tr>\n",
       "<tr><td>Someone Else</td><td>6916</td></tr>\n",
       "<tr><td>Government Entity</td><td>648</td></tr>\n",
       "<tr><td>University</td><td>587</td></tr>\n",
       "<tr><td>News Outlet</td><td>508</td></tr>\n",
       "<tr><td>Social Media Infl...</td><td>421</td></tr>\n",
       "<tr><td>Nonprofit Organiz...</td><td>60</td></tr>\n",
       "<tr><td>School</td><td>34</td></tr>\n",
       "</table>\n"
      ],
      "text/plain": [
       "+--------------------+-----------+\n",
       "|       user_category|issue_count|\n",
       "+--------------------+-----------+\n",
       "|        Someone Else|       6916|\n",
       "|   Government Entity|        648|\n",
       "|          University|        587|\n",
       "|         News Outlet|        508|\n",
       "|Social Media Infl...|        421|\n",
       "|Nonprofit Organiz...|         60|\n",
       "|              School|         34|\n",
       "+--------------------+-----------+"
      ]
     },
     "execution_count": 85,
     "metadata": {},
     "output_type": "execute_result"
    }
   ],
   "source": [
    "#sort the data in descending order\n",
    "sorted_location_df2b = location_df2b.sort(col(\"issue_count\").desc())\n",
    "sorted_location_df2b.limit(10)"
   ]
  },
  {
   "cell_type": "markdown",
   "id": "f96f7255-f3cd-4132-84c0-f5190311a163",
   "metadata": {},
   "source": [
    "### Teacher's salaries by twitterers"
   ]
  },
  {
   "cell_type": "code",
   "execution_count": 86,
   "id": "6634d16d-60ac-46db-a829-2c6865b4b9e8",
   "metadata": {},
   "outputs": [],
   "source": [
    "location_df2c = ts_df.groupBy(\"user_screen_name\").agg({\"emergent_issue\": \"count\"}).withColumnRenamed(\"count(emergent_issue)\", \"issue_count\")"
   ]
  },
  {
   "cell_type": "code",
   "execution_count": 87,
   "id": "d8cec504-2cbf-4fd7-8532-6ec2edbe44aa",
   "metadata": {},
   "outputs": [
    {
     "name": "stderr",
     "output_type": "stream",
     "text": [
      "                                                                                \r"
     ]
    },
    {
     "data": {
      "text/html": [
       "<table border='1'>\n",
       "<tr><th>user_screen_name</th><th>issue_count</th></tr>\n",
       "<tr><td>MrMilitantRBKA</td><td>135</td></tr>\n",
       "<tr><td>RebekahDennis29</td><td>14</td></tr>\n",
       "<tr><td>jwatsondp</td><td>12</td></tr>\n",
       "<tr><td>ocsurf74</td><td>10</td></tr>\n",
       "<tr><td>tes</td><td>9</td></tr>\n",
       "<tr><td>NCTQ</td><td>7</td></tr>\n",
       "<tr><td>NShrubs</td><td>7</td></tr>\n",
       "<tr><td>paulperez1949</td><td>7</td></tr>\n",
       "<tr><td>schoolsontap</td><td>7</td></tr>\n",
       "<tr><td>RandyAlberhasky</td><td>6</td></tr>\n",
       "</table>\n"
      ],
      "text/plain": [
       "+----------------+-----------+\n",
       "|user_screen_name|issue_count|\n",
       "+----------------+-----------+\n",
       "|  MrMilitantRBKA|        135|\n",
       "| RebekahDennis29|         14|\n",
       "|       jwatsondp|         12|\n",
       "|        ocsurf74|         10|\n",
       "|             tes|          9|\n",
       "|         NShrubs|          7|\n",
       "|            NCTQ|          7|\n",
       "|   paulperez1949|          7|\n",
       "|    schoolsontap|          7|\n",
       "|    Joni_Looking|          6|\n",
       "+----------------+-----------+"
      ]
     },
     "execution_count": 87,
     "metadata": {},
     "output_type": "execute_result"
    }
   ],
   "source": [
    "#sort the data in descending order\n",
    "sorted_location_df2c = location_df2c.sort(col(\"issue_count\").desc())\n",
    "sorted_location_df2c.limit(10)"
   ]
  },
  {
   "cell_type": "markdown",
   "id": "ced24513-9745-4f00-8e8c-8ce9d3124abc",
   "metadata": {},
   "source": [
    "### Student loan forgiveness by twitterers"
   ]
  },
  {
   "cell_type": "code",
   "execution_count": 88,
   "id": "b73e5999-f1bb-4629-80c9-a0bd7c555cdb",
   "metadata": {},
   "outputs": [],
   "source": [
    "location_df2d = std_loan.groupBy(\"user_screen_name\").agg({\"emergent_issue\": \"count\"}).withColumnRenamed(\"count(emergent_issue)\", \"issue_count\")"
   ]
  },
  {
   "cell_type": "code",
   "execution_count": null,
   "id": "0188253c-5118-41b2-8466-25c3ac3b0b40",
   "metadata": {},
   "outputs": [
    {
     "name": "stderr",
     "output_type": "stream",
     "text": [
      "                                                                                \r"
     ]
    },
    {
     "data": {
      "text/html": [
       "<table border='1'>\n",
       "<tr><th>user_screen_name</th><th>issue_count</th></tr>\n",
       "<tr><td>dorislindaB</td><td>192</td></tr>\n",
       "<tr><td>MoneyVisCoach</td><td>113</td></tr>\n",
       "<tr><td>Presproverbs</td><td>105</td></tr>\n",
       "<tr><td>4slj_</td><td>103</td></tr>\n",
       "<tr><td>INvestEdIndiana</td><td>69</td></tr>\n",
       "<tr><td>Emmaheather053</td><td>51</td></tr>\n",
       "<tr><td>sugar_mommakell</td><td>45</td></tr>\n",
       "<tr><td>FlagstaffJon</td><td>42</td></tr>\n",
       "<tr><td>dwright100</td><td>39</td></tr>\n",
       "<tr><td>chilberg11</td><td>36</td></tr>\n",
       "</table>\n"
      ],
      "text/plain": [
       "+----------------+-----------+\n",
       "|user_screen_name|issue_count|\n",
       "+----------------+-----------+\n",
       "|     dorislindaB|        192|\n",
       "|   MoneyVisCoach|        113|\n",
       "|    Presproverbs|        105|\n",
       "|           4slj_|        103|\n",
       "| INvestEdIndiana|         69|\n",
       "|  Emmaheather053|         51|\n",
       "| sugar_mommakell|         45|\n",
       "|    FlagstaffJon|         42|\n",
       "|      dwright100|         39|\n",
       "|      chilberg11|         36|\n",
       "+----------------+-----------+"
      ]
     },
     "execution_count": 89,
     "metadata": {},
     "output_type": "execute_result"
    }
   ],
   "source": [
    "#sort the data in descending order\n",
    "sorted_location_df2d = location_df2d.sort(col(\"issue_count\").desc())\n",
    "sorted_location_df2d.limit(10)"
   ]
  }
 ],
 "metadata": {
  "kernelspec": {
   "display_name": "Python 3 (ipykernel)",
   "language": "python",
   "name": "python3"
  },
  "language_info": {
   "codemirror_mode": {
    "name": "ipython",
    "version": 3
   },
   "file_extension": ".py",
   "mimetype": "text/x-python",
   "name": "python",
   "nbconvert_exporter": "python",
   "pygments_lexer": "ipython3",
   "version": "3.9.15"
  }
 },
 "nbformat": 4,
 "nbformat_minor": 5
}
