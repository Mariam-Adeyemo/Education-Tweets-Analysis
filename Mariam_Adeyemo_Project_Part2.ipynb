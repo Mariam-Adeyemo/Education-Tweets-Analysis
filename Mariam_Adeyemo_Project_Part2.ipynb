{
 "cells": [
  {
   "cell_type": "markdown",
   "id": "7469a972",
   "metadata": {},
   "source": [
    "### Mariam Adeyemo\n",
    "BDP Final Project"
   ]
  },
  {
   "cell_type": "markdown",
   "id": "ca88995f",
   "metadata": {},
   "source": [
    "## Part 3\n",
    "\n",
    "**Author Identification**"
   ]
  },
  {
   "cell_type": "code",
   "execution_count": 1,
   "id": "ab7a3c9f-4df1-4cbe-b79b-e85a144044e4",
   "metadata": {},
   "outputs": [
    {
     "data": {
      "text/plain": [
       "'3.1.3'"
      ]
     },
     "execution_count": 1,
     "metadata": {},
     "output_type": "execute_result"
    }
   ],
   "source": [
    "#Ensure we are using the right kernel\n",
    "spark.version"
   ]
  },
  {
   "cell_type": "code",
   "execution_count": 2,
   "id": "9ecea14f-3372-436d-99b8-71ba69b4c7f0",
   "metadata": {},
   "outputs": [],
   "source": [
    "import os\n",
    "import subprocess\n",
    "import shutil\n",
    "import pandas as pd\n",
    "from pyspark.sql.functions import *\n",
    "from pyspark import SparkContext\n",
    "from pyspark.sql import SQLContext\n",
    "from pyspark.sql.types import *"
   ]
  },
  {
   "cell_type": "code",
   "execution_count": 3,
   "id": "0ddb7cec-7bfc-42a5-a360-61f60b52a9a0",
   "metadata": {},
   "outputs": [],
   "source": [
    "warnings.filterwarnings(action='ignore')\n",
    "spark = SparkSession.builder.getOrCreate()"
   ]
  },
  {
   "cell_type": "code",
   "execution_count": 4,
   "id": "0a4cdbd1-a229-4567-8874-fd7855f79052",
   "metadata": {},
   "outputs": [],
   "source": [
    "#Add \"eagerEval.enabled\" to beautify the way Spark DF is displayed\n",
    "spark.conf.set(\"spark.sql.repl.eagerEval.enabled\",True)"
   ]
  },
  {
   "cell_type": "code",
   "execution_count": 5,
   "id": "856925b3-3e4a-4798-9289-ad63edbbe493",
   "metadata": {},
   "outputs": [],
   "source": [
    "# Saving results into individual bucket\n",
    "bucket_write = 'msca-bdp-data-shared'"
   ]
  },
  {
   "cell_type": "markdown",
   "id": "31cb0e79-d0e3-49c3-8bf7-adc41c8f6fc8",
   "metadata": {},
   "source": [
    "### Loading the processed tweet into spark dataframe"
   ]
  },
  {
   "cell_type": "code",
   "execution_count": 6,
   "id": "596ebe03-0d05-4bcf-9a46-e9d337fccabe",
   "metadata": {},
   "outputs": [],
   "source": [
    "path_read = 'gs://msca-bdp-students-bucket/shared_data/mariamoluwatobi/final_tweet_data'"
   ]
  },
  {
   "cell_type": "code",
   "execution_count": 7,
   "id": "e74a2424-1b22-4f18-a265-fa0e147932d3",
   "metadata": {},
   "outputs": [
    {
     "name": "stderr",
     "output_type": "stream",
     "text": [
      "                                                                                \r"
     ]
    },
    {
     "name": "stdout",
     "output_type": "stream",
     "text": [
      "CPU times: user 7.7 ms, sys: 1.02 ms, total: 8.72 ms\n",
      "Wall time: 7.37 s\n"
     ]
    },
    {
     "name": "stderr",
     "output_type": "stream",
     "text": [
      "23/03/07 16:18:47 WARN org.apache.spark.sql.catalyst.util.package: Truncated the string representation of a plan since it was too large. This behavior can be adjusted by setting 'spark.sql.debug.maxToStringFields'.\n"
     ]
    }
   ],
   "source": [
    "%%time\n",
    "\n",
    "tweets_filt = spark.read.parquet(path_read)"
   ]
  },
  {
   "cell_type": "code",
   "execution_count": 8,
   "id": "4e045e6c-8ec3-474f-af3a-afe7baf68c02",
   "metadata": {},
   "outputs": [
    {
     "name": "stderr",
     "output_type": "stream",
     "text": [
      "                                                                                \r"
     ]
    },
    {
     "data": {
      "text/plain": [
       "36600074"
      ]
     },
     "execution_count": 8,
     "metadata": {},
     "output_type": "execute_result"
    }
   ],
   "source": [
    "tweets_filt.count()"
   ]
  },
  {
   "cell_type": "markdown",
   "id": "5feb943c-2230-4d1b-8896-b275ea659a4d",
   "metadata": {},
   "source": [
    "## Question 1a: Identify the most prolific / influential Twitterers by message volume (original content)"
   ]
  },
  {
   "cell_type": "code",
   "execution_count": 9,
   "id": "b366e8e2-5096-459a-8934-2a57a1705ed9",
   "metadata": {},
   "outputs": [
    {
     "name": "stderr",
     "output_type": "stream",
     "text": [
      "                                                                                \r"
     ]
    },
    {
     "data": {
      "text/html": [
       "<table border='1'>\n",
       "<tr><th>user_id</th><th>user_name</th><th>user_screen_name</th><th>user_created_at</th><th>user_location</th><th>user_description</th><th>user_verified</th><th>user_followers_count</th><th>user_friends_count</th><th>user_favourites_count</th><th>user_statuses_count</th><th>tweet_id_str</th><th>tweet_created_at</th><th>tweet_text</th><th>text</th><th>tweet_quote_count</th><th>tweet_is_quote_status</th><th>tweet_timestamp_ms</th><th>tweet_retweeted_from</th><th>tweet_reply_count</th><th>tweet_retweeted_status</th><th>tweet_possibly_sensitive</th><th>tweet_favorite_count</th><th>tweet_location</th><th>tweet_city</th><th>tweet_coordinates</th></tr>\n",
       "<tr><td>986685574789713922</td><td>Travis Branham</td><td>TravisBranham_</td><td>2018-04-18 19:19:07</td><td>Lexington, KY</td><td>National Basketba...</td><td>false</td><td>13639</td><td>1227</td><td>4577</td><td>5769</td><td>1554464711764328449</td><td>2022-08-02 13:50:42</td><td>Kwame &#x27;KJ&#x27; Evans,...</td><td>kwame kj evans th...</td><td>0</td><td>true</td><td>1659448242499</td><td>null</td><td>0</td><td>null</td><td>null</td><td>0</td><td>null</td><td>null</td><td>null</td></tr>\n",
       "<tr><td>1173774376723996672</td><td>toni esposito</td><td>toniesposito3</td><td>2019-09-17 01:43:22</td><td>Staten Island, NY</td><td>Mom ♥️ special ne...</td><td>false</td><td>41</td><td>38</td><td>11</td><td>379</td><td>1554464733310369792</td><td>2022-08-02 13:50:47</td><td>I only need $204 ...</td><td>i only need 204 w...</td><td>0</td><td>false</td><td>1659448247636</td><td>null</td><td>0</td><td>null</td><td>false</td><td>0</td><td>null</td><td>null</td><td>null</td></tr>\n",
       "<tr><td>1330542080997748737</td><td>The Front Page</td><td>thefrontpagebd</td><td>2020-11-22 16:02:16</td><td>null</td><td>The Front Page is...</td><td>false</td><td>37</td><td>26</td><td>1</td><td>149</td><td>1554464741212430337</td><td>2022-08-02 13:50:49</td><td>Taorem Sananu, a ...</td><td>taorem sananu a s...</td><td>0</td><td>false</td><td>1659448249520</td><td>null</td><td>0</td><td>null</td><td>false</td><td>0</td><td>null</td><td>null</td><td>null</td></tr>\n",
       "<tr><td>1038963055693103104</td><td>News Pug</td><td>news_pug</td><td>2018-09-10 01:31:10</td><td>USA</td><td>http://newspug.co...</td><td>false</td><td>1322</td><td>3485</td><td>2</td><td>16186</td><td>1554464747227168769</td><td>2022-08-02 13:50:50</td><td>Meadow Sinner, a ...</td><td>meadow sinner a r...</td><td>0</td><td>false</td><td>1659448250954</td><td>null</td><td>0</td><td>null</td><td>false</td><td>0</td><td>null</td><td>null</td><td>null</td></tr>\n",
       "<tr><td>927603612</td><td>Jul🌻 🇵🇷</td><td>JulevelynMarie</td><td>2012-11-05 13:22:58</td><td>Carolina, Puerto ...</td><td>JMOP 🇵🇷 🐘 I’m ...</td><td>false</td><td>278</td><td>379</td><td>1922</td><td>4869</td><td>1554464771616948225</td><td>2022-08-02 13:50:56</td><td>@NotJosieGrossy T...</td><td>notjosiegrossy th...</td><td>0</td><td>false</td><td>1659448256769</td><td>null</td><td>0</td><td>null</td><td>false</td><td>0</td><td>null</td><td>null</td><td>null</td></tr>\n",
       "<tr><td>31552201</td><td>Undercover PickMe</td><td>Shweetass</td><td>2009-04-15 23:00:34</td><td>757.Jamaica.VCU A...</td><td>Cashapp-$ShakC . ...</td><td>false</td><td>2372</td><td>1454</td><td>10739</td><td>167342</td><td>1554464782257983491</td><td>2022-08-02 13:50:59</td><td>She one of them s...</td><td>she one of them s...</td><td>0</td><td>false</td><td>1659448259306</td><td>null</td><td>0</td><td>null</td><td>null</td><td>0</td><td>null</td><td>null</td><td>null</td></tr>\n",
       "<tr><td>1547707932275486722</td><td>Aiyana_Altenwerth</td><td>AiyanaAltenwer1</td><td>2022-07-14 22:21:53</td><td>null</td><td>null</td><td>false</td><td>2</td><td>2</td><td>0</td><td>767</td><td>1554464788130168837</td><td>2022-08-02 13:51:00</td><td>Little Book of Re...</td><td>little book of re...</td><td>0</td><td>false</td><td>1659448260706</td><td>null</td><td>0</td><td>null</td><td>false</td><td>0</td><td>null</td><td>null</td><td>null</td></tr>\n",
       "<tr><td>47876842</td><td>Björn Brembs 🇺🇦...</td><td>brembs</td><td>2009-06-17 06:19:20</td><td>Regensburg</td><td>Professorial stud...</td><td>false</td><td>10581</td><td>980</td><td>41927</td><td>50055</td><td>1554464789430157312</td><td>2022-08-02 13:51:01</td><td>“Journal impact f...</td><td>journal impact fa...</td><td>0</td><td>false</td><td>1659448261016</td><td>null</td><td>0</td><td>null</td><td>false</td><td>0</td><td>null</td><td>null</td><td>null</td></tr>\n",
       "<tr><td>1312139307340230657</td><td>Crypto University</td><td>TheCryptoU</td><td>2020-10-02 21:16:26</td><td>Worldwide</td><td>The University of...</td><td>false</td><td>4727</td><td>101</td><td>509</td><td>802</td><td>1554464790264832003</td><td>2022-08-02 13:51:01</td><td>@ a friend who sh...</td><td>a friend who shou...</td><td>0</td><td>false</td><td>1659448261215</td><td>null</td><td>0</td><td>null</td><td>null</td><td>0</td><td>null</td><td>null</td><td>null</td></tr>\n",
       "<tr><td>474982068</td><td>Lorenzo</td><td>maintainng</td><td>2012-01-26 15:16:08</td><td>Lagos, Nigeria</td><td>Public Health | E...</td><td>false</td><td>3157</td><td>3389</td><td>14277</td><td>8222</td><td>1554464792563400705</td><td>2022-08-02 13:51:01</td><td>@olumuyiwaayo Las...</td><td>olumuyiwaayo last...</td><td>0</td><td>false</td><td>1659448261763</td><td>null</td><td>0</td><td>null</td><td>null</td><td>0</td><td>null</td><td>null</td><td>null</td></tr>\n",
       "</table>\n"
      ],
      "text/plain": [
       "+-------------------+-------------------+----------------+-------------------+----------------+--------------------+-------------+--------------------+------------------+---------------------+-------------------+-------------------+-------------------+--------------------+--------------------+-----------------+---------------------+------------------+--------------------+-----------------+----------------------+------------------------+--------------------+--------------+----------+-----------------+\n",
       "|            user_id|          user_name|user_screen_name|    user_created_at|   user_location|    user_description|user_verified|user_followers_count|user_friends_count|user_favourites_count|user_statuses_count|       tweet_id_str|   tweet_created_at|          tweet_text|                text|tweet_quote_count|tweet_is_quote_status|tweet_timestamp_ms|tweet_retweeted_from|tweet_reply_count|tweet_retweeted_status|tweet_possibly_sensitive|tweet_favorite_count|tweet_location|tweet_city|tweet_coordinates|\n",
       "+-------------------+-------------------+----------------+-------------------+----------------+--------------------+-------------+--------------------+------------------+---------------------+-------------------+-------------------+-------------------+--------------------+--------------------+-----------------+---------------------+------------------+--------------------+-----------------+----------------------+------------------------+--------------------+--------------+----------+-----------------+\n",
       "|1110538441899630593|     PM Imran Khan|    shadowless52|2019-03-26 13:46:12|   🇵🇰Pakistan |How glorious a gr...|        false|                 267|              1184|                38955|              17415|1567874061262266368|2022-09-08 13:54:40|@PakNeuro And the...|pakneuro and the ...|                0|                false|     1662645280553|                null|                0|                  null|                    null|                   0|          null|      null|             null|\n",
       "|         3325724597| All Sports Jamaica|  jamaica_sports|2015-06-14 22:35:38|            null|Follow us on Inst...|        false|                 147|               503|                 1231|               2227|1567874061564317699|2022-09-08 13:54:40|SBF Matchday 1 Zo...|sbf matchday 1 zo...|                0|                false|     1662645280625|ISSASportsJA @Iss...|                0|                  null|                   false|                   0|          null|      null|             null|\n",
       "|1546804964797960195|            mishaaa|      nakroyaaar|2022-07-12 10:33:57|Multan, Pakistan|       kesa sama hai|        false|                  31|                35|                  488|                506|1567874062776696832|2022-09-08 13:54:40|@sugar_melon_ @ra...|sugar_melon_ rahi...|                0|                false|     1662645280914|rahimanasirr been...|                0|                  null|                    null|                   0|          null|      null|             null|\n",
       "|1483749445900861446|       AGS-SPORTS89|        AgiwaraS|2022-01-19 10:33:51|   united states|DON'T LET YOU MIS...|        false|                  14|               100|                  787|              18403|1567874073132429314|2022-09-08 13:54:43|🔵LIVE➤ Wolsey-We...|live wolsey wessi...|                0|                false|     1662645283383|                null|                0|                  null|                   false|                   0|          null|      null|             null|\n",
       "|          481087191|Trinity Acad Sports| Trinity_sports1|2012-02-02 08:56:14|       Edinburgh|Twitter account f...|        false|                1254|               112|                  553|               4094|1567874084704239619|2022-09-08 13:54:46|🏉Rugby fixtures ...|rugby fixtures th...|                0|                false|     1662645286142|                null|                0|                  null|                    null|                   0|          null|      null|             null|\n",
       "|         2534838711|      Kevin Jochens|   kevin_jochens|2014-05-08 09:02:32|   Grandview, MO|Lifelong horseman...|        false|                3213|              4636|                87187|              66506|1567874094288207873|2022-09-08 13:54:48|@Jeane63Taylor @S...|jeane63taylor sd3...|                0|                false|     1662645288427|SD3pete So, you k...|                0|                  null|                    null|                   0|          null|      null|             null|\n",
       "|         1596018373|       Get Your MBA|      GetYourMBA|2013-07-15 14:38:14|             USA|Our educational a...|        false|                 696|               530|                   55|              35845|1567874111585636352|2022-09-08 13:54:52|Poole Staff Spotl...|poole staff spotl...|                0|                false|     1662645292551|                null|                0|                  null|                   false|                   0|          null|      null|             null|\n",
       "|1003382637287952389|         frankie 🫠|    CherryFranku|2018-06-03 21:07:17|    AAAAAAAAAAAA|#1 mcr stan || ho...|        false|                  67|               128|                29704|               2971|1567874113397481472|2022-09-08 13:54:52|just found out “l...|just found out le...|                0|                false|     1662645292983|                null|                0|                  null|                    null|                   0|          null|      null|             null|\n",
       "| 883319233693663232|    Enigma_xxl20 🖤|        Gabucci1|2017-07-07 13:38:11|            null|DWMTM 🐍11-09-15?...|        false|                 989|               588|                36134|               9635|1567874117373673482|2022-09-08 13:54:53|They won’t teach ...|they won t teach ...|                0|                 true|     1662645293931|                null|                0|                  null|                    null|                   0|          null|      null|             null|\n",
       "|         2505120864|     Amanda Picasso|  AmandaPicasso7|2014-05-18 18:02:28|   United States|   Watch Live Stream|        false|                   1|                52|                    2|                177|1567874124240015360|2022-09-08 13:54:55|Northwest vs Sout...|northwest vs sout...|                0|                false|     1662645295568|                null|                0|                  null|                   false|                   0|          null|      null|             null|\n",
       "+-------------------+-------------------+----------------+-------------------+----------------+--------------------+-------------+--------------------+------------------+---------------------+-------------------+-------------------+-------------------+--------------------+--------------------+-----------------+---------------------+------------------+--------------------+-----------------+----------------------+------------------------+--------------------+--------------+----------+-----------------+"
      ]
     },
     "execution_count": 9,
     "metadata": {},
     "output_type": "execute_result"
    }
   ],
   "source": [
    "#first filter for original tweets using the \"retweeted_status\"\n",
    "original_tweet = tweets_filt.filter(col(\"tweet_retweeted_status\").isNull())\n",
    "\n",
    "original_tweet.limit(10)"
   ]
  },
  {
   "cell_type": "code",
   "execution_count": 10,
   "id": "0ca81fe3-f348-4e22-b943-18610dfadbd0",
   "metadata": {},
   "outputs": [],
   "source": [
    "#identify the most prolific users by original tweet volume\n",
    "prolific_users = original_tweet.groupby(col(\"user_id\"), col(\"user_screen_name\")).agg(count(\"*\").alias(\"original_tweet_count\"))"
   ]
  },
  {
   "cell_type": "code",
   "execution_count": 11,
   "id": "6da0fe8a-0bae-4ded-a971-2492c10d6069",
   "metadata": {},
   "outputs": [
    {
     "name": "stderr",
     "output_type": "stream",
     "text": [
      "[Stage 12:==============================================>          (9 + 2) / 11]\r"
     ]
    },
    {
     "name": "stdout",
     "output_type": "stream",
     "text": [
      "+-------------------+----------------+--------------------+\n",
      "|            user_id|user_screen_name|original_tweet_count|\n",
      "+-------------------+----------------+--------------------+\n",
      "|1128225338775953408|  AndrianyRahmah|                9741|\n",
      "|1422259384525090818|     ana92479235|                9214|\n",
      "|          219401992|   DennisStemmle|                9194|\n",
      "|1463182041147576321|       sport9920|                8221|\n",
      "|           66263683|    NJSchoolJobs|                6858|\n",
      "+-------------------+----------------+--------------------+\n",
      "only showing top 5 rows\n",
      "\n"
     ]
    },
    {
     "name": "stderr",
     "output_type": "stream",
     "text": [
      "                                                                                \r"
     ]
    }
   ],
   "source": [
    "#sort the data in descending order\n",
    "sorted_original_tweet = prolific_users.sort(col(\"original_tweet_count\").desc())\n",
    "\n",
    "sorted_original_tweet.show(5)"
   ]
  },
  {
   "cell_type": "markdown",
   "id": "b100e62f-f30d-41d2-b370-2741747c689a",
   "metadata": {},
   "source": [
    "### Transfer the sorted original tweet to Pandas"
   ]
  },
  {
   "cell_type": "code",
   "execution_count": 12,
   "id": "e9878ef1-3900-41c0-84ad-4ff9146beae4",
   "metadata": {},
   "outputs": [
    {
     "name": "stderr",
     "output_type": "stream",
     "text": [
      "                                                                                \r"
     ]
    },
    {
     "data": {
      "text/html": [
       "<div>\n",
       "<style scoped>\n",
       "    .dataframe tbody tr th:only-of-type {\n",
       "        vertical-align: middle;\n",
       "    }\n",
       "\n",
       "    .dataframe tbody tr th {\n",
       "        vertical-align: top;\n",
       "    }\n",
       "\n",
       "    .dataframe thead th {\n",
       "        text-align: right;\n",
       "    }\n",
       "</style>\n",
       "<table border=\"1\" class=\"dataframe\">\n",
       "  <thead>\n",
       "    <tr style=\"text-align: right;\">\n",
       "      <th></th>\n",
       "      <th>user_id</th>\n",
       "      <th>user_screen_name</th>\n",
       "      <th>original_tweet_count</th>\n",
       "    </tr>\n",
       "  </thead>\n",
       "  <tbody>\n",
       "    <tr>\n",
       "      <th>0</th>\n",
       "      <td>1128225338775953408</td>\n",
       "      <td>AndrianyRahmah</td>\n",
       "      <td>9741</td>\n",
       "    </tr>\n",
       "    <tr>\n",
       "      <th>1</th>\n",
       "      <td>1422259384525090818</td>\n",
       "      <td>ana92479235</td>\n",
       "      <td>9214</td>\n",
       "    </tr>\n",
       "    <tr>\n",
       "      <th>2</th>\n",
       "      <td>219401992</td>\n",
       "      <td>DennisStemmle</td>\n",
       "      <td>9194</td>\n",
       "    </tr>\n",
       "    <tr>\n",
       "      <th>3</th>\n",
       "      <td>1463182041147576321</td>\n",
       "      <td>sport9920</td>\n",
       "      <td>8221</td>\n",
       "    </tr>\n",
       "    <tr>\n",
       "      <th>4</th>\n",
       "      <td>66263683</td>\n",
       "      <td>NJSchoolJobs</td>\n",
       "      <td>6858</td>\n",
       "    </tr>\n",
       "  </tbody>\n",
       "</table>\n",
       "</div>"
      ],
      "text/plain": [
       "               user_id user_screen_name  original_tweet_count\n",
       "0  1128225338775953408   AndrianyRahmah                  9741\n",
       "1  1422259384525090818      ana92479235                  9214\n",
       "2            219401992    DennisStemmle                  9194\n",
       "3  1463182041147576321        sport9920                  8221\n",
       "4             66263683     NJSchoolJobs                  6858"
      ]
     },
     "execution_count": 12,
     "metadata": {},
     "output_type": "execute_result"
    }
   ],
   "source": [
    "pd_prolific_users = sorted_original_tweet.limit(5).toPandas()\n",
    "pd_prolific_users.head(5)"
   ]
  },
  {
   "cell_type": "code",
   "execution_count": null,
   "id": "ce419928-477b-4faf-b6e0-a7c000447ea4",
   "metadata": {},
   "outputs": [
    {
     "name": "stderr",
     "output_type": "stream",
     "text": [
      "                                                                                \r"
     ]
    },
    {
     "data": {
      "text/plain": [
       "13022551"
      ]
     },
     "execution_count": 13,
     "metadata": {},
     "output_type": "execute_result"
    }
   ],
   "source": [
    "original_tweet.count()"
   ]
  },
  {
   "cell_type": "code",
   "execution_count": 14,
   "id": "c45aa356-6c1e-41d3-8106-0e0c230093f7",
   "metadata": {},
   "outputs": [],
   "source": [
    "pd_prolific_users = pd_prolific_users.iloc[::-1]"
   ]
  },
  {
   "cell_type": "code",
   "execution_count": 15,
   "id": "a093dc03-be1e-4efc-8a1e-2797a7b5564f",
   "metadata": {},
   "outputs": [],
   "source": [
    "%matplotlib inline\n",
    "import pandas as pd\n",
    "import matplotlib.pyplot as plt"
   ]
  },
  {
   "cell_type": "code",
   "execution_count": 43,
   "id": "55daff7d-a7dd-4cc3-9f0f-a301f0af513c",
   "metadata": {},
   "outputs": [
    {
     "data": {
      "text/plain": [
       "Text(0, 0.5, 'User Screen Name')"
      ]
     },
     "execution_count": 43,
     "metadata": {},
     "output_type": "execute_result"
    },
    {
     "data": {
      "image/png": "[encoded data removed]",
      "text/plain": [
       "<Figure size 800x600 with 1 Axes>"
      ]
     },
     "metadata": {},
     "output_type": "display_data"
    }
   ],
   "source": [
    "prolific_users_plot = pd_prolific_users.plot(kind='barh',x='user_screen_name', y='original_tweet_count', legend=None, title=\"The most Influential Twitters by Tweet Volume\", figsize=(8, 6))\n",
    "prolific_users_plot.set_xlabel(\"Number of Original Tweets\")\n",
    "prolific_users_plot.set_ylabel(\"User Screen Name\")"
   ]
  },
  {
   "cell_type": "markdown",
   "id": "9ebaf46c-875c-433c-b262-938694cfeceb",
   "metadata": {},
   "source": [
    "## Question 1b: Identify the most prolific / influential Twitterers by  message retweet"
   ]
  },
  {
   "cell_type": "code",
   "execution_count": 22,
   "id": "80dcefa1-2369-4f12-998a-921c8dfb2274",
   "metadata": {},
   "outputs": [],
   "source": [
    "retweet_df = tweets_filt.select(\n",
    "            col('user_id'),\n",
    "            col('user_screen_name'),\n",
    "            col('tweet_retweeted_status.retweet_count').alias('tweet_retweet_count')\n",
    ")"
   ]
  },
  {
   "cell_type": "code",
   "execution_count": 23,
   "id": "04625bde-124e-4762-ad00-5d9a0a86b138",
   "metadata": {},
   "outputs": [
    {
     "name": "stderr",
     "output_type": "stream",
     "text": [
      "                                                                                \r"
     ]
    },
    {
     "data": {
      "text/html": [
       "<table border='1'>\n",
       "<tr><th>user_id</th><th>user_screen_name</th><th>tweet_retweet_count</th></tr>\n",
       "<tr><td>42521044</td><td>HANOVERxFIST</td><td>10589</td></tr>\n",
       "<tr><td>1110538441899630593</td><td>shadowless52</td><td>null</td></tr>\n",
       "<tr><td>2389842944</td><td>michilizzle</td><td>10590</td></tr>\n",
       "<tr><td>3325724597</td><td>jamaica_sports</td><td>null</td></tr>\n",
       "<tr><td>1546804964797960195</td><td>nakroyaaar</td><td>null</td></tr>\n",
       "</table>\n"
      ],
      "text/plain": [
       "+-------------------+----------------+-------------------+\n",
       "|            user_id|user_screen_name|tweet_retweet_count|\n",
       "+-------------------+----------------+-------------------+\n",
       "|           42521044|    HANOVERxFIST|              10589|\n",
       "|1110538441899630593|    shadowless52|               null|\n",
       "|         2389842944|     michilizzle|              10590|\n",
       "|         3325724597|  jamaica_sports|               null|\n",
       "|1546804964797960195|      nakroyaaar|               null|\n",
       "+-------------------+----------------+-------------------+"
      ]
     },
     "execution_count": 23,
     "metadata": {},
     "output_type": "execute_result"
    }
   ],
   "source": [
    "retweet_df.limit(5)"
   ]
  },
  {
   "cell_type": "code",
   "execution_count": 24,
   "id": "96c3b369-c0f7-48b7-9d45-be8cbd717b03",
   "metadata": {},
   "outputs": [],
   "source": [
    "retweet_df.createOrReplaceTempView(\"retweet_data\")"
   ]
  },
  {
   "cell_type": "code",
   "execution_count": 25,
   "id": "de95a665-342e-49b5-abd8-150942bfc353",
   "metadata": {},
   "outputs": [
    {
     "name": "stderr",
     "output_type": "stream",
     "text": [
      "[Stage 36:===================================================>    (21 + 2) / 23]\r"
     ]
    },
    {
     "name": "stdout",
     "output_type": "stream",
     "text": [
      "+-------------------+----------------+-----------+\n",
      "|            user_id|user_screen_name|Avg_retweet|\n",
      "+-------------------+----------------+-----------+\n",
      "| 753350300740706304|  FashionBlock08|   516855.0|\n",
      "|1208845399777304576|  AlexaLockwood2|   516850.0|\n",
      "| 869601053284737024|         savvh12|   516795.0|\n",
      "|1310026646041231361|     TanjeenThat|   516791.0|\n",
      "|1500356369349849089| CrimsonOmbre115|   516779.0|\n",
      "+-------------------+----------------+-----------+\n",
      "only showing top 5 rows\n",
      "\n"
     ]
    },
    {
     "name": "stderr",
     "output_type": "stream",
     "text": [
      "                                                                                \r"
     ]
    }
   ],
   "source": [
    "influential_users = spark.sql(\\\n",
    "                              \"SELECT user_id, user_screen_name, avg(tweet_retweet_count) AS Avg_retweet\\\n",
    "                              FROM retweet_data\\\n",
    "                              GROUP BY user_id, user_screen_name\\\n",
    "                              ORDER BY Avg_retweet DESC\")\n",
    "\n",
    "influential_users.show(5)"
   ]
  },
  {
   "cell_type": "code",
   "execution_count": 26,
   "id": "cf3573d5-eb53-4fb4-98af-4b06c81e3f76",
   "metadata": {},
   "outputs": [
    {
     "name": "stderr",
     "output_type": "stream",
     "text": [
      "                                                                                \r"
     ]
    },
    {
     "data": {
      "text/html": [
       "<div>\n",
       "<style scoped>\n",
       "    .dataframe tbody tr th:only-of-type {\n",
       "        vertical-align: middle;\n",
       "    }\n",
       "\n",
       "    .dataframe tbody tr th {\n",
       "        vertical-align: top;\n",
       "    }\n",
       "\n",
       "    .dataframe thead th {\n",
       "        text-align: right;\n",
       "    }\n",
       "</style>\n",
       "<table border=\"1\" class=\"dataframe\">\n",
       "  <thead>\n",
       "    <tr style=\"text-align: right;\">\n",
       "      <th></th>\n",
       "      <th>user_id</th>\n",
       "      <th>user_screen_name</th>\n",
       "      <th>Avg_retweet</th>\n",
       "    </tr>\n",
       "  </thead>\n",
       "  <tbody>\n",
       "    <tr>\n",
       "      <th>0</th>\n",
       "      <td>753350300740706304</td>\n",
       "      <td>FashionBlock08</td>\n",
       "      <td>516855.0</td>\n",
       "    </tr>\n",
       "    <tr>\n",
       "      <th>1</th>\n",
       "      <td>1208845399777304576</td>\n",
       "      <td>AlexaLockwood2</td>\n",
       "      <td>516850.0</td>\n",
       "    </tr>\n",
       "    <tr>\n",
       "      <th>2</th>\n",
       "      <td>869601053284737024</td>\n",
       "      <td>savvh12</td>\n",
       "      <td>516795.0</td>\n",
       "    </tr>\n",
       "    <tr>\n",
       "      <th>3</th>\n",
       "      <td>1310026646041231361</td>\n",
       "      <td>TanjeenThat</td>\n",
       "      <td>516791.0</td>\n",
       "    </tr>\n",
       "    <tr>\n",
       "      <th>4</th>\n",
       "      <td>1500356369349849089</td>\n",
       "      <td>CrimsonOmbre115</td>\n",
       "      <td>516779.0</td>\n",
       "    </tr>\n",
       "  </tbody>\n",
       "</table>\n",
       "</div>"
      ],
      "text/plain": [
       "               user_id user_screen_name  Avg_retweet\n",
       "0   753350300740706304   FashionBlock08     516855.0\n",
       "1  1208845399777304576   AlexaLockwood2     516850.0\n",
       "2   869601053284737024          savvh12     516795.0\n",
       "3  1310026646041231361      TanjeenThat     516791.0\n",
       "4  1500356369349849089  CrimsonOmbre115     516779.0"
      ]
     },
     "execution_count": 26,
     "metadata": {},
     "output_type": "execute_result"
    }
   ],
   "source": [
    "pd_influential_users = influential_users.limit(5).toPandas()\n",
    "pd_influential_users.head(5)"
   ]
  },
  {
   "cell_type": "code",
   "execution_count": 27,
   "id": "8dc6fbc0-1186-4c0b-9626-36e4f6a5e21e",
   "metadata": {},
   "outputs": [],
   "source": [
    "pd_influential_users = pd_influential_users.iloc[::-1]"
   ]
  },
  {
   "cell_type": "code",
   "execution_count": 42,
   "id": "99bb9864-e1d3-443c-92c8-d170a58d2c42",
   "metadata": {},
   "outputs": [
    {
     "data": {
      "text/plain": [
       "Text(0, 0.5, 'User Screen Name')"
      ]
     },
     "execution_count": 42,
     "metadata": {},
     "output_type": "execute_result"
    },
    {
     "data": {
      "image/png": "[encoded data removed]",
      "text/plain": [
       "<Figure size 800x600 with 1 Axes>"
      ]
     },
     "metadata": {},
     "output_type": "display_data"
    }
   ],
   "source": [
    "influential_users_plot = pd_influential_users.plot(kind='barh',x='user_screen_name', y='Avg_retweet', legend=None, title=\"The most Influential Twitters by Average Number of Retweet\", figsize=(8, 6))\n",
    "influential_users_plot.set_xlabel(\"Average Number of Retweet\")\n",
    "influential_users_plot.set_ylabel(\"User Screen Name\")"
   ]
  },
  {
   "cell_type": "markdown",
   "id": "aed597d1-9ac3-45b8-bc2f-8eb83274089b",
   "metadata": {},
   "source": [
    "## Question 1c: Who are these Twitterers (government entities / universities / schools / nonprofit organizations / news outlets / social media influencers / someone else)"
   ]
  },
  {
   "cell_type": "code",
   "execution_count": 29,
   "id": "5971d510-9063-45e9-8985-8a04be8390dc",
   "metadata": {},
   "outputs": [],
   "source": [
    "# List of keywords for each category\n",
    "is_government = [\"government\", \"gov\", \"agency\", \"department\", \"federal\", \"state\", \"local\", \"white house\"]\n",
    "is_university = [\"university\", \"college\", \"research\", \"academy\", \"school\"]\n",
    "is_school = [\"public school\", \"students\", \"elementary school\", \"middle school\", \"high school\"]\n",
    "is_nonprofit = [\"nonprofit\", \"charity\", \"foundation\", \"ngo\", \"donate\"]\n",
    "is_news = [\"news\", \"journal\", \"media\", \"journalist\", \"reporter\", \"times\", \"press\", \"newspaper\", \"magazine\", \"broadcast\"]"
   ]
  },
  {
   "cell_type": "code",
   "execution_count": 30,
   "id": "d4d17016-f97b-49cd-abc7-7b90d034b522",
   "metadata": {},
   "outputs": [],
   "source": [
    "gov_pattern = \"|\".join(is_government)\n",
    "uni_pattern = \"|\".join(is_university)\n",
    "sch_pattern = \"|\".join(is_school)\n",
    "ngo_pattern = \"|\".join(is_nonprofit)\n",
    "news_pattern = \"|\".join(is_news)"
   ]
  },
  {
   "cell_type": "code",
   "execution_count": 31,
   "id": "b04aeb9c-199c-44e7-9272-17d864cf9ac7",
   "metadata": {},
   "outputs": [],
   "source": [
    "#create a new column that identifies the user based on keywords in the user name and description\n",
    "modified_tweets = tweets_filt.withColumn(\"user_category\", \n",
    "     when(lower(col(\"user_name\")).rlike(gov_pattern) | \n",
    "         lower(col(\"user_description\")).rlike(gov_pattern), \"Government Entity\")\n",
    "    .when(lower(col(\"user_name\")).rlike(uni_pattern) | \n",
    "          lower(col(\"user_description\")).rlike(uni_pattern), \"University\")\n",
    "    .when(lower(col(\"user_name\")).rlike(sch_pattern) | \n",
    "          lower(col(\"user_description\")).rlike(sch_pattern), \"School\")                                      \n",
    "    .when(lower(col(\"user_name\")).rlike(ngo_pattern) | \n",
    "          lower(col(\"user_description\")).rlike(ngo_pattern), \"Nonprofit Organization\")\n",
    "    .when(lower(col(\"user_name\")).rlike(news_pattern) | \n",
    "          lower(col(\"user_description\")).rlike(news_pattern), \"News Outlet\")\n",
    "    .when(col(\"user_followers_count\") >= 10000, \"Social Media Influencer\")\n",
    "    .otherwise(\"Someone Else\"))"
   ]
  },
  {
   "cell_type": "code",
   "execution_count": 32,
   "id": "d8370f2c-c5fe-402d-8599-8d6f3b52df2a",
   "metadata": {},
   "outputs": [
    {
     "name": "stderr",
     "output_type": "stream",
     "text": [
      "                                                                                \r"
     ]
    },
    {
     "data": {
      "text/html": [
       "<table border='1'>\n",
       "<tr><th>user_id</th><th>user_name</th><th>user_screen_name</th><th>user_created_at</th><th>user_location</th><th>user_description</th><th>user_verified</th><th>user_followers_count</th><th>user_friends_count</th><th>user_favourites_count</th><th>user_statuses_count</th><th>tweet_id_str</th><th>tweet_created_at</th><th>tweet_text</th><th>text</th><th>tweet_quote_count</th><th>tweet_is_quote_status</th><th>tweet_timestamp_ms</th><th>tweet_retweeted_from</th><th>tweet_reply_count</th><th>tweet_retweeted_status</th><th>tweet_possibly_sensitive</th><th>tweet_favorite_count</th><th>tweet_location</th><th>tweet_city</th><th>tweet_coordinates</th><th>user_category</th></tr>\n",
       "<tr><td>42521044</td><td>Dr. Henry Killinger</td><td>HANOVERxFIST</td><td>2009-05-26 00:16:10</td><td>Tamriel </td><td>King of Suck Ball...</td><td>false</td><td>176</td><td>268</td><td>22693</td><td>20902</td><td>1567874059999887362</td><td>2022-09-08 13:54:40</td><td>college group pro...</td><td>rt hybridoriginal...</td><td>0</td><td>false</td><td>1662645280252</td><td>HybridOriginal_</td><td>0</td><td>{null, Wed Sep 07...</td><td>false</td><td>0</td><td>null</td><td>null</td><td>null</td><td>Someone Else</td></tr>\n",
       "<tr><td>1110538441899630593</td><td>PM Imran Khan</td><td>shadowless52</td><td>2019-03-26 13:46:12</td><td>🇵🇰Pakistan </td><td>How glorious a gr...</td><td>false</td><td>267</td><td>1184</td><td>38955</td><td>17415</td><td>1567874061262266368</td><td>2022-09-08 13:54:40</td><td>@PakNeuro And the...</td><td>pakneuro and the ...</td><td>0</td><td>false</td><td>1662645280553</td><td>null</td><td>0</td><td>null</td><td>null</td><td>0</td><td>null</td><td>null</td><td>null</td><td>Someone Else</td></tr>\n",
       "<tr><td>2389842944</td><td>grape</td><td>michilizzle</td><td>2014-03-14 21:00:32</td><td>South Florida</td><td>YHLQMDLG/XO PATRI...</td><td>false</td><td>1080</td><td>920</td><td>23723</td><td>13043</td><td>1567874061778173955</td><td>2022-09-08 13:54:40</td><td>college group pro...</td><td>rt hybridoriginal...</td><td>0</td><td>false</td><td>1662645280676</td><td>HybridOriginal_</td><td>0</td><td>{null, Wed Sep 07...</td><td>false</td><td>0</td><td>null</td><td>null</td><td>null</td><td>Someone Else</td></tr>\n",
       "<tr><td>3325724597</td><td>All Sports Jamaica</td><td>jamaica_sports</td><td>2015-06-14 22:35:38</td><td>null</td><td>Follow us on Inst...</td><td>false</td><td>147</td><td>503</td><td>1231</td><td>2227</td><td>1567874061564317699</td><td>2022-09-08 13:54:40</td><td>SBF Matchday 1 Zo...</td><td>sbf matchday 1 zo...</td><td>0</td><td>false</td><td>1662645280625</td><td>ISSASportsJA @Iss...</td><td>0</td><td>null</td><td>false</td><td>0</td><td>null</td><td>null</td><td>null</td><td>Someone Else</td></tr>\n",
       "<tr><td>1546804964797960195</td><td>mishaaa</td><td>nakroyaaar</td><td>2022-07-12 10:33:57</td><td>Multan, Pakistan</td><td>kesa sama hai</td><td>false</td><td>31</td><td>35</td><td>488</td><td>506</td><td>1567874062776696832</td><td>2022-09-08 13:54:40</td><td>@sugar_melon_ @ra...</td><td>sugar_melon_ rahi...</td><td>0</td><td>false</td><td>1662645280914</td><td>rahimanasirr been...</td><td>0</td><td>null</td><td>null</td><td>0</td><td>null</td><td>null</td><td>null</td><td>Someone Else</td></tr>\n",
       "</table>\n"
      ],
      "text/plain": [
       "+-------------------+--------------------+----------------+-------------------+-------------+--------------------+-------------+--------------------+------------------+---------------------+-------------------+-------------------+-------------------+--------------------+--------------------+-----------------+---------------------+------------------+--------------------+-----------------+----------------------+------------------------+--------------------+--------------+----------+-----------------+-------------+\n",
       "|            user_id|           user_name|user_screen_name|    user_created_at|user_location|    user_description|user_verified|user_followers_count|user_friends_count|user_favourites_count|user_statuses_count|       tweet_id_str|   tweet_created_at|          tweet_text|                text|tweet_quote_count|tweet_is_quote_status|tweet_timestamp_ms|tweet_retweeted_from|tweet_reply_count|tweet_retweeted_status|tweet_possibly_sensitive|tweet_favorite_count|tweet_location|tweet_city|tweet_coordinates|user_category|\n",
       "+-------------------+--------------------+----------------+-------------------+-------------+--------------------+-------------+--------------------+------------------+---------------------+-------------------+-------------------+-------------------+--------------------+--------------------+-----------------+---------------------+------------------+--------------------+-----------------+----------------------+------------------------+--------------------+--------------+----------+-----------------+-------------+\n",
       "|         3788227756|     Katie (she/her)|      KBWilson07|2015-09-27 02:22:40|         null|ELA Teacher * Rea...|        false|                 333|               340|                 7496|               4060|1583604726964228096|2022-10-21 23:42:43|@k8roulette2 I lo...|k8roulette2 i lov...|                0|                false|     1666395763518|                null|                0|                  null|                    null|                   0|          null|      null|             null| Someone Else|\n",
       "|         3346951119|    alejandro ussery| senor_alejandro|2015-06-26 22:27:59|    Amurrica |a nobody that nob...|        false|                 504|              5001|               173908|             109987|1583604731167281153|2022-10-21 23:42:44|One of these guys...|rt elimanning one...|                0|                false|     1666395764520|          EliManning|                0|  {null, Fri Oct 21...|                   false|                   0|          null|      null|             null| Someone Else|\n",
       "|          109375565|J🎃hn FWRIGHT‼️ ?...|    BadLibrarian|2010-01-28 21:17:37| Victoria, BC|John Wright - act...|        false|                1747|              5000|               242347|             192325|1583604732878544896|2022-10-21 23:42:44|How can #Dalhousi...|rt cupe3912 how c...|                0|                false|     1666395764928|            CUPE3912|                0|  {null, Fri Oct 21...|                    null|                   0|          null|      null|             null| Someone Else|\n",
       "|1244725699858124802|Joanne Rey Neal, ...|   JoanneReyNeal|2020-03-30 20:38:38|United States|(she/they) An aut...|        false|                 239|               194|               197407|               1831|1583604733226647552|2022-10-21 23:42:45|A Michigan high s...|rt nbcnews a mich...|                0|                false|     1666395765011|             NBCNews|                0|  {null, Tue Oct 18...|                    null|                   0|          null|      null|             null| Someone Else|\n",
       "|          369001879| Sun Varsity Letters|      SunVarsity|2011-09-06 16:02:13|    Baltimore|Delivering Maryla...|         true|                5503|               114|                    2|              17047|1583604735374159873|2022-10-21 23:42:45|High school sport...|high school sport...|                0|                false|     1666395765523|                null|                0|                  null|                   false|                   0|          null|      null|             null|   University|\n",
       "+-------------------+--------------------+----------------+-------------------+-------------+--------------------+-------------+--------------------+------------------+---------------------+-------------------+-------------------+-------------------+--------------------+--------------------+-----------------+---------------------+------------------+--------------------+-----------------+----------------------+------------------------+--------------------+--------------+----------+-----------------+-------------+"
      ]
     },
     "execution_count": 32,
     "metadata": {},
     "output_type": "execute_result"
    }
   ],
   "source": [
    "modified_tweets.limit(5)"
   ]
  },
  {
   "cell_type": "code",
   "execution_count": null,
   "id": "5ca95bbf-c8a4-4897-b8d2-6b35852b48c1",
   "metadata": {},
   "outputs": [
    {
     "name": "stderr",
     "output_type": "stream",
     "text": [
      "                                                                                \r"
     ]
    }
   ],
   "source": [
    "#save the filtered tweet into my bucket in a parquet format for easier loading\n",
    "modified_tweets.write.format(\"parquet\").\\\n",
    "mode('overwrite').\\\n",
    "save('gs://msca-bdp-students-bucket/shared_data/mariamoluwatobi/categorised_twitterers')"
   ]
  },
  {
   "cell_type": "code",
   "execution_count": 34,
   "id": "ea0c974e-756b-4b04-a902-0dc629c9565c",
   "metadata": {},
   "outputs": [],
   "source": [
    "unique_organization = modified_tweets.dropDuplicates([\"user_id\"])"
   ]
  },
  {
   "cell_type": "code",
   "execution_count": 35,
   "id": "65ce101b-1279-4c5e-a53d-dd0f297200e6",
   "metadata": {},
   "outputs": [
    {
     "name": "stderr",
     "output_type": "stream",
     "text": [
      "                                                                                \r"
     ]
    },
    {
     "data": {
      "text/plain": [
       "11023363"
      ]
     },
     "execution_count": 35,
     "metadata": {},
     "output_type": "execute_result"
    }
   ],
   "source": [
    "unique_organization.count()"
   ]
  },
  {
   "cell_type": "code",
   "execution_count": 36,
   "id": "a0a23db3-4e7e-4a79-b86f-b0f7ac049675",
   "metadata": {},
   "outputs": [],
   "source": [
    "#use the \"createOrReplaceTempView\" to store my dataframe in order to run SparkSQL statements against the data\n",
    "unique_organization.createOrReplaceTempView(\"unique_data\")"
   ]
  },
  {
   "cell_type": "code",
   "execution_count": 37,
   "id": "43a734e0-0914-48c1-b2fc-c58f759f939e",
   "metadata": {},
   "outputs": [],
   "source": [
    "twitterers_description = spark.sql(\\\n",
    "                              \"SELECT user_category, count(*) AS total_twitterers\\\n",
    "                              FROM unique_data\\\n",
    "                              GROUP BY user_category\\\n",
    "                              ORDER BY total_twitterers DESC\")"
   ]
  },
  {
   "cell_type": "code",
   "execution_count": 38,
   "id": "a5c833e5-c01b-4db0-bc34-82afebf64b22",
   "metadata": {},
   "outputs": [
    {
     "name": "stderr",
     "output_type": "stream",
     "text": [
      "                                                                                \r"
     ]
    },
    {
     "data": {
      "text/html": [
       "<div>\n",
       "<style scoped>\n",
       "    .dataframe tbody tr th:only-of-type {\n",
       "        vertical-align: middle;\n",
       "    }\n",
       "\n",
       "    .dataframe tbody tr th {\n",
       "        vertical-align: top;\n",
       "    }\n",
       "\n",
       "    .dataframe thead th {\n",
       "        text-align: right;\n",
       "    }\n",
       "</style>\n",
       "<table border=\"1\" class=\"dataframe\">\n",
       "  <thead>\n",
       "    <tr style=\"text-align: right;\">\n",
       "      <th></th>\n",
       "      <th>user_category</th>\n",
       "      <th>total_twitterers</th>\n",
       "    </tr>\n",
       "  </thead>\n",
       "  <tbody>\n",
       "    <tr>\n",
       "      <th>0</th>\n",
       "      <td>Someone Else</td>\n",
       "      <td>9760162</td>\n",
       "    </tr>\n",
       "    <tr>\n",
       "      <th>1</th>\n",
       "      <td>University</td>\n",
       "      <td>479131</td>\n",
       "    </tr>\n",
       "    <tr>\n",
       "      <th>2</th>\n",
       "      <td>News Outlet</td>\n",
       "      <td>326442</td>\n",
       "    </tr>\n",
       "    <tr>\n",
       "      <th>3</th>\n",
       "      <td>Government Entity</td>\n",
       "      <td>231351</td>\n",
       "    </tr>\n",
       "    <tr>\n",
       "      <th>4</th>\n",
       "      <td>Social Media Influencer</td>\n",
       "      <td>150409</td>\n",
       "    </tr>\n",
       "    <tr>\n",
       "      <th>5</th>\n",
       "      <td>Nonprofit Organization</td>\n",
       "      <td>59008</td>\n",
       "    </tr>\n",
       "    <tr>\n",
       "      <th>6</th>\n",
       "      <td>School</td>\n",
       "      <td>16860</td>\n",
       "    </tr>\n",
       "  </tbody>\n",
       "</table>\n",
       "</div>"
      ],
      "text/plain": [
       "             user_category  total_twitterers\n",
       "0             Someone Else           9760162\n",
       "1               University            479131\n",
       "2              News Outlet            326442\n",
       "3        Government Entity            231351\n",
       "4  Social Media Influencer            150409\n",
       "5   Nonprofit Organization             59008\n",
       "6                   School             16860"
      ]
     },
     "execution_count": 38,
     "metadata": {},
     "output_type": "execute_result"
    }
   ],
   "source": [
    "pd_twitterers_description = twitterers_description.limit(100).toPandas()\n",
    "pd_twitterers_description.head(10)"
   ]
  },
  {
   "cell_type": "code",
   "execution_count": 39,
   "id": "c79eba95-1415-412e-8e65-8087d6412727",
   "metadata": {},
   "outputs": [],
   "source": [
    "pd_twitterers_description = pd_twitterers_description.iloc[::-1]"
   ]
  },
  {
   "cell_type": "code",
   "execution_count": 41,
   "id": "d65ded60-65f2-4463-b691-d509480236bc",
   "metadata": {},
   "outputs": [
    {
     "data": {
      "text/plain": [
       "Text(0, 0.5, 'The User Category')"
      ]
     },
     "execution_count": 41,
     "metadata": {},
     "output_type": "execute_result"
    },
    {
     "data": {
      "image/png": "[encoded data removed]",
      "text/plain": [
       "<Figure size 800x600 with 1 Axes>"
      ]
     },
     "metadata": {},
     "output_type": "display_data"
    }
   ],
   "source": [
    "twitterers_description_plot = pd_twitterers_description.plot(kind='barh',x='user_category', y='total_twitterers', legend=None, title=\"The Description of Twitterers\", figsize=(8, 6))\n",
    "twitterers_description_plot.set_xlabel(\"Total Twitterers\")\n",
    "twitterers_description_plot.set_ylabel(\"The User Category\")"
   ]
  },
  {
   "cell_type": "markdown",
   "id": "fd00403e-c62d-4c08-addd-70b3d55f215d",
   "metadata": {},
   "source": [
    "## Question 1d: Visualize the distribution of tweet / retweet volume by Twitterers and types of organizations"
   ]
  },
  {
   "cell_type": "markdown",
   "id": "381e43b9-e4de-431d-b267-c08ce836af78",
   "metadata": {},
   "source": [
    "### Distribution of tweet by Twitterers and types of organizations"
   ]
  },
  {
   "cell_type": "code",
   "execution_count": 44,
   "id": "5d382cdf-1dbb-439d-a6c8-68ed1184933a",
   "metadata": {},
   "outputs": [],
   "source": [
    "#use the \"createOrReplaceTempView\" to store my dataframe in order to run SparkSQL statements against the data\n",
    "modified_tweets.createOrReplaceTempView(\"modified_data\")"
   ]
  },
  {
   "cell_type": "code",
   "execution_count": 45,
   "id": "d8786901-86a9-4af5-8a17-0eb8b40c76a3",
   "metadata": {},
   "outputs": [],
   "source": [
    "organization_distribution = spark.sql(\\\n",
    "                              \"SELECT user_category, count(*) AS total_tweets\\\n",
    "                              FROM modified_data\\\n",
    "                              GROUP BY user_category\\\n",
    "                              ORDER BY total_tweets DESC\")"
   ]
  },
  {
   "cell_type": "code",
   "execution_count": 49,
   "id": "723871d0-2ecd-467a-a537-170dbd9d5026",
   "metadata": {},
   "outputs": [
    {
     "name": "stderr",
     "output_type": "stream",
     "text": [
      "                                                                                \r"
     ]
    },
    {
     "data": {
      "text/html": [
       "<div>\n",
       "<style scoped>\n",
       "    .dataframe tbody tr th:only-of-type {\n",
       "        vertical-align: middle;\n",
       "    }\n",
       "\n",
       "    .dataframe tbody tr th {\n",
       "        vertical-align: top;\n",
       "    }\n",
       "\n",
       "    .dataframe thead th {\n",
       "        text-align: right;\n",
       "    }\n",
       "</style>\n",
       "<table border=\"1\" class=\"dataframe\">\n",
       "  <thead>\n",
       "    <tr style=\"text-align: right;\">\n",
       "      <th></th>\n",
       "      <th>user_category</th>\n",
       "      <th>total_tweets</th>\n",
       "    </tr>\n",
       "  </thead>\n",
       "  <tbody>\n",
       "    <tr>\n",
       "      <th>0</th>\n",
       "      <td>Someone Else</td>\n",
       "      <td>29954803</td>\n",
       "    </tr>\n",
       "    <tr>\n",
       "      <th>1</th>\n",
       "      <td>University</td>\n",
       "      <td>2501457</td>\n",
       "    </tr>\n",
       "    <tr>\n",
       "      <th>2</th>\n",
       "      <td>News Outlet</td>\n",
       "      <td>1626260</td>\n",
       "    </tr>\n",
       "    <tr>\n",
       "      <th>3</th>\n",
       "      <td>Government Entity</td>\n",
       "      <td>1129727</td>\n",
       "    </tr>\n",
       "    <tr>\n",
       "      <th>4</th>\n",
       "      <td>Social Media Influencer</td>\n",
       "      <td>1080789</td>\n",
       "    </tr>\n",
       "    <tr>\n",
       "      <th>5</th>\n",
       "      <td>Nonprofit Organization</td>\n",
       "      <td>207936</td>\n",
       "    </tr>\n",
       "    <tr>\n",
       "      <th>6</th>\n",
       "      <td>School</td>\n",
       "      <td>99102</td>\n",
       "    </tr>\n",
       "  </tbody>\n",
       "</table>\n",
       "</div>"
      ],
      "text/plain": [
       "             user_category  total_tweets\n",
       "0             Someone Else      29954803\n",
       "1               University       2501457\n",
       "2              News Outlet       1626260\n",
       "3        Government Entity       1129727\n",
       "4  Social Media Influencer       1080789\n",
       "5   Nonprofit Organization        207936\n",
       "6                   School         99102"
      ]
     },
     "execution_count": 49,
     "metadata": {},
     "output_type": "execute_result"
    }
   ],
   "source": [
    "pd_organization_distribution = organization_distribution.limit(10).toPandas()\n",
    "pd_organization_distribution.head(10)"
   ]
  },
  {
   "cell_type": "code",
   "execution_count": 47,
   "id": "0e6cc73f-e059-4578-9779-8a341eebc8f8",
   "metadata": {},
   "outputs": [],
   "source": [
    "pd_organization_distribution = pd_organization_distribution.iloc[::-1]"
   ]
  },
  {
   "cell_type": "code",
   "execution_count": 48,
   "id": "ab568bc5-df58-4e12-939c-ed4a7392c98e",
   "metadata": {
    "tags": []
   },
   "outputs": [
    {
     "data": {
      "text/plain": [
       "Text(0, 0.5, 'Type of Organization')"
      ]
     },
     "execution_count": 48,
     "metadata": {},
     "output_type": "execute_result"
    },
    {
     "data": {
      "image/png": "[encoded data removed]",
      "text/plain": [
       "<Figure size 800x600 with 1 Axes>"
      ]
     },
     "metadata": {},
     "output_type": "display_data"
    }
   ],
   "source": [
    "organization_distribution_plot = pd_organization_distribution.plot(kind='barh',x='user_category', y='total_tweets', legend=None, title=\"The Description of Twitterers\", figsize=(8, 6))\n",
    "organization_distribution_plot.set_xlabel(\"Total Tweets\")\n",
    "organization_distribution_plot.set_ylabel(\"Type of Organization\")"
   ]
  },
  {
   "cell_type": "markdown",
   "id": "c95f9f23-99e1-434c-9c12-72d70a052f34",
   "metadata": {},
   "source": [
    "### Distribution of retweet by Twitters and types of organization"
   ]
  },
  {
   "cell_type": "code",
   "execution_count": 50,
   "id": "e8d46967-0e81-4c9d-842e-d93287beabb6",
   "metadata": {},
   "outputs": [],
   "source": [
    "modified_df = modified_tweets.select(\n",
    "            col('user_id'),\n",
    "            col('user_screen_name'),\n",
    "            col('user_category'),\n",
    "            col('tweet_retweeted_status.retweet_count').alias('tweet_retweet_count')\n",
    ")"
   ]
  },
  {
   "cell_type": "code",
   "execution_count": 51,
   "id": "532c95fe-deff-4683-8306-3460a25983b4",
   "metadata": {},
   "outputs": [],
   "source": [
    "#use the \"createOrReplaceTempView\" to store my dataframe in order to run SparkSQL statements against the data\n",
    "modified_df.createOrReplaceTempView(\"modified_category\")"
   ]
  },
  {
   "cell_type": "code",
   "execution_count": 52,
   "id": "3633a9c1-71d9-4e57-b9b1-edd831cde9d8",
   "metadata": {},
   "outputs": [],
   "source": [
    "organization_distribution2 = spark.sql(\\\n",
    "                          \"SELECT user_category, avg(tweet_retweet_count) AS Avg_retweet\\\n",
    "                           FROM modified_category\\\n",
    "                           GROUP BY user_category\\\n",
    "                           ORDER BY Avg_retweet DESC\")"
   ]
  },
  {
   "cell_type": "code",
   "execution_count": 53,
   "id": "2a1b8cb8-566b-4960-be46-64c0b2a5fd1c",
   "metadata": {},
   "outputs": [
    {
     "name": "stderr",
     "output_type": "stream",
     "text": [
      "                                                                                \r"
     ]
    },
    {
     "data": {
      "text/html": [
       "<div>\n",
       "<style scoped>\n",
       "    .dataframe tbody tr th:only-of-type {\n",
       "        vertical-align: middle;\n",
       "    }\n",
       "\n",
       "    .dataframe tbody tr th {\n",
       "        vertical-align: top;\n",
       "    }\n",
       "\n",
       "    .dataframe thead th {\n",
       "        text-align: right;\n",
       "    }\n",
       "</style>\n",
       "<table border=\"1\" class=\"dataframe\">\n",
       "  <thead>\n",
       "    <tr style=\"text-align: right;\">\n",
       "      <th></th>\n",
       "      <th>user_category</th>\n",
       "      <th>Avg_retweet</th>\n",
       "    </tr>\n",
       "  </thead>\n",
       "  <tbody>\n",
       "    <tr>\n",
       "      <th>0</th>\n",
       "      <td>Someone Else</td>\n",
       "      <td>2201.204698</td>\n",
       "    </tr>\n",
       "    <tr>\n",
       "      <th>1</th>\n",
       "      <td>Nonprofit Organization</td>\n",
       "      <td>1679.104819</td>\n",
       "    </tr>\n",
       "    <tr>\n",
       "      <th>2</th>\n",
       "      <td>News Outlet</td>\n",
       "      <td>1520.477184</td>\n",
       "    </tr>\n",
       "    <tr>\n",
       "      <th>3</th>\n",
       "      <td>Government Entity</td>\n",
       "      <td>1122.648605</td>\n",
       "    </tr>\n",
       "    <tr>\n",
       "      <th>4</th>\n",
       "      <td>Social Media Influencer</td>\n",
       "      <td>955.182815</td>\n",
       "    </tr>\n",
       "    <tr>\n",
       "      <th>5</th>\n",
       "      <td>University</td>\n",
       "      <td>580.625220</td>\n",
       "    </tr>\n",
       "    <tr>\n",
       "      <th>6</th>\n",
       "      <td>School</td>\n",
       "      <td>269.752437</td>\n",
       "    </tr>\n",
       "  </tbody>\n",
       "</table>\n",
       "</div>"
      ],
      "text/plain": [
       "             user_category  Avg_retweet\n",
       "0             Someone Else  2201.204698\n",
       "1   Nonprofit Organization  1679.104819\n",
       "2              News Outlet  1520.477184\n",
       "3        Government Entity  1122.648605\n",
       "4  Social Media Influencer   955.182815\n",
       "5               University   580.625220\n",
       "6                   School   269.752437"
      ]
     },
     "execution_count": 53,
     "metadata": {},
     "output_type": "execute_result"
    }
   ],
   "source": [
    "pd_organization_distribution2 = organization_distribution2.toPandas()\n",
    "pd_organization_distribution2.head(7)"
   ]
  },
  {
   "cell_type": "code",
   "execution_count": 54,
   "id": "7685b5b9-060e-41ab-b9de-af4b7a3db3c0",
   "metadata": {},
   "outputs": [],
   "source": [
    "pd_organization_distribution2 = pd_organization_distribution2.iloc[::-1]"
   ]
  },
  {
   "cell_type": "code",
   "execution_count": 55,
   "id": "80fadc42-cafe-454e-8471-6be8bbb966e8",
   "metadata": {},
   "outputs": [
    {
     "data": {
      "text/plain": [
       "Text(0, 0.5, 'Type of Organization')"
      ]
     },
     "execution_count": 55,
     "metadata": {},
     "output_type": "execute_result"
    },
    {
     "data": {
      "image/png": "[encoded data removed]",
      "text/plain": [
       "<Figure size 800x600 with 1 Axes>"
      ]
     },
     "metadata": {},
     "output_type": "display_data"
    }
   ],
   "source": [
    "# Create a bar plot\n",
    "pd_organization_distribution2_plot = pd_organization_distribution2.plot(kind='barh',x='user_category', y='Avg_retweet', legend=None, title=\"Distribution of Retweet by Types of Organization\", figsize=(8, 6))\n",
    "pd_organization_distribution2_plot.set_xlabel(\"Average Retweet\")\n",
    "pd_organization_distribution2_plot.set_ylabel(\"Type of Organization\")"
   ]
  },
  {
   "cell_type": "code",
   "execution_count": null,
   "id": "3b3d2f25-4f04-46cb-b439-c5c46a6ddeb6",
   "metadata": {},
   "outputs": [],
   "source": []
  },
  {
   "cell_type": "code",
   "execution_count": null,
   "id": "785afbd0-ef3d-409d-8da5-76ac56655af1",
   "metadata": {},
   "outputs": [],
   "source": []
  },
  {
   "cell_type": "markdown",
   "id": "1fa5f158-c19b-4028-9a67-f0b038581661",
   "metadata": {},
   "source": [
    "## Further analysis to get the category of the twitters"
   ]
  },
  {
   "cell_type": "code",
   "execution_count": null,
   "id": "a35d7950-02fa-480b-875a-518d11e522c0",
   "metadata": {},
   "outputs": [],
   "source": [
    "user_screen_name = \"sport9920\"\n",
    "user_category = modified_tweets.filter(modified_tweets.user_name == user_screen_name).select(\"user_category\").collect()[0][0]\n",
    "print(\"User category for {} is {}\".format(user_screen_name, user_category))"
   ]
  },
  {
   "cell_type": "markdown",
   "id": "d25d7ee8-585a-4edc-a5f2-1b9b2fe1b036",
   "metadata": {},
   "source": [
    "## Q1a"
   ]
  },
  {
   "cell_type": "code",
   "execution_count": 56,
   "id": "e1ed4425-d261-45c8-ab5b-4554616f4613",
   "metadata": {},
   "outputs": [],
   "source": [
    "#identify the most prolific users by original tweet volume\n",
    "prolific_users2 = modified_tweets.groupby(col(\"user_id\"), col(\"user_screen_name\"), col(\"user_category\")).agg(count(\"*\").alias(\"original_tweet_count\"))"
   ]
  },
  {
   "cell_type": "code",
   "execution_count": 57,
   "id": "54e672b2-eee4-4f29-a036-3d66887d137d",
   "metadata": {},
   "outputs": [
    {
     "name": "stderr",
     "output_type": "stream",
     "text": [
      "[Stage 75:=====================================================>  (24 + 1) / 25]\r"
     ]
    },
    {
     "name": "stdout",
     "output_type": "stream",
     "text": [
      "+-------------------+----------------+-------------+--------------------+\n",
      "|            user_id|user_screen_name|user_category|original_tweet_count|\n",
      "+-------------------+----------------+-------------+--------------------+\n",
      "|1128225338775953408|  AndrianyRahmah|  News Outlet|                9741|\n",
      "|          219401992|   DennisStemmle|   University|                9194|\n",
      "|1463182041147576321|       sport9920| Someone Else|                8227|\n",
      "|           66263683|    NJSchoolJobs|   University|                6886|\n",
      "|1576939116230455296|    dini92276801| Someone Else|                6721|\n",
      "|1577029442488061953|        TeriWini| Someone Else|                6560|\n",
      "|1422259384525090818|     ana92479235|   University|                6506|\n",
      "| 879496394691805184|    EssayPaperUK| Someone Else|                6249|\n",
      "|1295715136141963267|  education_24x7| Someone Else|                6229|\n",
      "|1582053513357537293|       qiopalika| Someone Else|                6197|\n",
      "+-------------------+----------------+-------------+--------------------+\n",
      "only showing top 10 rows\n",
      "\n"
     ]
    },
    {
     "name": "stderr",
     "output_type": "stream",
     "text": [
      "                                                                                \r"
     ]
    }
   ],
   "source": [
    "#sort the data in descending order\n",
    "sorted_original_tweet2 = prolific_users2.sort(col(\"original_tweet_count\").desc())\n",
    "\n",
    "sorted_original_tweet2.show(10)"
   ]
  },
  {
   "cell_type": "markdown",
   "id": "5a4f5651-7d7b-4abf-8329-ea56765c63a5",
   "metadata": {},
   "source": [
    "## Q1b"
   ]
  },
  {
   "cell_type": "code",
   "execution_count": 58,
   "id": "9d711998-af6a-4d38-9ac2-4e2c48d0b5f0",
   "metadata": {},
   "outputs": [],
   "source": [
    "modified_df2 = modified_tweets.select(\n",
    "            col('user_id'),\n",
    "            col('user_screen_name'),\n",
    "            col('user_category'),\n",
    "            col('tweet_retweeted_status.retweet_count').alias('tweet_retweet_count')\n",
    ")"
   ]
  },
  {
   "cell_type": "code",
   "execution_count": 59,
   "id": "15c359a0-1234-4b55-a84e-f49e2860710e",
   "metadata": {},
   "outputs": [],
   "source": [
    "#use the \"createOrReplaceTempView\" to store my dataframe in order to run SparkSQL statements against the data\n",
    "modified_df2.createOrReplaceTempView(\"modified_data2\")"
   ]
  },
  {
   "cell_type": "code",
   "execution_count": null,
   "id": "3ad1840f-2a48-4217-909a-fc934ac6e90e",
   "metadata": {},
   "outputs": [
    {
     "name": "stderr",
     "output_type": "stream",
     "text": [
      "[Stage 78:=================================================>      (22 + 3) / 25]\r"
     ]
    },
    {
     "name": "stdout",
     "output_type": "stream",
     "text": [
      "+-------------------+----------------+-------------+-----------+\n",
      "|            user_id|user_screen_name|user_category|Avg_retweet|\n",
      "+-------------------+----------------+-------------+-----------+\n",
      "| 753350300740706304|  FashionBlock08| Someone Else|   516855.0|\n",
      "|1208845399777304576|  AlexaLockwood2| Someone Else|   516850.0|\n",
      "| 869601053284737024|         savvh12| Someone Else|   516795.0|\n",
      "|1310026646041231361|     TanjeenThat| Someone Else|   516791.0|\n",
      "|1500356369349849089| CrimsonOmbre115| Someone Else|   516779.0|\n",
      "|1472773509852008451|   Raeemonique11| Someone Else|   516772.0|\n",
      "|1332816632314355713|      Boi0Winter| Someone Else|   516711.0|\n",
      "|         2459668231|    Dudesphootos| Someone Else|   516635.0|\n",
      "|1292284502304329736|   Beefstarters3| Someone Else|   516593.0|\n",
      "|1402518068279091200|   Riley42376368| Someone Else|   516570.0|\n",
      "+-------------------+----------------+-------------+-----------+\n",
      "only showing top 10 rows\n",
      "\n"
     ]
    },
    {
     "name": "stderr",
     "output_type": "stream",
     "text": [
      "                                                                                \r"
     ]
    }
   ],
   "source": [
    "influential_users2 = spark.sql(\\\n",
    "                              \"SELECT user_id, user_screen_name, user_category, avg(tweet_retweet_count) AS Avg_retweet\\\n",
    "                              FROM modified_data2\\\n",
    "                              GROUP BY user_id, user_screen_name, user_category\\\n",
    "                              ORDER BY Avg_retweet DESC\")\n",
    "\n",
    "influential_users2.show(10)"
   ]
  },
  {
   "cell_type": "code",
   "execution_count": null,
   "id": "103e9401-c208-4d2c-9ad6-785c1f99bb8d",
   "metadata": {},
   "outputs": [],
   "source": []
  }
 ],
 "metadata": {
  "kernelspec": {
   "display_name": "Python 3 (ipykernel)",
   "language": "python",
   "name": "python3"
  },
  "language_info": {
   "codemirror_mode": {
    "name": "ipython",
    "version": 3
   },
   "file_extension": ".py",
   "mimetype": "text/x-python",
   "name": "python",
   "nbconvert_exporter": "python",
   "pygments_lexer": "ipython3",
   "version": "3.9.15"
  }
 },
 "nbformat": 4,
 "nbformat_minor": 5
}
