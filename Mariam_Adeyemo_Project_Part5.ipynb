{
 "cells": [
  {
   "cell_type": "markdown",
   "id": "58f36c12-315c-46d4-ac8d-1eea48fe2705",
   "metadata": {},
   "source": [
    "### Mariam Adeyemo\n",
    "BDP Final Project"
   ]
  },
  {
   "cell_type": "markdown",
   "id": "a05d2932-27c7-4d75-abee-063aac72d187",
   "metadata": {},
   "source": [
    "## Part 5\n",
    "\n",
    "**Tweets uniqueness**"
   ]
  },
  {
   "cell_type": "code",
   "execution_count": 1,
   "id": "167c7b02-42ba-4abd-b65e-3489842b2ffd",
   "metadata": {},
   "outputs": [
    {
     "name": "stdout",
     "output_type": "stream",
     "text": [
      "3.8.15 | packaged by conda-forge | (default, Nov 22 2022, 08:46:39) \n",
      "[GCC 10.4.0]\n",
      "3.1.3\n"
     ]
    }
   ],
   "source": [
    "import sys\n",
    "print(sys.version)\n",
    "print(spark.version)"
   ]
  },
  {
   "cell_type": "code",
   "execution_count": 2,
   "id": "7cb29915-b573-4037-9ef7-0c8c593fb6df",
   "metadata": {
    "tags": []
   },
   "outputs": [],
   "source": [
    "import pandas as pd\n",
    "import numpy as np\n",
    "pd.set_option('display.max_colwidth', None)\n",
    "pd.reset_option('display.max_rows')\n",
    "from itertools import compress \n",
    "from pyspark.sql.functions import *\n",
    "from pyspark.sql.types import *\n",
    "import seaborn as sns\n",
    "import matplotlib.pyplot as plt\n",
    "warnings.filterwarnings(action='ignore')"
   ]
  },
  {
   "cell_type": "code",
   "execution_count": 4,
   "id": "aed22de1-bfa4-4a93-b328-e6e0410aed10",
   "metadata": {
    "collapsed": true,
    "jupyter": {
     "outputs_hidden": true
    },
    "tags": []
   },
   "outputs": [
    {
     "name": "stdout",
     "output_type": "stream",
     "text": [
      "Requirement already satisfied: nltk in /opt/conda/miniconda3/lib/python3.8/site-packages (3.6.4)\n",
      "Collecting nltk\n",
      "  Downloading nltk-3.8.1-py3-none-any.whl (1.5 MB)\n",
      "\u001b[2K     \u001b[90m━━━━━━━━━━━━━━━━━━━━━━━━━━━━━━━━━━━━━━━━\u001b[0m \u001b[32m1.5/1.5 MB\u001b[0m \u001b[31m20.6 MB/s\u001b[0m eta \u001b[36m0:00:00\u001b[0m00:01\u001b[0m0:01\u001b[0m\n",
      "\u001b[?25hCollecting regex>=2021.8.3\n",
      "  Downloading regex-2022.10.31-cp38-cp38-manylinux_2_17_x86_64.manylinux2014_x86_64.whl (772 kB)\n",
      "\u001b[2K     \u001b[90m━━━━━━━━━━━━━━━━━━━━━━━━━━━━━━━━━━━━━━\u001b[0m \u001b[32m772.3/772.3 kB\u001b[0m \u001b[31m55.9 MB/s\u001b[0m eta \u001b[36m0:00:00\u001b[0m\n",
      "\u001b[?25hRequirement already satisfied: joblib in /opt/conda/miniconda3/lib/python3.8/site-packages (from nltk) (1.2.0)\n",
      "Requirement already satisfied: click in /opt/conda/miniconda3/lib/python3.8/site-packages (from nltk) (7.1.2)\n",
      "Requirement already satisfied: tqdm in /opt/conda/miniconda3/lib/python3.8/site-packages (from nltk) (4.64.1)\n",
      "Installing collected packages: regex, nltk\n",
      "  Attempting uninstall: regex\n",
      "    Found existing installation: regex 2021.4.4\n",
      "    Uninstalling regex-2021.4.4:\n",
      "      Successfully uninstalled regex-2021.4.4\n",
      "  Attempting uninstall: nltk\n",
      "    Found existing installation: nltk 3.6.4\n",
      "    Uninstalling nltk-3.6.4:\n",
      "      Successfully uninstalled nltk-3.6.4\n",
      "Successfully installed nltk-3.8.1 regex-2022.10.31\n",
      "\u001b[33mWARNING: Running pip as the 'root' user can result in broken permissions and conflicting behaviour with the system package manager. It is recommended to use a virtual environment instead: https://pip.pypa.io/warnings/venv\u001b[0m\u001b[33m\n",
      "\u001b[0mNote: you may need to restart the kernel to use updated packages.\n"
     ]
    },
    {
     "name": "stderr",
     "output_type": "stream",
     "text": [
      "ERROR:root:Exception while sending command.\n",
      "Traceback (most recent call last):\n",
      "  File \"/usr/lib/spark/python/lib/py4j-0.10.9-src.zip/py4j/java_gateway.py\", line 1207, in send_command\n",
      "    raise Py4JNetworkError(\"Answer from Java side is empty\")\n",
      "py4j.protocol.Py4JNetworkError: Answer from Java side is empty\n",
      "\n",
      "During handling of the above exception, another exception occurred:\n",
      "\n",
      "Traceback (most recent call last):\n",
      "  File \"/usr/lib/spark/python/lib/py4j-0.10.9-src.zip/py4j/java_gateway.py\", line 1033, in send_command\n",
      "    response = connection.send_command(command)\n",
      "  File \"/usr/lib/spark/python/lib/py4j-0.10.9-src.zip/py4j/java_gateway.py\", line 1211, in send_command\n",
      "    raise Py4JNetworkError(\n",
      "py4j.protocol.Py4JNetworkError: Error while receiving\n"
     ]
    }
   ],
   "source": [
    "#pip install nltk -U"
   ]
  },
  {
   "cell_type": "code",
   "execution_count": 3,
   "id": "f3fe478d-bac2-4b53-b06b-a0437580c860",
   "metadata": {},
   "outputs": [
    {
     "name": "stderr",
     "output_type": "stream",
     "text": [
      "[nltk_data] Downloading package stopwords to /root/nltk_data...\n",
      "[nltk_data]   Unzipping corpora/stopwords.zip.\n"
     ]
    }
   ],
   "source": [
    "import re\n",
    "from pyspark.ml.feature import MinHashLSH\n",
    "from pyspark.ml.feature import CountVectorizer,  IDF, CountVectorizerModel, Tokenizer, RegexTokenizer, StopWordsRemover\n",
    "from pyspark import SparkContext\n",
    "from pyspark.sql import SQLContext\n",
    "from pyspark.sql import Row\n",
    "import nltk\n",
    "nltk.download('stopwords')\n",
    "from nltk.corpus import stopwords"
   ]
  },
  {
   "cell_type": "code",
   "execution_count": 4,
   "id": "afd0706c-33ec-47b6-aff7-4d36a59281b2",
   "metadata": {},
   "outputs": [],
   "source": [
    "#Add \"eagerEval.enabled\" to beautify the way Spark DF is displayed\n",
    "spark.conf.set(\"spark.sql.repl.eagerEval.enabled\",True)"
   ]
  },
  {
   "cell_type": "markdown",
   "id": "154a1b64-ea1e-41f0-84a4-6de05853f4c3",
   "metadata": {},
   "source": [
    "## Question 4: How unique are the messages?"
   ]
  },
  {
   "cell_type": "markdown",
   "id": "8afb2870-b7dd-45ed-8cb0-7194b713ccd3",
   "metadata": {},
   "source": [
    "### Loading the processed tweet into spark dataframe"
   ]
  },
  {
   "cell_type": "code",
   "execution_count": 5,
   "id": "2571edf8-1229-438a-b33e-91f70f427a6f",
   "metadata": {},
   "outputs": [],
   "source": [
    "path_read = 'gs://msca-bdp-students-bucket/shared_data/mariamoluwatobi/categorised_twitterers'"
   ]
  },
  {
   "cell_type": "code",
   "execution_count": 6,
   "id": "7fbf0e11-5412-432e-943f-262634a49ba7",
   "metadata": {},
   "outputs": [
    {
     "name": "stderr",
     "output_type": "stream",
     "text": [
      "                                                                                \r"
     ]
    },
    {
     "name": "stdout",
     "output_type": "stream",
     "text": [
      "CPU times: user 3.67 ms, sys: 4.73 ms, total: 8.4 ms\n",
      "Wall time: 7.28 s\n"
     ]
    },
    {
     "name": "stderr",
     "output_type": "stream",
     "text": [
      "23/03/10 20:59:36 WARN org.apache.spark.sql.catalyst.util.package: Truncated the string representation of a plan since it was too large. This behavior can be adjusted by setting 'spark.sql.debug.maxToStringFields'.\n"
     ]
    }
   ],
   "source": [
    "%%time\n",
    "\n",
    "tweets_filt4 = spark.read.parquet(path_read)"
   ]
  },
  {
   "cell_type": "code",
   "execution_count": 7,
   "id": "baaab649-a652-4cba-8836-1e0d38c5a5ea",
   "metadata": {},
   "outputs": [
    {
     "name": "stderr",
     "output_type": "stream",
     "text": [
      "                                                                                \r"
     ]
    },
    {
     "data": {
      "text/plain": [
       "36600074"
      ]
     },
     "execution_count": 7,
     "metadata": {},
     "output_type": "execute_result"
    }
   ],
   "source": [
    "tweets_filt4.count()"
   ]
  },
  {
   "cell_type": "markdown",
   "id": "6fcbc06e-add3-4f8c-8813-7c24f4c62d3a",
   "metadata": {},
   "source": [
    "### Sample my tweet data\n",
    "\n",
    "I tried all my possible best to work on the whole dataset, however, I kept getting an insufficient memory error message from Pandas whenever I get to the part of establishing the Jaccard similaries. So, I will be using a subset of my sample to run the Jaccard similarities"
   ]
  },
  {
   "cell_type": "code",
   "execution_count": 7,
   "id": "59d22d69-037c-4b33-970d-db01cb15ebbe",
   "metadata": {},
   "outputs": [
    {
     "name": "stderr",
     "output_type": "stream",
     "text": [
      "                                                                                \r"
     ]
    },
    {
     "data": {
      "text/html": [
       "<table border='1'>\n",
       "<tr><th>user_id</th><th>user_name</th><th>user_screen_name</th><th>user_created_at</th><th>user_location</th><th>user_description</th><th>user_verified</th><th>user_followers_count</th><th>user_friends_count</th><th>user_favourites_count</th><th>user_statuses_count</th><th>tweet_id_str</th><th>tweet_created_at</th><th>tweet_text</th><th>text</th><th>tweet_quote_count</th><th>tweet_is_quote_status</th><th>tweet_timestamp_ms</th><th>tweet_retweeted_from</th><th>tweet_reply_count</th><th>tweet_retweeted_status</th><th>tweet_possibly_sensitive</th><th>tweet_favorite_count</th><th>tweet_location</th><th>tweet_city</th><th>tweet_coordinates</th><th>user_category</th></tr>\n",
       "<tr><td>1446325690551341056</td><td>Naija Tabloid</td><td>naija_tabloid</td><td>2021-10-08 04:05:22</td><td>Abuja, Nigeria</td><td>The Best Online P...</td><td>false</td><td>66</td><td>15</td><td>0</td><td>49102</td><td>1599504337394352129</td><td>2022-12-04 20:42:06</td><td>Atiku should lowe...</td><td>atiku should lowe...</td><td>0</td><td>false</td><td>1670186526045</td><td>null</td><td>0</td><td>null</td><td>false</td><td>0</td><td>null</td><td>null</td><td>null</td><td>News Outlet</td></tr>\n",
       "<tr><td>1583111392894197760</td><td>Ryleigh.Mueller49...</td><td>mueller49cbrv</td><td>2022-10-20 15:02:32</td><td>null</td><td>null</td><td>false</td><td>5</td><td>2</td><td>0</td><td>3655</td><td>1599504346861162496</td><td>2022-12-04 20:42:08</td><td>Bluey Girls &amp;amp;...</td><td>bluey girls amp b...</td><td>0</td><td>false</td><td>1670186528302</td><td>null</td><td>0</td><td>null</td><td>false</td><td>0</td><td>null</td><td>null</td><td>null</td><td>Someone Else</td></tr>\n",
       "<tr><td>1035242686855487489</td><td>Jalik Thomas</td><td>ThomasJalik</td><td>2018-08-30 19:07:45</td><td>Macon, GA</td><td>6’0 200 DB @ Hutc...</td><td>false</td><td>1017</td><td>428</td><td>1509</td><td>686</td><td>1599504355706605568</td><td>2022-12-04 20:42:10</td><td>After an great co...</td><td>after an great co...</td><td>0</td><td>false</td><td>1670186530411</td><td>ECU_Coach_Weave I...</td><td>0</td><td>null</td><td>false</td><td>0</td><td>null</td><td>null</td><td>null</td><td>University</td></tr>\n",
       "<tr><td>1293807167028563969</td><td>Metalady🇺🇦🐈‍⬛</td><td>Alice_inpains</td><td>2020-08-13 07:10:55</td><td>null</td><td>\\m/</td><td>false</td><td>284</td><td>215</td><td>5557</td><td>7667</td><td>1599504362547867649</td><td>2022-12-04 20:42:12</td><td>Why is Biden twee...</td><td>why is biden twee...</td><td>0</td><td>false</td><td>1670186532042</td><td>null</td><td>0</td><td>null</td><td>null</td><td>0</td><td>null</td><td>null</td><td>null</td><td>Someone Else</td></tr>\n",
       "<tr><td>1520936616298168320</td><td>𝕮𝖔𝖗𝖛𝖎𝖉𝖆𝖊 🐀</td><td>urcorvidae</td><td>2022-05-02 01:22:09</td><td>she/her, Illinois</td><td>aspiring big tidd...</td><td>false</td><td>104</td><td>324</td><td>10387</td><td>2533</td><td>1599504369065480192</td><td>2022-12-04 20:42:13</td><td>@meangirlboy you ...</td><td>meangirlboy you m...</td><td>0</td><td>false</td><td>1670186533596</td><td>null</td><td>0</td><td>null</td><td>null</td><td>0</td><td>null</td><td>null</td><td>null</td><td>Someone Else</td></tr>\n",
       "</table>\n"
      ],
      "text/plain": [
       "+-------------------+---------------+----------------+-------------------+-------------+--------------------+-------------+--------------------+------------------+---------------------+-------------------+-------------------+-------------------+--------------------+--------------------+-----------------+---------------------+------------------+--------------------+-----------------+----------------------+------------------------+--------------------+--------------+----------+-----------------+-------------+\n",
       "|            user_id|      user_name|user_screen_name|    user_created_at|user_location|    user_description|user_verified|user_followers_count|user_friends_count|user_favourites_count|user_statuses_count|       tweet_id_str|   tweet_created_at|          tweet_text|                text|tweet_quote_count|tweet_is_quote_status|tweet_timestamp_ms|tweet_retweeted_from|tweet_reply_count|tweet_retweeted_status|tweet_possibly_sensitive|tweet_favorite_count|tweet_location|tweet_city|tweet_coordinates|user_category|\n",
       "+-------------------+---------------+----------------+-------------------+-------------+--------------------+-------------+--------------------+------------------+---------------------+-------------------+-------------------+-------------------+--------------------+--------------------+-----------------+---------------------+------------------+--------------------+-----------------+----------------------+------------------------+--------------------+--------------+----------+-----------------+-------------+\n",
       "|1550141539950927873|       Infoxhub|         InfoXUB|2022-07-21 15:32:20|         null|            News hub|        false|                   9|                 2|                    0|              14124|1601739890697203712|2022-12-11 00:45:23|The 10 Best Flexi...|the 10 best flexi...|                0|                false|     1670719523487|                null|                0|                  null|                   false|                   0|          null|      null|             null|  News Outlet|\n",
       "|1506686422882959365|            K2x|          K2xbet|2022-03-23 17:37:11|         null|I would agree wit...|        false|                  84|               119|                 2172|               1615|1601739896929910784|2022-12-11 00:45:24|@sarge__msu Glad ...|sarge__msu glad i...|                0|                false|     1670719524973|                null|                0|                  null|                    null|                   0|          null|      null|             null| Someone Else|\n",
       "|1232531565739032577| HappyDaysShsin|       DaysShsin|2020-02-26 05:06:29|         null|Naturally Born Re...|        false|                1714|              3597|               285763|              10327|1601739928232022016|2022-12-11 00:45:32|@Annie_R003 @Aims...|annie_r003 aimsel...|                0|                false|     1670719532436|Aimselon We’re in...|                0|                  null|                    null|                   0|          null|      null|             null| Someone Else|\n",
       "|1515326338361663495|        FISH!🐟|        lelsiiee|2022-04-16 13:49:00|         null|ya mama (hacked a...|        false|                  19|               123|                24729|               2325|1601739930245689344|2022-12-11 00:45:32|IM REALIZING IM G...|im realizing im g...|                0|                false|     1670719532916|                null|                0|                  null|                   false|                   0|          null|      null|             null| Someone Else|\n",
       "|1598839554496159745|Elizabeth Lecce| elizabeth_lecce|2022-12-03 00:41:39|         null|                null|        false|                   7|                50|                   34|                 51|1601739932342812672|2022-12-11 00:45:33|@elizableu @elonm...|elizableu elonmus...|                0|                false|     1670719533416|elonmusk Omg I ne...|                0|                  null|                    null|                   0|          null|      null|             null| Someone Else|\n",
       "+-------------------+---------------+----------------+-------------------+-------------+--------------------+-------------+--------------------+------------------+---------------------+-------------------+-------------------+-------------------+--------------------+--------------------+-----------------+---------------------+------------------+--------------------+-----------------+----------------------+------------------------+--------------------+--------------+----------+-----------------+-------------+"
      ]
     },
     "execution_count": 7,
     "metadata": {},
     "output_type": "execute_result"
    }
   ],
   "source": [
    "#first filter for original tweets using the \"retweeted_status\"\n",
    "original_tweet = tweets_filt4.filter(col(\"tweet_retweeted_status\").isNull())\n",
    "\n",
    "original_tweet.limit(5)"
   ]
  },
  {
   "cell_type": "code",
   "execution_count": 9,
   "id": "a128b90f-975d-49ae-972b-6eb16cb77c24",
   "metadata": {},
   "outputs": [
    {
     "name": "stderr",
     "output_type": "stream",
     "text": [
      "                                                                                \r"
     ]
    },
    {
     "data": {
      "text/plain": [
       "13022551"
      ]
     },
     "execution_count": 9,
     "metadata": {},
     "output_type": "execute_result"
    }
   ],
   "source": [
    "original_tweet.count()"
   ]
  },
  {
   "cell_type": "code",
   "execution_count": 10,
   "id": "79def93c-483e-4663-8865-0684e636c780",
   "metadata": {},
   "outputs": [
    {
     "name": "stderr",
     "output_type": "stream",
     "text": [
      "                                                                                \r"
     ]
    },
    {
     "data": {
      "text/plain": [
       "52481"
      ]
     },
     "execution_count": 10,
     "metadata": {},
     "output_type": "execute_result"
    }
   ],
   "source": [
    "original_tweet_sample = original_tweet.sample(False, 0.004, 12345)\n",
    "original_tweet_sample.count()"
   ]
  },
  {
   "cell_type": "markdown",
   "id": "32a3b7f2-348f-4c44-a5c5-2d0c69bdb962",
   "metadata": {},
   "source": [
    "#### Select the columns needed from the data"
   ]
  },
  {
   "cell_type": "code",
   "execution_count": 11,
   "id": "9d1129e8-7806-4234-9e3f-64fbadd3896b",
   "metadata": {},
   "outputs": [],
   "source": [
    "original_tweet_sample1 = original_tweet_sample.select('user_id','user_category',col('tweet_text').alias('text'))"
   ]
  },
  {
   "cell_type": "code",
   "execution_count": 12,
   "id": "680ee33b-fae2-4652-83d3-3323a4903e40",
   "metadata": {},
   "outputs": [
    {
     "name": "stderr",
     "output_type": "stream",
     "text": [
      "                                                                                \r"
     ]
    },
    {
     "data": {
      "text/html": [
       "<table border='1'>\n",
       "<tr><th>text</th></tr>\n",
       "<tr><td>As .@Makerere con...</td></tr>\n",
       "<tr><td>Jasmine Young App...</td></tr>\n",
       "<tr><td>In spring 2021, S...</td></tr>\n",
       "<tr><td>@lewysj @JoePlane...</td></tr>\n",
       "<tr><td>@NoLieWithBTC My ...</td></tr>\n",
       "</table>\n"
      ],
      "text/plain": [
       "+--------------------+\n",
       "|                text|\n",
       "+--------------------+\n",
       "|As .@Makerere con...|\n",
       "|Jasmine Young App...|\n",
       "|In spring 2021, S...|\n",
       "|@lewysj @JoePlane...|\n",
       "|@NoLieWithBTC My ...|\n",
       "+--------------------+"
      ]
     },
     "execution_count": 12,
     "metadata": {},
     "output_type": "execute_result"
    }
   ],
   "source": [
    "#select the text column from the data for further analysis\n",
    "original_tweet_sample2 = original_tweet_sample1.select([\"text\"])\n",
    "original_tweet_sample2.limit(5)"
   ]
  },
  {
   "cell_type": "markdown",
   "id": "94924373-8819-4309-92bd-7449881744ca",
   "metadata": {},
   "source": [
    "## Assessing the similarity on the text"
   ]
  },
  {
   "cell_type": "markdown",
   "id": "8127eb2c-e0a2-4be4-b8f8-61c221175686",
   "metadata": {},
   "source": [
    "### Step 1. Clean the title data, remove stopwords and create index for the combined text\n",
    "\n",
    "I will first remove all null values in the table, then I will convert all characters to lower case, split the each document by white space to get a list of all tokens, then remove all stopwords, and remove all words that have a length less than or equal to 1."
   ]
  },
  {
   "cell_type": "code",
   "execution_count": null,
   "id": "f4d8962a-5f6e-4ab5-8eb0-6d5960abb542",
   "metadata": {},
   "outputs": [
    {
     "name": "stderr",
     "output_type": "stream",
     "text": [
      "                                                                                \r"
     ]
    }
   ],
   "source": [
    "# drop any rows with null values\n",
    "text = original_tweet_sample2.rdd.map(lambda x : x['text']).filter(lambda x: x is not None)\n",
    "\n",
    "StopWords = stopwords.words(\"english\")\n",
    "\n",
    "tokens1 = text\\\n",
    "    .map( lambda document: document.strip().lower())\\\n",
    "    .map( lambda document: re.split(\" \", document))\\\n",
    "    .map( lambda word: [x for x in word if x.isalnum()])\\\n",
    "    .map( lambda word: [x for x in word if x not in StopWords])\\\n",
    "    .map( lambda word: [x for x in word if len(x) > 1] )\\\n",
    "    .zipWithIndex()"
   ]
  },
  {
   "cell_type": "code",
   "execution_count": 14,
   "id": "b51efef3-af42-4bba-98c3-87894a2ac90f",
   "metadata": {
    "tags": []
   },
   "outputs": [
    {
     "name": "stderr",
     "output_type": "stream",
     "text": [
      "                                                                                \r"
     ]
    },
    {
     "data": {
      "text/html": [
       "<table border='1'>\n",
       "<tr><th>text</th><th>id</th></tr>\n",
       "<tr><td>{Every scene coul...</td><td>269</td></tr>\n",
       "<tr><td>{Together we are ...</td><td>270</td></tr>\n",
       "<tr><td>{@jokelley @Lalee...</td><td>271</td></tr>\n",
       "<tr><td>{@SiestaSocialist...</td><td>272</td></tr>\n",
       "<tr><td>{Someone tell the...</td><td>273</td></tr>\n",
       "</table>\n"
      ],
      "text/plain": [
       "+--------------------+---+\n",
       "|                text| id|\n",
       "+--------------------+---+\n",
       "|{Every scene coul...|269|\n",
       "|{Together we are ...|270|\n",
       "|{@jokelley @Lalee...|271|\n",
       "|{@SiestaSocialist...|272|\n",
       "|{Someone tell the...|273|\n",
       "+--------------------+---+"
      ]
     },
     "execution_count": 14,
     "metadata": {},
     "output_type": "execute_result"
    }
   ],
   "source": [
    "row = Row('text')\n",
    "df_text = text.map(row).zipWithIndex().toDF(['text','id'])\n",
    "df_text.limit(5)"
   ]
  },
  {
   "cell_type": "code",
   "execution_count": null,
   "id": "a82e21ea-6db0-4f97-9f4d-4cca58d7d74c",
   "metadata": {
    "collapsed": true,
    "jupyter": {
     "outputs_hidden": true
    },
    "tags": []
   },
   "outputs": [
    {
     "name": "stderr",
     "output_type": "stream",
     "text": [
      "23/03/09 01:12:30 WARN org.apache.spark.scheduler.cluster.YarnSchedulerBackend$YarnSchedulerEndpoint: Requesting driver to remove executor 3 for reason Container marked as failed: container_1678319559471_0004_01_000003 on host: hub-msca-bdp-dphub-students-mariamoluwatobi-sw-38r3.c.msca-bdp-students.internal. Exit status: -100. Diagnostics: Container released on a *lost* node.\n",
      "23/03/09 01:12:30 ERROR org.apache.spark.scheduler.cluster.YarnScheduler: Lost executor 3 on hub-msca-bdp-dphub-students-mariamoluwatobi-sw-38r3.c.msca-bdp-students.internal: Container marked as failed: container_1678319559471_0004_01_000003 on host: hub-msca-bdp-dphub-students-mariamoluwatobi-sw-38r3.c.msca-bdp-students.internal. Exit status: -100. Diagnostics: Container released on a *lost* node.\n",
      "23/03/09 01:13:39 WARN org.apache.spark.scheduler.TaskSetManager: Lost task 0.0 in stage 29.0 (TID 2923) (hub-msca-bdp-dphub-students-mariamoluwatobi-w-0.c.msca-bdp-students.internal executor 24): FetchFailed(BlockManagerId(3, hub-msca-bdp-dphub-students-mariamoluwatobi-sw-38r3.c.msca-bdp-students.internal, 7337, None), shuffleId=7, mapIndex=0, mapId=2630, reduceId=0, message=\n",
      "org.apache.spark.shuffle.FetchFailedException: Failed to connect to hub-msca-bdp-dphub-students-mariamoluwatobi-sw-38r3.c.msca-bdp-students.internal:7337\n",
      "\tat org.apache.spark.storage.ShuffleBlockFetcherIterator.throwFetchFailedException(ShuffleBlockFetcherIterator.scala:775)\n",
      "\tat org.apache.spark.storage.ShuffleBlockFetcherIterator.next(ShuffleBlockFetcherIterator.scala:690)\n",
      "\tat org.apache.spark.storage.ShuffleBlockFetcherIterator.next(ShuffleBlockFetcherIterator.scala:70)\n",
      "\tat org.apache.spark.util.CompletionIterator.next(CompletionIterator.scala:29)\n",
      "\tat scala.collection.Iterator$$anon$11.nextCur(Iterator.scala:486)\n",
      "\tat scala.collection.Iterator$$anon$11.hasNext(Iterator.scala:492)\n",
      "\tat scala.collection.Iterator$$anon$10.hasNext(Iterator.scala:460)\n",
      "\tat org.apache.spark.util.CompletionIterator.hasNext(CompletionIterator.scala:31)\n",
      "\tat org.apache.spark.InterruptibleIterator.hasNext(InterruptibleIterator.scala:37)\n",
      "\tat scala.collection.Iterator$$anon$10.hasNext(Iterator.scala:460)\n",
      "\tat org.apache.spark.sql.catalyst.expressions.GeneratedClass$GeneratedIteratorForCodegenStage2.agg_doAggregateWithoutKey_0$(Unknown Source)\n",
      "\tat org.apache.spark.sql.catalyst.expressions.GeneratedClass$GeneratedIteratorForCodegenStage2.processNext(Unknown Source)\n",
      "\tat org.apache.spark.sql.execution.BufferedRowIterator.hasNext(BufferedRowIterator.java:43)\n",
      "\tat org.apache.spark.sql.execution.WholeStageCodegenExec$$anon$1.hasNext(WholeStageCodegenExec.scala:755)\n",
      "\tat org.apache.spark.sql.execution.SparkPlan.$anonfun$getByteArrayRdd$1(SparkPlan.scala:345)\n",
      "\tat org.apache.spark.rdd.RDD.$anonfun$mapPartitionsInternal$2(RDD.scala:898)\n",
      "\tat org.apache.spark.rdd.RDD.$anonfun$mapPartitionsInternal$2$adapted(RDD.scala:898)\n",
      "\tat org.apache.spark.rdd.MapPartitionsRDD.compute(MapPartitionsRDD.scala:52)\n",
      "\tat org.apache.spark.rdd.RDD.computeOrReadCheckpoint(RDD.scala:373)\n",
      "\tat org.apache.spark.rdd.RDD.iterator(RDD.scala:337)\n",
      "\tat org.apache.spark.scheduler.ResultTask.runTask(ResultTask.scala:90)\n",
      "\tat org.apache.spark.scheduler.Task.run(Task.scala:131)\n",
      "\tat org.apache.spark.executor.Executor$TaskRunner.$anonfun$run$3(Executor.scala:505)\n",
      "\tat org.apache.spark.util.Utils$.tryWithSafeFinally(Utils.scala:1439)\n",
      "\tat org.apache.spark.executor.Executor$TaskRunner.run(Executor.scala:508)\n",
      "\tat java.util.concurrent.ThreadPoolExecutor.runWorker(ThreadPoolExecutor.java:1149)\n",
      "\tat java.util.concurrent.ThreadPoolExecutor$Worker.run(ThreadPoolExecutor.java:624)\n",
      "\tat java.lang.Thread.run(Thread.java:750)\n",
      "Caused by: java.io.IOException: Failed to connect to hub-msca-bdp-dphub-students-mariamoluwatobi-sw-38r3.c.msca-bdp-students.internal:7337\n",
      "\tat org.apache.spark.network.client.TransportClientFactory.createClient(TransportClientFactory.java:287)\n",
      "\tat org.apache.spark.network.client.TransportClientFactory.createClient(TransportClientFactory.java:218)\n",
      "\tat org.apache.spark.network.shuffle.ExternalBlockStoreClient.lambda$fetchBlocks$0(ExternalBlockStoreClient.java:105)\n",
      "\tat org.apache.spark.network.shuffle.RetryingBlockFetcher.fetchAllOutstanding(RetryingBlockFetcher.java:153)\n",
      "\tat org.apache.spark.network.shuffle.RetryingBlockFetcher.lambda$initiateRetry$0(RetryingBlockFetcher.java:181)\n",
      "\tat java.util.concurrent.Executors$RunnableAdapter.call(Executors.java:511)\n",
      "\tat java.util.concurrent.FutureTask.run(FutureTask.java:266)\n",
      "\tat java.util.concurrent.ThreadPoolExecutor.runWorker(ThreadPoolExecutor.java:1149)\n",
      "\tat java.util.concurrent.ThreadPoolExecutor$Worker.run(ThreadPoolExecutor.java:624)\n",
      "\tat io.netty.util.concurrent.FastThreadLocalRunnable.run(FastThreadLocalRunnable.java:30)\n",
      "\t... 1 more\n",
      "Caused by: java.net.UnknownHostException: hub-msca-bdp-dphub-students-mariamoluwatobi-sw-38r3.c.msca-bdp-students.internal\n",
      "\tat java.net.InetAddress$CachedAddresses.get(InetAddress.java:764)\n",
      "\tat java.net.InetAddress.getAllByName0(InetAddress.java:1282)\n",
      "\tat java.net.InetAddress.getAllByName(InetAddress.java:1140)\n",
      "\tat java.net.InetAddress.getAllByName(InetAddress.java:1064)\n",
      "\tat java.net.InetAddress.getByName(InetAddress.java:1014)\n",
      "\tat io.netty.util.internal.SocketUtils$8.run(SocketUtils.java:156)\n",
      "\tat io.netty.util.internal.SocketUtils$8.run(SocketUtils.java:153)\n",
      "\tat java.security.AccessController.doPrivileged(Native Method)\n",
      "\tat io.netty.util.internal.SocketUtils.addressByName(SocketUtils.java:153)\n",
      "\tat io.netty.resolver.DefaultNameResolver.doResolve(DefaultNameResolver.java:41)\n",
      "\tat io.netty.resolver.SimpleNameResolver.resolve(SimpleNameResolver.java:61)\n",
      "\tat io.netty.resolver.SimpleNameResolver.resolve(SimpleNameResolver.java:53)\n",
      "\tat io.netty.resolver.InetSocketAddressResolver.doResolve(InetSocketAddressResolver.java:55)\n",
      "\tat io.netty.resolver.InetSocketAddressResolver.doResolve(InetSocketAddressResolver.java:31)\n",
      "\tat io.netty.resolver.AbstractAddressResolver.resolve(AbstractAddressResolver.java:106)\n",
      "\tat io.netty.bootstrap.Bootstrap.doResolveAndConnect0(Bootstrap.java:206)\n",
      "\tat io.netty.bootstrap.Bootstrap.access$000(Bootstrap.java:46)\n",
      "\tat io.netty.bootstrap.Bootstrap$1.operationComplete(Bootstrap.java:180)\n",
      "\tat io.netty.bootstrap.Bootstrap$1.operationComplete(Bootstrap.java:166)\n",
      "\tat io.netty.util.concurrent.DefaultPromise.notifyListener0(DefaultPromise.java:577)\n",
      "\tat io.netty.util.concurrent.DefaultPromise.notifyListenersNow(DefaultPromise.java:551)\n",
      "\tat io.netty.util.concurrent.DefaultPromise.notifyListeners(DefaultPromise.java:490)\n",
      "\tat io.netty.util.concurrent.DefaultPromise.setValue0(DefaultPromise.java:615)\n",
      "\tat io.netty.util.concurrent.DefaultPromise.setSuccess0(DefaultPromise.java:604)\n",
      "\tat io.netty.util.concurrent.DefaultPromise.trySuccess(DefaultPromise.java:104)\n",
      "\tat io.netty.channel.DefaultChannelPromise.trySuccess(DefaultChannelPromise.java:84)\n",
      "\tat io.netty.channel.AbstractChannel$AbstractUnsafe.safeSetSuccess(AbstractChannel.java:984)\n",
      "\tat io.netty.channel.AbstractChannel$AbstractUnsafe.register0(AbstractChannel.java:504)\n",
      "\tat io.netty.channel.AbstractChannel$AbstractUnsafe.access$200(AbstractChannel.java:417)\n",
      "\tat io.netty.channel.AbstractChannel$AbstractUnsafe$1.run(AbstractChannel.java:474)\n",
      "\tat io.netty.util.concurrent.AbstractEventExecutor.safeExecute(AbstractEventExecutor.java:164)\n",
      "\tat io.netty.util.concurrent.SingleThreadEventExecutor.runAllTasks(SingleThreadEventExecutor.java:472)\n",
      "\tat io.netty.channel.nio.NioEventLoop.run(NioEventLoop.java:500)\n",
      "\tat io.netty.util.concurrent.SingleThreadEventExecutor$4.run(SingleThreadEventExecutor.java:989)\n",
      "\tat io.netty.util.internal.ThreadExecutorMap$2.run(ThreadExecutorMap.java:74)\n",
      "\t... 2 more\n",
      "\n",
      ")\n",
      "                                                                                \r"
     ]
    },
    {
     "data": {
      "text/plain": [
       "52481"
      ]
     },
     "execution_count": 15,
     "metadata": {},
     "output_type": "execute_result"
    }
   ],
   "source": [
    "df_text.count()"
   ]
  },
  {
   "cell_type": "code",
   "execution_count": 16,
   "id": "8dbad3f7-cf8f-442b-9870-79899cdab43e",
   "metadata": {},
   "outputs": [
    {
     "name": "stderr",
     "output_type": "stream",
     "text": [
      "                                                                                \r"
     ]
    },
    {
     "data": {
      "text/html": [
       "<div>\n",
       "<style scoped>\n",
       "    .dataframe tbody tr th:only-of-type {\n",
       "        vertical-align: middle;\n",
       "    }\n",
       "\n",
       "    .dataframe tbody tr th {\n",
       "        vertical-align: top;\n",
       "    }\n",
       "\n",
       "    .dataframe thead th {\n",
       "        text-align: right;\n",
       "    }\n",
       "</style>\n",
       "<table border=\"1\" class=\"dataframe\">\n",
       "  <thead>\n",
       "    <tr style=\"text-align: right;\">\n",
       "      <th></th>\n",
       "      <th>words_list</th>\n",
       "      <th>id</th>\n",
       "    </tr>\n",
       "  </thead>\n",
       "  <tbody>\n",
       "    <tr>\n",
       "      <th>0</th>\n",
       "      <td>[continues, celebrate, 100, years, university, system, makerere, advance, system, initiative, designed, build, digital, interactive, alumni]</td>\n",
       "      <td>0</td>\n",
       "    </tr>\n",
       "    <tr>\n",
       "      <th>1</th>\n",
       "      <td>[jasmine, young, appointed, director, school, business, howard, warner, music, university, blavatnik, center, entertainment]</td>\n",
       "      <td>1</td>\n",
       "    </tr>\n",
       "    <tr>\n",
       "      <th>2</th>\n",
       "      <td>[spring, school, engineering, students, participated, project, develop, educational, resources, bridge, historic, bridge, located, shelburne]</td>\n",
       "      <td>2</td>\n",
       "    </tr>\n",
       "    <tr>\n",
       "      <th>3</th>\n",
       "      <td>[phd, education, pay, school, think, financial, model, sure, julie, deserves, bills, covered, also, earning, advanced, education, student, loans, take, cover]</td>\n",
       "      <td>3</td>\n",
       "    </tr>\n",
       "    <tr>\n",
       "      <th>4</th>\n",
       "      <td>[graduates, high, school, tonight, talking, last, class, discuss, really, feel, schools, show, discussion, real, time, economics, like, gas, food]</td>\n",
       "      <td>4</td>\n",
       "    </tr>\n",
       "  </tbody>\n",
       "</table>\n",
       "</div>"
      ],
      "text/plain": [
       "                                                                                                                                                       words_list  \\\n",
       "0                    [continues, celebrate, 100, years, university, system, makerere, advance, system, initiative, designed, build, digital, interactive, alumni]   \n",
       "1                                    [jasmine, young, appointed, director, school, business, howard, warner, music, university, blavatnik, center, entertainment]   \n",
       "2                   [spring, school, engineering, students, participated, project, develop, educational, resources, bridge, historic, bridge, located, shelburne]   \n",
       "3  [phd, education, pay, school, think, financial, model, sure, julie, deserves, bills, covered, also, earning, advanced, education, student, loans, take, cover]   \n",
       "4              [graduates, high, school, tonight, talking, last, class, discuss, really, feel, schools, show, discussion, real, time, economics, like, gas, food]   \n",
       "\n",
       "   id  \n",
       "0   0  \n",
       "1   1  \n",
       "2   2  \n",
       "3   3  \n",
       "4   4  "
      ]
     },
     "execution_count": 16,
     "metadata": {},
     "output_type": "execute_result"
    }
   ],
   "source": [
    "df_text_tokens = spark.createDataFrame(tokens1, [\"words_list\",'id'])\n",
    "\n",
    "#Drop records with no tokens\n",
    "df_text_tokens = df_text_tokens.where(col('words_list').getItem(0).isNotNull())\n",
    "df_text_tokens.limit(5).toPandas()"
   ]
  },
  {
   "cell_type": "markdown",
   "id": "8093446f-7ea8-475a-b6e7-ca9a14be8a5e",
   "metadata": {},
   "source": [
    "### Step 2. Fit countvectorizer to create word features for the text.\n",
    "\n",
    "I will create a matrix of the frequency of each word in each document using the Count Vectorizer."
   ]
  },
  {
   "cell_type": "code",
   "execution_count": 17,
   "id": "8cd1a261-04ca-428a-99b4-eb280b9e57ea",
   "metadata": {},
   "outputs": [
    {
     "name": "stderr",
     "output_type": "stream",
     "text": [
      "                                                                                \r"
     ]
    }
   ],
   "source": [
    "vectorize1 = CountVectorizer(inputCol=\"words_list\", outputCol=\"features\", minDF=1.0)\n",
    "df_text_vectorize = vectorize1.fit(df_text_tokens).transform(df_text_tokens)"
   ]
  },
  {
   "cell_type": "code",
   "execution_count": 18,
   "id": "5a7c02b6-3df0-4804-a456-3cccaff37b3b",
   "metadata": {},
   "outputs": [
    {
     "name": "stderr",
     "output_type": "stream",
     "text": [
      "                                                                                \r"
     ]
    },
    {
     "data": {
      "text/html": [
       "<div>\n",
       "<style scoped>\n",
       "    .dataframe tbody tr th:only-of-type {\n",
       "        vertical-align: middle;\n",
       "    }\n",
       "\n",
       "    .dataframe tbody tr th {\n",
       "        vertical-align: top;\n",
       "    }\n",
       "\n",
       "    .dataframe thead th {\n",
       "        text-align: right;\n",
       "    }\n",
       "</style>\n",
       "<table border=\"1\" class=\"dataframe\">\n",
       "  <thead>\n",
       "    <tr style=\"text-align: right;\">\n",
       "      <th></th>\n",
       "      <th>words_list</th>\n",
       "      <th>id</th>\n",
       "      <th>features</th>\n",
       "    </tr>\n",
       "  </thead>\n",
       "  <tbody>\n",
       "    <tr>\n",
       "      <th>0</th>\n",
       "      <td>[continues, celebrate, 100, years, university, system, makerere, advance, system, initiative, designed, build, digital, interactive, alumni]</td>\n",
       "      <td>0</td>\n",
       "      <td>(0.0, 0.0, 0.0, 1.0, 0.0, 0.0, 0.0, 0.0, 0.0, 0.0, 0.0, 0.0, 0.0, 0.0, 0.0, 0.0, 0.0, 0.0, 0.0, 0.0, 0.0, 0.0, 0.0, 0.0, 0.0, 0.0, 0.0, 0.0, 0.0, 0.0, 0.0, 0.0, 0.0, 0.0, 0.0, 0.0, 1.0, 0.0, 0.0, 0.0, 0.0, 0.0, 0.0, 0.0, 0.0, 0.0, 0.0, 0.0, 0.0, 0.0, 0.0, 0.0, 0.0, 0.0, 0.0, 0.0, 0.0, 0.0, 0.0, 0.0, 0.0, 0.0, 0.0, 0.0, 0.0, 0.0, 0.0, 0.0, 0.0, 0.0, 0.0, 0.0, 0.0, 0.0, 0.0, 0.0, 0.0, 0.0, 0.0, 0.0, 0.0, 0.0, 0.0, 0.0, 0.0, 0.0, 0.0, 0.0, 0.0, 0.0, 0.0, 0.0, 0.0, 0.0, 0.0, 0.0, 0.0, 0.0, 0.0, 0.0, ...)</td>\n",
       "    </tr>\n",
       "    <tr>\n",
       "      <th>1</th>\n",
       "      <td>[jasmine, young, appointed, director, school, business, howard, warner, music, university, blavatnik, center, entertainment]</td>\n",
       "      <td>1</td>\n",
       "      <td>(1.0, 0.0, 0.0, 1.0, 0.0, 0.0, 0.0, 0.0, 0.0, 0.0, 0.0, 0.0, 0.0, 0.0, 0.0, 0.0, 0.0, 0.0, 0.0, 0.0, 0.0, 0.0, 0.0, 0.0, 0.0, 0.0, 0.0, 0.0, 0.0, 0.0, 0.0, 0.0, 0.0, 0.0, 0.0, 0.0, 0.0, 0.0, 0.0, 0.0, 0.0, 0.0, 0.0, 0.0, 0.0, 0.0, 0.0, 0.0, 0.0, 0.0, 0.0, 0.0, 0.0, 0.0, 0.0, 0.0, 0.0, 0.0, 0.0, 0.0, 0.0, 0.0, 0.0, 0.0, 0.0, 0.0, 0.0, 0.0, 0.0, 0.0, 0.0, 0.0, 0.0, 0.0, 0.0, 0.0, 0.0, 0.0, 0.0, 0.0, 0.0, 0.0, 0.0, 0.0, 0.0, 0.0, 0.0, 0.0, 0.0, 0.0, 0.0, 0.0, 0.0, 0.0, 0.0, 0.0, 0.0, 0.0, 0.0, 0.0, ...)</td>\n",
       "    </tr>\n",
       "    <tr>\n",
       "      <th>2</th>\n",
       "      <td>[spring, school, engineering, students, participated, project, develop, educational, resources, bridge, historic, bridge, located, shelburne]</td>\n",
       "      <td>2</td>\n",
       "      <td>(1.0, 0.0, 0.0, 0.0, 1.0, 0.0, 0.0, 0.0, 0.0, 0.0, 0.0, 0.0, 0.0, 0.0, 0.0, 0.0, 0.0, 0.0, 0.0, 0.0, 0.0, 0.0, 0.0, 0.0, 0.0, 0.0, 0.0, 0.0, 0.0, 0.0, 0.0, 0.0, 0.0, 0.0, 0.0, 0.0, 0.0, 0.0, 0.0, 0.0, 0.0, 0.0, 0.0, 0.0, 0.0, 0.0, 0.0, 0.0, 0.0, 0.0, 0.0, 0.0, 0.0, 0.0, 0.0, 0.0, 0.0, 0.0, 0.0, 0.0, 0.0, 0.0, 0.0, 0.0, 0.0, 0.0, 0.0, 0.0, 0.0, 0.0, 0.0, 0.0, 0.0, 0.0, 0.0, 0.0, 0.0, 0.0, 0.0, 0.0, 0.0, 0.0, 0.0, 0.0, 0.0, 0.0, 0.0, 0.0, 0.0, 0.0, 0.0, 0.0, 0.0, 0.0, 0.0, 0.0, 0.0, 0.0, 0.0, 0.0, ...)</td>\n",
       "    </tr>\n",
       "    <tr>\n",
       "      <th>3</th>\n",
       "      <td>[phd, education, pay, school, think, financial, model, sure, julie, deserves, bills, covered, also, earning, advanced, education, student, loans, take, cover]</td>\n",
       "      <td>3</td>\n",
       "      <td>(1.0, 0.0, 0.0, 0.0, 0.0, 0.0, 0.0, 0.0, 0.0, 0.0, 0.0, 2.0, 0.0, 0.0, 0.0, 0.0, 0.0, 0.0, 0.0, 0.0, 0.0, 0.0, 0.0, 1.0, 0.0, 0.0, 0.0, 0.0, 0.0, 0.0, 0.0, 0.0, 0.0, 0.0, 0.0, 0.0, 0.0, 0.0, 0.0, 0.0, 0.0, 0.0, 0.0, 0.0, 0.0, 0.0, 0.0, 0.0, 0.0, 0.0, 0.0, 1.0, 0.0, 0.0, 1.0, 0.0, 0.0, 0.0, 0.0, 0.0, 0.0, 0.0, 0.0, 0.0, 1.0, 0.0, 0.0, 0.0, 0.0, 1.0, 0.0, 0.0, 0.0, 0.0, 0.0, 0.0, 0.0, 0.0, 0.0, 0.0, 0.0, 0.0, 0.0, 0.0, 0.0, 0.0, 0.0, 0.0, 0.0, 0.0, 0.0, 0.0, 0.0, 0.0, 0.0, 0.0, 0.0, 0.0, 0.0, 0.0, ...)</td>\n",
       "    </tr>\n",
       "    <tr>\n",
       "      <th>4</th>\n",
       "      <td>[graduates, high, school, tonight, talking, last, class, discuss, really, feel, schools, show, discussion, real, time, economics, like, gas, food]</td>\n",
       "      <td>4</td>\n",
       "      <td>(1.0, 0.0, 1.0, 0.0, 0.0, 0.0, 1.0, 0.0, 0.0, 0.0, 0.0, 0.0, 1.0, 0.0, 0.0, 0.0, 0.0, 0.0, 0.0, 1.0, 0.0, 0.0, 0.0, 0.0, 0.0, 0.0, 0.0, 0.0, 0.0, 0.0, 0.0, 0.0, 0.0, 0.0, 0.0, 0.0, 0.0, 0.0, 0.0, 0.0, 0.0, 0.0, 0.0, 0.0, 0.0, 0.0, 0.0, 0.0, 0.0, 0.0, 0.0, 0.0, 0.0, 0.0, 0.0, 0.0, 0.0, 0.0, 1.0, 1.0, 0.0, 0.0, 0.0, 0.0, 0.0, 0.0, 0.0, 0.0, 0.0, 0.0, 0.0, 0.0, 0.0, 0.0, 0.0, 0.0, 0.0, 0.0, 0.0, 0.0, 1.0, 0.0, 0.0, 0.0, 0.0, 0.0, 0.0, 0.0, 0.0, 0.0, 0.0, 0.0, 0.0, 0.0, 0.0, 0.0, 0.0, 0.0, 0.0, 0.0, ...)</td>\n",
       "    </tr>\n",
       "  </tbody>\n",
       "</table>\n",
       "</div>"
      ],
      "text/plain": [
       "                                                                                                                                                       words_list  \\\n",
       "0                    [continues, celebrate, 100, years, university, system, makerere, advance, system, initiative, designed, build, digital, interactive, alumni]   \n",
       "1                                    [jasmine, young, appointed, director, school, business, howard, warner, music, university, blavatnik, center, entertainment]   \n",
       "2                   [spring, school, engineering, students, participated, project, develop, educational, resources, bridge, historic, bridge, located, shelburne]   \n",
       "3  [phd, education, pay, school, think, financial, model, sure, julie, deserves, bills, covered, also, earning, advanced, education, student, loans, take, cover]   \n",
       "4              [graduates, high, school, tonight, talking, last, class, discuss, really, feel, schools, show, discussion, real, time, economics, like, gas, food]   \n",
       "\n",
       "   id  \\\n",
       "0   0   \n",
       "1   1   \n",
       "2   2   \n",
       "3   3   \n",
       "4   4   \n",
       "\n",
       "                                                                                                                                                                                                                                                                                                                                                                                                                                                                                                                    features  \n",
       "0  (0.0, 0.0, 0.0, 1.0, 0.0, 0.0, 0.0, 0.0, 0.0, 0.0, 0.0, 0.0, 0.0, 0.0, 0.0, 0.0, 0.0, 0.0, 0.0, 0.0, 0.0, 0.0, 0.0, 0.0, 0.0, 0.0, 0.0, 0.0, 0.0, 0.0, 0.0, 0.0, 0.0, 0.0, 0.0, 0.0, 1.0, 0.0, 0.0, 0.0, 0.0, 0.0, 0.0, 0.0, 0.0, 0.0, 0.0, 0.0, 0.0, 0.0, 0.0, 0.0, 0.0, 0.0, 0.0, 0.0, 0.0, 0.0, 0.0, 0.0, 0.0, 0.0, 0.0, 0.0, 0.0, 0.0, 0.0, 0.0, 0.0, 0.0, 0.0, 0.0, 0.0, 0.0, 0.0, 0.0, 0.0, 0.0, 0.0, 0.0, 0.0, 0.0, 0.0, 0.0, 0.0, 0.0, 0.0, 0.0, 0.0, 0.0, 0.0, 0.0, 0.0, 0.0, 0.0, 0.0, 0.0, 0.0, 0.0, 0.0, ...)  \n",
       "1  (1.0, 0.0, 0.0, 1.0, 0.0, 0.0, 0.0, 0.0, 0.0, 0.0, 0.0, 0.0, 0.0, 0.0, 0.0, 0.0, 0.0, 0.0, 0.0, 0.0, 0.0, 0.0, 0.0, 0.0, 0.0, 0.0, 0.0, 0.0, 0.0, 0.0, 0.0, 0.0, 0.0, 0.0, 0.0, 0.0, 0.0, 0.0, 0.0, 0.0, 0.0, 0.0, 0.0, 0.0, 0.0, 0.0, 0.0, 0.0, 0.0, 0.0, 0.0, 0.0, 0.0, 0.0, 0.0, 0.0, 0.0, 0.0, 0.0, 0.0, 0.0, 0.0, 0.0, 0.0, 0.0, 0.0, 0.0, 0.0, 0.0, 0.0, 0.0, 0.0, 0.0, 0.0, 0.0, 0.0, 0.0, 0.0, 0.0, 0.0, 0.0, 0.0, 0.0, 0.0, 0.0, 0.0, 0.0, 0.0, 0.0, 0.0, 0.0, 0.0, 0.0, 0.0, 0.0, 0.0, 0.0, 0.0, 0.0, 0.0, ...)  \n",
       "2  (1.0, 0.0, 0.0, 0.0, 1.0, 0.0, 0.0, 0.0, 0.0, 0.0, 0.0, 0.0, 0.0, 0.0, 0.0, 0.0, 0.0, 0.0, 0.0, 0.0, 0.0, 0.0, 0.0, 0.0, 0.0, 0.0, 0.0, 0.0, 0.0, 0.0, 0.0, 0.0, 0.0, 0.0, 0.0, 0.0, 0.0, 0.0, 0.0, 0.0, 0.0, 0.0, 0.0, 0.0, 0.0, 0.0, 0.0, 0.0, 0.0, 0.0, 0.0, 0.0, 0.0, 0.0, 0.0, 0.0, 0.0, 0.0, 0.0, 0.0, 0.0, 0.0, 0.0, 0.0, 0.0, 0.0, 0.0, 0.0, 0.0, 0.0, 0.0, 0.0, 0.0, 0.0, 0.0, 0.0, 0.0, 0.0, 0.0, 0.0, 0.0, 0.0, 0.0, 0.0, 0.0, 0.0, 0.0, 0.0, 0.0, 0.0, 0.0, 0.0, 0.0, 0.0, 0.0, 0.0, 0.0, 0.0, 0.0, 0.0, ...)  \n",
       "3  (1.0, 0.0, 0.0, 0.0, 0.0, 0.0, 0.0, 0.0, 0.0, 0.0, 0.0, 2.0, 0.0, 0.0, 0.0, 0.0, 0.0, 0.0, 0.0, 0.0, 0.0, 0.0, 0.0, 1.0, 0.0, 0.0, 0.0, 0.0, 0.0, 0.0, 0.0, 0.0, 0.0, 0.0, 0.0, 0.0, 0.0, 0.0, 0.0, 0.0, 0.0, 0.0, 0.0, 0.0, 0.0, 0.0, 0.0, 0.0, 0.0, 0.0, 0.0, 1.0, 0.0, 0.0, 1.0, 0.0, 0.0, 0.0, 0.0, 0.0, 0.0, 0.0, 0.0, 0.0, 1.0, 0.0, 0.0, 0.0, 0.0, 1.0, 0.0, 0.0, 0.0, 0.0, 0.0, 0.0, 0.0, 0.0, 0.0, 0.0, 0.0, 0.0, 0.0, 0.0, 0.0, 0.0, 0.0, 0.0, 0.0, 0.0, 0.0, 0.0, 0.0, 0.0, 0.0, 0.0, 0.0, 0.0, 0.0, 0.0, ...)  \n",
       "4  (1.0, 0.0, 1.0, 0.0, 0.0, 0.0, 1.0, 0.0, 0.0, 0.0, 0.0, 0.0, 1.0, 0.0, 0.0, 0.0, 0.0, 0.0, 0.0, 1.0, 0.0, 0.0, 0.0, 0.0, 0.0, 0.0, 0.0, 0.0, 0.0, 0.0, 0.0, 0.0, 0.0, 0.0, 0.0, 0.0, 0.0, 0.0, 0.0, 0.0, 0.0, 0.0, 0.0, 0.0, 0.0, 0.0, 0.0, 0.0, 0.0, 0.0, 0.0, 0.0, 0.0, 0.0, 0.0, 0.0, 0.0, 0.0, 1.0, 1.0, 0.0, 0.0, 0.0, 0.0, 0.0, 0.0, 0.0, 0.0, 0.0, 0.0, 0.0, 0.0, 0.0, 0.0, 0.0, 0.0, 0.0, 0.0, 0.0, 0.0, 1.0, 0.0, 0.0, 0.0, 0.0, 0.0, 0.0, 0.0, 0.0, 0.0, 0.0, 0.0, 0.0, 0.0, 0.0, 0.0, 0.0, 0.0, 0.0, 0.0, ...)  "
      ]
     },
     "execution_count": 18,
     "metadata": {},
     "output_type": "execute_result"
    }
   ],
   "source": [
    "df_text_vectorize.limit(5).toPandas()"
   ]
  },
  {
   "cell_type": "markdown",
   "id": "a20d7f3e-b5bb-4500-8d65-545242cce056",
   "metadata": {},
   "source": [
    "### Step 3. Fit MinHashLSH to create hash table for the text\n",
    "\n",
    "I will then hash the count vectorizer into a compressed signature. I added 5 hash tables to increase the accuracy, even though this will take more time."
   ]
  },
  {
   "cell_type": "code",
   "execution_count": 19,
   "id": "e2acba8d-b5e7-4e77-a416-dfeb83e883db",
   "metadata": {},
   "outputs": [],
   "source": [
    "mh1 = MinHashLSH(inputCol=\"features\", outputCol=\"hashes\", numHashTables=5)\n",
    "model1 = mh1.fit(df_text_vectorize)\n",
    "df_hashed1 = model1.transform(df_text_vectorize).cache()"
   ]
  },
  {
   "cell_type": "code",
   "execution_count": null,
   "id": "52adb8d4-1e15-400d-b120-d202b4ab74ab",
   "metadata": {},
   "outputs": [
    {
     "name": "stderr",
     "output_type": "stream",
     "text": [
      "                                                                                \r"
     ]
    },
    {
     "data": {
      "text/html": [
       "<table border='1'>\n",
       "<tr><th>id</th><th>text</th><th>words_list</th><th>features</th><th>hashes</th></tr>\n",
       "<tr><td>26</td><td>{Delaware State U...</td><td>[delaware, state,...</td><td>(42091,[3,34,593,...</td><td>[[2.2304672E8], [...</td></tr>\n",
       "<tr><td>29</td><td>{Seriously?! What...</td><td>[joke, coming, le...</td><td>(42091,[12,22,77,...</td><td>[[2.41716268E8], ...</td></tr>\n",
       "<tr><td>474</td><td>{@LisaOverachieve...</td><td>[graduated, high,...</td><td>(42091,[0,2,150],...</td><td>[[4.7945584E7], [...</td></tr>\n",
       "<tr><td>964</td><td>{What a better wa...</td><td>[better, way, sta...</td><td>(42091,[2,30,33,7...</td><td>[[2.17491001E8], ...</td></tr>\n",
       "<tr><td>1677</td><td>{Perfect second f...</td><td>[perfect, second,...</td><td>(42091,[3,87,369,...</td><td>[[1.44838789E8], ...</td></tr>\n",
       "</table>\n"
      ],
      "text/plain": [
       "+----+--------------------+--------------------+--------------------+--------------------+\n",
       "|  id|                text|          words_list|            features|              hashes|\n",
       "+----+--------------------+--------------------+--------------------+--------------------+\n",
       "|  26|{Delaware State U...|[delaware, state,...|(42091,[3,34,593,...|[[2.2304672E8], [...|\n",
       "|  29|{Seriously?! What...|[joke, coming, le...|(42091,[12,22,77,...|[[2.41716268E8], ...|\n",
       "| 474|{@LisaOverachieve...|[graduated, high,...|(42091,[0,2,150],...|[[4.7945584E7], [...|\n",
       "| 964|{What a better wa...|[better, way, sta...|(42091,[2,30,33,7...|[[2.17491001E8], ...|\n",
       "|1677|{Perfect second f...|[perfect, second,...|(42091,[3,87,369,...|[[1.44838789E8], ...|\n",
       "+----+--------------------+--------------------+--------------------+--------------------+"
      ]
     },
     "execution_count": 20,
     "metadata": {},
     "output_type": "execute_result"
    }
   ],
   "source": [
    "df_hashed_text = df_text.join(df_hashed1, \"id\", how = 'left').cache()\n",
    "df_hashed_text.limit(5)"
   ]
  },
  {
   "cell_type": "code",
   "execution_count": 21,
   "id": "84e3e25c-ddaa-4d5b-99bc-20b8fe3da381",
   "metadata": {},
   "outputs": [
    {
     "name": "stdout",
     "output_type": "stream",
     "text": [
      "root\n",
      " |-- id: long (nullable = true)\n",
      " |-- text: struct (nullable = true)\n",
      " |    |-- text: string (nullable = true)\n",
      " |-- words_list: array (nullable = true)\n",
      " |    |-- element: string (containsNull = true)\n",
      " |-- features: vector (nullable = true)\n",
      " |-- hashes: array (nullable = true)\n",
      " |    |-- element: vector (containsNull = true)\n",
      "\n"
     ]
    }
   ],
   "source": [
    "df_hashed_text.printSchema()"
   ]
  },
  {
   "cell_type": "markdown",
   "id": "18def66d-1453-4c60-a7ed-b143560f1f30",
   "metadata": {},
   "source": [
    "### Step 4. Establish similarity threshold and return near-duplicate records\n",
    "**Note:** we are joining dataframe to itself to get near-duplicate pairs\n",
    "        \n",
    "**I am also going to be using Jaccard threshold of 0.3, 0.5, and 0.7 to test for the similarities between the text and identify the right Jaccard similarity for the corpus.**"
   ]
  },
  {
   "cell_type": "markdown",
   "id": "801bf798-230b-4764-8f14-64fe7660d8d7",
   "metadata": {},
   "source": [
    "#### Jaccard 0.3\n",
    "\n",
    "I am going to join the dataframe to itself to get a near-duplicate pair if the jaccard distance between the combination of the hash values is 0.3 or less"
   ]
  },
  {
   "cell_type": "code",
   "execution_count": 21,
   "id": "380449f1-0159-44cf-b0cb-6cc2777b6622",
   "metadata": {},
   "outputs": [],
   "source": [
    "jaccard_distance = 0.3\n",
    "\n",
    "df_dups_text3 = model1.approxSimilarityJoin(df_hashed_text, df_hashed_text, jaccard_distance).filter(\"datasetA.id < datasetB.id\").select(\n",
    "            col(\"distCol\"),\n",
    "            col(\"datasetA.id\").alias(\"id_A\"),\n",
    "            col(\"datasetB.id\").alias(\"id_B\"),\n",
    "            col('datasetA.text').alias('text_A'),\n",
    "            col('datasetB.text').alias('text_B')\n",
    "            )"
   ]
  },
  {
   "cell_type": "code",
   "execution_count": null,
   "id": "7bcc4bcc-8468-44a0-bab1-d16d063522e1",
   "metadata": {},
   "outputs": [
    {
     "name": "stderr",
     "output_type": "stream",
     "text": [
      "                                                                                \r"
     ]
    },
    {
     "data": {
      "text/html": [
       "<div>\n",
       "<style scoped>\n",
       "    .dataframe tbody tr th:only-of-type {\n",
       "        vertical-align: middle;\n",
       "    }\n",
       "\n",
       "    .dataframe tbody tr th {\n",
       "        vertical-align: top;\n",
       "    }\n",
       "\n",
       "    .dataframe thead th {\n",
       "        text-align: right;\n",
       "    }\n",
       "</style>\n",
       "<table border=\"1\" class=\"dataframe\">\n",
       "  <thead>\n",
       "    <tr style=\"text-align: right;\">\n",
       "      <th></th>\n",
       "      <th>distCol</th>\n",
       "      <th>id_A</th>\n",
       "      <th>id_B</th>\n",
       "      <th>text_A</th>\n",
       "      <th>text_B</th>\n",
       "    </tr>\n",
       "  </thead>\n",
       "  <tbody>\n",
       "    <tr>\n",
       "      <th>0</th>\n",
       "      <td>0.0</td>\n",
       "      <td>3869</td>\n",
       "      <td>30989</td>\n",
       "      <td>(Use of any relationship consumer order thing scene check college car include city. https://t.co/GBF60Eqq39,)</td>\n",
       "      <td>(Use of any relationship consumer order thing scene check college car include city. https://t.co/54AXbMf56b,)</td>\n",
       "    </tr>\n",
       "    <tr>\n",
       "      <th>1</th>\n",
       "      <td>0.0</td>\n",
       "      <td>3869</td>\n",
       "      <td>38256</td>\n",
       "      <td>(Use of any relationship consumer order thing scene check college car include city. https://t.co/GBF60Eqq39,)</td>\n",
       "      <td>(Use of any relationship consumer order thing scene check college car include city. https://t.co/eMq61jbw1q,)</td>\n",
       "    </tr>\n",
       "    <tr>\n",
       "      <th>2</th>\n",
       "      <td>0.0</td>\n",
       "      <td>27814</td>\n",
       "      <td>34529</td>\n",
       "      <td>(@SaharaReporters This is a university ffs!!!,)</td>\n",
       "      <td>(@geneVIBE_ University is a scam, man.,)</td>\n",
       "    </tr>\n",
       "    <tr>\n",
       "      <th>3</th>\n",
       "      <td>0.0</td>\n",
       "      <td>34639</td>\n",
       "      <td>43036</td>\n",
       "      <td>(Happy total section for college win capital serve collection part song agreement. https://t.co/bK1WCbVll9,)</td>\n",
       "      <td>(@michele_gillam1 Happy total section for college win capital serve collection part song agreement.,)</td>\n",
       "    </tr>\n",
       "    <tr>\n",
       "      <th>4</th>\n",
       "      <td>0.0</td>\n",
       "      <td>34639</td>\n",
       "      <td>50570</td>\n",
       "      <td>(Happy total section for college win capital serve collection part song agreement. https://t.co/bK1WCbVll9,)</td>\n",
       "      <td>(Happy total section for college win capital serve collection part song agreement. https://t.co/v3HvJYSR2c,)</td>\n",
       "    </tr>\n",
       "  </tbody>\n",
       "</table>\n",
       "</div>"
      ],
      "text/plain": [
       "   distCol   id_A   id_B  \\\n",
       "0      0.0   3869  30989   \n",
       "1      0.0   3869  38256   \n",
       "2      0.0  27814  34529   \n",
       "3      0.0  34639  43036   \n",
       "4      0.0  34639  50570   \n",
       "\n",
       "                                                                                                          text_A  \\\n",
       "0  (Use of any relationship consumer order thing scene check college car include city. https://t.co/GBF60Eqq39,)   \n",
       "1  (Use of any relationship consumer order thing scene check college car include city. https://t.co/GBF60Eqq39,)   \n",
       "2                                                                (@SaharaReporters This is a university ffs!!!,)   \n",
       "3   (Happy total section for college win capital serve collection part song agreement. https://t.co/bK1WCbVll9,)   \n",
       "4   (Happy total section for college win capital serve collection part song agreement. https://t.co/bK1WCbVll9,)   \n",
       "\n",
       "                                                                                                          text_B  \n",
       "0  (Use of any relationship consumer order thing scene check college car include city. https://t.co/54AXbMf56b,)  \n",
       "1  (Use of any relationship consumer order thing scene check college car include city. https://t.co/eMq61jbw1q,)  \n",
       "2                                                                       (@geneVIBE_ University is a scam, man.,)  \n",
       "3          (@michele_gillam1 Happy total section for college win capital serve collection part song agreement.,)  \n",
       "4   (Happy total section for college win capital serve collection part song agreement. https://t.co/v3HvJYSR2c,)  "
      ]
     },
     "execution_count": 22,
     "metadata": {},
     "output_type": "execute_result"
    }
   ],
   "source": [
    "df_dups_30 = df_dups_text3\n",
    "df_dups_text3.cache()\n",
    "df_dups_text3.limit(5).toPandas()"
   ]
  },
  {
   "cell_type": "code",
   "execution_count": 23,
   "id": "971142c3-5c25-4497-acb4-b7d9882346e2",
   "metadata": {},
   "outputs": [
    {
     "name": "stderr",
     "output_type": "stream",
     "text": [
      "[Stage 68:====================================================> (193 + 4) / 200]\r"
     ]
    },
    {
     "name": "stdout",
     "output_type": "stream",
     "text": [
      "Total records:  52481\n",
      "Duplicate titles based on { 0.3 } jaccard distance:  3980\n",
      "Unique titles based on { 0.3 } jaccard distance:  0.3 :  48501\n"
     ]
    },
    {
     "name": "stderr",
     "output_type": "stream",
     "text": [
      "                                                                                \r"
     ]
    }
   ],
   "source": [
    "records = df_hashed_text.count()\n",
    "dups = df_dups_text3.select('id_A').distinct().count()\n",
    "uniques = records - dups\n",
    "\n",
    "print ('Total records: ', records)\n",
    "print ('Duplicate titles based on {', jaccard_distance, '} jaccard distance: ', dups)\n",
    "print ('Unique titles based on {', jaccard_distance, '} jaccard distance: ', jaccard_distance, ': ', uniques)"
   ]
  },
  {
   "cell_type": "code",
   "execution_count": 24,
   "id": "7f00eafa-95af-45e3-b11e-cdba57e64823",
   "metadata": {},
   "outputs": [
    {
     "data": {
      "image/png": "[encoded data removed]",
      "text/plain": [
       "<Figure size 640x480 with 1 Axes>"
      ]
     },
     "metadata": {},
     "output_type": "display_data"
    }
   ],
   "source": [
    "dups3_df = pd.DataFrame.from_dict({'near_dups': [dups], 'unique': [uniques]})\n",
    "\n",
    "ax=dups3_df.plot(kind = 'bar',y=['near_dups', 'unique'], fontsize=10, color=['grey', 'teal'], align='center', width=0.8, xlabel=\"Duplicates vs. Unique\")\n",
    "ax.set_title('Tweets Duplication Analysis for Jaccard .3', fontsize=15)\n",
    "for p in ax.patches:\n",
    "       ax.annotate(format(p.get_height(), '.1f'), \n",
    "                   (p.get_x() + p.get_width() / 2., p.get_height()/2),  \n",
    "                   ha = 'center', va = 'center', \n",
    "                   xytext = (0, 9), \n",
    "                   textcoords = 'offset points') "
   ]
  },
  {
   "cell_type": "markdown",
   "id": "5a5bba26-9dc9-421e-a1fe-1d833bd5f17c",
   "metadata": {},
   "source": [
    "The bar chart above shows the **count of the unique and near-duplicate tweets from the Jaccard threshold of 0.3. It shows that out of about 52,000 plus records analyzed, 3,980 tweets are identified to be near-duplicate and 48,501 tweets are unique.**"
   ]
  },
  {
   "cell_type": "markdown",
   "id": "df48d88d-81a9-4dd5-9a33-828a999b1cd6",
   "metadata": {},
   "source": [
    "#### Jaccard 0.5\n",
    "\n",
    "I am going to join the dataframe to itself to get a near-duplicate pair if the jaccard distance between the combination of the hash values is 0.5 or less"
   ]
  },
  {
   "cell_type": "code",
   "execution_count": 25,
   "id": "f20d48a5-6943-41b4-ba52-92a7f3bb50c4",
   "metadata": {},
   "outputs": [],
   "source": [
    "jaccard_distance = 0.5\n",
    "\n",
    "df_dups_text5 = model1.approxSimilarityJoin(df_hashed_text, df_hashed_text, jaccard_distance).filter(\"datasetA.id < datasetB.id\").select(\n",
    "            col(\"distCol\"),\n",
    "            col(\"datasetA.id\").alias(\"id_A\"),\n",
    "            col(\"datasetB.id\").alias(\"id_B\"),\n",
    "            col('datasetA.text').alias('text_A'),\n",
    "            col('datasetB.text').alias('text_B')\n",
    "            )"
   ]
  },
  {
   "cell_type": "code",
   "execution_count": 26,
   "id": "faba90a0-5a9d-4649-8161-56c8647e9d61",
   "metadata": {},
   "outputs": [
    {
     "name": "stderr",
     "output_type": "stream",
     "text": [
      "                                                                                \r"
     ]
    },
    {
     "data": {
      "text/html": [
       "<div>\n",
       "<style scoped>\n",
       "    .dataframe tbody tr th:only-of-type {\n",
       "        vertical-align: middle;\n",
       "    }\n",
       "\n",
       "    .dataframe tbody tr th {\n",
       "        vertical-align: top;\n",
       "    }\n",
       "\n",
       "    .dataframe thead th {\n",
       "        text-align: right;\n",
       "    }\n",
       "</style>\n",
       "<table border=\"1\" class=\"dataframe\">\n",
       "  <thead>\n",
       "    <tr style=\"text-align: right;\">\n",
       "      <th></th>\n",
       "      <th>distCol</th>\n",
       "      <th>id_A</th>\n",
       "      <th>id_B</th>\n",
       "      <th>text_A</th>\n",
       "      <th>text_B</th>\n",
       "    </tr>\n",
       "  </thead>\n",
       "  <tbody>\n",
       "    <tr>\n",
       "      <th>0</th>\n",
       "      <td>0.0</td>\n",
       "      <td>3869</td>\n",
       "      <td>30989</td>\n",
       "      <td>(Use of any relationship consumer order thing scene check college car include city. https://t.co/GBF60Eqq39,)</td>\n",
       "      <td>(Use of any relationship consumer order thing scene check college car include city. https://t.co/54AXbMf56b,)</td>\n",
       "    </tr>\n",
       "    <tr>\n",
       "      <th>1</th>\n",
       "      <td>0.0</td>\n",
       "      <td>3869</td>\n",
       "      <td>38256</td>\n",
       "      <td>(Use of any relationship consumer order thing scene check college car include city. https://t.co/GBF60Eqq39,)</td>\n",
       "      <td>(Use of any relationship consumer order thing scene check college car include city. https://t.co/eMq61jbw1q,)</td>\n",
       "    </tr>\n",
       "    <tr>\n",
       "      <th>2</th>\n",
       "      <td>0.0</td>\n",
       "      <td>27814</td>\n",
       "      <td>34529</td>\n",
       "      <td>(@SaharaReporters This is a university ffs!!!,)</td>\n",
       "      <td>(@geneVIBE_ University is a scam, man.,)</td>\n",
       "    </tr>\n",
       "    <tr>\n",
       "      <th>3</th>\n",
       "      <td>0.0</td>\n",
       "      <td>34639</td>\n",
       "      <td>43036</td>\n",
       "      <td>(Happy total section for college win capital serve collection part song agreement. https://t.co/bK1WCbVll9,)</td>\n",
       "      <td>(@michele_gillam1 Happy total section for college win capital serve collection part song agreement.,)</td>\n",
       "    </tr>\n",
       "    <tr>\n",
       "      <th>4</th>\n",
       "      <td>0.0</td>\n",
       "      <td>34639</td>\n",
       "      <td>50570</td>\n",
       "      <td>(Happy total section for college win capital serve collection part song agreement. https://t.co/bK1WCbVll9,)</td>\n",
       "      <td>(Happy total section for college win capital serve collection part song agreement. https://t.co/v3HvJYSR2c,)</td>\n",
       "    </tr>\n",
       "  </tbody>\n",
       "</table>\n",
       "</div>"
      ],
      "text/plain": [
       "   distCol   id_A   id_B  \\\n",
       "0      0.0   3869  30989   \n",
       "1      0.0   3869  38256   \n",
       "2      0.0  27814  34529   \n",
       "3      0.0  34639  43036   \n",
       "4      0.0  34639  50570   \n",
       "\n",
       "                                                                                                          text_A  \\\n",
       "0  (Use of any relationship consumer order thing scene check college car include city. https://t.co/GBF60Eqq39,)   \n",
       "1  (Use of any relationship consumer order thing scene check college car include city. https://t.co/GBF60Eqq39,)   \n",
       "2                                                                (@SaharaReporters This is a university ffs!!!,)   \n",
       "3   (Happy total section for college win capital serve collection part song agreement. https://t.co/bK1WCbVll9,)   \n",
       "4   (Happy total section for college win capital serve collection part song agreement. https://t.co/bK1WCbVll9,)   \n",
       "\n",
       "                                                                                                          text_B  \n",
       "0  (Use of any relationship consumer order thing scene check college car include city. https://t.co/54AXbMf56b,)  \n",
       "1  (Use of any relationship consumer order thing scene check college car include city. https://t.co/eMq61jbw1q,)  \n",
       "2                                                                       (@geneVIBE_ University is a scam, man.,)  \n",
       "3          (@michele_gillam1 Happy total section for college win capital serve collection part song agreement.,)  \n",
       "4   (Happy total section for college win capital serve collection part song agreement. https://t.co/v3HvJYSR2c,)  "
      ]
     },
     "execution_count": 26,
     "metadata": {},
     "output_type": "execute_result"
    }
   ],
   "source": [
    "df_dups_50 = df_dups_text5\n",
    "df_dups_text5.cache()\n",
    "df_dups_text5.limit(5).toPandas()"
   ]
  },
  {
   "cell_type": "code",
   "execution_count": 27,
   "id": "5c3569c7-8c30-4103-8ddc-5632a17fe1b0",
   "metadata": {},
   "outputs": [
    {
     "name": "stderr",
     "output_type": "stream",
     "text": [
      "[Stage 97:====================================================> (193 + 4) / 200]\r"
     ]
    },
    {
     "name": "stdout",
     "output_type": "stream",
     "text": [
      "Total records:  52481\n",
      "Duplicate titles based on { 0.5 } jaccard distance:  7104\n",
      "Unique titles based on { 0.5 } jaccard distance:  0.5 :  45377\n"
     ]
    },
    {
     "name": "stderr",
     "output_type": "stream",
     "text": [
      "                                                                                \r"
     ]
    }
   ],
   "source": [
    "records5 = df_hashed_text.count()\n",
    "dups5 = df_dups_text5.select('id_A').distinct().count()\n",
    "uniques5 = records5 - dups5\n",
    "\n",
    "print ('Total records: ', records5)\n",
    "print ('Duplicate titles based on {', jaccard_distance, '} jaccard distance: ', dups5)\n",
    "print ('Unique titles based on {', jaccard_distance, '} jaccard distance: ', jaccard_distance, ': ', uniques5)"
   ]
  },
  {
   "cell_type": "code",
   "execution_count": 28,
   "id": "b7df0003-ad80-4a51-8bc8-a71d0ed5f3d8",
   "metadata": {},
   "outputs": [
    {
     "data": {
      "image/png": "[encoded data removed]",
      "text/plain": [
       "<Figure size 640x480 with 1 Axes>"
      ]
     },
     "metadata": {},
     "output_type": "display_data"
    }
   ],
   "source": [
    "dups5_df = pd.DataFrame.from_dict({'near_dups': [dups5], 'unique': [uniques5]})\n",
    "\n",
    "ax=dups5_df.plot(kind = 'bar',y=['near_dups', 'unique'], fontsize=10, color=['C0', 'C1'], align='center', width=0.8, xlabel=\"Duplicates vs. Unique\")\n",
    "ax.set_title('Tweet Duplication Analysis for Jaccard .5', fontsize=10)\n",
    "for p in ax.patches:\n",
    "       ax.annotate(format(p.get_height(), '.1f'), \n",
    "                   (p.get_x() + p.get_width() / 2., p.get_height()/2), \n",
    "                   ha = 'center', va = 'center', \n",
    "                   xytext = (0, 9), \n",
    "                   textcoords = 'offset points') "
   ]
  },
  {
   "cell_type": "markdown",
   "id": "a78aadc2-ee7c-4984-a91e-9b2b938ef883",
   "metadata": {},
   "source": [
    "The bar chart above shows the **count of the unique and near-duplicate tweets from the Jaccard threshold of 0.5. It shows that out of about 52,000 plus records analyzed, 7,104 tweets are identified to be near-duplicate and 45,377 tweets are unique.**\n",
    "\n",
    "There is an increase in the number of near-duplicate tweets identified by Jaccard 0.5 and a decrease in the number of unique tweets compared to Jaccard threshold of 0.3"
   ]
  },
  {
   "cell_type": "markdown",
   "id": "d5fd1071-c5f3-44c3-897a-2c1876a80659",
   "metadata": {},
   "source": [
    "#### Jaccard 0.7\n",
    "\n",
    "I am going to join the dataframe to itself to get a near-duplicate pair if the jaccard distance between the combination of the hash values is 0.7 or less"
   ]
  },
  {
   "cell_type": "code",
   "execution_count": 29,
   "id": "d257794c-9ab7-4b61-8c10-2b171fe3ccb9",
   "metadata": {},
   "outputs": [],
   "source": [
    "jaccard_distance = 0.7\n",
    "\n",
    "df_dups_text7 = model1.approxSimilarityJoin(df_hashed_text, df_hashed_text, jaccard_distance).filter(\"datasetA.id < datasetB.id\").select(\n",
    "            col(\"distCol\"),\n",
    "            col(\"datasetA.id\").alias(\"id_A\"),\n",
    "            col(\"datasetB.id\").alias(\"id_B\"),\n",
    "            col('datasetA.text').alias('text_A'),\n",
    "            col('datasetB.text').alias('text_B')\n",
    "            )"
   ]
  },
  {
   "cell_type": "code",
   "execution_count": 30,
   "id": "f7949e3a-c426-4eaf-96df-85aae2df2323",
   "metadata": {},
   "outputs": [
    {
     "name": "stderr",
     "output_type": "stream",
     "text": [
      "                                                                                \r"
     ]
    },
    {
     "data": {
      "text/html": [
       "<div>\n",
       "<style scoped>\n",
       "    .dataframe tbody tr th:only-of-type {\n",
       "        vertical-align: middle;\n",
       "    }\n",
       "\n",
       "    .dataframe tbody tr th {\n",
       "        vertical-align: top;\n",
       "    }\n",
       "\n",
       "    .dataframe thead th {\n",
       "        text-align: right;\n",
       "    }\n",
       "</style>\n",
       "<table border=\"1\" class=\"dataframe\">\n",
       "  <thead>\n",
       "    <tr style=\"text-align: right;\">\n",
       "      <th></th>\n",
       "      <th>distCol</th>\n",
       "      <th>id_A</th>\n",
       "      <th>id_B</th>\n",
       "      <th>text_A</th>\n",
       "      <th>text_B</th>\n",
       "    </tr>\n",
       "  </thead>\n",
       "  <tbody>\n",
       "    <tr>\n",
       "      <th>0</th>\n",
       "      <td>0.000000</td>\n",
       "      <td>3869</td>\n",
       "      <td>30989</td>\n",
       "      <td>(Use of any relationship consumer order thing scene check college car include city. https://t.co/GBF60Eqq39,)</td>\n",
       "      <td>(Use of any relationship consumer order thing scene check college car include city. https://t.co/54AXbMf56b,)</td>\n",
       "    </tr>\n",
       "    <tr>\n",
       "      <th>1</th>\n",
       "      <td>0.000000</td>\n",
       "      <td>3869</td>\n",
       "      <td>38256</td>\n",
       "      <td>(Use of any relationship consumer order thing scene check college car include city. https://t.co/GBF60Eqq39,)</td>\n",
       "      <td>(Use of any relationship consumer order thing scene check college car include city. https://t.co/eMq61jbw1q,)</td>\n",
       "    </tr>\n",
       "    <tr>\n",
       "      <th>2</th>\n",
       "      <td>0.666667</td>\n",
       "      <td>4473</td>\n",
       "      <td>5554</td>\n",
       "      <td>(@MarthaTilghman @saularm653 Where did you go to high school?,)</td>\n",
       "      <td>(the reason why people go to that high school everyday https://t.co/jXRGMg68G3,)</td>\n",
       "    </tr>\n",
       "  </tbody>\n",
       "</table>\n",
       "</div>"
      ],
      "text/plain": [
       "    distCol  id_A   id_B  \\\n",
       "0  0.000000  3869  30989   \n",
       "1  0.000000  3869  38256   \n",
       "2  0.666667  4473   5554   \n",
       "\n",
       "                                                                                                          text_A  \\\n",
       "0  (Use of any relationship consumer order thing scene check college car include city. https://t.co/GBF60Eqq39,)   \n",
       "1  (Use of any relationship consumer order thing scene check college car include city. https://t.co/GBF60Eqq39,)   \n",
       "2                                                (@MarthaTilghman @saularm653 Where did you go to high school?,)   \n",
       "\n",
       "                                                                                                          text_B  \n",
       "0  (Use of any relationship consumer order thing scene check college car include city. https://t.co/54AXbMf56b,)  \n",
       "1  (Use of any relationship consumer order thing scene check college car include city. https://t.co/eMq61jbw1q,)  \n",
       "2                               (the reason why people go to that high school everyday https://t.co/jXRGMg68G3,)  "
      ]
     },
     "execution_count": 30,
     "metadata": {},
     "output_type": "execute_result"
    }
   ],
   "source": [
    "df_dups_70 = df_dups_text7\n",
    "df_dups_text7.cache()\n",
    "df_dups_text7.limit(3).toPandas()"
   ]
  },
  {
   "cell_type": "code",
   "execution_count": 31,
   "id": "2a898526-f9cf-4759-aabf-ef78cc4e31d2",
   "metadata": {},
   "outputs": [
    {
     "name": "stderr",
     "output_type": "stream",
     "text": [
      "[Stage 126:===================================================> (194 + 4) / 200]\r"
     ]
    },
    {
     "name": "stdout",
     "output_type": "stream",
     "text": [
      "Total records:  52481\n",
      "Duplicate titles based on { 0.7 } jaccard distance:  18188\n",
      "Unique titles based on { 0.7 } jaccard distance:  0.7 :  34293\n"
     ]
    },
    {
     "name": "stderr",
     "output_type": "stream",
     "text": [
      "                                                                                \r"
     ]
    }
   ],
   "source": [
    "records7 = df_hashed_text.count()\n",
    "dups7 = df_dups_text7.select('id_A').distinct().count()\n",
    "uniques7 = records7 - dups7\n",
    "\n",
    "print ('Total records: ', records7)\n",
    "print ('Duplicate titles based on {', jaccard_distance, '} jaccard distance: ', dups7)\n",
    "print ('Unique titles based on {', jaccard_distance, '} jaccard distance: ', jaccard_distance, ': ', uniques7)"
   ]
  },
  {
   "cell_type": "code",
   "execution_count": 32,
   "id": "da848203-9481-4b71-9699-657526292017",
   "metadata": {},
   "outputs": [
    {
     "data": {
      "image/png": "[encoded data removed]",
      "text/plain": [
       "<Figure size 640x480 with 1 Axes>"
      ]
     },
     "metadata": {},
     "output_type": "display_data"
    }
   ],
   "source": [
    "dups7_df = pd.DataFrame.from_dict({'near_dups': [dups7], 'unique': [uniques7]})\n",
    "\n",
    "ax=dups7_df.plot(kind = 'bar',y=['near_dups', 'unique'], fontsize=10, color=['green', 'purple'], align='center', width=0.8, xlabel=\"Duplicates vs. Unique\")\n",
    "ax.set_title('Tweet Duplication Analysis for Jaccard .7', fontsize=10)\n",
    "for p in ax.patches:\n",
    "       ax.annotate(format(p.get_height(), '.1f'), \n",
    "                   (p.get_x() + p.get_width() / 2., p.get_height()/2), \n",
    "                   ha = 'center', va = 'center', \n",
    "                   xytext = (0, 9), \n",
    "                   textcoords = 'offset points') "
   ]
  },
  {
   "cell_type": "markdown",
   "id": "14314ca5-4c34-46f1-8750-d17b30471d53",
   "metadata": {},
   "source": [
    "The bar chart above shows the **count of the unique and near-duplicate tweets from the Jaccard threshold of 0.7. It shows that out of about 52,000 plus records analyzed, 18,188 tweets are identified to be near-duplicate and 34,293 tweets are unique.**\n",
    "\n",
    "There is an increase in the number of near-duplicate tweets identified by Jaccard 0.7 and a decrease in the number of unique tweets compared to Jaccard threshold of 0.3 and 0.5"
   ]
  },
  {
   "cell_type": "markdown",
   "id": "8b3f9d06-cdfe-4f2e-8574-8efddd333eb6",
   "metadata": {},
   "source": [
    "### Step 5. Compare thresholds side-by-side"
   ]
  },
  {
   "cell_type": "code",
   "execution_count": 33,
   "id": "a924e187-ce17-4e41-9086-f67e99db0d27",
   "metadata": {},
   "outputs": [
    {
     "name": "stderr",
     "output_type": "stream",
     "text": [
      "                                                                                \r"
     ]
    },
    {
     "name": "stdout",
     "output_type": "stream",
     "text": [
      "289086\n"
     ]
    },
    {
     "name": "stderr",
     "output_type": "stream",
     "text": [
      "                                                                                \r"
     ]
    },
    {
     "name": "stdout",
     "output_type": "stream",
     "text": [
      "355562\n"
     ]
    },
    {
     "name": "stderr",
     "output_type": "stream",
     "text": [
      "[Stage 159:===================================================> (196 + 2) / 200]\r"
     ]
    },
    {
     "name": "stdout",
     "output_type": "stream",
     "text": [
      "1685983\n"
     ]
    },
    {
     "name": "stderr",
     "output_type": "stream",
     "text": [
      "                                                                                \r"
     ]
    }
   ],
   "source": [
    "df_dups_30_id = df_dups_30.select(col('id_A').alias('id_30_A'), col('id_B').alias('id_30_B'))\n",
    "df_dups_50_id = df_dups_50.select(col('id_A').alias('id_50_A'), col('id_B').alias('id_50_B'))\n",
    "df_dups_70_id = df_dups_70.select(col('text_A'), col('text_B'),\\\n",
    "                                  col('id_A').alias('id_70_A'), col('id_B').alias('id_70_B'))\n",
    "\n",
    "print(df_dups_30_id.count())\n",
    "print(df_dups_50_id.count())\n",
    "print(df_dups_70_id.count())"
   ]
  },
  {
   "cell_type": "code",
   "execution_count": 34,
   "id": "d1e544e1-e3c4-44c1-9988-f83b35d31eb2",
   "metadata": {},
   "outputs": [
    {
     "name": "stderr",
     "output_type": "stream",
     "text": [
      "                                                                                \r"
     ]
    },
    {
     "data": {
      "text/html": [
       "<table border='1'>\n",
       "<tr><th>text_A</th><th>text_B</th><th>id_70_A</th><th>id_70_B</th><th>id_50_A</th><th>id_50_B</th><th>id_30_A</th><th>id_30_B</th></tr>\n",
       "<tr><td>{Use of any relat...</td><td>{Use of any relat...</td><td>3869</td><td>30989</td><td>3869</td><td>30989</td><td>3869</td><td>30989</td></tr>\n",
       "<tr><td>{Use of any relat...</td><td>{Use of any relat...</td><td>3869</td><td>38256</td><td>3869</td><td>38256</td><td>3869</td><td>38256</td></tr>\n",
       "<tr><td>{@MarthaTilghman ...</td><td>{the reason why p...</td><td>4473</td><td>5554</td><td>null</td><td>null</td><td>null</td><td>null</td></tr>\n",
       "<tr><td>{@MarthaTilghman ...</td><td>{@CoachPagan Marc...</td><td>4473</td><td>10204</td><td>null</td><td>null</td><td>null</td><td>null</td></tr>\n",
       "<tr><td>{@JoJoFromJerz Al...</td><td>{middle school tr...</td><td>6555</td><td>44091</td><td>null</td><td>null</td><td>null</td><td>null</td></tr>\n",
       "</table>\n"
      ],
      "text/plain": [
       "+--------------------+--------------------+-------+-------+-------+-------+-------+-------+\n",
       "|              text_A|              text_B|id_70_A|id_70_B|id_50_A|id_50_B|id_30_A|id_30_B|\n",
       "+--------------------+--------------------+-------+-------+-------+-------+-------+-------+\n",
       "|{@LisaOverachieve...|{@AngryBlackLady ...|    474|   3351|   null|   null|   null|   null|\n",
       "|{@LisaOverachieve...|{@newplayascircle...|    474|  14266|   null|   null|   null|   null|\n",
       "|{@LisaOverachieve...|{In senior high s...|    474|  28150|   null|   null|   null|   null|\n",
       "|{@LisaOverachieve...|{In high school -...|    474|  25120|   null|   null|   null|   null|\n",
       "|{@LisaOverachieve...|{A high school He...|    474|  40206|   null|   null|   null|   null|\n",
       "+--------------------+--------------------+-------+-------+-------+-------+-------+-------+"
      ]
     },
     "execution_count": 34,
     "metadata": {},
     "output_type": "execute_result"
    }
   ],
   "source": [
    "dups_combined = df_dups_70_id.join(df_dups_50_id, on=((df_dups_70_id.id_70_A == df_dups_50_id.id_50_A) & (df_dups_70_id.id_70_B == df_dups_50_id.id_50_B)), how=\"left_outer\")\\\n",
    ".join(df_dups_30_id, on=((df_dups_70_id.id_70_A == df_dups_30_id.id_30_A) & (df_dups_70_id.id_70_B == df_dups_30_id.id_30_B)), how=\"left_outer\")\n",
    "\n",
    "dups_combined.limit(5)"
   ]
  },
  {
   "cell_type": "markdown",
   "id": "28655455-8be3-43f1-b8ea-bbcd94fc3ad2",
   "metadata": {},
   "source": [
    "#### Create a Duplicate vs Non-Dup flag for each jaccard similarity"
   ]
  },
  {
   "cell_type": "code",
   "execution_count": 35,
   "id": "3a3d3e45-8d81-47cc-a1b4-c67b7d5d5b16",
   "metadata": {},
   "outputs": [
    {
     "name": "stderr",
     "output_type": "stream",
     "text": [
      "                                                                                \r"
     ]
    },
    {
     "data": {
      "text/html": [
       "<table border='1'>\n",
       "<tr><th>text_A</th><th>text_B</th><th>threshold_30</th><th>threshold_50</th><th>threshold_70</th></tr>\n",
       "<tr><td>{@LisaOverachieve...</td><td>{@AngryBlackLady ...</td><td>Non-Dup</td><td>Non-Dup</td><td>Duplicate</td></tr>\n",
       "<tr><td>{@LisaOverachieve...</td><td>{@newplayascircle...</td><td>Non-Dup</td><td>Non-Dup</td><td>Duplicate</td></tr>\n",
       "<tr><td>{@LisaOverachieve...</td><td>{In senior high s...</td><td>Non-Dup</td><td>Non-Dup</td><td>Duplicate</td></tr>\n",
       "<tr><td>{@LisaOverachieve...</td><td>{In high school -...</td><td>Non-Dup</td><td>Non-Dup</td><td>Duplicate</td></tr>\n",
       "<tr><td>{@LisaOverachieve...</td><td>{A high school He...</td><td>Non-Dup</td><td>Non-Dup</td><td>Duplicate</td></tr>\n",
       "</table>\n"
      ],
      "text/plain": [
       "+--------------------+--------------------+------------+------------+------------+\n",
       "|              text_A|              text_B|threshold_30|threshold_50|threshold_70|\n",
       "+--------------------+--------------------+------------+------------+------------+\n",
       "|{Use of any relat...|{Use of any relat...|   Duplicate|   Duplicate|   Duplicate|\n",
       "|{Use of any relat...|{Use of any relat...|   Duplicate|   Duplicate|   Duplicate|\n",
       "|{@MarthaTilghman ...|{the reason why p...|     Non-Dup|     Non-Dup|   Duplicate|\n",
       "|{@MarthaTilghman ...|{@CoachPagan Marc...|     Non-Dup|     Non-Dup|   Duplicate|\n",
       "|{@JoJoFromJerz Al...|{middle school tr...|     Non-Dup|     Non-Dup|   Duplicate|\n",
       "+--------------------+--------------------+------------+------------+------------+"
      ]
     },
     "execution_count": 35,
     "metadata": {},
     "output_type": "execute_result"
    }
   ],
   "source": [
    "dups_combined = dups_combined.\\\n",
    "withColumn(\"threshold_30\",\\\n",
    "           when(col(\"id_30_A\").isNotNull(), \"Duplicate\").\n",
    "           otherwise(\"Non-Dup\")).\\\n",
    "withColumn(\"threshold_50\",\\\n",
    "           when(col(\"id_50_A\").isNotNull(), \"Duplicate\").\n",
    "           otherwise(\"Non-Dup\")).\\\n",
    "withColumn(\"threshold_70\",\\\n",
    "           when(col(\"id_70_A\").isNotNull(), \"Duplicate\").\n",
    "           otherwise(\"Non-Dup\")).\\\n",
    "drop('id_30_A', 'id_30_B', 'id_50_A', 'id_50_B', 'id_70_A', 'id_70_B')\n",
    "\n",
    "dups_combined.limit(5)"
   ]
  },
  {
   "cell_type": "markdown",
   "id": "b388bfef-38bc-4e2f-af12-65c1f3f360fc",
   "metadata": {},
   "source": [
    "#### Select a sample of records across 3 thresholds (jaccard similarities):"
   ]
  },
  {
   "cell_type": "code",
   "execution_count": 36,
   "id": "0718e4b5-d03a-4f82-a65d-26917440e8a7",
   "metadata": {},
   "outputs": [],
   "source": [
    "dups_combined_sample = \\\n",
    "dups_combined.filter((\"threshold_30 == 'Duplicate'\")).sample(False, 0.1, 12345).limit(7).\\\n",
    "union\\\n",
    "(dups_combined.filter((\"threshold_30 == 'Non-Dup' and threshold_50 == 'Duplicate'\")).sample(False, 0.1, 12345).limit(7)).\\\n",
    "union\\\n",
    "(dups_combined.filter((\"threshold_50 == 'Non-Dup'\")).sample(False, 0.1, 12345).limit(7)).\\\n",
    "orderBy('threshold_30', 'threshold_50', 'threshold_70')"
   ]
  },
  {
   "cell_type": "code",
   "execution_count": 37,
   "id": "e56a18f0-0f1b-45f1-82fd-9262389084ce",
   "metadata": {},
   "outputs": [
    {
     "name": "stderr",
     "output_type": "stream",
     "text": [
      "                                                                                ]\r"
     ]
    },
    {
     "data": {
      "text/html": [
       "<div>\n",
       "<style scoped>\n",
       "    .dataframe tbody tr th:only-of-type {\n",
       "        vertical-align: middle;\n",
       "    }\n",
       "\n",
       "    .dataframe tbody tr th {\n",
       "        vertical-align: top;\n",
       "    }\n",
       "\n",
       "    .dataframe thead th {\n",
       "        text-align: right;\n",
       "    }\n",
       "</style>\n",
       "<table border=\"1\" class=\"dataframe\">\n",
       "  <thead>\n",
       "    <tr style=\"text-align: right;\">\n",
       "      <th></th>\n",
       "      <th>text_A</th>\n",
       "      <th>text_B</th>\n",
       "      <th>threshold_30</th>\n",
       "      <th>threshold_50</th>\n",
       "      <th>threshold_70</th>\n",
       "    </tr>\n",
       "  </thead>\n",
       "  <tbody>\n",
       "    <tr>\n",
       "      <th>0</th>\n",
       "      <td>(Happy total section for college win capital serve collection part song agreement. ['https://t.co/3J8jjgja6o'],)</td>\n",
       "      <td>(Happy total section for college win capital serve collection part song agreement. https://t.co/JfKT0XzvR6,)</td>\n",
       "      <td>Duplicate</td>\n",
       "      <td>Duplicate</td>\n",
       "      <td>Duplicate</td>\n",
       "    </tr>\n",
       "    <tr>\n",
       "      <th>1</th>\n",
       "      <td>(Greatness I Evaluating the benefits and drawbacks of any university worth the name. Archangel Zadkiel.,)</td>\n",
       "      <td>(Greatness I Evaluating the benefits and drawbacks of any university worth the name. Archangel Zadkiel.,)</td>\n",
       "      <td>Duplicate</td>\n",
       "      <td>Duplicate</td>\n",
       "      <td>Duplicate</td>\n",
       "    </tr>\n",
       "    <tr>\n",
       "      <th>2</th>\n",
       "      <td>(Happy total section for college win capital serve collection part song agreement. https://t.co/xdFKsgsFRM,)</td>\n",
       "      <td>(@TanyaJo73491539 Happy total section for college win capital serve collection part song agreement.,)</td>\n",
       "      <td>Duplicate</td>\n",
       "      <td>Duplicate</td>\n",
       "      <td>Duplicate</td>\n",
       "    </tr>\n",
       "    <tr>\n",
       "      <th>3</th>\n",
       "      <td>(Use of any relationship consumer order thing scene check college car include city. https://t.co/Av49ZQ0XMU,)</td>\n",
       "      <td>(Use of any relationship consumer order thing scene check college car include city. ['https://t.co/IGiggtDLXc'],)</td>\n",
       "      <td>Duplicate</td>\n",
       "      <td>Duplicate</td>\n",
       "      <td>Duplicate</td>\n",
       "    </tr>\n",
       "    <tr>\n",
       "      <th>4</th>\n",
       "      <td>(Use of any relationship consumer order thing scene check college car include city. https://t.co/7ExoyQDwKt,)</td>\n",
       "      <td>(Use of any relationship consumer order thing scene check college car include city. ['https://t.co/YpbjOJB0ch'],)</td>\n",
       "      <td>Duplicate</td>\n",
       "      <td>Duplicate</td>\n",
       "      <td>Duplicate</td>\n",
       "    </tr>\n",
       "    <tr>\n",
       "      <th>5</th>\n",
       "      <td>(Greatness I Evaluating the benefits and drawbacks of any university worth the name. Archangel Zadkiel.,)</td>\n",
       "      <td>(Greatness I Evaluating the benefits and drawbacks of any university worth the name. Archangel Zadkiel.,)</td>\n",
       "      <td>Duplicate</td>\n",
       "      <td>Duplicate</td>\n",
       "      <td>Duplicate</td>\n",
       "    </tr>\n",
       "    <tr>\n",
       "      <th>6</th>\n",
       "      <td>(Greatness I Evaluating the benefits and drawbacks of any university worth the name. Archangel Zadkiel.,)</td>\n",
       "      <td>(Greatness I Evaluating the benefits and drawbacks of any university worth the name. Archangel Zadkiel.,)</td>\n",
       "      <td>Duplicate</td>\n",
       "      <td>Duplicate</td>\n",
       "      <td>Duplicate</td>\n",
       "    </tr>\n",
       "    <tr>\n",
       "      <th>7</th>\n",
       "      <td>(My mama told me in college, 'I. https://t.co/XgW4aX1MDD,)</td>\n",
       "      <td>(My mama told me in college, 'I love you,\\n\\n https://t.co/A5yhaYKZGf,)</td>\n",
       "      <td>Non-Dup</td>\n",
       "      <td>Duplicate</td>\n",
       "      <td>Duplicate</td>\n",
       "    </tr>\n",
       "    <tr>\n",
       "      <th>8</th>\n",
       "      <td>(Newton vs Newnan High School Baseball\\nRams v Cougars\\nLIVE : https://t.co/aEhvDe2i2r\\nThe Newnan (GA) varsity baseball team has a home playoff game vs. Newton (Covington, GA) today,)</td>\n",
       "      <td>(Sergeant Bluff-Luton vs Carlisle - High School Baseball 🔴 Live Stream\\nWatch Live Game:👉 https://t.co/OfTFKt2CEw\\nThe Sergeant Bluff-Luton (Sergeant Bluff, IA) varsity baseball team has a home non-conference game vs. Carlisle (IA) today @ 3p.,)</td>\n",
       "      <td>Non-Dup</td>\n",
       "      <td>Duplicate</td>\n",
       "      <td>Duplicate</td>\n",
       "    </tr>\n",
       "    <tr>\n",
       "      <th>9</th>\n",
       "      <td>(@delusionalstarr that was me in high school,)</td>\n",
       "      <td>(@asvl_namho High School Musical 2.,)</td>\n",
       "      <td>Non-Dup</td>\n",
       "      <td>Duplicate</td>\n",
       "      <td>Duplicate</td>\n",
       "    </tr>\n",
       "    <tr>\n",
       "      <th>10</th>\n",
       "      <td>(@Drkitenda I am from SEETA HIGH school myself,)</td>\n",
       "      <td>(@KimNick_ I was in High School with this guy😂,)</td>\n",
       "      <td>Non-Dup</td>\n",
       "      <td>Duplicate</td>\n",
       "      <td>Duplicate</td>\n",
       "    </tr>\n",
       "    <tr>\n",
       "      <th>11</th>\n",
       "      <td>(Salem vs Roxana ~ High School Volleyball Live Stream\\nWatch Live Game : https://t.co/KRuMYdzpaG\\nThe Salem (IL) varsity volleyball team has a home conference match vs. Roxana (IL) today @ 7p.,)</td>\n",
       "      <td>(Potosi vs Valle Catholic ~ High School Volleyball Live Stream\\nWatch Live Game: https://t.co/CrcLlONFv5\\nThe Potosi (MO) varsity volleyball team has a neutral conference match vs. Valle Catholic (Ste. Genevieve, MO) today @ 7p.,)</td>\n",
       "      <td>Non-Dup</td>\n",
       "      <td>Duplicate</td>\n",
       "      <td>Duplicate</td>\n",
       "    </tr>\n",
       "    <tr>\n",
       "      <th>12</th>\n",
       "      <td>(Muscatine vs Mediapolis ~ High School Boy's Basketball Live\\nWatch Live Game: https://t.co/9owtxkhsqT\\nThe Muscatine (IA) vs. Mediapolis (IA) today @ 6p.,)</td>\n",
       "      <td>(Picayune vs George County ~ High School Boy's Basketball Live Stream\\nWatch Live Game: https://t.co/VhLuHDNi6h\\nThe Picayune (MS) vs. George County (Lucedale, MS) today @ 7:30p.,)</td>\n",
       "      <td>Non-Dup</td>\n",
       "      <td>Duplicate</td>\n",
       "      <td>Duplicate</td>\n",
       "    </tr>\n",
       "    <tr>\n",
       "      <th>13</th>\n",
       "      <td>(🔴 LIVESTREAM!! ~ St. Bernard VS Waterford 2023\\nWaterford VS St. Bernard 2023\\nConnecticut High School Basketball\\n\\nClick Link ➤ https://t.co/6kTyleam9j\\n\\n Date : 4-Jan-23 - 7p\\nkhpjwkzcxy\\nhttps://t.co/rggfUBloEc,)</td>\n",
       "      <td>(🔴 LIVESTREAM!! ~ Apollo VS Thunderbird 2022\\nThunderbird VS Apollo 2022\\nArizona High School Basketball\\n\\nClick Link ➤ https://t.co/j3JKopF39n\\n\\n Date : 30-Dec-22 - 2p\\nqnrmbwzxtu\\nhttps://t.co/NfC9PY7YMT,)</td>\n",
       "      <td>Non-Dup</td>\n",
       "      <td>Duplicate</td>\n",
       "      <td>Duplicate</td>\n",
       "    </tr>\n",
       "    <tr>\n",
       "      <th>14</th>\n",
       "      <td>(@LisaOverachieve I graduated from High School that year!!,)</td>\n",
       "      <td>(In high school - that's when I first fel https://t.co/P8FWNYH3Tp,)</td>\n",
       "      <td>Non-Dup</td>\n",
       "      <td>Non-Dup</td>\n",
       "      <td>Duplicate</td>\n",
       "    </tr>\n",
       "    <tr>\n",
       "      <th>15</th>\n",
       "      <td>(Newport Harbor vs JSerra Catholic 🔴 Live High School Water Polo\\nWatch Live HD ▷ https://t.co/ofueizdch7\\nThe JSerra Catholic (San Juan Capistrano, CA) varsity water polo team has a home playoff game vs. Newport Harbor (Newport Beach, CA) today @ 1:30p.,)</td>\n",
       "      <td>(Champlain Valley Union vs Mt. Mansfield | Vermont High School Basketball Live Stream\\nWATCH LIVE via 👉 https://t.co/JKwqqxCA9g\\nThe Mt. Mansfield (Jericho, VT) varsity basketball team has a home conference game vs. Champlain Valley Union (Hinesburg, VT) today @ 7p.,)</td>\n",
       "      <td>Non-Dup</td>\n",
       "      <td>Non-Dup</td>\n",
       "      <td>Duplicate</td>\n",
       "    </tr>\n",
       "    <tr>\n",
       "      <th>16</th>\n",
       "      <td>(🔴 LIVESTREAM!! ~ St. Bernard's VS McKinleyville 2023\\nMcKinleyville VS St. Bernard's 2023\\nCalifornia High School Basketball\\n\\nClick Link ➤ https://t.co/gok8n6pfNf\\n\\n Date : 9-Jan-23 - 7:30p\\nldyxlzikae\\nhttps://t.co/ItXAsXhleu,)</td>\n",
       "      <td>(🔴 LIVESTREAM!! ~ Laconia VS Manchester West - New Hampshire High School Volleyball 2022\\nManchester West VS Laconia\\nClick Link ➤ https://t.co/Kt2rT51OKd\\n Date/time : 13-Oct-22 - 5:45 PM\\njdynofaang\\n\\nhttps://t.co/Kt2rT51OKd,)</td>\n",
       "      <td>Non-Dup</td>\n",
       "      <td>Non-Dup</td>\n",
       "      <td>Duplicate</td>\n",
       "    </tr>\n",
       "    <tr>\n",
       "      <th>17</th>\n",
       "      <td>(@wonzpocket 1st yr college,)</td>\n",
       "      <td>(@dngschnglvr college,)</td>\n",
       "      <td>Non-Dup</td>\n",
       "      <td>Non-Dup</td>\n",
       "      <td>Duplicate</td>\n",
       "    </tr>\n",
       "    <tr>\n",
       "      <th>18</th>\n",
       "      <td>(Minico vs Kuna | High School Boys Basketball Live\\nLive On: https://t.co/6HbQk2PlLj\\nThe Kuna (ID) varsity basketball team has a home non-conference game vs. Minico (Rupert, ID) today @ 7:30p.,)</td>\n",
       "      <td>(GAME DAY High School Boys Basketball 2022\\n🔴🎥𝐖𝐀𝐓𝐂𝐇 𝐋𝐈𝐕𝐄  👉 🔗  : https://t.co/IcbAYYhUC4\\nhttps://t.co/Z5JVLwxR3r\\nPine Ridge vs CFCA\\nSouth Walton vs Milton\\nSantaluces vs Boca Raton,)</td>\n",
       "      <td>Non-Dup</td>\n",
       "      <td>Non-Dup</td>\n",
       "      <td>Duplicate</td>\n",
       "    </tr>\n",
       "    <tr>\n",
       "      <th>19</th>\n",
       "      <td>(#百家乐  #足球直播  https://t.co/Pp0siOG8aT\\nAnswer above easy alone college them performance.\\n🥰😌😅🤨💋,)</td>\n",
       "      <td>(college : 10\\nme: 0,)</td>\n",
       "      <td>Non-Dup</td>\n",
       "      <td>Non-Dup</td>\n",
       "      <td>Duplicate</td>\n",
       "    </tr>\n",
       "    <tr>\n",
       "      <th>20</th>\n",
       "      <td>(@OwenRestall @lucadimaio97 @AlexChatterton @samproud1 @ Honley High School,)</td>\n",
       "      <td>(my high school kdrama actorsung agenda..........,)</td>\n",
       "      <td>Non-Dup</td>\n",
       "      <td>Non-Dup</td>\n",
       "      <td>Duplicate</td>\n",
       "    </tr>\n",
       "  </tbody>\n",
       "</table>\n",
       "</div>"
      ],
      "text/plain": [
       "                                                                                                                                                                                                                                                              text_A  \\\n",
       "0                                                                                                                                                   (Happy total section for college win capital serve collection part song agreement. ['https://t.co/3J8jjgja6o'],)   \n",
       "1                                                                                                                                                          (Greatness I Evaluating the benefits and drawbacks of any university worth the name. Archangel Zadkiel.,)   \n",
       "2                                                                                                                                                       (Happy total section for college win capital serve collection part song agreement. https://t.co/xdFKsgsFRM,)   \n",
       "3                                                                                                                                                      (Use of any relationship consumer order thing scene check college car include city. https://t.co/Av49ZQ0XMU,)   \n",
       "4                                                                                                                                                      (Use of any relationship consumer order thing scene check college car include city. https://t.co/7ExoyQDwKt,)   \n",
       "5                                                                                                                                                          (Greatness I Evaluating the benefits and drawbacks of any university worth the name. Archangel Zadkiel.,)   \n",
       "6                                                                                                                                                          (Greatness I Evaluating the benefits and drawbacks of any university worth the name. Archangel Zadkiel.,)   \n",
       "7                                                                                                                                                                                                         (My mama told me in college, 'I. https://t.co/XgW4aX1MDD,)   \n",
       "8                                                                           (Newton vs Newnan High School Baseball\\nRams v Cougars\\nLIVE : https://t.co/aEhvDe2i2r\\nThe Newnan (GA) varsity baseball team has a home playoff game vs. Newton (Covington, GA) today,)   \n",
       "9                                                                                                                                                                                                                     (@delusionalstarr that was me in high school,)   \n",
       "10                                                                                                                                                                                                                  (@Drkitenda I am from SEETA HIGH school myself,)   \n",
       "11                                                                (Salem vs Roxana ~ High School Volleyball Live Stream\\nWatch Live Game : https://t.co/KRuMYdzpaG\\nThe Salem (IL) varsity volleyball team has a home conference match vs. Roxana (IL) today @ 7p.,)   \n",
       "12                                                                                                      (Muscatine vs Mediapolis ~ High School Boy's Basketball Live\\nWatch Live Game: https://t.co/9owtxkhsqT\\nThe Muscatine (IA) vs. Mediapolis (IA) today @ 6p.,)   \n",
       "13                                        (🔴 LIVESTREAM!! ~ St. Bernard VS Waterford 2023\\nWaterford VS St. Bernard 2023\\nConnecticut High School Basketball\\n\\nClick Link ➤ https://t.co/6kTyleam9j\\n\\n Date : 4-Jan-23 - 7p\\nkhpjwkzcxy\\nhttps://t.co/rggfUBloEc,)   \n",
       "14                                                                                                                                                                                                      (@LisaOverachieve I graduated from High School that year!!,)   \n",
       "15  (Newport Harbor vs JSerra Catholic 🔴 Live High School Water Polo\\nWatch Live HD ▷ https://t.co/ofueizdch7\\nThe JSerra Catholic (San Juan Capistrano, CA) varsity water polo team has a home playoff game vs. Newport Harbor (Newport Beach, CA) today @ 1:30p.,)   \n",
       "16                          (🔴 LIVESTREAM!! ~ St. Bernard's VS McKinleyville 2023\\nMcKinleyville VS St. Bernard's 2023\\nCalifornia High School Basketball\\n\\nClick Link ➤ https://t.co/gok8n6pfNf\\n\\n Date : 9-Jan-23 - 7:30p\\nldyxlzikae\\nhttps://t.co/ItXAsXhleu,)   \n",
       "17                                                                                                                                                                                                                                     (@wonzpocket 1st yr college,)   \n",
       "18                                                               (Minico vs Kuna | High School Boys Basketball Live\\nLive On: https://t.co/6HbQk2PlLj\\nThe Kuna (ID) varsity basketball team has a home non-conference game vs. Minico (Rupert, ID) today @ 7:30p.,)   \n",
       "19                                                                                                                                                                 (#百家乐  #足球直播  https://t.co/Pp0siOG8aT\\nAnswer above easy alone college them performance.\\n🥰😌😅🤨💋,)   \n",
       "20                                                                                                                                                                                     (@OwenRestall @lucadimaio97 @AlexChatterton @samproud1 @ Honley High School,)   \n",
       "\n",
       "                                                                                                                                                                                                                                                                          text_B  \\\n",
       "0                                                                                                                                                                   (Happy total section for college win capital serve collection part song agreement. https://t.co/JfKT0XzvR6,)   \n",
       "1                                                                                                                                                                      (Greatness I Evaluating the benefits and drawbacks of any university worth the name. Archangel Zadkiel.,)   \n",
       "2                                                                                                                                                                          (@TanyaJo73491539 Happy total section for college win capital serve collection part song agreement.,)   \n",
       "3                                                                                                                                                              (Use of any relationship consumer order thing scene check college car include city. ['https://t.co/IGiggtDLXc'],)   \n",
       "4                                                                                                                                                              (Use of any relationship consumer order thing scene check college car include city. ['https://t.co/YpbjOJB0ch'],)   \n",
       "5                                                                                                                                                                      (Greatness I Evaluating the benefits and drawbacks of any university worth the name. Archangel Zadkiel.,)   \n",
       "6                                                                                                                                                                      (Greatness I Evaluating the benefits and drawbacks of any university worth the name. Archangel Zadkiel.,)   \n",
       "7                                                                                                                                                                                                        (My mama told me in college, 'I love you,\\n\\n https://t.co/A5yhaYKZGf,)   \n",
       "8                          (Sergeant Bluff-Luton vs Carlisle - High School Baseball 🔴 Live Stream\\nWatch Live Game:👉 https://t.co/OfTFKt2CEw\\nThe Sergeant Bluff-Luton (Sergeant Bluff, IA) varsity baseball team has a home non-conference game vs. Carlisle (IA) today @ 3p.,)   \n",
       "9                                                                                                                                                                                                                                          (@asvl_namho High School Musical 2.,)   \n",
       "10                                                                                                                                                                                                                              (@KimNick_ I was in High School with this guy😂,)   \n",
       "11                                        (Potosi vs Valle Catholic ~ High School Volleyball Live Stream\\nWatch Live Game: https://t.co/CrcLlONFv5\\nThe Potosi (MO) varsity volleyball team has a neutral conference match vs. Valle Catholic (Ste. Genevieve, MO) today @ 7p.,)   \n",
       "12                                                                                          (Picayune vs George County ~ High School Boy's Basketball Live Stream\\nWatch Live Game: https://t.co/VhLuHDNi6h\\nThe Picayune (MS) vs. George County (Lucedale, MS) today @ 7:30p.,)   \n",
       "13                                                             (🔴 LIVESTREAM!! ~ Apollo VS Thunderbird 2022\\nThunderbird VS Apollo 2022\\nArizona High School Basketball\\n\\nClick Link ➤ https://t.co/j3JKopF39n\\n\\n Date : 30-Dec-22 - 2p\\nqnrmbwzxtu\\nhttps://t.co/NfC9PY7YMT,)   \n",
       "14                                                                                                                                                                                                           (In high school - that's when I first fel https://t.co/P8FWNYH3Tp,)   \n",
       "15  (Champlain Valley Union vs Mt. Mansfield | Vermont High School Basketball Live Stream\\nWATCH LIVE via 👉 https://t.co/JKwqqxCA9g\\nThe Mt. Mansfield (Jericho, VT) varsity basketball team has a home conference game vs. Champlain Valley Union (Hinesburg, VT) today @ 7p.,)   \n",
       "16                                         (🔴 LIVESTREAM!! ~ Laconia VS Manchester West - New Hampshire High School Volleyball 2022\\nManchester West VS Laconia\\nClick Link ➤ https://t.co/Kt2rT51OKd\\n Date/time : 13-Oct-22 - 5:45 PM\\njdynofaang\\n\\nhttps://t.co/Kt2rT51OKd,)   \n",
       "17                                                                                                                                                                                                                                                       (@dngschnglvr college,)   \n",
       "18                                                                                     (GAME DAY High School Boys Basketball 2022\\n🔴🎥𝐖𝐀𝐓𝐂𝐇 𝐋𝐈𝐕𝐄  👉 🔗  : https://t.co/IcbAYYhUC4\\nhttps://t.co/Z5JVLwxR3r\\nPine Ridge vs CFCA\\nSouth Walton vs Milton\\nSantaluces vs Boca Raton,)   \n",
       "19                                                                                                                                                                                                                                                        (college : 10\\nme: 0,)   \n",
       "20                                                                                                                                                                                                                           (my high school kdrama actorsung agenda..........,)   \n",
       "\n",
       "   threshold_30 threshold_50 threshold_70  \n",
       "0     Duplicate    Duplicate    Duplicate  \n",
       "1     Duplicate    Duplicate    Duplicate  \n",
       "2     Duplicate    Duplicate    Duplicate  \n",
       "3     Duplicate    Duplicate    Duplicate  \n",
       "4     Duplicate    Duplicate    Duplicate  \n",
       "5     Duplicate    Duplicate    Duplicate  \n",
       "6     Duplicate    Duplicate    Duplicate  \n",
       "7       Non-Dup    Duplicate    Duplicate  \n",
       "8       Non-Dup    Duplicate    Duplicate  \n",
       "9       Non-Dup    Duplicate    Duplicate  \n",
       "10      Non-Dup    Duplicate    Duplicate  \n",
       "11      Non-Dup    Duplicate    Duplicate  \n",
       "12      Non-Dup    Duplicate    Duplicate  \n",
       "13      Non-Dup    Duplicate    Duplicate  \n",
       "14      Non-Dup      Non-Dup    Duplicate  \n",
       "15      Non-Dup      Non-Dup    Duplicate  \n",
       "16      Non-Dup      Non-Dup    Duplicate  \n",
       "17      Non-Dup      Non-Dup    Duplicate  \n",
       "18      Non-Dup      Non-Dup    Duplicate  \n",
       "19      Non-Dup      Non-Dup    Duplicate  \n",
       "20      Non-Dup      Non-Dup    Duplicate  "
      ]
     },
     "execution_count": 37,
     "metadata": {},
     "output_type": "execute_result"
    }
   ],
   "source": [
    "pd.set_option('display.max_rows', 21)\n",
    "dups_combined_sample.toPandas()"
   ]
  },
  {
   "cell_type": "markdown",
   "id": "dda3a1e7-5a79-4f08-956e-57b4e11d6dcd",
   "metadata": {},
   "source": [
    "**The right Jaccard similarity for the tweets is 0.3.** I selected this Jaccard threshold based on my findings from the evaluation of the various Jaccard threshold I chose (0.3, 0.5, 0.7).\n",
    "\n",
    "For Jaccard 0.3, it mostly identified the exact replica of the tweets which I believe will be the best approach for our used case, since we want to know if most of the tweets are unique and not just replica.\n",
    "\n",
    "For Jaccard 0.5, it also identified some exact replica of the tweets. However, some of the tweets it identified to be duplicate were a lot less similar. So, this will not be the right Jaccard for our used case.\n",
    "\n",
    "Finally, for Jaccard threshold of 0.7, most of the tweets were a lot less similar(mostly talking about different topics entirely). So, this threshold is not the right Jaccard similarity for identifying unique or duplicate tweets.\n",
    "\n",
    "**Generally, for Jaccard of 0.3, there are about 8% near-duplicate news article and about 92% unique articles in the tweet data.**"
   ]
  },
  {
   "cell_type": "code",
   "execution_count": 38,
   "id": "19860684-1d22-426d-a264-179a565b8fa2",
   "metadata": {},
   "outputs": [],
   "source": [
    "sqlContext.clearCache()"
   ]
  },
  {
   "cell_type": "code",
   "execution_count": 8,
   "id": "07557590-01de-4c61-889c-b47bc0db3d9c",
   "metadata": {},
   "outputs": [
    {
     "name": "stderr",
     "output_type": "stream",
     "text": [
      "                                                                                \r"
     ]
    }
   ],
   "source": [
    "#save the sampled tweet into my bucket in a parquet format for easier loading\n",
    "original_tweet.write.format(\"parquet\").\\\n",
    "mode('overwrite').\\\n",
    "save('gs://msca-bdp-students-bucket/shared_data/mariamoluwatobi/original_sample')"
   ]
  },
  {
   "cell_type": "markdown",
   "id": "4c0938d5-9107-446d-8837-4051fd1f070d",
   "metadata": {},
   "source": [
    "## Question 4b: Visualize message duplication for each group of Twitterers (government entities / health organizations / news outlets / social media influencers / other)"
   ]
  },
  {
   "cell_type": "code",
   "execution_count": 9,
   "id": "3c38ebfa-6738-4faa-98ec-3d30bd9a0f19",
   "metadata": {},
   "outputs": [],
   "source": [
    "path_read = 'gs://msca-bdp-students-bucket/shared_data/mariamoluwatobi/original_sample'"
   ]
  },
  {
   "cell_type": "code",
   "execution_count": 10,
   "id": "13bd04e2-a57a-4b72-8fe9-00b563dbfa7d",
   "metadata": {},
   "outputs": [
    {
     "name": "stdout",
     "output_type": "stream",
     "text": [
      "CPU times: user 0 ns, sys: 3.63 ms, total: 3.63 ms\n",
      "Wall time: 744 ms\n"
     ]
    }
   ],
   "source": [
    "%%time\n",
    "\n",
    "original_tweet = spark.read.parquet(path_read)"
   ]
  },
  {
   "cell_type": "code",
   "execution_count": 11,
   "id": "efa8b470-efe1-48aa-94ea-5dac7f8716a9",
   "metadata": {},
   "outputs": [
    {
     "name": "stderr",
     "output_type": "stream",
     "text": [
      "                                                                                \r"
     ]
    },
    {
     "data": {
      "text/plain": [
       "13022551"
      ]
     },
     "execution_count": 11,
     "metadata": {},
     "output_type": "execute_result"
    }
   ],
   "source": [
    "original_tweet.count()"
   ]
  },
  {
   "cell_type": "markdown",
   "id": "07debe77-3203-405a-a8a7-7b41acd148bd",
   "metadata": {},
   "source": [
    "#### Government entities"
   ]
  },
  {
   "cell_type": "code",
   "execution_count": 7,
   "id": "132c8b50-2796-403b-af34-b86ccf475529",
   "metadata": {},
   "outputs": [
    {
     "name": "stderr",
     "output_type": "stream",
     "text": [
      "                                                                                \r"
     ]
    },
    {
     "data": {
      "text/plain": [
       "1129727"
      ]
     },
     "execution_count": 7,
     "metadata": {},
     "output_type": "execute_result"
    }
   ],
   "source": [
    "#filter for government \n",
    "government_users = tweets_filt4.filter(tweets_filt4.user_category == 'Government Entity')\n",
    "government_users.count()"
   ]
  },
  {
   "cell_type": "code",
   "execution_count": 10,
   "id": "f3b8e3f6-b929-4f07-852d-4cf315dd487c",
   "metadata": {},
   "outputs": [
    {
     "name": "stderr",
     "output_type": "stream",
     "text": [
      "                                                                                \r"
     ]
    },
    {
     "data": {
      "text/plain": [
       "10184"
      ]
     },
     "execution_count": 10,
     "metadata": {},
     "output_type": "execute_result"
    }
   ],
   "source": [
    "government_users_sample = government_users.sample(False, 0.009, 12345)\n",
    "government_users_sample.count()"
   ]
  },
  {
   "cell_type": "code",
   "execution_count": 11,
   "id": "f1ec64d9-4367-4ffa-bd5e-57d92b365ecb",
   "metadata": {},
   "outputs": [
    {
     "data": {
      "text/html": [
       "<table border='1'>\n",
       "<tr><th>text</th></tr>\n",
       "<tr><td>rt joshkraushaar ...</td></tr>\n",
       "<tr><td>elementary day at...</td></tr>\n",
       "<tr><td>rt aejmcs journal...</td></tr>\n",
       "<tr><td>slipperstillfit a...</td></tr>\n",
       "<tr><td>rt watesgroup we ...</td></tr>\n",
       "</table>\n"
      ],
      "text/plain": [
       "+--------------------+\n",
       "|                text|\n",
       "+--------------------+\n",
       "|rt joshkraushaar ...|\n",
       "|elementary day at...|\n",
       "|rt aejmcs journal...|\n",
       "|slipperstillfit a...|\n",
       "|rt watesgroup we ...|\n",
       "+--------------------+"
      ]
     },
     "execution_count": 11,
     "metadata": {},
     "output_type": "execute_result"
    }
   ],
   "source": [
    "#select the text column from the data for further analysis\n",
    "government_users2 = government_users_sample.select([\"text\"])\n",
    "government_users2.limit(5)"
   ]
  },
  {
   "cell_type": "code",
   "execution_count": 12,
   "id": "c4c277a7-5e30-4fd2-af7c-89b008469429",
   "metadata": {},
   "outputs": [
    {
     "name": "stderr",
     "output_type": "stream",
     "text": [
      "                                                                                \r"
     ]
    }
   ],
   "source": [
    "# drop any rows with null values\n",
    "text = government_users2.rdd.map(lambda x : x['text']).filter(lambda x: x is not None)\n",
    "\n",
    "StopWords = stopwords.words(\"english\")\n",
    "\n",
    "tokens1 = text\\\n",
    "    .map( lambda document: document.strip().lower())\\\n",
    "    .map( lambda document: re.split(\" \", document))\\\n",
    "    .map( lambda word: [x for x in word if x.isalnum()])\\\n",
    "    .map( lambda word: [x for x in word if x not in StopWords])\\\n",
    "    .map( lambda word: [x for x in word if len(x) > 1] )\\\n",
    "    .zipWithIndex()"
   ]
  },
  {
   "cell_type": "code",
   "execution_count": 13,
   "id": "ab288d66-3de8-433e-a4dc-fa8c7852aa76",
   "metadata": {},
   "outputs": [
    {
     "name": "stderr",
     "output_type": "stream",
     "text": [
      "                                                                                \r"
     ]
    },
    {
     "data": {
      "text/html": [
       "<table border='1'>\n",
       "<tr><th>text</th><th>id</th></tr>\n",
       "<tr><td>{asu celebrates o...</td><td>117</td></tr>\n",
       "<tr><td>{south umpqua vs ...</td><td>118</td></tr>\n",
       "<tr><td>{want to work at ...</td><td>119</td></tr>\n",
       "<tr><td>{today s weathers...</td><td>120</td></tr>\n",
       "<tr><td>{just listed by r...</td><td>121</td></tr>\n",
       "</table>\n"
      ],
      "text/plain": [
       "+--------------------+---+\n",
       "|                text| id|\n",
       "+--------------------+---+\n",
       "|{asu celebrates o...|117|\n",
       "|{south umpqua vs ...|118|\n",
       "|{want to work at ...|119|\n",
       "|{today s weathers...|120|\n",
       "|{just listed by r...|121|\n",
       "+--------------------+---+"
      ]
     },
     "execution_count": 13,
     "metadata": {},
     "output_type": "execute_result"
    }
   ],
   "source": [
    "row = Row('text')\n",
    "df_text = text.map(row).zipWithIndex().toDF(['text','id'])\n",
    "df_text.limit(5)"
   ]
  },
  {
   "cell_type": "code",
   "execution_count": 14,
   "id": "bd7af0c8-0885-45e4-b5d2-5c12117052f9",
   "metadata": {},
   "outputs": [
    {
     "name": "stderr",
     "output_type": "stream",
     "text": [
      "                                                                                \r"
     ]
    },
    {
     "data": {
      "text/html": [
       "<div>\n",
       "<style scoped>\n",
       "    .dataframe tbody tr th:only-of-type {\n",
       "        vertical-align: middle;\n",
       "    }\n",
       "\n",
       "    .dataframe tbody tr th {\n",
       "        vertical-align: top;\n",
       "    }\n",
       "\n",
       "    .dataframe thead th {\n",
       "        text-align: right;\n",
       "    }\n",
       "</style>\n",
       "<table border=\"1\" class=\"dataframe\">\n",
       "  <thead>\n",
       "    <tr style=\"text-align: right;\">\n",
       "      <th></th>\n",
       "      <th>words_list</th>\n",
       "      <th>id</th>\n",
       "    </tr>\n",
       "  </thead>\n",
       "  <tbody>\n",
       "    <tr>\n",
       "      <th>0</th>\n",
       "      <td>[rt, joshkraushaar, elite, american, university, today, paradox, even, concerns, social, justice, continue, preoccupy, students]</td>\n",
       "      <td>0</td>\n",
       "    </tr>\n",
       "    <tr>\n",
       "      <th>1</th>\n",
       "      <td>[elementary, day, pvamu, awesome, 5th, grade, cardinals, great, time, call, monster, university, https, tco, tsehhfqier]</td>\n",
       "      <td>1</td>\n",
       "    </tr>\n",
       "    <tr>\n",
       "      <th>2</th>\n",
       "      <td>[rt, aejmcs, journalism, outreach, involvement, needs, start, earlier, high, school, says, bamaproducer, aejmc22, schj22]</td>\n",
       "      <td>2</td>\n",
       "    </tr>\n",
       "    <tr>\n",
       "      <th>3</th>\n",
       "      <td>[slipperstillfit, giving, people, want, see, anything, college, sports, days, https, tco, fbozeh19g1]</td>\n",
       "      <td>3</td>\n",
       "    </tr>\n",
       "    <tr>\n",
       "      <th>4</th>\n",
       "      <td>[rt, watesgroup, recently, caught, georgette, ayling, head, teacher, bohunth, successfully, handed, spring, wa]</td>\n",
       "      <td>4</td>\n",
       "    </tr>\n",
       "  </tbody>\n",
       "</table>\n",
       "</div>"
      ],
      "text/plain": [
       "                                                                                                                         words_list  \\\n",
       "0  [rt, joshkraushaar, elite, american, university, today, paradox, even, concerns, social, justice, continue, preoccupy, students]   \n",
       "1          [elementary, day, pvamu, awesome, 5th, grade, cardinals, great, time, call, monster, university, https, tco, tsehhfqier]   \n",
       "2         [rt, aejmcs, journalism, outreach, involvement, needs, start, earlier, high, school, says, bamaproducer, aejmc22, schj22]   \n",
       "3                             [slipperstillfit, giving, people, want, see, anything, college, sports, days, https, tco, fbozeh19g1]   \n",
       "4                   [rt, watesgroup, recently, caught, georgette, ayling, head, teacher, bohunth, successfully, handed, spring, wa]   \n",
       "\n",
       "   id  \n",
       "0   0  \n",
       "1   1  \n",
       "2   2  \n",
       "3   3  \n",
       "4   4  "
      ]
     },
     "execution_count": 14,
     "metadata": {},
     "output_type": "execute_result"
    }
   ],
   "source": [
    "df_text_tokens = spark.createDataFrame(tokens1, [\"words_list\",'id'])\n",
    "\n",
    "#Drop records with no tokens\n",
    "df_text_tokens = df_text_tokens.where(col('words_list').getItem(0).isNotNull())\n",
    "df_text_tokens.limit(5).toPandas()"
   ]
  },
  {
   "cell_type": "code",
   "execution_count": 15,
   "id": "e7df921a-3f02-4976-946d-0b043d53626a",
   "metadata": {},
   "outputs": [
    {
     "name": "stderr",
     "output_type": "stream",
     "text": [
      "                                                                                \r"
     ]
    }
   ],
   "source": [
    "#Fit countvectorizer to create word features\n",
    "vectorize1 = CountVectorizer(inputCol=\"words_list\", outputCol=\"features\", minDF=1.0)\n",
    "df_text_vectorize = vectorize1.fit(df_text_tokens).transform(df_text_tokens)"
   ]
  },
  {
   "cell_type": "code",
   "execution_count": 16,
   "id": "5701dc77-185a-4f11-91c0-f2b1ee7d7cae",
   "metadata": {},
   "outputs": [
    {
     "name": "stderr",
     "output_type": "stream",
     "text": [
      "                                                                                \r"
     ]
    },
    {
     "data": {
      "text/html": [
       "<div>\n",
       "<style scoped>\n",
       "    .dataframe tbody tr th:only-of-type {\n",
       "        vertical-align: middle;\n",
       "    }\n",
       "\n",
       "    .dataframe tbody tr th {\n",
       "        vertical-align: top;\n",
       "    }\n",
       "\n",
       "    .dataframe thead th {\n",
       "        text-align: right;\n",
       "    }\n",
       "</style>\n",
       "<table border=\"1\" class=\"dataframe\">\n",
       "  <thead>\n",
       "    <tr style=\"text-align: right;\">\n",
       "      <th></th>\n",
       "      <th>words_list</th>\n",
       "      <th>id</th>\n",
       "      <th>features</th>\n",
       "    </tr>\n",
       "  </thead>\n",
       "  <tbody>\n",
       "    <tr>\n",
       "      <th>0</th>\n",
       "      <td>[rt, joshkraushaar, elite, american, university, today, paradox, even, concerns, social, justice, continue, preoccupy, students]</td>\n",
       "      <td>0</td>\n",
       "      <td>(1.0, 0.0, 0.0, 0.0, 0.0, 1.0, 0.0, 1.0, 0.0, 0.0, 0.0, 0.0, 0.0, 0.0, 0.0, 0.0, 0.0, 1.0, 0.0, 0.0, 0.0, 0.0, 0.0, 0.0, 0.0, 0.0, 0.0, 0.0, 0.0, 0.0, 0.0, 0.0, 0.0, 0.0, 0.0, 0.0, 0.0, 0.0, 0.0, 0.0, 0.0, 0.0, 0.0, 0.0, 0.0, 0.0, 0.0, 0.0, 0.0, 0.0, 0.0, 0.0, 0.0, 0.0, 0.0, 0.0, 0.0, 0.0, 0.0, 0.0, 0.0, 0.0, 0.0, 0.0, 0.0, 0.0, 0.0, 0.0, 0.0, 0.0, 0.0, 0.0, 0.0, 0.0, 0.0, 0.0, 0.0, 0.0, 0.0, 0.0, 0.0, 0.0, 0.0, 0.0, 0.0, 0.0, 0.0, 0.0, 0.0, 0.0, 0.0, 0.0, 0.0, 0.0, 0.0, 0.0, 0.0, 0.0, 0.0, 0.0, ...)</td>\n",
       "    </tr>\n",
       "    <tr>\n",
       "      <th>1</th>\n",
       "      <td>[elementary, day, pvamu, awesome, 5th, grade, cardinals, great, time, call, monster, university, https, tco, tsehhfqier]</td>\n",
       "      <td>1</td>\n",
       "      <td>(0.0, 1.0, 1.0, 0.0, 0.0, 1.0, 0.0, 0.0, 0.0, 0.0, 0.0, 0.0, 0.0, 0.0, 0.0, 0.0, 0.0, 0.0, 0.0, 1.0, 0.0, 0.0, 0.0, 0.0, 0.0, 0.0, 0.0, 0.0, 0.0, 1.0, 1.0, 0.0, 0.0, 0.0, 0.0, 0.0, 1.0, 0.0, 0.0, 0.0, 0.0, 0.0, 0.0, 0.0, 0.0, 0.0, 0.0, 0.0, 0.0, 0.0, 0.0, 0.0, 0.0, 0.0, 0.0, 0.0, 0.0, 0.0, 0.0, 0.0, 0.0, 0.0, 0.0, 0.0, 0.0, 0.0, 0.0, 0.0, 0.0, 0.0, 0.0, 0.0, 0.0, 0.0, 0.0, 0.0, 0.0, 0.0, 0.0, 0.0, 0.0, 0.0, 0.0, 0.0, 0.0, 0.0, 0.0, 0.0, 0.0, 0.0, 0.0, 0.0, 0.0, 0.0, 0.0, 0.0, 0.0, 0.0, 0.0, 0.0, ...)</td>\n",
       "    </tr>\n",
       "    <tr>\n",
       "      <th>2</th>\n",
       "      <td>[rt, aejmcs, journalism, outreach, involvement, needs, start, earlier, high, school, says, bamaproducer, aejmc22, schj22]</td>\n",
       "      <td>2</td>\n",
       "      <td>(1.0, 0.0, 0.0, 1.0, 0.0, 0.0, 1.0, 0.0, 0.0, 0.0, 0.0, 0.0, 0.0, 0.0, 0.0, 0.0, 0.0, 0.0, 0.0, 0.0, 0.0, 0.0, 0.0, 0.0, 0.0, 0.0, 0.0, 0.0, 0.0, 0.0, 0.0, 0.0, 0.0, 0.0, 0.0, 0.0, 0.0, 0.0, 0.0, 0.0, 0.0, 0.0, 0.0, 0.0, 0.0, 0.0, 0.0, 0.0, 0.0, 0.0, 0.0, 0.0, 0.0, 0.0, 0.0, 0.0, 0.0, 0.0, 0.0, 0.0, 0.0, 0.0, 0.0, 0.0, 0.0, 0.0, 0.0, 0.0, 0.0, 0.0, 0.0, 0.0, 0.0, 0.0, 0.0, 0.0, 0.0, 0.0, 0.0, 0.0, 0.0, 0.0, 0.0, 0.0, 0.0, 0.0, 0.0, 0.0, 0.0, 0.0, 0.0, 0.0, 0.0, 0.0, 0.0, 0.0, 0.0, 0.0, 0.0, 0.0, ...)</td>\n",
       "    </tr>\n",
       "    <tr>\n",
       "      <th>3</th>\n",
       "      <td>[slipperstillfit, giving, people, want, see, anything, college, sports, days, https, tco, fbozeh19g1]</td>\n",
       "      <td>3</td>\n",
       "      <td>(0.0, 1.0, 1.0, 0.0, 1.0, 0.0, 0.0, 0.0, 0.0, 0.0, 0.0, 0.0, 0.0, 0.0, 0.0, 0.0, 0.0, 0.0, 0.0, 0.0, 0.0, 0.0, 0.0, 0.0, 0.0, 0.0, 0.0, 0.0, 0.0, 0.0, 0.0, 0.0, 0.0, 0.0, 0.0, 0.0, 0.0, 0.0, 1.0, 0.0, 0.0, 0.0, 0.0, 0.0, 0.0, 0.0, 0.0, 0.0, 0.0, 1.0, 0.0, 0.0, 0.0, 0.0, 0.0, 0.0, 0.0, 0.0, 0.0, 0.0, 0.0, 1.0, 0.0, 0.0, 0.0, 0.0, 0.0, 0.0, 0.0, 0.0, 0.0, 0.0, 0.0, 0.0, 0.0, 0.0, 0.0, 0.0, 0.0, 0.0, 0.0, 0.0, 0.0, 0.0, 0.0, 0.0, 0.0, 0.0, 0.0, 0.0, 0.0, 0.0, 0.0, 0.0, 0.0, 0.0, 0.0, 0.0, 0.0, 0.0, ...)</td>\n",
       "    </tr>\n",
       "    <tr>\n",
       "      <th>4</th>\n",
       "      <td>[rt, watesgroup, recently, caught, georgette, ayling, head, teacher, bohunth, successfully, handed, spring, wa]</td>\n",
       "      <td>4</td>\n",
       "      <td>(1.0, 0.0, 0.0, 0.0, 0.0, 0.0, 0.0, 0.0, 0.0, 0.0, 0.0, 0.0, 0.0, 0.0, 0.0, 1.0, 0.0, 0.0, 0.0, 0.0, 0.0, 0.0, 0.0, 0.0, 0.0, 0.0, 0.0, 0.0, 0.0, 0.0, 0.0, 0.0, 0.0, 0.0, 0.0, 0.0, 0.0, 0.0, 0.0, 0.0, 0.0, 0.0, 0.0, 0.0, 0.0, 0.0, 0.0, 0.0, 0.0, 0.0, 0.0, 0.0, 0.0, 0.0, 0.0, 0.0, 0.0, 0.0, 0.0, 0.0, 0.0, 0.0, 0.0, 0.0, 0.0, 0.0, 0.0, 0.0, 0.0, 0.0, 0.0, 0.0, 0.0, 0.0, 0.0, 0.0, 0.0, 0.0, 0.0, 0.0, 0.0, 0.0, 0.0, 0.0, 0.0, 0.0, 0.0, 0.0, 0.0, 0.0, 0.0, 0.0, 0.0, 0.0, 0.0, 0.0, 0.0, 0.0, 0.0, 0.0, ...)</td>\n",
       "    </tr>\n",
       "  </tbody>\n",
       "</table>\n",
       "</div>"
      ],
      "text/plain": [
       "                                                                                                                         words_list  \\\n",
       "0  [rt, joshkraushaar, elite, american, university, today, paradox, even, concerns, social, justice, continue, preoccupy, students]   \n",
       "1          [elementary, day, pvamu, awesome, 5th, grade, cardinals, great, time, call, monster, university, https, tco, tsehhfqier]   \n",
       "2         [rt, aejmcs, journalism, outreach, involvement, needs, start, earlier, high, school, says, bamaproducer, aejmc22, schj22]   \n",
       "3                             [slipperstillfit, giving, people, want, see, anything, college, sports, days, https, tco, fbozeh19g1]   \n",
       "4                   [rt, watesgroup, recently, caught, georgette, ayling, head, teacher, bohunth, successfully, handed, spring, wa]   \n",
       "\n",
       "   id  \\\n",
       "0   0   \n",
       "1   1   \n",
       "2   2   \n",
       "3   3   \n",
       "4   4   \n",
       "\n",
       "                                                                                                                                                                                                                                                                                                                                                                                                                                                                                                                    features  \n",
       "0  (1.0, 0.0, 0.0, 0.0, 0.0, 1.0, 0.0, 1.0, 0.0, 0.0, 0.0, 0.0, 0.0, 0.0, 0.0, 0.0, 0.0, 1.0, 0.0, 0.0, 0.0, 0.0, 0.0, 0.0, 0.0, 0.0, 0.0, 0.0, 0.0, 0.0, 0.0, 0.0, 0.0, 0.0, 0.0, 0.0, 0.0, 0.0, 0.0, 0.0, 0.0, 0.0, 0.0, 0.0, 0.0, 0.0, 0.0, 0.0, 0.0, 0.0, 0.0, 0.0, 0.0, 0.0, 0.0, 0.0, 0.0, 0.0, 0.0, 0.0, 0.0, 0.0, 0.0, 0.0, 0.0, 0.0, 0.0, 0.0, 0.0, 0.0, 0.0, 0.0, 0.0, 0.0, 0.0, 0.0, 0.0, 0.0, 0.0, 0.0, 0.0, 0.0, 0.0, 0.0, 0.0, 0.0, 0.0, 0.0, 0.0, 0.0, 0.0, 0.0, 0.0, 0.0, 0.0, 0.0, 0.0, 0.0, 0.0, 0.0, ...)  \n",
       "1  (0.0, 1.0, 1.0, 0.0, 0.0, 1.0, 0.0, 0.0, 0.0, 0.0, 0.0, 0.0, 0.0, 0.0, 0.0, 0.0, 0.0, 0.0, 0.0, 1.0, 0.0, 0.0, 0.0, 0.0, 0.0, 0.0, 0.0, 0.0, 0.0, 1.0, 1.0, 0.0, 0.0, 0.0, 0.0, 0.0, 1.0, 0.0, 0.0, 0.0, 0.0, 0.0, 0.0, 0.0, 0.0, 0.0, 0.0, 0.0, 0.0, 0.0, 0.0, 0.0, 0.0, 0.0, 0.0, 0.0, 0.0, 0.0, 0.0, 0.0, 0.0, 0.0, 0.0, 0.0, 0.0, 0.0, 0.0, 0.0, 0.0, 0.0, 0.0, 0.0, 0.0, 0.0, 0.0, 0.0, 0.0, 0.0, 0.0, 0.0, 0.0, 0.0, 0.0, 0.0, 0.0, 0.0, 0.0, 0.0, 0.0, 0.0, 0.0, 0.0, 0.0, 0.0, 0.0, 0.0, 0.0, 0.0, 0.0, 0.0, ...)  \n",
       "2  (1.0, 0.0, 0.0, 1.0, 0.0, 0.0, 1.0, 0.0, 0.0, 0.0, 0.0, 0.0, 0.0, 0.0, 0.0, 0.0, 0.0, 0.0, 0.0, 0.0, 0.0, 0.0, 0.0, 0.0, 0.0, 0.0, 0.0, 0.0, 0.0, 0.0, 0.0, 0.0, 0.0, 0.0, 0.0, 0.0, 0.0, 0.0, 0.0, 0.0, 0.0, 0.0, 0.0, 0.0, 0.0, 0.0, 0.0, 0.0, 0.0, 0.0, 0.0, 0.0, 0.0, 0.0, 0.0, 0.0, 0.0, 0.0, 0.0, 0.0, 0.0, 0.0, 0.0, 0.0, 0.0, 0.0, 0.0, 0.0, 0.0, 0.0, 0.0, 0.0, 0.0, 0.0, 0.0, 0.0, 0.0, 0.0, 0.0, 0.0, 0.0, 0.0, 0.0, 0.0, 0.0, 0.0, 0.0, 0.0, 0.0, 0.0, 0.0, 0.0, 0.0, 0.0, 0.0, 0.0, 0.0, 0.0, 0.0, 0.0, ...)  \n",
       "3  (0.0, 1.0, 1.0, 0.0, 1.0, 0.0, 0.0, 0.0, 0.0, 0.0, 0.0, 0.0, 0.0, 0.0, 0.0, 0.0, 0.0, 0.0, 0.0, 0.0, 0.0, 0.0, 0.0, 0.0, 0.0, 0.0, 0.0, 0.0, 0.0, 0.0, 0.0, 0.0, 0.0, 0.0, 0.0, 0.0, 0.0, 0.0, 1.0, 0.0, 0.0, 0.0, 0.0, 0.0, 0.0, 0.0, 0.0, 0.0, 0.0, 1.0, 0.0, 0.0, 0.0, 0.0, 0.0, 0.0, 0.0, 0.0, 0.0, 0.0, 0.0, 1.0, 0.0, 0.0, 0.0, 0.0, 0.0, 0.0, 0.0, 0.0, 0.0, 0.0, 0.0, 0.0, 0.0, 0.0, 0.0, 0.0, 0.0, 0.0, 0.0, 0.0, 0.0, 0.0, 0.0, 0.0, 0.0, 0.0, 0.0, 0.0, 0.0, 0.0, 0.0, 0.0, 0.0, 0.0, 0.0, 0.0, 0.0, 0.0, ...)  \n",
       "4  (1.0, 0.0, 0.0, 0.0, 0.0, 0.0, 0.0, 0.0, 0.0, 0.0, 0.0, 0.0, 0.0, 0.0, 0.0, 1.0, 0.0, 0.0, 0.0, 0.0, 0.0, 0.0, 0.0, 0.0, 0.0, 0.0, 0.0, 0.0, 0.0, 0.0, 0.0, 0.0, 0.0, 0.0, 0.0, 0.0, 0.0, 0.0, 0.0, 0.0, 0.0, 0.0, 0.0, 0.0, 0.0, 0.0, 0.0, 0.0, 0.0, 0.0, 0.0, 0.0, 0.0, 0.0, 0.0, 0.0, 0.0, 0.0, 0.0, 0.0, 0.0, 0.0, 0.0, 0.0, 0.0, 0.0, 0.0, 0.0, 0.0, 0.0, 0.0, 0.0, 0.0, 0.0, 0.0, 0.0, 0.0, 0.0, 0.0, 0.0, 0.0, 0.0, 0.0, 0.0, 0.0, 0.0, 0.0, 0.0, 0.0, 0.0, 0.0, 0.0, 0.0, 0.0, 0.0, 0.0, 0.0, 0.0, 0.0, 0.0, ...)  "
      ]
     },
     "execution_count": 16,
     "metadata": {},
     "output_type": "execute_result"
    }
   ],
   "source": [
    "df_text_vectorize.limit(5).toPandas()"
   ]
  },
  {
   "cell_type": "code",
   "execution_count": 17,
   "id": "931461a4-23f3-4306-b3c7-9ac15ca867ba",
   "metadata": {},
   "outputs": [],
   "source": [
    "#Fit MinHashLSH to create hash table\n",
    "mh1 = MinHashLSH(inputCol=\"features\", outputCol=\"hashes\", numHashTables=5)\n",
    "model1 = mh1.fit(df_text_vectorize)\n",
    "df_hashed1 = model1.transform(df_text_vectorize).cache()"
   ]
  },
  {
   "cell_type": "code",
   "execution_count": 18,
   "id": "2870dd71-2606-47ab-a287-560e9a329815",
   "metadata": {},
   "outputs": [
    {
     "name": "stderr",
     "output_type": "stream",
     "text": [
      "                                                                                \r"
     ]
    },
    {
     "data": {
      "text/html": [
       "<table border='1'>\n",
       "<tr><th>id</th><th>text</th><th>words_list</th><th>features</th><th>hashes</th></tr>\n",
       "<tr><td>26</td><td>{rt denicmarko st...</td><td>[rt, denicmarko, ...</td><td>(30557,[0,5,48,28...</td><td>[[4.390935E7], [1...</td></tr>\n",
       "<tr><td>29</td><td>{departing shorel...</td><td>[departing, shore...</td><td>(30557,[4,50,62,2...</td><td>[[5.0976691E7], [...</td></tr>\n",
       "<tr><td>474</td><td>{rt nichollsstate...</td><td>[rt, nichollsstat...</td><td>(30557,[0,1,2,4,3...</td><td>[[4.7945584E7], [...</td></tr>\n",
       "<tr><td>964</td><td>{cleared multi ve...</td><td>[cleared, multi, ...</td><td>(30557,[1,2,5,897...</td><td>[[1.71090036E8], ...</td></tr>\n",
       "<tr><td>1677</td><td>{hoosick falls vs...</td><td>[hoosick, falls, ...</td><td>(30557,[1,2,3,6,1...</td><td>[[1.8678956E7], [...</td></tr>\n",
       "</table>\n"
      ],
      "text/plain": [
       "+---+--------------------+--------------------+--------------------+--------------------+\n",
       "| id|                text|          words_list|            features|              hashes|\n",
       "+---+--------------------+--------------------+--------------------+--------------------+\n",
       "| 65|{rt imspeaking13 ...|[rt, imspeaking13...|(30557,[0,4,473,6...|[[4.7945584E7], [...|\n",
       "|191|{rt learningaccel...|[rt, learningacce...|(30557,[0,13,18,1...|[[4.7945584E7], [...|\n",
       "|418|{rt catturd2 look...|[rt, catturd2, lo...|(30557,[0,4,28,69...|[[4.7945584E7], [...|\n",
       "|541|{rt yasministry n...|[rt, yasministry,...|(30557,[0,4,72,14...|[[5572990.0], [1....|\n",
       "|558|{beatybean3965 i ...|[beatybean3965, w...|(30557,[1,2,4,33,...|[[7.3175978E7], [...|\n",
       "+---+--------------------+--------------------+--------------------+--------------------+"
      ]
     },
     "execution_count": 18,
     "metadata": {},
     "output_type": "execute_result"
    }
   ],
   "source": [
    "df_hashed_text = df_text.join(df_hashed1, \"id\", how = 'left').cache()\n",
    "df_hashed_text.limit(5)"
   ]
  },
  {
   "cell_type": "code",
   "execution_count": 19,
   "id": "0de20a46-ac97-48d5-bb2b-e45261c77003",
   "metadata": {},
   "outputs": [],
   "source": [
    "#Establish similarity threshold and return near-duplicate records\n",
    "jaccard_distance = 0.3\n",
    "\n",
    "df_dups_text3 = model1.approxSimilarityJoin(df_hashed_text, df_hashed_text, jaccard_distance).filter(\"datasetA.id < datasetB.id\").select(\n",
    "            col(\"distCol\"),\n",
    "            col(\"datasetA.id\").alias(\"id_A\"),\n",
    "            col(\"datasetB.id\").alias(\"id_B\"),\n",
    "            col('datasetA.text').alias('text_A'),\n",
    "            col('datasetB.text').alias('text_B')\n",
    "            )"
   ]
  },
  {
   "cell_type": "code",
   "execution_count": 20,
   "id": "f9ee2bf6-9e73-49c4-a526-7ed2db5899d0",
   "metadata": {},
   "outputs": [
    {
     "name": "stderr",
     "output_type": "stream",
     "text": [
      "                                                                                \r"
     ]
    },
    {
     "data": {
      "text/html": [
       "<div>\n",
       "<style scoped>\n",
       "    .dataframe tbody tr th:only-of-type {\n",
       "        vertical-align: middle;\n",
       "    }\n",
       "\n",
       "    .dataframe tbody tr th {\n",
       "        vertical-align: top;\n",
       "    }\n",
       "\n",
       "    .dataframe thead th {\n",
       "        text-align: right;\n",
       "    }\n",
       "</style>\n",
       "<table border=\"1\" class=\"dataframe\">\n",
       "  <thead>\n",
       "    <tr style=\"text-align: right;\">\n",
       "      <th></th>\n",
       "      <th>distCol</th>\n",
       "      <th>id_A</th>\n",
       "      <th>id_B</th>\n",
       "      <th>text_A</th>\n",
       "      <th>text_B</th>\n",
       "    </tr>\n",
       "  </thead>\n",
       "  <tbody>\n",
       "    <tr>\n",
       "      <th>0</th>\n",
       "      <td>0.000000</td>\n",
       "      <td>1068</td>\n",
       "      <td>4922</td>\n",
       "      <td>(rt healthbyjames should colleges be held liable for damages caused by covid 19 vaccine mandates,)</td>\n",
       "      <td>(rt healthbyjames should colleges be held liable for damages caused by covid 19 vaccine mandates,)</td>\n",
       "    </tr>\n",
       "    <tr>\n",
       "      <th>1</th>\n",
       "      <td>0.166667</td>\n",
       "      <td>1092</td>\n",
       "      <td>9321</td>\n",
       "      <td>(thehc_coachlew jeremiah mcdermott 6 0 215 strong safety outside linebacker gordon state college ncfa dpoy ncfa fir https tco hnd7d8kmca,)</td>\n",
       "      <td>(demariowarren jeremiah mcdermott 6 0 215 strong safety outside linebacker gordon state college ncfa dpoy ncfa fir https tco aew9x7iozc,)</td>\n",
       "    </tr>\n",
       "    <tr>\n",
       "      <th>2</th>\n",
       "      <td>0.000000</td>\n",
       "      <td>1759</td>\n",
       "      <td>4321</td>\n",
       "      <td>(rt leghorn1357 sean hannity hates it when i tell you that he doesn t have a college degree,)</td>\n",
       "      <td>(rt leghorn1357 sean hannity hates it when i tell you that he doesn t have a college degree,)</td>\n",
       "    </tr>\n",
       "    <tr>\n",
       "      <th>3</th>\n",
       "      <td>0.000000</td>\n",
       "      <td>5123</td>\n",
       "      <td>8854</td>\n",
       "      <td>(rt fritzie4art hi folks ron desantis here florida high school students are now prohibited from reading about sydney portier ray charl,)</td>\n",
       "      <td>(rt fritzie4art hi folks ron desantis here florida high school students are now prohibited from reading about sydney portier ray charl,)</td>\n",
       "    </tr>\n",
       "    <tr>\n",
       "      <th>4</th>\n",
       "      <td>0.000000</td>\n",
       "      <td>732</td>\n",
       "      <td>5502</td>\n",
       "      <td>(rt occupydemocrats breaking a teachers union of 4000 educators in columbus ohio the state s largest public school system votes to,)</td>\n",
       "      <td>(rt occupydemocrats breaking a teachers union of 4000 educators in columbus ohio the state s largest public school system votes to,)</td>\n",
       "    </tr>\n",
       "  </tbody>\n",
       "</table>\n",
       "</div>"
      ],
      "text/plain": [
       "    distCol  id_A  id_B  \\\n",
       "0  0.000000  1068  4922   \n",
       "1  0.166667  1092  9321   \n",
       "2  0.000000  1759  4321   \n",
       "3  0.000000  5123  8854   \n",
       "4  0.000000   732  5502   \n",
       "\n",
       "                                                                                                                                       text_A  \\\n",
       "0                                          (rt healthbyjames should colleges be held liable for damages caused by covid 19 vaccine mandates,)   \n",
       "1  (thehc_coachlew jeremiah mcdermott 6 0 215 strong safety outside linebacker gordon state college ncfa dpoy ncfa fir https tco hnd7d8kmca,)   \n",
       "2                                               (rt leghorn1357 sean hannity hates it when i tell you that he doesn t have a college degree,)   \n",
       "3    (rt fritzie4art hi folks ron desantis here florida high school students are now prohibited from reading about sydney portier ray charl,)   \n",
       "4        (rt occupydemocrats breaking a teachers union of 4000 educators in columbus ohio the state s largest public school system votes to,)   \n",
       "\n",
       "                                                                                                                                      text_B  \n",
       "0                                         (rt healthbyjames should colleges be held liable for damages caused by covid 19 vaccine mandates,)  \n",
       "1  (demariowarren jeremiah mcdermott 6 0 215 strong safety outside linebacker gordon state college ncfa dpoy ncfa fir https tco aew9x7iozc,)  \n",
       "2                                              (rt leghorn1357 sean hannity hates it when i tell you that he doesn t have a college degree,)  \n",
       "3   (rt fritzie4art hi folks ron desantis here florida high school students are now prohibited from reading about sydney portier ray charl,)  \n",
       "4       (rt occupydemocrats breaking a teachers union of 4000 educators in columbus ohio the state s largest public school system votes to,)  "
      ]
     },
     "execution_count": 20,
     "metadata": {},
     "output_type": "execute_result"
    }
   ],
   "source": [
    "df_dups_30 = df_dups_text3\n",
    "df_dups_text3.cache()\n",
    "df_dups_text3.limit(5).toPandas()"
   ]
  },
  {
   "cell_type": "code",
   "execution_count": 21,
   "id": "daa7ebfc-9ae4-4825-b764-14e051f7c1db",
   "metadata": {},
   "outputs": [
    {
     "name": "stderr",
     "output_type": "stream",
     "text": [
      "[Stage 66:===================================================>  (190 + 8) / 200]\r"
     ]
    },
    {
     "name": "stdout",
     "output_type": "stream",
     "text": [
      "Total records:  10184\n",
      "Proportion of duplicates based on { 0.3 } jaccard distance proportion:  0.03623330714846819\n",
      "Proportion of unique records based on { 0.3 } jaccard distance proportion:  0.9637666928515318\n"
     ]
    },
    {
     "name": "stderr",
     "output_type": "stream",
     "text": [
      "                                                                                \r"
     ]
    }
   ],
   "source": [
    "records = df_hashed_text.count()\n",
    "dups = df_dups_text3.select('id_A').distinct().count()\n",
    "proportion_dups = dups/records\n",
    "uniques = records - dups\n",
    "proportion_uniques = uniques/records\n",
    "\n",
    "print('Total records: ', records)\n",
    "print('Proportion of duplicates based on {', jaccard_distance, '} jaccard distance proportion: ', proportion_dups)\n",
    "print('Proportion of unique records based on {', jaccard_distance, '} jaccard distance proportion: ', proportion_uniques)"
   ]
  },
  {
   "cell_type": "code",
   "execution_count": 22,
   "id": "8aa08e50-c77a-45c4-92a5-fadde0b5825a",
   "metadata": {},
   "outputs": [
    {
     "name": "stderr",
     "output_type": "stream",
     "text": [
      "[Stage 88:==============================================>       (171 + 8) / 200]\r"
     ]
    },
    {
     "name": "stdout",
     "output_type": "stream",
     "text": [
      "Total records:  10184\n",
      "Duplicate titles based on { 0.3 } jaccard distance:  369\n",
      "Unique titles based on { 0.3 } jaccard distance:  0.3 :  9815\n"
     ]
    },
    {
     "name": "stderr",
     "output_type": "stream",
     "text": [
      "                                                                                \r"
     ]
    }
   ],
   "source": [
    "records = df_hashed_text.count()\n",
    "dups = df_dups_text3.select('id_A').distinct().count()\n",
    "uniques = records - dups\n",
    "\n",
    "print ('Total records: ', records)\n",
    "print ('Duplicate titles based on {', jaccard_distance, '} jaccard distance: ', dups)\n",
    "print ('Unique titles based on {', jaccard_distance, '} jaccard distance: ', jaccard_distance, ': ', uniques)"
   ]
  },
  {
   "cell_type": "code",
   "execution_count": 23,
   "id": "ff00b8a9-ec55-44d9-9aa8-bb8d74b01c47",
   "metadata": {},
   "outputs": [
    {
     "data": {
      "image/png": "[encoded data removed]",
      "text/plain": [
       "<Figure size 640x480 with 1 Axes>"
      ]
     },
     "metadata": {},
     "output_type": "display_data"
    }
   ],
   "source": [
    "dups3_df = pd.DataFrame.from_dict({'near_dups': [dups], 'unique': [uniques]})\n",
    "\n",
    "ax=dups3_df.plot(kind = 'bar',y=['near_dups', 'unique'], fontsize=10, color=['grey', 'teal'], align='center', width=0.8, xlabel=\"Duplicates vs. Unique\")\n",
    "ax.set_title('Tweets Duplication Analysis for Government Entities', fontsize=10)\n",
    "for p in ax.patches:\n",
    "       ax.annotate(format(p.get_height(), '.1f'), \n",
    "                   (p.get_x() + p.get_width() / 2., p.get_height()/2),  \n",
    "                   ha = 'center', va = 'center', \n",
    "                   xytext = (0, 9), \n",
    "                   textcoords = 'offset points') "
   ]
  },
  {
   "cell_type": "code",
   "execution_count": 24,
   "id": "22eb8d3a-77a9-49ec-95f6-6c160a8a5794",
   "metadata": {},
   "outputs": [],
   "source": [
    "sqlContext.clearCache()"
   ]
  },
  {
   "cell_type": "markdown",
   "id": "2929d7b6-a110-4b8c-8c9d-8d5190be2829",
   "metadata": {},
   "source": [
    "#### Educational institution"
   ]
  },
  {
   "cell_type": "code",
   "execution_count": 25,
   "id": "58952f74-a353-4afb-b6e2-e3716af93c86",
   "metadata": {},
   "outputs": [
    {
     "name": "stderr",
     "output_type": "stream",
     "text": [
      "                                                                                \r"
     ]
    },
    {
     "data": {
      "text/plain": [
       "2600559"
      ]
     },
     "execution_count": 25,
     "metadata": {},
     "output_type": "execute_result"
    }
   ],
   "source": [
    "#filter for Educational institution\n",
    "edu_users = tweets_filt4.filter((tweets_filt4.user_category == 'School') | (tweets_filt4.user_category == 'University'))\n",
    "edu_users.count()"
   ]
  },
  {
   "cell_type": "code",
   "execution_count": 29,
   "id": "865d0b69-4781-4efd-9799-468aa106b64b",
   "metadata": {},
   "outputs": [
    {
     "name": "stderr",
     "output_type": "stream",
     "text": [
      "                                                                                \r"
     ]
    },
    {
     "data": {
      "text/plain": [
       "10050"
      ]
     },
     "execution_count": 29,
     "metadata": {},
     "output_type": "execute_result"
    }
   ],
   "source": [
    "edu_users_sample = edu_users.sample(False, 0.0038, 12345)\n",
    "edu_users_sample.count()"
   ]
  },
  {
   "cell_type": "code",
   "execution_count": 30,
   "id": "ca2e41b7-7109-4f4e-b447-77b5be7a1206",
   "metadata": {},
   "outputs": [
    {
     "data": {
      "text/html": [
       "<table border='1'>\n",
       "<tr><th>text</th></tr>\n",
       "<tr><td>aeristres hi inte...</td></tr>\n",
       "<tr><td>now hiring assist...</td></tr>\n",
       "<tr><td>rt psclbaseball22...</td></tr>\n",
       "<tr><td>rt devinmo4385895...</td></tr>\n",
       "<tr><td>college career ge...</td></tr>\n",
       "</table>\n"
      ],
      "text/plain": [
       "+--------------------+\n",
       "|                text|\n",
       "+--------------------+\n",
       "|aeristres hi inte...|\n",
       "|now hiring assist...|\n",
       "|rt psclbaseball22...|\n",
       "|rt devinmo4385895...|\n",
       "|college career ge...|\n",
       "+--------------------+"
      ]
     },
     "execution_count": 30,
     "metadata": {},
     "output_type": "execute_result"
    }
   ],
   "source": [
    "#select the text column from the data for further analysis\n",
    "edu_users2 = edu_users_sample.select([\"text\"])\n",
    "edu_users2.limit(5)"
   ]
  },
  {
   "cell_type": "code",
   "execution_count": 31,
   "id": "eb823464-183c-4ca7-a83f-299995116170",
   "metadata": {},
   "outputs": [
    {
     "name": "stderr",
     "output_type": "stream",
     "text": [
      "                                                                                \r"
     ]
    }
   ],
   "source": [
    "# drop any rows with null values\n",
    "text = edu_users2.rdd.map(lambda x : x['text']).filter(lambda x: x is not None)\n",
    "\n",
    "StopWords = stopwords.words(\"english\")\n",
    "\n",
    "tokens1 = text\\\n",
    "    .map( lambda document: document.strip().lower())\\\n",
    "    .map( lambda document: re.split(\" \", document))\\\n",
    "    .map( lambda word: [x for x in word if x.isalnum()])\\\n",
    "    .map( lambda word: [x for x in word if x not in StopWords])\\\n",
    "    .map( lambda word: [x for x in word if len(x) > 1] )\\\n",
    "    .zipWithIndex()"
   ]
  },
  {
   "cell_type": "code",
   "execution_count": 32,
   "id": "1c1cefef-01e9-4cd2-8497-9de32a8423a6",
   "metadata": {},
   "outputs": [
    {
     "name": "stderr",
     "output_type": "stream",
     "text": [
      "                                                                                \r"
     ]
    },
    {
     "data": {
      "text/html": [
       "<table border='1'>\n",
       "<tr><th>text</th><th>id</th></tr>\n",
       "<tr><td>{rt latrellray1 b...</td><td>47</td></tr>\n",
       "<tr><td>{rt democracydock...</td><td>48</td></tr>\n",
       "<tr><td>{rt beth_a_snowde...</td><td>49</td></tr>\n",
       "<tr><td>{rt sarbanandsonw...</td><td>50</td></tr>\n",
       "<tr><td>{at achieveatlant...</td><td>51</td></tr>\n",
       "</table>\n"
      ],
      "text/plain": [
       "+--------------------+---+\n",
       "|                text| id|\n",
       "+--------------------+---+\n",
       "|{rt waylen_essays...| 77|\n",
       "|{rt martinodimajr...| 78|\n",
       "|{rt tradecardcarl...| 79|\n",
       "|{tmsmpodcast jwil...| 80|\n",
       "|{rt orieloxford a...| 81|\n",
       "+--------------------+---+"
      ]
     },
     "execution_count": 32,
     "metadata": {},
     "output_type": "execute_result"
    }
   ],
   "source": [
    "row = Row('text')\n",
    "df_text = text.map(row).zipWithIndex().toDF(['text','id'])\n",
    "df_text.limit(5)"
   ]
  },
  {
   "cell_type": "code",
   "execution_count": 33,
   "id": "2bcbc024-16b0-4535-8c0c-10681f08a05f",
   "metadata": {},
   "outputs": [
    {
     "name": "stderr",
     "output_type": "stream",
     "text": [
      "                                                                                \r"
     ]
    },
    {
     "data": {
      "text/html": [
       "<div>\n",
       "<style scoped>\n",
       "    .dataframe tbody tr th:only-of-type {\n",
       "        vertical-align: middle;\n",
       "    }\n",
       "\n",
       "    .dataframe tbody tr th {\n",
       "        vertical-align: top;\n",
       "    }\n",
       "\n",
       "    .dataframe thead th {\n",
       "        text-align: right;\n",
       "    }\n",
       "</style>\n",
       "<table border=\"1\" class=\"dataframe\">\n",
       "  <thead>\n",
       "    <tr style=\"text-align: right;\">\n",
       "      <th></th>\n",
       "      <th>words_list</th>\n",
       "      <th>id</th>\n",
       "    </tr>\n",
       "  </thead>\n",
       "  <tbody>\n",
       "    <tr>\n",
       "      <th>0</th>\n",
       "      <td>[aeristres, hi, interested, po, dm, send, details, ng, ipapagawa, college, student, willing, help, po]</td>\n",
       "      <td>0</td>\n",
       "    </tr>\n",
       "    <tr>\n",
       "      <th>1</th>\n",
       "      <td>[hiring, assistant, recruitment, database, manager, rollins, college, winter, park, fl, 32789, https, tco, adl3snugwg]</td>\n",
       "      <td>1</td>\n",
       "    </tr>\n",
       "    <tr>\n",
       "      <th>2</th>\n",
       "      <td>[rt, psclbaseball22, welcome, pscl, mason, schwalbach, mchenry, county, college, players, apply, https, tco, igg8vdpcpi, http]</td>\n",
       "      <td>2</td>\n",
       "    </tr>\n",
       "    <tr>\n",
       "      <th>3</th>\n",
       "      <td>[rt, devinmo43858959, blessed, receive, first, offer, notre, dame, college, coachwinterswhs, whitmerfb, https, tco, 4gl]</td>\n",
       "      <td>3</td>\n",
       "    </tr>\n",
       "    <tr>\n",
       "      <th>4</th>\n",
       "      <td>[college, career, gear, day, cherryhillwest, chpstweets, kcream24, melochejoe, https, tco, syg5zzdngw]</td>\n",
       "      <td>4</td>\n",
       "    </tr>\n",
       "  </tbody>\n",
       "</table>\n",
       "</div>"
      ],
      "text/plain": [
       "                                                                                                                       words_list  \\\n",
       "0                          [aeristres, hi, interested, po, dm, send, details, ng, ipapagawa, college, student, willing, help, po]   \n",
       "1          [hiring, assistant, recruitment, database, manager, rollins, college, winter, park, fl, 32789, https, tco, adl3snugwg]   \n",
       "2  [rt, psclbaseball22, welcome, pscl, mason, schwalbach, mchenry, county, college, players, apply, https, tco, igg8vdpcpi, http]   \n",
       "3        [rt, devinmo43858959, blessed, receive, first, offer, notre, dame, college, coachwinterswhs, whitmerfb, https, tco, 4gl]   \n",
       "4                          [college, career, gear, day, cherryhillwest, chpstweets, kcream24, melochejoe, https, tco, syg5zzdngw]   \n",
       "\n",
       "   id  \n",
       "0   0  \n",
       "1   1  \n",
       "2   2  \n",
       "3   3  \n",
       "4   4  "
      ]
     },
     "execution_count": 33,
     "metadata": {},
     "output_type": "execute_result"
    }
   ],
   "source": [
    "df_text_tokens = spark.createDataFrame(tokens1, [\"words_list\",'id'])\n",
    "\n",
    "#Drop records with no tokens\n",
    "df_text_tokens = df_text_tokens.where(col('words_list').getItem(0).isNotNull())\n",
    "df_text_tokens.limit(5).toPandas()"
   ]
  },
  {
   "cell_type": "code",
   "execution_count": 34,
   "id": "f702acdc-b590-454b-83f5-67243c05b474",
   "metadata": {},
   "outputs": [
    {
     "name": "stderr",
     "output_type": "stream",
     "text": [
      "                                                                                \r"
     ]
    }
   ],
   "source": [
    "#Fit countvectorizer to create word features\n",
    "vectorize1 = CountVectorizer(inputCol=\"words_list\", outputCol=\"features\", minDF=1.0)\n",
    "df_text_vectorize = vectorize1.fit(df_text_tokens).transform(df_text_tokens)"
   ]
  },
  {
   "cell_type": "code",
   "execution_count": 35,
   "id": "d2f93283-b5c9-454b-b5c8-4a8a375388ef",
   "metadata": {},
   "outputs": [
    {
     "name": "stderr",
     "output_type": "stream",
     "text": [
      "                                                                                \r"
     ]
    },
    {
     "data": {
      "text/html": [
       "<div>\n",
       "<style scoped>\n",
       "    .dataframe tbody tr th:only-of-type {\n",
       "        vertical-align: middle;\n",
       "    }\n",
       "\n",
       "    .dataframe tbody tr th {\n",
       "        vertical-align: top;\n",
       "    }\n",
       "\n",
       "    .dataframe thead th {\n",
       "        text-align: right;\n",
       "    }\n",
       "</style>\n",
       "<table border=\"1\" class=\"dataframe\">\n",
       "  <thead>\n",
       "    <tr style=\"text-align: right;\">\n",
       "      <th></th>\n",
       "      <th>words_list</th>\n",
       "      <th>id</th>\n",
       "      <th>features</th>\n",
       "    </tr>\n",
       "  </thead>\n",
       "  <tbody>\n",
       "    <tr>\n",
       "      <th>0</th>\n",
       "      <td>[aeristres, hi, interested, po, dm, send, details, ng, ipapagawa, college, student, willing, help, po]</td>\n",
       "      <td>0</td>\n",
       "      <td>(0.0, 0.0, 0.0, 0.0, 0.0, 1.0, 0.0, 0.0, 0.0, 0.0, 0.0, 0.0, 0.0, 0.0, 0.0, 0.0, 0.0, 0.0, 0.0, 0.0, 0.0, 0.0, 0.0, 0.0, 0.0, 1.0, 0.0, 0.0, 0.0, 0.0, 0.0, 0.0, 0.0, 0.0, 0.0, 0.0, 0.0, 0.0, 0.0, 0.0, 0.0, 0.0, 0.0, 1.0, 0.0, 0.0, 0.0, 0.0, 0.0, 0.0, 0.0, 0.0, 0.0, 0.0, 0.0, 0.0, 0.0, 0.0, 0.0, 0.0, 0.0, 0.0, 0.0, 0.0, 0.0, 0.0, 0.0, 0.0, 0.0, 0.0, 0.0, 0.0, 0.0, 0.0, 0.0, 0.0, 0.0, 0.0, 0.0, 0.0, 0.0, 0.0, 0.0, 0.0, 0.0, 0.0, 0.0, 0.0, 0.0, 0.0, 0.0, 0.0, 0.0, 0.0, 0.0, 0.0, 0.0, 0.0, 0.0, 0.0, ...)</td>\n",
       "    </tr>\n",
       "    <tr>\n",
       "      <th>1</th>\n",
       "      <td>[hiring, assistant, recruitment, database, manager, rollins, college, winter, park, fl, 32789, https, tco, adl3snugwg]</td>\n",
       "      <td>1</td>\n",
       "      <td>(1.0, 1.0, 0.0, 0.0, 0.0, 1.0, 0.0, 0.0, 0.0, 0.0, 0.0, 0.0, 0.0, 0.0, 0.0, 0.0, 0.0, 0.0, 0.0, 0.0, 0.0, 0.0, 0.0, 0.0, 0.0, 0.0, 0.0, 0.0, 0.0, 0.0, 0.0, 0.0, 0.0, 0.0, 0.0, 0.0, 0.0, 0.0, 0.0, 0.0, 0.0, 0.0, 0.0, 0.0, 0.0, 0.0, 0.0, 0.0, 0.0, 0.0, 0.0, 0.0, 0.0, 0.0, 0.0, 0.0, 0.0, 0.0, 0.0, 0.0, 0.0, 0.0, 0.0, 0.0, 0.0, 0.0, 0.0, 0.0, 0.0, 0.0, 0.0, 0.0, 0.0, 0.0, 0.0, 0.0, 0.0, 0.0, 0.0, 0.0, 0.0, 0.0, 0.0, 0.0, 0.0, 0.0, 0.0, 0.0, 0.0, 0.0, 0.0, 0.0, 0.0, 0.0, 0.0, 0.0, 0.0, 0.0, 0.0, 0.0, ...)</td>\n",
       "    </tr>\n",
       "    <tr>\n",
       "      <th>2</th>\n",
       "      <td>[rt, psclbaseball22, welcome, pscl, mason, schwalbach, mchenry, county, college, players, apply, https, tco, igg8vdpcpi, http]</td>\n",
       "      <td>2</td>\n",
       "      <td>(1.0, 1.0, 1.0, 0.0, 0.0, 1.0, 0.0, 0.0, 0.0, 0.0, 0.0, 0.0, 0.0, 0.0, 0.0, 0.0, 0.0, 0.0, 0.0, 0.0, 0.0, 0.0, 0.0, 0.0, 0.0, 0.0, 0.0, 0.0, 0.0, 0.0, 0.0, 0.0, 0.0, 0.0, 0.0, 0.0, 0.0, 0.0, 0.0, 0.0, 0.0, 0.0, 0.0, 0.0, 0.0, 0.0, 0.0, 0.0, 0.0, 0.0, 0.0, 0.0, 0.0, 0.0, 0.0, 0.0, 0.0, 0.0, 0.0, 0.0, 0.0, 0.0, 0.0, 0.0, 0.0, 0.0, 0.0, 0.0, 0.0, 0.0, 0.0, 0.0, 0.0, 0.0, 0.0, 0.0, 0.0, 0.0, 0.0, 0.0, 0.0, 0.0, 0.0, 0.0, 0.0, 1.0, 0.0, 0.0, 0.0, 0.0, 0.0, 0.0, 0.0, 0.0, 0.0, 0.0, 0.0, 0.0, 0.0, 0.0, ...)</td>\n",
       "    </tr>\n",
       "    <tr>\n",
       "      <th>3</th>\n",
       "      <td>[rt, devinmo43858959, blessed, receive, first, offer, notre, dame, college, coachwinterswhs, whitmerfb, https, tco, 4gl]</td>\n",
       "      <td>3</td>\n",
       "      <td>(1.0, 1.0, 1.0, 0.0, 0.0, 1.0, 0.0, 0.0, 0.0, 0.0, 0.0, 0.0, 0.0, 0.0, 0.0, 0.0, 0.0, 0.0, 0.0, 0.0, 0.0, 1.0, 0.0, 1.0, 1.0, 0.0, 0.0, 0.0, 1.0, 0.0, 0.0, 0.0, 0.0, 0.0, 0.0, 0.0, 0.0, 0.0, 0.0, 0.0, 0.0, 0.0, 0.0, 0.0, 0.0, 0.0, 0.0, 0.0, 0.0, 0.0, 0.0, 0.0, 0.0, 0.0, 0.0, 0.0, 0.0, 0.0, 0.0, 0.0, 0.0, 0.0, 0.0, 0.0, 0.0, 0.0, 0.0, 0.0, 0.0, 0.0, 0.0, 0.0, 0.0, 0.0, 0.0, 0.0, 0.0, 0.0, 0.0, 0.0, 0.0, 0.0, 0.0, 0.0, 0.0, 0.0, 0.0, 0.0, 0.0, 0.0, 0.0, 0.0, 0.0, 0.0, 0.0, 0.0, 0.0, 0.0, 0.0, 0.0, ...)</td>\n",
       "    </tr>\n",
       "    <tr>\n",
       "      <th>4</th>\n",
       "      <td>[college, career, gear, day, cherryhillwest, chpstweets, kcream24, melochejoe, https, tco, syg5zzdngw]</td>\n",
       "      <td>4</td>\n",
       "      <td>(1.0, 1.0, 0.0, 0.0, 0.0, 1.0, 0.0, 0.0, 0.0, 0.0, 0.0, 0.0, 0.0, 0.0, 0.0, 0.0, 0.0, 0.0, 0.0, 0.0, 1.0, 0.0, 0.0, 0.0, 0.0, 0.0, 0.0, 0.0, 0.0, 0.0, 0.0, 0.0, 0.0, 0.0, 0.0, 0.0, 0.0, 0.0, 0.0, 0.0, 0.0, 0.0, 0.0, 0.0, 0.0, 0.0, 0.0, 0.0, 0.0, 0.0, 0.0, 0.0, 0.0, 0.0, 0.0, 0.0, 0.0, 0.0, 0.0, 0.0, 0.0, 0.0, 0.0, 0.0, 0.0, 0.0, 0.0, 0.0, 0.0, 0.0, 0.0, 0.0, 0.0, 1.0, 0.0, 0.0, 0.0, 0.0, 0.0, 0.0, 0.0, 0.0, 0.0, 0.0, 0.0, 0.0, 0.0, 0.0, 0.0, 0.0, 0.0, 0.0, 0.0, 0.0, 0.0, 0.0, 0.0, 0.0, 0.0, 0.0, ...)</td>\n",
       "    </tr>\n",
       "  </tbody>\n",
       "</table>\n",
       "</div>"
      ],
      "text/plain": [
       "                                                                                                                       words_list  \\\n",
       "0                          [aeristres, hi, interested, po, dm, send, details, ng, ipapagawa, college, student, willing, help, po]   \n",
       "1          [hiring, assistant, recruitment, database, manager, rollins, college, winter, park, fl, 32789, https, tco, adl3snugwg]   \n",
       "2  [rt, psclbaseball22, welcome, pscl, mason, schwalbach, mchenry, county, college, players, apply, https, tco, igg8vdpcpi, http]   \n",
       "3        [rt, devinmo43858959, blessed, receive, first, offer, notre, dame, college, coachwinterswhs, whitmerfb, https, tco, 4gl]   \n",
       "4                          [college, career, gear, day, cherryhillwest, chpstweets, kcream24, melochejoe, https, tco, syg5zzdngw]   \n",
       "\n",
       "   id  \\\n",
       "0   0   \n",
       "1   1   \n",
       "2   2   \n",
       "3   3   \n",
       "4   4   \n",
       "\n",
       "                                                                                                                                                                                                                                                                                                                                                                                                                                                                                                                    features  \n",
       "0  (0.0, 0.0, 0.0, 0.0, 0.0, 1.0, 0.0, 0.0, 0.0, 0.0, 0.0, 0.0, 0.0, 0.0, 0.0, 0.0, 0.0, 0.0, 0.0, 0.0, 0.0, 0.0, 0.0, 0.0, 0.0, 1.0, 0.0, 0.0, 0.0, 0.0, 0.0, 0.0, 0.0, 0.0, 0.0, 0.0, 0.0, 0.0, 0.0, 0.0, 0.0, 0.0, 0.0, 1.0, 0.0, 0.0, 0.0, 0.0, 0.0, 0.0, 0.0, 0.0, 0.0, 0.0, 0.0, 0.0, 0.0, 0.0, 0.0, 0.0, 0.0, 0.0, 0.0, 0.0, 0.0, 0.0, 0.0, 0.0, 0.0, 0.0, 0.0, 0.0, 0.0, 0.0, 0.0, 0.0, 0.0, 0.0, 0.0, 0.0, 0.0, 0.0, 0.0, 0.0, 0.0, 0.0, 0.0, 0.0, 0.0, 0.0, 0.0, 0.0, 0.0, 0.0, 0.0, 0.0, 0.0, 0.0, 0.0, 0.0, ...)  \n",
       "1  (1.0, 1.0, 0.0, 0.0, 0.0, 1.0, 0.0, 0.0, 0.0, 0.0, 0.0, 0.0, 0.0, 0.0, 0.0, 0.0, 0.0, 0.0, 0.0, 0.0, 0.0, 0.0, 0.0, 0.0, 0.0, 0.0, 0.0, 0.0, 0.0, 0.0, 0.0, 0.0, 0.0, 0.0, 0.0, 0.0, 0.0, 0.0, 0.0, 0.0, 0.0, 0.0, 0.0, 0.0, 0.0, 0.0, 0.0, 0.0, 0.0, 0.0, 0.0, 0.0, 0.0, 0.0, 0.0, 0.0, 0.0, 0.0, 0.0, 0.0, 0.0, 0.0, 0.0, 0.0, 0.0, 0.0, 0.0, 0.0, 0.0, 0.0, 0.0, 0.0, 0.0, 0.0, 0.0, 0.0, 0.0, 0.0, 0.0, 0.0, 0.0, 0.0, 0.0, 0.0, 0.0, 0.0, 0.0, 0.0, 0.0, 0.0, 0.0, 0.0, 0.0, 0.0, 0.0, 0.0, 0.0, 0.0, 0.0, 0.0, ...)  \n",
       "2  (1.0, 1.0, 1.0, 0.0, 0.0, 1.0, 0.0, 0.0, 0.0, 0.0, 0.0, 0.0, 0.0, 0.0, 0.0, 0.0, 0.0, 0.0, 0.0, 0.0, 0.0, 0.0, 0.0, 0.0, 0.0, 0.0, 0.0, 0.0, 0.0, 0.0, 0.0, 0.0, 0.0, 0.0, 0.0, 0.0, 0.0, 0.0, 0.0, 0.0, 0.0, 0.0, 0.0, 0.0, 0.0, 0.0, 0.0, 0.0, 0.0, 0.0, 0.0, 0.0, 0.0, 0.0, 0.0, 0.0, 0.0, 0.0, 0.0, 0.0, 0.0, 0.0, 0.0, 0.0, 0.0, 0.0, 0.0, 0.0, 0.0, 0.0, 0.0, 0.0, 0.0, 0.0, 0.0, 0.0, 0.0, 0.0, 0.0, 0.0, 0.0, 0.0, 0.0, 0.0, 0.0, 1.0, 0.0, 0.0, 0.0, 0.0, 0.0, 0.0, 0.0, 0.0, 0.0, 0.0, 0.0, 0.0, 0.0, 0.0, ...)  \n",
       "3  (1.0, 1.0, 1.0, 0.0, 0.0, 1.0, 0.0, 0.0, 0.0, 0.0, 0.0, 0.0, 0.0, 0.0, 0.0, 0.0, 0.0, 0.0, 0.0, 0.0, 0.0, 1.0, 0.0, 1.0, 1.0, 0.0, 0.0, 0.0, 1.0, 0.0, 0.0, 0.0, 0.0, 0.0, 0.0, 0.0, 0.0, 0.0, 0.0, 0.0, 0.0, 0.0, 0.0, 0.0, 0.0, 0.0, 0.0, 0.0, 0.0, 0.0, 0.0, 0.0, 0.0, 0.0, 0.0, 0.0, 0.0, 0.0, 0.0, 0.0, 0.0, 0.0, 0.0, 0.0, 0.0, 0.0, 0.0, 0.0, 0.0, 0.0, 0.0, 0.0, 0.0, 0.0, 0.0, 0.0, 0.0, 0.0, 0.0, 0.0, 0.0, 0.0, 0.0, 0.0, 0.0, 0.0, 0.0, 0.0, 0.0, 0.0, 0.0, 0.0, 0.0, 0.0, 0.0, 0.0, 0.0, 0.0, 0.0, 0.0, ...)  \n",
       "4  (1.0, 1.0, 0.0, 0.0, 0.0, 1.0, 0.0, 0.0, 0.0, 0.0, 0.0, 0.0, 0.0, 0.0, 0.0, 0.0, 0.0, 0.0, 0.0, 0.0, 1.0, 0.0, 0.0, 0.0, 0.0, 0.0, 0.0, 0.0, 0.0, 0.0, 0.0, 0.0, 0.0, 0.0, 0.0, 0.0, 0.0, 0.0, 0.0, 0.0, 0.0, 0.0, 0.0, 0.0, 0.0, 0.0, 0.0, 0.0, 0.0, 0.0, 0.0, 0.0, 0.0, 0.0, 0.0, 0.0, 0.0, 0.0, 0.0, 0.0, 0.0, 0.0, 0.0, 0.0, 0.0, 0.0, 0.0, 0.0, 0.0, 0.0, 0.0, 0.0, 0.0, 1.0, 0.0, 0.0, 0.0, 0.0, 0.0, 0.0, 0.0, 0.0, 0.0, 0.0, 0.0, 0.0, 0.0, 0.0, 0.0, 0.0, 0.0, 0.0, 0.0, 0.0, 0.0, 0.0, 0.0, 0.0, 0.0, 0.0, ...)  "
      ]
     },
     "execution_count": 35,
     "metadata": {},
     "output_type": "execute_result"
    }
   ],
   "source": [
    "df_text_vectorize.limit(5).toPandas()"
   ]
  },
  {
   "cell_type": "code",
   "execution_count": 36,
   "id": "20dea89e-e0d7-49f1-b7f9-f411a2008f98",
   "metadata": {},
   "outputs": [],
   "source": [
    "#Fit MinHashLSH to create hash table\n",
    "mh1 = MinHashLSH(inputCol=\"features\", outputCol=\"hashes\", numHashTables=5)\n",
    "model1 = mh1.fit(df_text_vectorize)\n",
    "df_hashed1 = model1.transform(df_text_vectorize).cache()"
   ]
  },
  {
   "cell_type": "code",
   "execution_count": 37,
   "id": "6fc586c1-736d-4b42-87f3-bb267d9c3619",
   "metadata": {},
   "outputs": [
    {
     "name": "stderr",
     "output_type": "stream",
     "text": [
      "                                                                                \r"
     ]
    },
    {
     "data": {
      "text/html": [
       "<table border='1'>\n",
       "<tr><th>id</th><th>text</th><th>words_list</th><th>features</th><th>hashes</th></tr>\n",
       "<tr><td>19</td><td>{rt noahengelman ...</td><td>[rt, noahengelman...</td><td>(31813,[2,5,21,23...</td><td>[[2.61390943E8], ...</td></tr>\n",
       "<tr><td>54</td><td>{rt spartanscreat...</td><td>[rt, spartanscrea...</td><td>(31813,[2,7,11,20...</td><td>[[1.65518591E8], ...</td></tr>\n",
       "<tr><td>296</td><td>{jennifer horath ...</td><td>[jennifer, horath...</td><td>(31813,[0,1,3,48,...</td><td>[[4.7945584E7], [...</td></tr>\n",
       "<tr><td>926</td><td>{ksirach the scho...</td><td>[ksirach, school,...</td><td>(31813,[0,1,3,14,...</td><td>[[4.7945584E7], [...</td></tr>\n",
       "<tr><td>965</td><td>{college career f...</td><td>[college, career,...</td><td>(31813,[0,1,3,5,7...</td><td>[[4.7945584E7], [...</td></tr>\n",
       "</table>\n"
      ],
      "text/plain": [
       "+---+--------------------+--------------------+--------------------+--------------------+\n",
       "| id|                text|          words_list|            features|              hashes|\n",
       "+---+--------------------+--------------------+--------------------+--------------------+\n",
       "| 65|{federal lawmaker...|[federal, lawmake...|(31813,[0,1,5,756...|[[4.7945584E7], [...|\n",
       "|191|{mrsbk2019 gshjks...|[mrsbk2019, gshjk...|(31813,[4,166,292...|[[5.31905114E8], ...|\n",
       "|418|{rt _gabebaptista...|[rt, great, conve...|(31813,[2,5,21,22...|[[1.99873758E8], ...|\n",
       "|541|{sometimes profes...|[sometimes, profe...|(31813,[0,1,5,485...|[[4.7945584E7], [...|\n",
       "|558|{yeh kainsa uttar...|[yeh, kainsa, utt...|(31813,[0,1,4,42,...|[[2.6252792E7], [...|\n",
       "+---+--------------------+--------------------+--------------------+--------------------+"
      ]
     },
     "execution_count": 37,
     "metadata": {},
     "output_type": "execute_result"
    }
   ],
   "source": [
    "df_hashed_text = df_text.join(df_hashed1, \"id\", how = 'left').cache()\n",
    "df_hashed_text.limit(5)"
   ]
  },
  {
   "cell_type": "code",
   "execution_count": 38,
   "id": "434f2635-8c53-4655-a505-b14a941935a3",
   "metadata": {},
   "outputs": [],
   "source": [
    "#Establish similarity threshold and return near-duplicate records\n",
    "jaccard_distance = 0.3\n",
    "\n",
    "df_dups_text3 = model1.approxSimilarityJoin(df_hashed_text, df_hashed_text, jaccard_distance).filter(\"datasetA.id < datasetB.id\").select(\n",
    "            col(\"distCol\"),\n",
    "            col(\"datasetA.id\").alias(\"id_A\"),\n",
    "            col(\"datasetB.id\").alias(\"id_B\"),\n",
    "            col('datasetA.text').alias('text_A'),\n",
    "            col('datasetB.text').alias('text_B')\n",
    "            )"
   ]
  },
  {
   "cell_type": "code",
   "execution_count": 39,
   "id": "4c7d80d9-42ee-4f04-881a-866161528c6f",
   "metadata": {},
   "outputs": [
    {
     "name": "stderr",
     "output_type": "stream",
     "text": [
      "                                                                                \r"
     ]
    },
    {
     "data": {
      "text/html": [
       "<div>\n",
       "<style scoped>\n",
       "    .dataframe tbody tr th:only-of-type {\n",
       "        vertical-align: middle;\n",
       "    }\n",
       "\n",
       "    .dataframe tbody tr th {\n",
       "        vertical-align: top;\n",
       "    }\n",
       "\n",
       "    .dataframe thead th {\n",
       "        text-align: right;\n",
       "    }\n",
       "</style>\n",
       "<table border=\"1\" class=\"dataframe\">\n",
       "  <thead>\n",
       "    <tr style=\"text-align: right;\">\n",
       "      <th></th>\n",
       "      <th>distCol</th>\n",
       "      <th>id_A</th>\n",
       "      <th>id_B</th>\n",
       "      <th>text_A</th>\n",
       "      <th>text_B</th>\n",
       "    </tr>\n",
       "  </thead>\n",
       "  <tbody>\n",
       "    <tr>\n",
       "      <th>0</th>\n",
       "      <td>0.133333</td>\n",
       "      <td>4098</td>\n",
       "      <td>7847</td>\n",
       "      <td>(free education university how to find scholarships and grants specifically tailored to your personality type hob https tco 3arnpgsglk,)</td>\n",
       "      <td>(free education university how to find scholarships and grants specifically tailored to your personality type hob https tco 9erszfzyks,)</td>\n",
       "    </tr>\n",
       "    <tr>\n",
       "      <th>1</th>\n",
       "      <td>0.176471</td>\n",
       "      <td>5441</td>\n",
       "      <td>8928</td>\n",
       "      <td>(ml_philosophy aloha miss faye right here second year college student an english major i am open for academi https tco 9diwi20441,)</td>\n",
       "      <td>(joenasandiego aloha miss faye right here second year college student an english major i am open for academi https tco rccriwivj6,)</td>\n",
       "    </tr>\n",
       "    <tr>\n",
       "      <th>2</th>\n",
       "      <td>0.285714</td>\n",
       "      <td>304</td>\n",
       "      <td>6283</td>\n",
       "      <td>(time management secrets for college students the underground playbook for ma https tco bw9cpzj8vc via https tco azuemie9hj,)</td>\n",
       "      <td>(time management secrets for college students the underground playbook for ma https tco 9gqpvmcmzy via https tco fbmfl5qa9u,)</td>\n",
       "    </tr>\n",
       "    <tr>\n",
       "      <th>3</th>\n",
       "      <td>0.000000</td>\n",
       "      <td>1961</td>\n",
       "      <td>6539</td>\n",
       "      <td>(rt savebirkbeck no job cuts at birkbeck university of london savebirkbeck https tco awjczgmb7b,)</td>\n",
       "      <td>(rt savebirkbeck no job cuts at birkbeck university of london savebirkbeck https tco awjczgmb7b,)</td>\n",
       "    </tr>\n",
       "    <tr>\n",
       "      <th>4</th>\n",
       "      <td>0.285714</td>\n",
       "      <td>1828</td>\n",
       "      <td>1829</td>\n",
       "      <td>(high school soccer live stream washington vs jeannette watch live https tco n0n5g4y8ai,)</td>\n",
       "      <td>(high school soccer live stream pewaukee vs muskego watch live https tco n0n5g4y8ai,)</td>\n",
       "    </tr>\n",
       "  </tbody>\n",
       "</table>\n",
       "</div>"
      ],
      "text/plain": [
       "    distCol  id_A  id_B  \\\n",
       "0  0.133333  4098  7847   \n",
       "1  0.176471  5441  8928   \n",
       "2  0.285714   304  6283   \n",
       "3  0.000000  1961  6539   \n",
       "4  0.285714  1828  1829   \n",
       "\n",
       "                                                                                                                                     text_A  \\\n",
       "0  (free education university how to find scholarships and grants specifically tailored to your personality type hob https tco 3arnpgsglk,)   \n",
       "1       (ml_philosophy aloha miss faye right here second year college student an english major i am open for academi https tco 9diwi20441,)   \n",
       "2             (time management secrets for college students the underground playbook for ma https tco bw9cpzj8vc via https tco azuemie9hj,)   \n",
       "3                                         (rt savebirkbeck no job cuts at birkbeck university of london savebirkbeck https tco awjczgmb7b,)   \n",
       "4                                                 (high school soccer live stream washington vs jeannette watch live https tco n0n5g4y8ai,)   \n",
       "\n",
       "                                                                                                                                     text_B  \n",
       "0  (free education university how to find scholarships and grants specifically tailored to your personality type hob https tco 9erszfzyks,)  \n",
       "1       (joenasandiego aloha miss faye right here second year college student an english major i am open for academi https tco rccriwivj6,)  \n",
       "2             (time management secrets for college students the underground playbook for ma https tco 9gqpvmcmzy via https tco fbmfl5qa9u,)  \n",
       "3                                         (rt savebirkbeck no job cuts at birkbeck university of london savebirkbeck https tco awjczgmb7b,)  \n",
       "4                                                     (high school soccer live stream pewaukee vs muskego watch live https tco n0n5g4y8ai,)  "
      ]
     },
     "execution_count": 39,
     "metadata": {},
     "output_type": "execute_result"
    }
   ],
   "source": [
    "df_dups_30 = df_dups_text3\n",
    "df_dups_text3.cache()\n",
    "df_dups_text3.limit(5).toPandas()"
   ]
  },
  {
   "cell_type": "code",
   "execution_count": 40,
   "id": "a1ac3340-81ad-4ab3-ba14-d4ed159094d4",
   "metadata": {},
   "outputs": [
    {
     "name": "stderr",
     "output_type": "stream",
     "text": [
      "[Stage 168:==============================================>     (178 + 16) / 200]\r"
     ]
    },
    {
     "name": "stdout",
     "output_type": "stream",
     "text": [
      "Total records:  10050\n",
      "Proportion of duplicates based on { 0.3 } jaccard distance proportion:  0.022686567164179106\n",
      "Proportion of unique records based on { 0.3 } jaccard distance proportion:  0.977313432835821\n"
     ]
    },
    {
     "name": "stderr",
     "output_type": "stream",
     "text": [
      "                                                                                \r"
     ]
    }
   ],
   "source": [
    "records = df_hashed_text.count()\n",
    "dups = df_dups_text3.select('id_A').distinct().count()\n",
    "proportion_dups = dups/records\n",
    "uniques = records - dups\n",
    "proportion_uniques = uniques/records\n",
    "\n",
    "print('Total records: ', records)\n",
    "print('Proportion of duplicates based on {', jaccard_distance, '} jaccard distance proportion: ', proportion_dups)\n",
    "print('Proportion of unique records based on {', jaccard_distance, '} jaccard distance proportion: ', proportion_uniques)"
   ]
  },
  {
   "cell_type": "code",
   "execution_count": 41,
   "id": "59570bc5-73c1-420c-89c3-89479f62f1ab",
   "metadata": {},
   "outputs": [
    {
     "name": "stderr",
     "output_type": "stream",
     "text": [
      "[Stage 190:====================================================>(198 + 2) / 200]\r"
     ]
    },
    {
     "name": "stdout",
     "output_type": "stream",
     "text": [
      "Total records:  10050\n",
      "Duplicate titles based on { 0.3 } jaccard distance:  228\n",
      "Unique titles based on { 0.3 } jaccard distance:  0.3 :  9822\n"
     ]
    },
    {
     "name": "stderr",
     "output_type": "stream",
     "text": [
      "                                                                                \r"
     ]
    }
   ],
   "source": [
    "records = df_hashed_text.count()\n",
    "dups = df_dups_text3.select('id_A').distinct().count()\n",
    "uniques = records - dups\n",
    "\n",
    "print ('Total records: ', records)\n",
    "print ('Duplicate titles based on {', jaccard_distance, '} jaccard distance: ', dups)\n",
    "print ('Unique titles based on {', jaccard_distance, '} jaccard distance: ', jaccard_distance, ': ', uniques)"
   ]
  },
  {
   "cell_type": "code",
   "execution_count": 42,
   "id": "9a7716d8-0f5b-484e-a264-be052f9ed1ed",
   "metadata": {},
   "outputs": [
    {
     "data": {
      "image/png": "[encoded data removed]",
      "text/plain": [
       "<Figure size 640x480 with 1 Axes>"
      ]
     },
     "metadata": {},
     "output_type": "display_data"
    }
   ],
   "source": [
    "dups3_df = pd.DataFrame.from_dict({'near_dups': [dups], 'unique': [uniques]})\n",
    "\n",
    "ax=dups3_df.plot(kind = 'bar',y=['near_dups', 'unique'], fontsize=10, color=['grey', 'teal'], align='center', width=0.8, xlabel=\"Duplicates vs. Unique\")\n",
    "ax.set_title('Tweets Duplication Analysis for Educational Institutions', fontsize=10)\n",
    "for p in ax.patches:\n",
    "       ax.annotate(format(p.get_height(), '.1f'), \n",
    "                   (p.get_x() + p.get_width() / 2., p.get_height()/2),  \n",
    "                   ha = 'center', va = 'center', \n",
    "                   xytext = (0, 9), \n",
    "                   textcoords = 'offset points') "
   ]
  },
  {
   "cell_type": "code",
   "execution_count": 43,
   "id": "8001612e-85b9-459c-81c8-9204fa41b037",
   "metadata": {},
   "outputs": [],
   "source": [
    "sqlContext.clearCache()"
   ]
  },
  {
   "cell_type": "markdown",
   "id": "cc01f131-a0b6-4fb2-9496-2c8420292862",
   "metadata": {},
   "source": [
    "#### News outlet"
   ]
  },
  {
   "cell_type": "code",
   "execution_count": 44,
   "id": "c78954fb-13ed-48b1-bc67-c3f93329696b",
   "metadata": {},
   "outputs": [
    {
     "name": "stderr",
     "output_type": "stream",
     "text": [
      "                                                                                \r"
     ]
    },
    {
     "data": {
      "text/plain": [
       "1626260"
      ]
     },
     "execution_count": 44,
     "metadata": {},
     "output_type": "execute_result"
    }
   ],
   "source": [
    "#filter for news outlet\n",
    "news_users = tweets_filt4.filter(tweets_filt4.user_category == 'News Outlet')\n",
    "news_users.count()"
   ]
  },
  {
   "cell_type": "code",
   "execution_count": 46,
   "id": "5eba6988-333d-49b4-8f42-09bd58416005",
   "metadata": {},
   "outputs": [
    {
     "name": "stderr",
     "output_type": "stream",
     "text": [
      "                                                                                \r"
     ]
    },
    {
     "data": {
      "text/plain": [
       "10065"
      ]
     },
     "execution_count": 46,
     "metadata": {},
     "output_type": "execute_result"
    }
   ],
   "source": [
    "news_users_sample = news_users.sample(False, 0.0061, 12345)\n",
    "news_users_sample.count()"
   ]
  },
  {
   "cell_type": "code",
   "execution_count": 47,
   "id": "54ac37f7-b2c9-4e54-9994-8b5efa8bdcf2",
   "metadata": {},
   "outputs": [
    {
     "data": {
      "text/html": [
       "<table border='1'>\n",
       "<tr><th>text</th></tr>\n",
       "<tr><td>rt followosha the...</td></tr>\n",
       "<tr><td>katehasthoughts 2...</td></tr>\n",
       "<tr><td>ad nike dunk high...</td></tr>\n",
       "<tr><td>rt _oluwaseun9 ja...</td></tr>\n",
       "<tr><td>rt alexokoroji ye...</td></tr>\n",
       "</table>\n"
      ],
      "text/plain": [
       "+--------------------+\n",
       "|                text|\n",
       "+--------------------+\n",
       "|rt followosha the...|\n",
       "|katehasthoughts 2...|\n",
       "|ad nike dunk high...|\n",
       "|rt _oluwaseun9 ja...|\n",
       "|rt alexokoroji ye...|\n",
       "+--------------------+"
      ]
     },
     "execution_count": 47,
     "metadata": {},
     "output_type": "execute_result"
    }
   ],
   "source": [
    "#select the text column from the data for further analysis\n",
    "news_users2 = news_users_sample.select([\"text\"])\n",
    "news_users2.limit(5)"
   ]
  },
  {
   "cell_type": "code",
   "execution_count": 48,
   "id": "b86707d3-36a4-4205-b0ac-062890f66761",
   "metadata": {},
   "outputs": [
    {
     "name": "stderr",
     "output_type": "stream",
     "text": [
      "                                                                                \r"
     ]
    }
   ],
   "source": [
    "# drop any rows with null values\n",
    "text = news_users2.rdd.map(lambda x : x['text']).filter(lambda x: x is not None)\n",
    "\n",
    "StopWords = stopwords.words(\"english\")\n",
    "\n",
    "tokens1 = text\\\n",
    "    .map( lambda document: document.strip().lower())\\\n",
    "    .map( lambda document: re.split(\" \", document))\\\n",
    "    .map( lambda word: [x for x in word if x.isalnum()])\\\n",
    "    .map( lambda word: [x for x in word if x not in StopWords])\\\n",
    "    .map( lambda word: [x for x in word if len(x) > 1] )\\\n",
    "    .zipWithIndex()"
   ]
  },
  {
   "cell_type": "code",
   "execution_count": 49,
   "id": "5a2b16b1-e2ba-48af-85df-b15ad3a815d8",
   "metadata": {},
   "outputs": [
    {
     "name": "stderr",
     "output_type": "stream",
     "text": [
      "                                                                                \r"
     ]
    },
    {
     "data": {
      "text/html": [
       "<table border='1'>\n",
       "<tr><th>text</th><th>id</th></tr>\n",
       "<tr><td>{rt outofcontrolj...</td><td>437</td></tr>\n",
       "<tr><td>{high school ice ...</td><td>438</td></tr>\n",
       "<tr><td>{next years high ...</td><td>439</td></tr>\n",
       "<tr><td>{rt ewangibbs i f...</td><td>440</td></tr>\n",
       "<tr><td>{over 22million f...</td><td>441</td></tr>\n",
       "</table>\n"
      ],
      "text/plain": [
       "+--------------------+---+\n",
       "|                text| id|\n",
       "+--------------------+---+\n",
       "|{krisbouncesback ...|109|\n",
       "|{outernet london ...|110|\n",
       "|{drkailash_sj sha...|111|\n",
       "|{rt padubyatee it...|112|\n",
       "|{college student ...|113|\n",
       "+--------------------+---+"
      ]
     },
     "execution_count": 49,
     "metadata": {},
     "output_type": "execute_result"
    }
   ],
   "source": [
    "row = Row('text')\n",
    "df_text = text.map(row).zipWithIndex().toDF(['text','id'])\n",
    "df_text.limit(5)"
   ]
  },
  {
   "cell_type": "code",
   "execution_count": 50,
   "id": "7462ce0e-f1b0-49cf-a708-f93f2a10cb9d",
   "metadata": {},
   "outputs": [
    {
     "data": {
      "text/html": [
       "<div>\n",
       "<style scoped>\n",
       "    .dataframe tbody tr th:only-of-type {\n",
       "        vertical-align: middle;\n",
       "    }\n",
       "\n",
       "    .dataframe tbody tr th {\n",
       "        vertical-align: top;\n",
       "    }\n",
       "\n",
       "    .dataframe thead th {\n",
       "        text-align: right;\n",
       "    }\n",
       "</style>\n",
       "<table border=\"1\" class=\"dataframe\">\n",
       "  <thead>\n",
       "    <tr style=\"text-align: right;\">\n",
       "      <th></th>\n",
       "      <th>words_list</th>\n",
       "      <th>id</th>\n",
       "    </tr>\n",
       "  </thead>\n",
       "  <tbody>\n",
       "    <tr>\n",
       "      <th>0</th>\n",
       "      <td>[rt, followosha, university, ilesa, osun, state, establishment, bill, 2022, passed, second, reading, today, plenary, state]</td>\n",
       "      <td>0</td>\n",
       "    </tr>\n",
       "    <tr>\n",
       "      <th>1</th>\n",
       "      <td>[katehasthoughts, kids, college, contest, https, tco, lcucvl7zyu]</td>\n",
       "      <td>1</td>\n",
       "    </tr>\n",
       "    <tr>\n",
       "      <th>2</th>\n",
       "      <td>[ad, nike, dunk, high, retro, university, gold, black, white, habanero, red, dd1399, 700, shiekh, app, https, tco, 35zmgsdckp]</td>\n",
       "      <td>2</td>\n",
       "    </tr>\n",
       "    <tr>\n",
       "      <th>3</th>\n",
       "      <td>[rt, jamb, approves, 140, new, cut, mark, na, people, like, portable, go, full, university]</td>\n",
       "      <td>3</td>\n",
       "    </tr>\n",
       "    <tr>\n",
       "      <th>4</th>\n",
       "      <td>[rt, alexokoroji, yesterday, special, day, conferred, doctor, philosophy, dphil, honoris, causa, rai, university, indi]</td>\n",
       "      <td>4</td>\n",
       "    </tr>\n",
       "  </tbody>\n",
       "</table>\n",
       "</div>"
      ],
      "text/plain": [
       "                                                                                                                       words_list  \\\n",
       "0     [rt, followosha, university, ilesa, osun, state, establishment, bill, 2022, passed, second, reading, today, plenary, state]   \n",
       "1                                                               [katehasthoughts, kids, college, contest, https, tco, lcucvl7zyu]   \n",
       "2  [ad, nike, dunk, high, retro, university, gold, black, white, habanero, red, dd1399, 700, shiekh, app, https, tco, 35zmgsdckp]   \n",
       "3                                     [rt, jamb, approves, 140, new, cut, mark, na, people, like, portable, go, full, university]   \n",
       "4         [rt, alexokoroji, yesterday, special, day, conferred, doctor, philosophy, dphil, honoris, causa, rai, university, indi]   \n",
       "\n",
       "   id  \n",
       "0   0  \n",
       "1   1  \n",
       "2   2  \n",
       "3   3  \n",
       "4   4  "
      ]
     },
     "execution_count": 50,
     "metadata": {},
     "output_type": "execute_result"
    }
   ],
   "source": [
    "df_text_tokens = spark.createDataFrame(tokens1, [\"words_list\",'id'])\n",
    "\n",
    "#Drop records with no tokens\n",
    "df_text_tokens = df_text_tokens.where(col('words_list').getItem(0).isNotNull())\n",
    "df_text_tokens.limit(5).toPandas()"
   ]
  },
  {
   "cell_type": "code",
   "execution_count": 51,
   "id": "762e3f63-bbac-409e-8175-5f257408aaa7",
   "metadata": {},
   "outputs": [
    {
     "name": "stderr",
     "output_type": "stream",
     "text": [
      "                                                                                \r"
     ]
    }
   ],
   "source": [
    "#Fit countvectorizer to create word features\n",
    "vectorize1 = CountVectorizer(inputCol=\"words_list\", outputCol=\"features\", minDF=1.0)\n",
    "df_text_vectorize = vectorize1.fit(df_text_tokens).transform(df_text_tokens)"
   ]
  },
  {
   "cell_type": "code",
   "execution_count": 52,
   "id": "3ece9751-0100-4058-ad73-d1fa6573b46a",
   "metadata": {},
   "outputs": [
    {
     "data": {
      "text/html": [
       "<div>\n",
       "<style scoped>\n",
       "    .dataframe tbody tr th:only-of-type {\n",
       "        vertical-align: middle;\n",
       "    }\n",
       "\n",
       "    .dataframe tbody tr th {\n",
       "        vertical-align: top;\n",
       "    }\n",
       "\n",
       "    .dataframe thead th {\n",
       "        text-align: right;\n",
       "    }\n",
       "</style>\n",
       "<table border=\"1\" class=\"dataframe\">\n",
       "  <thead>\n",
       "    <tr style=\"text-align: right;\">\n",
       "      <th></th>\n",
       "      <th>words_list</th>\n",
       "      <th>id</th>\n",
       "      <th>features</th>\n",
       "    </tr>\n",
       "  </thead>\n",
       "  <tbody>\n",
       "    <tr>\n",
       "      <th>0</th>\n",
       "      <td>[rt, followosha, university, ilesa, osun, state, establishment, bill, 2022, passed, second, reading, today, plenary, state]</td>\n",
       "      <td>0</td>\n",
       "      <td>(0.0, 0.0, 1.0, 0.0, 1.0, 0.0, 0.0, 0.0, 0.0, 0.0, 0.0, 0.0, 0.0, 0.0, 0.0, 0.0, 2.0, 0.0, 0.0, 0.0, 1.0, 0.0, 1.0, 0.0, 0.0, 0.0, 0.0, 0.0, 0.0, 0.0, 0.0, 0.0, 0.0, 0.0, 0.0, 0.0, 0.0, 0.0, 0.0, 0.0, 0.0, 0.0, 0.0, 0.0, 0.0, 0.0, 0.0, 0.0, 0.0, 0.0, 0.0, 0.0, 0.0, 0.0, 0.0, 0.0, 0.0, 0.0, 0.0, 0.0, 0.0, 0.0, 0.0, 0.0, 0.0, 0.0, 0.0, 0.0, 0.0, 0.0, 0.0, 0.0, 0.0, 0.0, 0.0, 0.0, 0.0, 0.0, 0.0, 0.0, 0.0, 0.0, 0.0, 0.0, 0.0, 0.0, 0.0, 0.0, 0.0, 0.0, 0.0, 0.0, 0.0, 0.0, 0.0, 0.0, 0.0, 0.0, 0.0, 0.0, ...)</td>\n",
       "    </tr>\n",
       "    <tr>\n",
       "      <th>1</th>\n",
       "      <td>[katehasthoughts, kids, college, contest, https, tco, lcucvl7zyu]</td>\n",
       "      <td>1</td>\n",
       "      <td>(1.0, 1.0, 0.0, 0.0, 0.0, 1.0, 0.0, 0.0, 0.0, 0.0, 0.0, 0.0, 0.0, 0.0, 0.0, 0.0, 0.0, 0.0, 0.0, 0.0, 0.0, 0.0, 0.0, 0.0, 0.0, 0.0, 0.0, 0.0, 0.0, 0.0, 0.0, 0.0, 0.0, 0.0, 0.0, 0.0, 1.0, 0.0, 0.0, 0.0, 0.0, 0.0, 0.0, 0.0, 0.0, 0.0, 0.0, 0.0, 0.0, 0.0, 0.0, 0.0, 0.0, 0.0, 0.0, 0.0, 0.0, 0.0, 0.0, 0.0, 0.0, 0.0, 0.0, 0.0, 0.0, 0.0, 0.0, 0.0, 0.0, 0.0, 0.0, 0.0, 0.0, 0.0, 0.0, 0.0, 0.0, 0.0, 0.0, 0.0, 0.0, 0.0, 0.0, 0.0, 0.0, 0.0, 0.0, 0.0, 0.0, 0.0, 0.0, 0.0, 0.0, 0.0, 0.0, 0.0, 0.0, 0.0, 0.0, 0.0, ...)</td>\n",
       "    </tr>\n",
       "    <tr>\n",
       "      <th>2</th>\n",
       "      <td>[ad, nike, dunk, high, retro, university, gold, black, white, habanero, red, dd1399, 700, shiekh, app, https, tco, 35zmgsdckp]</td>\n",
       "      <td>2</td>\n",
       "      <td>(1.0, 1.0, 0.0, 0.0, 1.0, 0.0, 1.0, 0.0, 0.0, 0.0, 0.0, 0.0, 0.0, 0.0, 0.0, 0.0, 0.0, 0.0, 0.0, 0.0, 0.0, 0.0, 0.0, 0.0, 0.0, 0.0, 0.0, 0.0, 0.0, 0.0, 0.0, 0.0, 0.0, 0.0, 0.0, 0.0, 0.0, 0.0, 0.0, 0.0, 0.0, 0.0, 0.0, 0.0, 0.0, 0.0, 0.0, 0.0, 0.0, 0.0, 0.0, 0.0, 0.0, 0.0, 0.0, 0.0, 0.0, 0.0, 0.0, 0.0, 0.0, 0.0, 0.0, 0.0, 0.0, 0.0, 0.0, 0.0, 0.0, 0.0, 0.0, 0.0, 0.0, 0.0, 0.0, 0.0, 0.0, 0.0, 1.0, 0.0, 0.0, 0.0, 0.0, 0.0, 0.0, 0.0, 0.0, 0.0, 0.0, 0.0, 0.0, 0.0, 0.0, 0.0, 0.0, 0.0, 0.0, 0.0, 0.0, 0.0, ...)</td>\n",
       "    </tr>\n",
       "    <tr>\n",
       "      <th>3</th>\n",
       "      <td>[rt, jamb, approves, 140, new, cut, mark, na, people, like, portable, go, full, university]</td>\n",
       "      <td>3</td>\n",
       "      <td>(0.0, 0.0, 1.0, 0.0, 1.0, 0.0, 0.0, 0.0, 0.0, 0.0, 0.0, 1.0, 0.0, 0.0, 0.0, 0.0, 0.0, 0.0, 0.0, 0.0, 0.0, 1.0, 0.0, 0.0, 0.0, 0.0, 0.0, 0.0, 1.0, 0.0, 1.0, 0.0, 0.0, 0.0, 0.0, 0.0, 0.0, 0.0, 0.0, 0.0, 0.0, 0.0, 0.0, 0.0, 0.0, 0.0, 0.0, 0.0, 0.0, 0.0, 0.0, 0.0, 0.0, 0.0, 0.0, 0.0, 0.0, 0.0, 0.0, 0.0, 0.0, 0.0, 0.0, 0.0, 0.0, 0.0, 0.0, 0.0, 0.0, 0.0, 0.0, 0.0, 0.0, 0.0, 0.0, 0.0, 0.0, 0.0, 0.0, 0.0, 0.0, 0.0, 0.0, 0.0, 0.0, 0.0, 1.0, 0.0, 0.0, 0.0, 0.0, 0.0, 0.0, 0.0, 0.0, 0.0, 0.0, 0.0, 0.0, 0.0, ...)</td>\n",
       "    </tr>\n",
       "    <tr>\n",
       "      <th>4</th>\n",
       "      <td>[rt, alexokoroji, yesterday, special, day, conferred, doctor, philosophy, dphil, honoris, causa, rai, university, indi]</td>\n",
       "      <td>4</td>\n",
       "      <td>(0.0, 0.0, 1.0, 0.0, 1.0, 0.0, 0.0, 0.0, 0.0, 0.0, 0.0, 0.0, 0.0, 0.0, 0.0, 0.0, 0.0, 0.0, 0.0, 0.0, 0.0, 0.0, 0.0, 0.0, 0.0, 0.0, 0.0, 0.0, 0.0, 0.0, 0.0, 1.0, 0.0, 0.0, 0.0, 0.0, 0.0, 0.0, 0.0, 0.0, 0.0, 0.0, 0.0, 0.0, 0.0, 0.0, 0.0, 0.0, 0.0, 0.0, 0.0, 0.0, 0.0, 0.0, 0.0, 0.0, 0.0, 0.0, 0.0, 0.0, 0.0, 0.0, 0.0, 0.0, 0.0, 0.0, 0.0, 0.0, 0.0, 0.0, 0.0, 0.0, 0.0, 0.0, 0.0, 0.0, 0.0, 0.0, 0.0, 0.0, 0.0, 0.0, 0.0, 0.0, 0.0, 0.0, 0.0, 0.0, 0.0, 0.0, 0.0, 0.0, 0.0, 0.0, 0.0, 0.0, 0.0, 0.0, 0.0, 0.0, ...)</td>\n",
       "    </tr>\n",
       "  </tbody>\n",
       "</table>\n",
       "</div>"
      ],
      "text/plain": [
       "                                                                                                                       words_list  \\\n",
       "0     [rt, followosha, university, ilesa, osun, state, establishment, bill, 2022, passed, second, reading, today, plenary, state]   \n",
       "1                                                               [katehasthoughts, kids, college, contest, https, tco, lcucvl7zyu]   \n",
       "2  [ad, nike, dunk, high, retro, university, gold, black, white, habanero, red, dd1399, 700, shiekh, app, https, tco, 35zmgsdckp]   \n",
       "3                                     [rt, jamb, approves, 140, new, cut, mark, na, people, like, portable, go, full, university]   \n",
       "4         [rt, alexokoroji, yesterday, special, day, conferred, doctor, philosophy, dphil, honoris, causa, rai, university, indi]   \n",
       "\n",
       "   id  \\\n",
       "0   0   \n",
       "1   1   \n",
       "2   2   \n",
       "3   3   \n",
       "4   4   \n",
       "\n",
       "                                                                                                                                                                                                                                                                                                                                                                                                                                                                                                                    features  \n",
       "0  (0.0, 0.0, 1.0, 0.0, 1.0, 0.0, 0.0, 0.0, 0.0, 0.0, 0.0, 0.0, 0.0, 0.0, 0.0, 0.0, 2.0, 0.0, 0.0, 0.0, 1.0, 0.0, 1.0, 0.0, 0.0, 0.0, 0.0, 0.0, 0.0, 0.0, 0.0, 0.0, 0.0, 0.0, 0.0, 0.0, 0.0, 0.0, 0.0, 0.0, 0.0, 0.0, 0.0, 0.0, 0.0, 0.0, 0.0, 0.0, 0.0, 0.0, 0.0, 0.0, 0.0, 0.0, 0.0, 0.0, 0.0, 0.0, 0.0, 0.0, 0.0, 0.0, 0.0, 0.0, 0.0, 0.0, 0.0, 0.0, 0.0, 0.0, 0.0, 0.0, 0.0, 0.0, 0.0, 0.0, 0.0, 0.0, 0.0, 0.0, 0.0, 0.0, 0.0, 0.0, 0.0, 0.0, 0.0, 0.0, 0.0, 0.0, 0.0, 0.0, 0.0, 0.0, 0.0, 0.0, 0.0, 0.0, 0.0, 0.0, ...)  \n",
       "1  (1.0, 1.0, 0.0, 0.0, 0.0, 1.0, 0.0, 0.0, 0.0, 0.0, 0.0, 0.0, 0.0, 0.0, 0.0, 0.0, 0.0, 0.0, 0.0, 0.0, 0.0, 0.0, 0.0, 0.0, 0.0, 0.0, 0.0, 0.0, 0.0, 0.0, 0.0, 0.0, 0.0, 0.0, 0.0, 0.0, 1.0, 0.0, 0.0, 0.0, 0.0, 0.0, 0.0, 0.0, 0.0, 0.0, 0.0, 0.0, 0.0, 0.0, 0.0, 0.0, 0.0, 0.0, 0.0, 0.0, 0.0, 0.0, 0.0, 0.0, 0.0, 0.0, 0.0, 0.0, 0.0, 0.0, 0.0, 0.0, 0.0, 0.0, 0.0, 0.0, 0.0, 0.0, 0.0, 0.0, 0.0, 0.0, 0.0, 0.0, 0.0, 0.0, 0.0, 0.0, 0.0, 0.0, 0.0, 0.0, 0.0, 0.0, 0.0, 0.0, 0.0, 0.0, 0.0, 0.0, 0.0, 0.0, 0.0, 0.0, ...)  \n",
       "2  (1.0, 1.0, 0.0, 0.0, 1.0, 0.0, 1.0, 0.0, 0.0, 0.0, 0.0, 0.0, 0.0, 0.0, 0.0, 0.0, 0.0, 0.0, 0.0, 0.0, 0.0, 0.0, 0.0, 0.0, 0.0, 0.0, 0.0, 0.0, 0.0, 0.0, 0.0, 0.0, 0.0, 0.0, 0.0, 0.0, 0.0, 0.0, 0.0, 0.0, 0.0, 0.0, 0.0, 0.0, 0.0, 0.0, 0.0, 0.0, 0.0, 0.0, 0.0, 0.0, 0.0, 0.0, 0.0, 0.0, 0.0, 0.0, 0.0, 0.0, 0.0, 0.0, 0.0, 0.0, 0.0, 0.0, 0.0, 0.0, 0.0, 0.0, 0.0, 0.0, 0.0, 0.0, 0.0, 0.0, 0.0, 0.0, 1.0, 0.0, 0.0, 0.0, 0.0, 0.0, 0.0, 0.0, 0.0, 0.0, 0.0, 0.0, 0.0, 0.0, 0.0, 0.0, 0.0, 0.0, 0.0, 0.0, 0.0, 0.0, ...)  \n",
       "3  (0.0, 0.0, 1.0, 0.0, 1.0, 0.0, 0.0, 0.0, 0.0, 0.0, 0.0, 1.0, 0.0, 0.0, 0.0, 0.0, 0.0, 0.0, 0.0, 0.0, 0.0, 1.0, 0.0, 0.0, 0.0, 0.0, 0.0, 0.0, 1.0, 0.0, 1.0, 0.0, 0.0, 0.0, 0.0, 0.0, 0.0, 0.0, 0.0, 0.0, 0.0, 0.0, 0.0, 0.0, 0.0, 0.0, 0.0, 0.0, 0.0, 0.0, 0.0, 0.0, 0.0, 0.0, 0.0, 0.0, 0.0, 0.0, 0.0, 0.0, 0.0, 0.0, 0.0, 0.0, 0.0, 0.0, 0.0, 0.0, 0.0, 0.0, 0.0, 0.0, 0.0, 0.0, 0.0, 0.0, 0.0, 0.0, 0.0, 0.0, 0.0, 0.0, 0.0, 0.0, 0.0, 0.0, 1.0, 0.0, 0.0, 0.0, 0.0, 0.0, 0.0, 0.0, 0.0, 0.0, 0.0, 0.0, 0.0, 0.0, ...)  \n",
       "4  (0.0, 0.0, 1.0, 0.0, 1.0, 0.0, 0.0, 0.0, 0.0, 0.0, 0.0, 0.0, 0.0, 0.0, 0.0, 0.0, 0.0, 0.0, 0.0, 0.0, 0.0, 0.0, 0.0, 0.0, 0.0, 0.0, 0.0, 0.0, 0.0, 0.0, 0.0, 1.0, 0.0, 0.0, 0.0, 0.0, 0.0, 0.0, 0.0, 0.0, 0.0, 0.0, 0.0, 0.0, 0.0, 0.0, 0.0, 0.0, 0.0, 0.0, 0.0, 0.0, 0.0, 0.0, 0.0, 0.0, 0.0, 0.0, 0.0, 0.0, 0.0, 0.0, 0.0, 0.0, 0.0, 0.0, 0.0, 0.0, 0.0, 0.0, 0.0, 0.0, 0.0, 0.0, 0.0, 0.0, 0.0, 0.0, 0.0, 0.0, 0.0, 0.0, 0.0, 0.0, 0.0, 0.0, 0.0, 0.0, 0.0, 0.0, 0.0, 0.0, 0.0, 0.0, 0.0, 0.0, 0.0, 0.0, 0.0, 0.0, ...)  "
      ]
     },
     "execution_count": 52,
     "metadata": {},
     "output_type": "execute_result"
    }
   ],
   "source": [
    "df_text_vectorize.limit(5).toPandas()"
   ]
  },
  {
   "cell_type": "code",
   "execution_count": 53,
   "id": "2df77194-9dc8-4a03-a95d-836a3e41dc5b",
   "metadata": {},
   "outputs": [],
   "source": [
    "#Fit MinHashLSH to create hash table\n",
    "mh1 = MinHashLSH(inputCol=\"features\", outputCol=\"hashes\", numHashTables=5)\n",
    "model1 = mh1.fit(df_text_vectorize)\n",
    "df_hashed1 = model1.transform(df_text_vectorize).cache()"
   ]
  },
  {
   "cell_type": "code",
   "execution_count": 54,
   "id": "1988e0e6-9a42-460f-9762-870e2ae58664",
   "metadata": {},
   "outputs": [
    {
     "name": "stderr",
     "output_type": "stream",
     "text": [
      "                                                                                \r"
     ]
    },
    {
     "data": {
      "text/html": [
       "<table border='1'>\n",
       "<tr><th>id</th><th>text</th><th>words_list</th><th>features</th><th>hashes</th></tr>\n",
       "<tr><td>222</td><td>{analysis the bio...</td><td>[analysis, biodiv...</td><td>(30678,[0,1,4,448...</td><td>[[4.7945584E7], [...</td></tr>\n",
       "<tr><td>270</td><td>{9 year old boy f...</td><td>[year, old, boy, ...</td><td>(30678,[0,1,3,6,1...</td><td>[[4.7945584E7], [...</td></tr>\n",
       "<tr><td>293</td><td>{rt moreperfectus...</td><td>[rt, moreperfectu...</td><td>(30678,[2,4,10,14...</td><td>[[3.9873116E7], [...</td></tr>\n",
       "<tr><td>730</td><td>{rt capetownetc c...</td><td>[rt, capetownetc,...</td><td>(30678,[2,5,409,5...</td><td>[[1.82676517E8], ...</td></tr>\n",
       "<tr><td>938</td><td>{she then enrolle...</td><td>[enrolled, queens...</td><td>(30678,[0,1,3,5,1...</td><td>[[4.7945584E7], [...</td></tr>\n",
       "</table>\n"
      ],
      "text/plain": [
       "+---+--------------------+--------------------+--------------------+--------------------+\n",
       "| id|                text|          words_list|            features|              hashes|\n",
       "+---+--------------------+--------------------+--------------------+--------------------+\n",
       "|222|{analysis the bio...|[analysis, biodiv...|(30678,[0,1,4,448...|[[4.7945584E7], [...|\n",
       "|270|{9 year old boy f...|[year, old, boy, ...|(30678,[0,1,3,6,1...|[[4.7945584E7], [...|\n",
       "|293|{rt moreperfectus...|[rt, moreperfectu...|(30678,[2,4,10,14...|[[3.9873116E7], [...|\n",
       "|730|{rt capetownetc c...|[rt, capetownetc,...|(30678,[2,5,409,5...|[[1.82676517E8], ...|\n",
       "|938|{she then enrolle...|[enrolled, queens...|(30678,[0,1,3,5,1...|[[4.7945584E7], [...|\n",
       "+---+--------------------+--------------------+--------------------+--------------------+"
      ]
     },
     "execution_count": 54,
     "metadata": {},
     "output_type": "execute_result"
    }
   ],
   "source": [
    "df_hashed_text = df_text.join(df_hashed1, \"id\", how = 'left').cache()\n",
    "df_hashed_text.limit(5)"
   ]
  },
  {
   "cell_type": "code",
   "execution_count": 55,
   "id": "481dfaed-2318-4876-aaf7-73edb125e006",
   "metadata": {},
   "outputs": [],
   "source": [
    "#Establish similarity threshold and return near-duplicate records\n",
    "jaccard_distance = 0.3\n",
    "\n",
    "df_dups_text3 = model1.approxSimilarityJoin(df_hashed_text, df_hashed_text, jaccard_distance).filter(\"datasetA.id < datasetB.id\").select(\n",
    "            col(\"distCol\"),\n",
    "            col(\"datasetA.id\").alias(\"id_A\"),\n",
    "            col(\"datasetB.id\").alias(\"id_B\"),\n",
    "            col('datasetA.text').alias('text_A'),\n",
    "            col('datasetB.text').alias('text_B')\n",
    "            )"
   ]
  },
  {
   "cell_type": "code",
   "execution_count": 56,
   "id": "ed27bd07-194d-42e5-a2f1-8d7c96bc787d",
   "metadata": {},
   "outputs": [
    {
     "name": "stderr",
     "output_type": "stream",
     "text": [
      "                                                                                \r"
     ]
    },
    {
     "data": {
      "text/html": [
       "<div>\n",
       "<style scoped>\n",
       "    .dataframe tbody tr th:only-of-type {\n",
       "        vertical-align: middle;\n",
       "    }\n",
       "\n",
       "    .dataframe tbody tr th {\n",
       "        vertical-align: top;\n",
       "    }\n",
       "\n",
       "    .dataframe thead th {\n",
       "        text-align: right;\n",
       "    }\n",
       "</style>\n",
       "<table border=\"1\" class=\"dataframe\">\n",
       "  <thead>\n",
       "    <tr style=\"text-align: right;\">\n",
       "      <th></th>\n",
       "      <th>distCol</th>\n",
       "      <th>id_A</th>\n",
       "      <th>id_B</th>\n",
       "      <th>text_A</th>\n",
       "      <th>text_B</th>\n",
       "    </tr>\n",
       "  </thead>\n",
       "  <tbody>\n",
       "    <tr>\n",
       "      <th>0</th>\n",
       "      <td>0.0</td>\n",
       "      <td>3551</td>\n",
       "      <td>7341</td>\n",
       "      <td>(rt qasimrashid keenan anderson a 31 year old high school teacher amp father stopped la police for help after an accident they instead cuff,)</td>\n",
       "      <td>(rt qasimrashid keenan anderson a 31 year old high school teacher amp father stopped la police for help after an accident they instead cuff,)</td>\n",
       "    </tr>\n",
       "    <tr>\n",
       "      <th>1</th>\n",
       "      <td>0.0</td>\n",
       "      <td>3829</td>\n",
       "      <td>6603</td>\n",
       "      <td>(rt clairecmc i can t in good conscience recommend young women go to colleges in states where taking a morning after pill could make them,)</td>\n",
       "      <td>(rt clairecmc i can t in good conscience recommend young women go to colleges in states where taking a morning after pill could make them,)</td>\n",
       "    </tr>\n",
       "    <tr>\n",
       "      <th>2</th>\n",
       "      <td>0.2</td>\n",
       "      <td>2132</td>\n",
       "      <td>7960</td>\n",
       "      <td>(rt sadlifeebro every college student knows the importance of 11 59,)</td>\n",
       "      <td>(rt noorthevirgo every college student knows the importance of 11 59,)</td>\n",
       "    </tr>\n",
       "    <tr>\n",
       "      <th>3</th>\n",
       "      <td>0.0</td>\n",
       "      <td>9788</td>\n",
       "      <td>9870</td>\n",
       "      <td>(rt maassp high school senior who just defeated a far right candidate in idaho we used to have climate strikes like back in ninth grad,)</td>\n",
       "      <td>(rt maassp high school senior who just defeated a far right candidate in idaho we used to have climate strikes like back in ninth grad,)</td>\n",
       "    </tr>\n",
       "    <tr>\n",
       "      <th>4</th>\n",
       "      <td>0.0</td>\n",
       "      <td>2722</td>\n",
       "      <td>6728</td>\n",
       "      <td>(rt itsmestacyz can we students rest like a real rest even just for a day without being anxio,)</td>\n",
       "      <td>(rt itsmestacyz can we students rest like a real rest even just for a day without being anxio,)</td>\n",
       "    </tr>\n",
       "  </tbody>\n",
       "</table>\n",
       "</div>"
      ],
      "text/plain": [
       "   distCol  id_A  id_B  \\\n",
       "0      0.0  3551  7341   \n",
       "1      0.0  3829  6603   \n",
       "2      0.2  2132  7960   \n",
       "3      0.0  9788  9870   \n",
       "4      0.0  2722  6728   \n",
       "\n",
       "                                                                                                                                          text_A  \\\n",
       "0  (rt qasimrashid keenan anderson a 31 year old high school teacher amp father stopped la police for help after an accident they instead cuff,)   \n",
       "1    (rt clairecmc i can t in good conscience recommend young women go to colleges in states where taking a morning after pill could make them,)   \n",
       "2                                                                          (rt sadlifeebro every college student knows the importance of 11 59,)   \n",
       "3       (rt maassp high school senior who just defeated a far right candidate in idaho we used to have climate strikes like back in ninth grad,)   \n",
       "4                                                (rt itsmestacyz can we students rest like a real rest even just for a day without being anxio,)   \n",
       "\n",
       "                                                                                                                                          text_B  \n",
       "0  (rt qasimrashid keenan anderson a 31 year old high school teacher amp father stopped la police for help after an accident they instead cuff,)  \n",
       "1    (rt clairecmc i can t in good conscience recommend young women go to colleges in states where taking a morning after pill could make them,)  \n",
       "2                                                                         (rt noorthevirgo every college student knows the importance of 11 59,)  \n",
       "3       (rt maassp high school senior who just defeated a far right candidate in idaho we used to have climate strikes like back in ninth grad,)  \n",
       "4                                                (rt itsmestacyz can we students rest like a real rest even just for a day without being anxio,)  "
      ]
     },
     "execution_count": 56,
     "metadata": {},
     "output_type": "execute_result"
    }
   ],
   "source": [
    "df_dups_30 = df_dups_text3\n",
    "df_dups_text3.cache()\n",
    "df_dups_text3.limit(5).toPandas()"
   ]
  },
  {
   "cell_type": "code",
   "execution_count": 57,
   "id": "bf97af2a-21a0-426b-aa56-9029c227f0b2",
   "metadata": {},
   "outputs": [
    {
     "name": "stderr",
     "output_type": "stream",
     "text": [
      "[Stage 264:====================================================>(197 + 3) / 200]\r"
     ]
    },
    {
     "name": "stdout",
     "output_type": "stream",
     "text": [
      "Total records:  10065\n",
      "Proportion of duplicates based on { 0.3 } jaccard distance proportion:  0.03596621957277695\n",
      "Proportion of unique records based on { 0.3 } jaccard distance proportion:  0.9640337804272231\n"
     ]
    },
    {
     "name": "stderr",
     "output_type": "stream",
     "text": [
      "                                                                                \r"
     ]
    }
   ],
   "source": [
    "records = df_hashed_text.count()\n",
    "dups = df_dups_text3.select('id_A').distinct().count()\n",
    "proportion_dups = dups/records\n",
    "uniques = records - dups\n",
    "proportion_uniques = uniques/records\n",
    "\n",
    "print('Total records: ', records)\n",
    "print('Proportion of duplicates based on {', jaccard_distance, '} jaccard distance proportion: ', proportion_dups)\n",
    "print('Proportion of unique records based on {', jaccard_distance, '} jaccard distance proportion: ', proportion_uniques)"
   ]
  },
  {
   "cell_type": "code",
   "execution_count": 58,
   "id": "00ddfa61-6a13-4fca-b5f9-26ec961eab7c",
   "metadata": {},
   "outputs": [
    {
     "name": "stdout",
     "output_type": "stream",
     "text": [
      "Total records:  10065\n",
      "Duplicate titles based on { 0.3 } jaccard distance:  362\n",
      "Unique titles based on { 0.3 } jaccard distance:  0.3 :  9703\n"
     ]
    }
   ],
   "source": [
    "records = df_hashed_text.count()\n",
    "dups = df_dups_text3.select('id_A').distinct().count()\n",
    "uniques = records - dups\n",
    "\n",
    "print ('Total records: ', records)\n",
    "print ('Duplicate titles based on {', jaccard_distance, '} jaccard distance: ', dups)\n",
    "print ('Unique titles based on {', jaccard_distance, '} jaccard distance: ', jaccard_distance, ': ', uniques)"
   ]
  },
  {
   "cell_type": "code",
   "execution_count": 59,
   "id": "0220f859-f15a-4422-9b3a-517a1e786f3b",
   "metadata": {},
   "outputs": [
    {
     "data": {
      "image/png": "[encoded data removed]",
      "text/plain": [
       "<Figure size 640x480 with 1 Axes>"
      ]
     },
     "metadata": {},
     "output_type": "display_data"
    }
   ],
   "source": [
    "dups3_df = pd.DataFrame.from_dict({'near_dups': [dups], 'unique': [uniques]})\n",
    "\n",
    "ax=dups3_df.plot(kind = 'bar',y=['near_dups', 'unique'], fontsize=10, color=['grey', 'teal'], align='center', width=0.8, xlabel=\"Duplicates vs. Unique\")\n",
    "ax.set_title('Tweets Duplication Analysis for News Outlet', fontsize=10)\n",
    "for p in ax.patches:\n",
    "       ax.annotate(format(p.get_height(), '.1f'), \n",
    "                   (p.get_x() + p.get_width() / 2., p.get_height()/2),  \n",
    "                   ha = 'center', va = 'center', \n",
    "                   xytext = (0, 9), \n",
    "                   textcoords = 'offset points') "
   ]
  },
  {
   "cell_type": "code",
   "execution_count": 60,
   "id": "2a7f6845-3ca6-42ef-ad96-4a2a4cc3b1f2",
   "metadata": {},
   "outputs": [],
   "source": [
    "sqlContext.clearCache()"
   ]
  },
  {
   "cell_type": "markdown",
   "id": "5f9df43e-669e-4a0c-8aa5-c9a80f67fc22",
   "metadata": {},
   "source": [
    "#### Social media influencer"
   ]
  },
  {
   "cell_type": "code",
   "execution_count": 61,
   "id": "e31236f6-12b0-4775-84f3-29cd49fa9016",
   "metadata": {},
   "outputs": [
    {
     "name": "stderr",
     "output_type": "stream",
     "text": [
      "                                                                                \r"
     ]
    },
    {
     "data": {
      "text/plain": [
       "1080789"
      ]
     },
     "execution_count": 61,
     "metadata": {},
     "output_type": "execute_result"
    }
   ],
   "source": [
    "#filter for social media influencer\n",
    "influencer_users = tweets_filt4.filter(tweets_filt4.user_category == 'Social Media Influencer')\n",
    "influencer_users.count()"
   ]
  },
  {
   "cell_type": "code",
   "execution_count": 64,
   "id": "1e3ea0dc-7882-485a-acc6-3619f12d4afb",
   "metadata": {},
   "outputs": [
    {
     "name": "stderr",
     "output_type": "stream",
     "text": [
      "                                                                                \r"
     ]
    },
    {
     "data": {
      "text/plain": [
       "10079"
      ]
     },
     "execution_count": 64,
     "metadata": {},
     "output_type": "execute_result"
    }
   ],
   "source": [
    "influencer_users_sample = influencer_users.sample(False, 0.0093, 12345)\n",
    "influencer_users_sample.count()"
   ]
  },
  {
   "cell_type": "code",
   "execution_count": 65,
   "id": "19f3befe-2d68-47d0-a094-9f1ab0ce72a4",
   "metadata": {},
   "outputs": [
    {
     "data": {
      "text/html": [
       "<table border='1'>\n",
       "<tr><th>text</th></tr>\n",
       "<tr><td>journal impact fa...</td></tr>\n",
       "<tr><td>rt tomfitton brea...</td></tr>\n",
       "<tr><td>rt danielashley13...</td></tr>\n",
       "<tr><td>rt lincolnmjay ha...</td></tr>\n",
       "<tr><td>rt jaylanier12 da...</td></tr>\n",
       "</table>\n"
      ],
      "text/plain": [
       "+--------------------+\n",
       "|                text|\n",
       "+--------------------+\n",
       "|journal impact fa...|\n",
       "|rt tomfitton brea...|\n",
       "|rt danielashley13...|\n",
       "|rt lincolnmjay ha...|\n",
       "|rt jaylanier12 da...|\n",
       "+--------------------+"
      ]
     },
     "execution_count": 65,
     "metadata": {},
     "output_type": "execute_result"
    }
   ],
   "source": [
    "#select the text column from the data for further analysis\n",
    "influencer_users2 = influencer_users_sample.select([\"text\"])\n",
    "influencer_users2.limit(5)"
   ]
  },
  {
   "cell_type": "code",
   "execution_count": 66,
   "id": "78d71e92-442b-4bed-988c-76ee08eac9fc",
   "metadata": {},
   "outputs": [
    {
     "name": "stderr",
     "output_type": "stream",
     "text": [
      "                                                                                \r"
     ]
    }
   ],
   "source": [
    "# drop any rows with null values\n",
    "text = influencer_users2.rdd.map(lambda x : x['text']).filter(lambda x: x is not None)\n",
    "\n",
    "StopWords = stopwords.words(\"english\")\n",
    "\n",
    "tokens1 = text\\\n",
    "    .map( lambda document: document.strip().lower())\\\n",
    "    .map( lambda document: re.split(\" \", document))\\\n",
    "    .map( lambda word: [x for x in word if x.isalnum()])\\\n",
    "    .map( lambda word: [x for x in word if x not in StopWords])\\\n",
    "    .map( lambda word: [x for x in word if len(x) > 1] )\\\n",
    "    .zipWithIndex()"
   ]
  },
  {
   "cell_type": "code",
   "execution_count": 67,
   "id": "03614374-16b3-4787-a541-1459d395d584",
   "metadata": {},
   "outputs": [
    {
     "name": "stderr",
     "output_type": "stream",
     "text": [
      "                                                                                \r"
     ]
    },
    {
     "data": {
      "text/html": [
       "<table border='1'>\n",
       "<tr><th>text</th><th>id</th></tr>\n",
       "<tr><td>{stranger things ...</td><td>500</td></tr>\n",
       "<tr><td>{rt landmarkcolle...</td><td>501</td></tr>\n",
       "<tr><td>{cute transfer st...</td><td>502</td></tr>\n",
       "<tr><td>{serapath i have ...</td><td>503</td></tr>\n",
       "<tr><td>{iowa high school...</td><td>504</td></tr>\n",
       "</table>\n"
      ],
      "text/plain": [
       "+--------------------+---+\n",
       "|                text| id|\n",
       "+--------------------+---+\n",
       "|{angelabelcamino ...|217|\n",
       "|{rt machinepix la...|218|\n",
       "|{rt sametoolz bea...|219|\n",
       "|{rt roboatss ever...|220|\n",
       "|{rt mowens_10 her...|221|\n",
       "+--------------------+---+"
      ]
     },
     "execution_count": 67,
     "metadata": {},
     "output_type": "execute_result"
    }
   ],
   "source": [
    "row = Row('text')\n",
    "df_text = text.map(row).zipWithIndex().toDF(['text','id'])\n",
    "df_text.limit(5)"
   ]
  },
  {
   "cell_type": "code",
   "execution_count": 68,
   "id": "fe3a56b6-1414-4dc7-878d-63cc1407b0eb",
   "metadata": {},
   "outputs": [
    {
     "data": {
      "text/html": [
       "<div>\n",
       "<style scoped>\n",
       "    .dataframe tbody tr th:only-of-type {\n",
       "        vertical-align: middle;\n",
       "    }\n",
       "\n",
       "    .dataframe tbody tr th {\n",
       "        vertical-align: top;\n",
       "    }\n",
       "\n",
       "    .dataframe thead th {\n",
       "        text-align: right;\n",
       "    }\n",
       "</style>\n",
       "<table border=\"1\" class=\"dataframe\">\n",
       "  <thead>\n",
       "    <tr style=\"text-align: right;\">\n",
       "      <th></th>\n",
       "      <th>words_list</th>\n",
       "      <th>id</th>\n",
       "    </tr>\n",
       "  </thead>\n",
       "  <tbody>\n",
       "    <tr>\n",
       "      <th>0</th>\n",
       "      <td>[journal, impact, factor, university, texas, dallas, financial, times, listing, journal, article, level, https, tco, rqukefoirw]</td>\n",
       "      <td>0</td>\n",
       "    </tr>\n",
       "    <tr>\n",
       "      <th>1</th>\n",
       "      <td>[rt, tomfitton, breaking, nytimes, upset, high, school, textbooks, anti, american, enough, https, tco, rjwd3otnbp]</td>\n",
       "      <td>1</td>\n",
       "    </tr>\n",
       "    <tr>\n",
       "      <th>2</th>\n",
       "      <td>[rt, danielashley13, ideastosupplementyourincome, retired, teacher, get, cdl, drive, school, bus, https, tco, lofzsrr5zt]</td>\n",
       "      <td>2</td>\n",
       "    </tr>\n",
       "    <tr>\n",
       "      <th>3</th>\n",
       "      <td>[rt, lincolnmjay, happening, students, joined, protestors, outside, oakville, trafalgar, high, school, speak, teacher, wh]</td>\n",
       "      <td>3</td>\n",
       "    </tr>\n",
       "    <tr>\n",
       "      <th>4</th>\n",
       "      <td>[rt, jaylanier12, damehova9, jayceon, lanier, pos, rb, de, class, 23, ht, wt, 235, school, metter, high, school, gpa, 30, city, state, georgia]</td>\n",
       "      <td>4</td>\n",
       "    </tr>\n",
       "  </tbody>\n",
       "</table>\n",
       "</div>"
      ],
      "text/plain": [
       "                                                                                                                                        words_list  \\\n",
       "0                 [journal, impact, factor, university, texas, dallas, financial, times, listing, journal, article, level, https, tco, rqukefoirw]   \n",
       "1                               [rt, tomfitton, breaking, nytimes, upset, high, school, textbooks, anti, american, enough, https, tco, rjwd3otnbp]   \n",
       "2                        [rt, danielashley13, ideastosupplementyourincome, retired, teacher, get, cdl, drive, school, bus, https, tco, lofzsrr5zt]   \n",
       "3                       [rt, lincolnmjay, happening, students, joined, protestors, outside, oakville, trafalgar, high, school, speak, teacher, wh]   \n",
       "4  [rt, jaylanier12, damehova9, jayceon, lanier, pos, rb, de, class, 23, ht, wt, 235, school, metter, high, school, gpa, 30, city, state, georgia]   \n",
       "\n",
       "   id  \n",
       "0   0  \n",
       "1   1  \n",
       "2   2  \n",
       "3   3  \n",
       "4   4  "
      ]
     },
     "execution_count": 68,
     "metadata": {},
     "output_type": "execute_result"
    }
   ],
   "source": [
    "df_text_tokens = spark.createDataFrame(tokens1, [\"words_list\",'id'])\n",
    "\n",
    "#Drop records with no tokens\n",
    "df_text_tokens = df_text_tokens.where(col('words_list').getItem(0).isNotNull())\n",
    "df_text_tokens.limit(5).toPandas()"
   ]
  },
  {
   "cell_type": "code",
   "execution_count": 69,
   "id": "f7ed6c02-03cf-430b-8577-9389c88a9ca2",
   "metadata": {},
   "outputs": [
    {
     "name": "stderr",
     "output_type": "stream",
     "text": [
      "                                                                                \r"
     ]
    }
   ],
   "source": [
    "#Fit countvectorizer to create word features\n",
    "vectorize1 = CountVectorizer(inputCol=\"words_list\", outputCol=\"features\", minDF=1.0)\n",
    "df_text_vectorize = vectorize1.fit(df_text_tokens).transform(df_text_tokens)"
   ]
  },
  {
   "cell_type": "code",
   "execution_count": 70,
   "id": "507c1336-fc9f-460c-8a2f-58eb19ac871a",
   "metadata": {},
   "outputs": [
    {
     "data": {
      "text/html": [
       "<div>\n",
       "<style scoped>\n",
       "    .dataframe tbody tr th:only-of-type {\n",
       "        vertical-align: middle;\n",
       "    }\n",
       "\n",
       "    .dataframe tbody tr th {\n",
       "        vertical-align: top;\n",
       "    }\n",
       "\n",
       "    .dataframe thead th {\n",
       "        text-align: right;\n",
       "    }\n",
       "</style>\n",
       "<table border=\"1\" class=\"dataframe\">\n",
       "  <thead>\n",
       "    <tr style=\"text-align: right;\">\n",
       "      <th></th>\n",
       "      <th>words_list</th>\n",
       "      <th>id</th>\n",
       "      <th>features</th>\n",
       "    </tr>\n",
       "  </thead>\n",
       "  <tbody>\n",
       "    <tr>\n",
       "      <th>0</th>\n",
       "      <td>[journal, impact, factor, university, texas, dallas, financial, times, listing, journal, article, level, https, tco, rqukefoirw]</td>\n",
       "      <td>0</td>\n",
       "      <td>(0.0, 1.0, 1.0, 0.0, 0.0, 1.0, 0.0, 0.0, 0.0, 0.0, 0.0, 0.0, 0.0, 0.0, 0.0, 0.0, 0.0, 0.0, 0.0, 0.0, 0.0, 0.0, 0.0, 0.0, 0.0, 0.0, 0.0, 0.0, 0.0, 0.0, 0.0, 0.0, 0.0, 0.0, 0.0, 0.0, 0.0, 0.0, 0.0, 0.0, 0.0, 0.0, 0.0, 0.0, 0.0, 0.0, 0.0, 0.0, 0.0, 0.0, 0.0, 0.0, 0.0, 0.0, 0.0, 0.0, 0.0, 0.0, 0.0, 0.0, 0.0, 0.0, 0.0, 0.0, 0.0, 0.0, 0.0, 0.0, 0.0, 0.0, 0.0, 0.0, 0.0, 0.0, 0.0, 0.0, 0.0, 0.0, 0.0, 0.0, 1.0, 0.0, 0.0, 0.0, 0.0, 0.0, 0.0, 0.0, 0.0, 0.0, 0.0, 0.0, 0.0, 0.0, 0.0, 0.0, 0.0, 0.0, 0.0, 0.0, ...)</td>\n",
       "    </tr>\n",
       "    <tr>\n",
       "      <th>1</th>\n",
       "      <td>[rt, tomfitton, breaking, nytimes, upset, high, school, textbooks, anti, american, enough, https, tco, rjwd3otnbp]</td>\n",
       "      <td>1</td>\n",
       "      <td>(1.0, 1.0, 1.0, 1.0, 0.0, 0.0, 1.0, 0.0, 0.0, 0.0, 0.0, 0.0, 0.0, 0.0, 0.0, 0.0, 0.0, 0.0, 0.0, 0.0, 0.0, 0.0, 0.0, 0.0, 0.0, 0.0, 0.0, 0.0, 0.0, 0.0, 0.0, 0.0, 0.0, 0.0, 0.0, 0.0, 0.0, 0.0, 0.0, 0.0, 0.0, 0.0, 0.0, 0.0, 0.0, 0.0, 0.0, 0.0, 0.0, 0.0, 0.0, 0.0, 0.0, 0.0, 0.0, 0.0, 0.0, 0.0, 0.0, 0.0, 0.0, 0.0, 0.0, 0.0, 0.0, 0.0, 0.0, 0.0, 0.0, 0.0, 0.0, 0.0, 0.0, 0.0, 0.0, 0.0, 0.0, 0.0, 0.0, 0.0, 0.0, 0.0, 0.0, 0.0, 0.0, 0.0, 0.0, 0.0, 0.0, 0.0, 0.0, 0.0, 0.0, 0.0, 0.0, 0.0, 0.0, 0.0, 0.0, 0.0, ...)</td>\n",
       "    </tr>\n",
       "    <tr>\n",
       "      <th>2</th>\n",
       "      <td>[rt, danielashley13, ideastosupplementyourincome, retired, teacher, get, cdl, drive, school, bus, https, tco, lofzsrr5zt]</td>\n",
       "      <td>2</td>\n",
       "      <td>(1.0, 1.0, 1.0, 1.0, 0.0, 0.0, 0.0, 0.0, 0.0, 0.0, 0.0, 1.0, 0.0, 0.0, 0.0, 0.0, 0.0, 0.0, 0.0, 0.0, 1.0, 0.0, 0.0, 0.0, 0.0, 0.0, 0.0, 0.0, 0.0, 0.0, 0.0, 0.0, 0.0, 0.0, 0.0, 0.0, 0.0, 0.0, 0.0, 0.0, 0.0, 0.0, 0.0, 0.0, 0.0, 0.0, 0.0, 0.0, 0.0, 0.0, 0.0, 0.0, 0.0, 0.0, 0.0, 0.0, 0.0, 0.0, 0.0, 0.0, 0.0, 0.0, 0.0, 0.0, 0.0, 0.0, 0.0, 0.0, 0.0, 0.0, 0.0, 0.0, 0.0, 0.0, 0.0, 0.0, 0.0, 0.0, 0.0, 0.0, 0.0, 0.0, 0.0, 0.0, 0.0, 0.0, 0.0, 0.0, 0.0, 0.0, 0.0, 0.0, 0.0, 0.0, 0.0, 0.0, 0.0, 0.0, 0.0, 0.0, ...)</td>\n",
       "    </tr>\n",
       "    <tr>\n",
       "      <th>3</th>\n",
       "      <td>[rt, lincolnmjay, happening, students, joined, protestors, outside, oakville, trafalgar, high, school, speak, teacher, wh]</td>\n",
       "      <td>3</td>\n",
       "      <td>(1.0, 0.0, 0.0, 1.0, 0.0, 0.0, 1.0, 1.0, 0.0, 0.0, 0.0, 1.0, 0.0, 0.0, 0.0, 0.0, 0.0, 0.0, 0.0, 0.0, 0.0, 0.0, 0.0, 0.0, 0.0, 0.0, 0.0, 0.0, 0.0, 0.0, 0.0, 0.0, 0.0, 0.0, 0.0, 0.0, 0.0, 0.0, 0.0, 0.0, 0.0, 0.0, 0.0, 0.0, 0.0, 0.0, 0.0, 0.0, 0.0, 0.0, 0.0, 0.0, 0.0, 0.0, 0.0, 0.0, 0.0, 0.0, 0.0, 0.0, 0.0, 0.0, 0.0, 0.0, 0.0, 0.0, 0.0, 0.0, 0.0, 0.0, 0.0, 0.0, 0.0, 0.0, 0.0, 0.0, 0.0, 0.0, 0.0, 0.0, 0.0, 0.0, 0.0, 0.0, 0.0, 0.0, 0.0, 0.0, 0.0, 0.0, 0.0, 0.0, 0.0, 0.0, 0.0, 0.0, 0.0, 0.0, 0.0, 0.0, ...)</td>\n",
       "    </tr>\n",
       "    <tr>\n",
       "      <th>4</th>\n",
       "      <td>[rt, jaylanier12, damehova9, jayceon, lanier, pos, rb, de, class, 23, ht, wt, 235, school, metter, high, school, gpa, 30, city, state, georgia]</td>\n",
       "      <td>4</td>\n",
       "      <td>(1.0, 0.0, 0.0, 2.0, 0.0, 0.0, 1.0, 0.0, 0.0, 0.0, 0.0, 0.0, 0.0, 0.0, 0.0, 0.0, 0.0, 0.0, 0.0, 1.0, 0.0, 0.0, 0.0, 0.0, 0.0, 0.0, 0.0, 0.0, 0.0, 0.0, 0.0, 0.0, 0.0, 0.0, 0.0, 0.0, 0.0, 1.0, 0.0, 0.0, 0.0, 0.0, 0.0, 0.0, 0.0, 0.0, 0.0, 0.0, 0.0, 0.0, 0.0, 0.0, 0.0, 0.0, 0.0, 0.0, 0.0, 0.0, 0.0, 0.0, 0.0, 0.0, 0.0, 0.0, 0.0, 0.0, 0.0, 0.0, 0.0, 0.0, 0.0, 0.0, 0.0, 0.0, 0.0, 0.0, 0.0, 0.0, 0.0, 0.0, 0.0, 0.0, 0.0, 0.0, 0.0, 0.0, 0.0, 0.0, 0.0, 0.0, 0.0, 0.0, 0.0, 0.0, 0.0, 0.0, 0.0, 0.0, 0.0, 0.0, ...)</td>\n",
       "    </tr>\n",
       "  </tbody>\n",
       "</table>\n",
       "</div>"
      ],
      "text/plain": [
       "                                                                                                                                        words_list  \\\n",
       "0                 [journal, impact, factor, university, texas, dallas, financial, times, listing, journal, article, level, https, tco, rqukefoirw]   \n",
       "1                               [rt, tomfitton, breaking, nytimes, upset, high, school, textbooks, anti, american, enough, https, tco, rjwd3otnbp]   \n",
       "2                        [rt, danielashley13, ideastosupplementyourincome, retired, teacher, get, cdl, drive, school, bus, https, tco, lofzsrr5zt]   \n",
       "3                       [rt, lincolnmjay, happening, students, joined, protestors, outside, oakville, trafalgar, high, school, speak, teacher, wh]   \n",
       "4  [rt, jaylanier12, damehova9, jayceon, lanier, pos, rb, de, class, 23, ht, wt, 235, school, metter, high, school, gpa, 30, city, state, georgia]   \n",
       "\n",
       "   id  \\\n",
       "0   0   \n",
       "1   1   \n",
       "2   2   \n",
       "3   3   \n",
       "4   4   \n",
       "\n",
       "                                                                                                                                                                                                                                                                                                                                                                                                                                                                                                                    features  \n",
       "0  (0.0, 1.0, 1.0, 0.0, 0.0, 1.0, 0.0, 0.0, 0.0, 0.0, 0.0, 0.0, 0.0, 0.0, 0.0, 0.0, 0.0, 0.0, 0.0, 0.0, 0.0, 0.0, 0.0, 0.0, 0.0, 0.0, 0.0, 0.0, 0.0, 0.0, 0.0, 0.0, 0.0, 0.0, 0.0, 0.0, 0.0, 0.0, 0.0, 0.0, 0.0, 0.0, 0.0, 0.0, 0.0, 0.0, 0.0, 0.0, 0.0, 0.0, 0.0, 0.0, 0.0, 0.0, 0.0, 0.0, 0.0, 0.0, 0.0, 0.0, 0.0, 0.0, 0.0, 0.0, 0.0, 0.0, 0.0, 0.0, 0.0, 0.0, 0.0, 0.0, 0.0, 0.0, 0.0, 0.0, 0.0, 0.0, 0.0, 0.0, 1.0, 0.0, 0.0, 0.0, 0.0, 0.0, 0.0, 0.0, 0.0, 0.0, 0.0, 0.0, 0.0, 0.0, 0.0, 0.0, 0.0, 0.0, 0.0, 0.0, ...)  \n",
       "1  (1.0, 1.0, 1.0, 1.0, 0.0, 0.0, 1.0, 0.0, 0.0, 0.0, 0.0, 0.0, 0.0, 0.0, 0.0, 0.0, 0.0, 0.0, 0.0, 0.0, 0.0, 0.0, 0.0, 0.0, 0.0, 0.0, 0.0, 0.0, 0.0, 0.0, 0.0, 0.0, 0.0, 0.0, 0.0, 0.0, 0.0, 0.0, 0.0, 0.0, 0.0, 0.0, 0.0, 0.0, 0.0, 0.0, 0.0, 0.0, 0.0, 0.0, 0.0, 0.0, 0.0, 0.0, 0.0, 0.0, 0.0, 0.0, 0.0, 0.0, 0.0, 0.0, 0.0, 0.0, 0.0, 0.0, 0.0, 0.0, 0.0, 0.0, 0.0, 0.0, 0.0, 0.0, 0.0, 0.0, 0.0, 0.0, 0.0, 0.0, 0.0, 0.0, 0.0, 0.0, 0.0, 0.0, 0.0, 0.0, 0.0, 0.0, 0.0, 0.0, 0.0, 0.0, 0.0, 0.0, 0.0, 0.0, 0.0, 0.0, ...)  \n",
       "2  (1.0, 1.0, 1.0, 1.0, 0.0, 0.0, 0.0, 0.0, 0.0, 0.0, 0.0, 1.0, 0.0, 0.0, 0.0, 0.0, 0.0, 0.0, 0.0, 0.0, 1.0, 0.0, 0.0, 0.0, 0.0, 0.0, 0.0, 0.0, 0.0, 0.0, 0.0, 0.0, 0.0, 0.0, 0.0, 0.0, 0.0, 0.0, 0.0, 0.0, 0.0, 0.0, 0.0, 0.0, 0.0, 0.0, 0.0, 0.0, 0.0, 0.0, 0.0, 0.0, 0.0, 0.0, 0.0, 0.0, 0.0, 0.0, 0.0, 0.0, 0.0, 0.0, 0.0, 0.0, 0.0, 0.0, 0.0, 0.0, 0.0, 0.0, 0.0, 0.0, 0.0, 0.0, 0.0, 0.0, 0.0, 0.0, 0.0, 0.0, 0.0, 0.0, 0.0, 0.0, 0.0, 0.0, 0.0, 0.0, 0.0, 0.0, 0.0, 0.0, 0.0, 0.0, 0.0, 0.0, 0.0, 0.0, 0.0, 0.0, ...)  \n",
       "3  (1.0, 0.0, 0.0, 1.0, 0.0, 0.0, 1.0, 1.0, 0.0, 0.0, 0.0, 1.0, 0.0, 0.0, 0.0, 0.0, 0.0, 0.0, 0.0, 0.0, 0.0, 0.0, 0.0, 0.0, 0.0, 0.0, 0.0, 0.0, 0.0, 0.0, 0.0, 0.0, 0.0, 0.0, 0.0, 0.0, 0.0, 0.0, 0.0, 0.0, 0.0, 0.0, 0.0, 0.0, 0.0, 0.0, 0.0, 0.0, 0.0, 0.0, 0.0, 0.0, 0.0, 0.0, 0.0, 0.0, 0.0, 0.0, 0.0, 0.0, 0.0, 0.0, 0.0, 0.0, 0.0, 0.0, 0.0, 0.0, 0.0, 0.0, 0.0, 0.0, 0.0, 0.0, 0.0, 0.0, 0.0, 0.0, 0.0, 0.0, 0.0, 0.0, 0.0, 0.0, 0.0, 0.0, 0.0, 0.0, 0.0, 0.0, 0.0, 0.0, 0.0, 0.0, 0.0, 0.0, 0.0, 0.0, 0.0, 0.0, ...)  \n",
       "4  (1.0, 0.0, 0.0, 2.0, 0.0, 0.0, 1.0, 0.0, 0.0, 0.0, 0.0, 0.0, 0.0, 0.0, 0.0, 0.0, 0.0, 0.0, 0.0, 1.0, 0.0, 0.0, 0.0, 0.0, 0.0, 0.0, 0.0, 0.0, 0.0, 0.0, 0.0, 0.0, 0.0, 0.0, 0.0, 0.0, 0.0, 1.0, 0.0, 0.0, 0.0, 0.0, 0.0, 0.0, 0.0, 0.0, 0.0, 0.0, 0.0, 0.0, 0.0, 0.0, 0.0, 0.0, 0.0, 0.0, 0.0, 0.0, 0.0, 0.0, 0.0, 0.0, 0.0, 0.0, 0.0, 0.0, 0.0, 0.0, 0.0, 0.0, 0.0, 0.0, 0.0, 0.0, 0.0, 0.0, 0.0, 0.0, 0.0, 0.0, 0.0, 0.0, 0.0, 0.0, 0.0, 0.0, 0.0, 0.0, 0.0, 0.0, 0.0, 0.0, 0.0, 0.0, 0.0, 0.0, 0.0, 0.0, 0.0, 0.0, ...)  "
      ]
     },
     "execution_count": 70,
     "metadata": {},
     "output_type": "execute_result"
    }
   ],
   "source": [
    "df_text_vectorize.limit(5).toPandas()"
   ]
  },
  {
   "cell_type": "code",
   "execution_count": 71,
   "id": "2a6b1f50-09c2-4360-8906-68f57b36061c",
   "metadata": {},
   "outputs": [],
   "source": [
    "#Fit MinHashLSH to create hash table\n",
    "mh1 = MinHashLSH(inputCol=\"features\", outputCol=\"hashes\", numHashTables=5)\n",
    "model1 = mh1.fit(df_text_vectorize)\n",
    "df_hashed1 = model1.transform(df_text_vectorize).cache()"
   ]
  },
  {
   "cell_type": "code",
   "execution_count": 72,
   "id": "5d4f7896-362f-4e9b-afbd-dcc72692d6a2",
   "metadata": {},
   "outputs": [
    {
     "name": "stderr",
     "output_type": "stream",
     "text": [
      "                                                                                \r"
     ]
    },
    {
     "data": {
      "text/html": [
       "<table border='1'>\n",
       "<tr><th>id</th><th>text</th><th>words_list</th><th>features</th><th>hashes</th></tr>\n",
       "<tr><td>0</td><td>{journal impact f...</td><td>[journal, impact,...</td><td>(29091,[1,2,5,80,...</td><td>[[1.71580805E8], ...</td></tr>\n",
       "<tr><td>277</td><td>{octonion 1st yea...</td><td>[octonion, 1st, y...</td><td>(29091,[4,17,379,...</td><td>[[1.010261747E9],...</td></tr>\n",
       "<tr><td>287</td><td>{wait i love the ...</td><td>[wait, love, ball...</td><td>(29091,[1,2,3,9,2...</td><td>[[1.54921511E8], ...</td></tr>\n",
       "<tr><td>348</td><td>{rt naacpimageawa...</td><td>[rt, naacpimageaw...</td><td>(29091,[0,5,17,11...</td><td>[[4567863.0], [3....</td></tr>\n",
       "<tr><td>415</td><td>{i cba to fight w...</td><td>[cba, fight, disa...</td><td>(29091,[1,2,5,269...</td><td>[[2.09418533E8], ...</td></tr>\n",
       "</table>\n"
      ],
      "text/plain": [
       "+---+--------------------+--------------------+--------------------+--------------------+\n",
       "| id|                text|          words_list|            features|              hashes|\n",
       "+---+--------------------+--------------------+--------------------+--------------------+\n",
       "|222|{rt aggieman20 bi...|[rt, aggieman20, ...|(29091,[0,3,6,91,...|[[4.7945584E7], [...|\n",
       "|270|{hrh mbs received...|[hrh, mbs, receiv...|(29091,[1,2,5,156...|[[9.744056E7], [1...|\n",
       "|293|{rt simisanya so ...|[rt, simisanya, g...|(29091,[0,5,83,94...|[[3.689705E7], [1...|\n",
       "|730|{voccrime i agree...|[voccrime, agree,...|(29091,[1,2,4,258...|[[1.5946424E8], [...|\n",
       "|938|{we could not pro...|[could, produce, ...|(29091,[1,2,5,135...|[[9094866.0], [1....|\n",
       "+---+--------------------+--------------------+--------------------+--------------------+"
      ]
     },
     "execution_count": 72,
     "metadata": {},
     "output_type": "execute_result"
    }
   ],
   "source": [
    "df_hashed_text = df_text.join(df_hashed1, \"id\", how = 'left').cache()\n",
    "df_hashed_text.limit(5)"
   ]
  },
  {
   "cell_type": "code",
   "execution_count": 73,
   "id": "3c130970-7053-47ba-bd5e-efccc3d05dff",
   "metadata": {},
   "outputs": [],
   "source": [
    "#Establish similarity threshold and return near-duplicate records\n",
    "jaccard_distance = 0.3\n",
    "\n",
    "df_dups_text3 = model1.approxSimilarityJoin(df_hashed_text, df_hashed_text, jaccard_distance).filter(\"datasetA.id < datasetB.id\").select(\n",
    "            col(\"distCol\"),\n",
    "            col(\"datasetA.id\").alias(\"id_A\"),\n",
    "            col(\"datasetB.id\").alias(\"id_B\"),\n",
    "            col('datasetA.text').alias('text_A'),\n",
    "            col('datasetB.text').alias('text_B')\n",
    "            )"
   ]
  },
  {
   "cell_type": "code",
   "execution_count": 74,
   "id": "f1e61efc-dd2d-4ea0-b123-114b180c6f76",
   "metadata": {},
   "outputs": [
    {
     "name": "stderr",
     "output_type": "stream",
     "text": [
      "                                                                                \r"
     ]
    },
    {
     "data": {
      "text/html": [
       "<div>\n",
       "<style scoped>\n",
       "    .dataframe tbody tr th:only-of-type {\n",
       "        vertical-align: middle;\n",
       "    }\n",
       "\n",
       "    .dataframe tbody tr th {\n",
       "        vertical-align: top;\n",
       "    }\n",
       "\n",
       "    .dataframe thead th {\n",
       "        text-align: right;\n",
       "    }\n",
       "</style>\n",
       "<table border=\"1\" class=\"dataframe\">\n",
       "  <thead>\n",
       "    <tr style=\"text-align: right;\">\n",
       "      <th></th>\n",
       "      <th>distCol</th>\n",
       "      <th>id_A</th>\n",
       "      <th>id_B</th>\n",
       "      <th>text_A</th>\n",
       "      <th>text_B</th>\n",
       "    </tr>\n",
       "  </thead>\n",
       "  <tbody>\n",
       "    <tr>\n",
       "      <th>0</th>\n",
       "      <td>0.166667</td>\n",
       "      <td>803</td>\n",
       "      <td>2099</td>\n",
       "      <td>(his focus was on building a school while hers was on education what they didn t realize though was that life would https tco miipzuvwvb,)</td>\n",
       "      <td>(his focus was on building a school while hers was on education what they didn t realize though was that life would https tco xwgzveu9s8,)</td>\n",
       "    </tr>\n",
       "    <tr>\n",
       "      <th>1</th>\n",
       "      <td>0.000000</td>\n",
       "      <td>238</td>\n",
       "      <td>2169</td>\n",
       "      <td>(rt stevehofstetter the generation that could buy a house with a part time job and went to college for 5k sure likes to tell everyone how,)</td>\n",
       "      <td>(rt stevehofstetter the generation that could buy a house with a part time job and went to college for 5k sure likes to tell everyone how,)</td>\n",
       "    </tr>\n",
       "    <tr>\n",
       "      <th>2</th>\n",
       "      <td>0.095238</td>\n",
       "      <td>2256</td>\n",
       "      <td>6450</td>\n",
       "      <td>(rt lookk234 review 004 ssni 802 poor teacher trapped at school during a storm english explanation issue 4th part10 full amp hd versio,)</td>\n",
       "      <td>(rt lookk234 review 004 ssni 802 poor teacher trapped at school during a storm english explanation issue 4th part12 full amp hd versio,)</td>\n",
       "    </tr>\n",
       "    <tr>\n",
       "      <th>3</th>\n",
       "      <td>0.000000</td>\n",
       "      <td>8193</td>\n",
       "      <td>9308</td>\n",
       "      <td>(rt mariagenerous titled plots at busika town council behind bugema university main campus 50 100 18m 15 km from the tarmac electr,)</td>\n",
       "      <td>(rt mariagenerous titled plots at busika town council behind bugema university main campus 50 100 18m 15 km from the tarmac electr,)</td>\n",
       "    </tr>\n",
       "    <tr>\n",
       "      <th>4</th>\n",
       "      <td>0.166667</td>\n",
       "      <td>3086</td>\n",
       "      <td>4456</td>\n",
       "      <td>(his focus was on building a school while hers was on education what they didn t realize though was that life would https tco wx9sdxoyox,)</td>\n",
       "      <td>(his focus was on building a school while hers was on education what they didn t realize though was that life would https tco dwpsaowlzm,)</td>\n",
       "    </tr>\n",
       "  </tbody>\n",
       "</table>\n",
       "</div>"
      ],
      "text/plain": [
       "    distCol  id_A  id_B  \\\n",
       "0  0.166667   803  2099   \n",
       "1  0.000000   238  2169   \n",
       "2  0.095238  2256  6450   \n",
       "3  0.000000  8193  9308   \n",
       "4  0.166667  3086  4456   \n",
       "\n",
       "                                                                                                                                        text_A  \\\n",
       "0   (his focus was on building a school while hers was on education what they didn t realize though was that life would https tco miipzuvwvb,)   \n",
       "1  (rt stevehofstetter the generation that could buy a house with a part time job and went to college for 5k sure likes to tell everyone how,)   \n",
       "2     (rt lookk234 review 004 ssni 802 poor teacher trapped at school during a storm english explanation issue 4th part10 full amp hd versio,)   \n",
       "3         (rt mariagenerous titled plots at busika town council behind bugema university main campus 50 100 18m 15 km from the tarmac electr,)   \n",
       "4   (his focus was on building a school while hers was on education what they didn t realize though was that life would https tco wx9sdxoyox,)   \n",
       "\n",
       "                                                                                                                                        text_B  \n",
       "0   (his focus was on building a school while hers was on education what they didn t realize though was that life would https tco xwgzveu9s8,)  \n",
       "1  (rt stevehofstetter the generation that could buy a house with a part time job and went to college for 5k sure likes to tell everyone how,)  \n",
       "2     (rt lookk234 review 004 ssni 802 poor teacher trapped at school during a storm english explanation issue 4th part12 full amp hd versio,)  \n",
       "3         (rt mariagenerous titled plots at busika town council behind bugema university main campus 50 100 18m 15 km from the tarmac electr,)  \n",
       "4   (his focus was on building a school while hers was on education what they didn t realize though was that life would https tco dwpsaowlzm,)  "
      ]
     },
     "execution_count": 74,
     "metadata": {},
     "output_type": "execute_result"
    }
   ],
   "source": [
    "df_dups_30 = df_dups_text3\n",
    "df_dups_text3.cache()\n",
    "df_dups_text3.limit(5).toPandas()"
   ]
  },
  {
   "cell_type": "code",
   "execution_count": 75,
   "id": "032caf5c-103b-419e-9200-29ce4f08f1c3",
   "metadata": {},
   "outputs": [
    {
     "name": "stderr",
     "output_type": "stream",
     "text": [
      "[Stage 363:====================================================>(199 + 1) / 200]\r"
     ]
    },
    {
     "name": "stdout",
     "output_type": "stream",
     "text": [
      "Total records:  10079\n",
      "Proportion of duplicates based on { 0.3 } jaccard distance proportion:  0.0744121440619109\n",
      "Proportion of unique records based on { 0.3 } jaccard distance proportion:  0.9255878559380891\n"
     ]
    },
    {
     "name": "stderr",
     "output_type": "stream",
     "text": [
      "                                                                                \r"
     ]
    }
   ],
   "source": [
    "records = df_hashed_text.count()\n",
    "dups = df_dups_text3.select('id_A').distinct().count()\n",
    "proportion_dups = dups/records\n",
    "uniques = records - dups\n",
    "proportion_uniques = uniques/records\n",
    "\n",
    "print('Total records: ', records)\n",
    "print('Proportion of duplicates based on {', jaccard_distance, '} jaccard distance proportion: ', proportion_dups)\n",
    "print('Proportion of unique records based on {', jaccard_distance, '} jaccard distance proportion: ', proportion_uniques)"
   ]
  },
  {
   "cell_type": "code",
   "execution_count": 76,
   "id": "bef6d129-afba-4686-aaf5-c7d74351d3c7",
   "metadata": {},
   "outputs": [
    {
     "name": "stdout",
     "output_type": "stream",
     "text": [
      "Total records:  10079\n",
      "Duplicate titles based on { 0.3 } jaccard distance:  750\n",
      "Unique titles based on { 0.3 } jaccard distance:  0.3 :  9329\n"
     ]
    }
   ],
   "source": [
    "records = df_hashed_text.count()\n",
    "dups = df_dups_text3.select('id_A').distinct().count()\n",
    "uniques = records - dups\n",
    "\n",
    "print ('Total records: ', records)\n",
    "print ('Duplicate titles based on {', jaccard_distance, '} jaccard distance: ', dups)\n",
    "print ('Unique titles based on {', jaccard_distance, '} jaccard distance: ', jaccard_distance, ': ', uniques)"
   ]
  },
  {
   "cell_type": "code",
   "execution_count": 77,
   "id": "d0ddfaa3-0bcb-46e8-8cc9-6a256c7b1322",
   "metadata": {},
   "outputs": [
    {
     "data": {
      "image/png": "[encoded data removed]",
      "text/plain": [
       "<Figure size 640x480 with 1 Axes>"
      ]
     },
     "metadata": {},
     "output_type": "display_data"
    }
   ],
   "source": [
    "dups3_df = pd.DataFrame.from_dict({'near_dups': [dups], 'unique': [uniques]})\n",
    "\n",
    "ax=dups3_df.plot(kind = 'bar',y=['near_dups', 'unique'], fontsize=10, color=['grey', 'teal'], align='center', width=0.8, xlabel=\"Duplicates vs. Unique\")\n",
    "ax.set_title('Tweets Duplication Analysis for Social Media Influencer', fontsize=10)\n",
    "for p in ax.patches:\n",
    "       ax.annotate(format(p.get_height(), '.1f'), \n",
    "                   (p.get_x() + p.get_width() / 2., p.get_height()/2),  \n",
    "                   ha = 'center', va = 'center', \n",
    "                   xytext = (0, 9), \n",
    "                   textcoords = 'offset points') "
   ]
  },
  {
   "cell_type": "code",
   "execution_count": 78,
   "id": "006d92fe-5873-472c-bfff-04018e566b16",
   "metadata": {},
   "outputs": [],
   "source": [
    "sqlContext.clearCache()"
   ]
  },
  {
   "cell_type": "markdown",
   "id": "1ec34e07-d3cd-4e1a-a91e-c6058ac098a6",
   "metadata": {},
   "source": [
    "#### Non-profit organization"
   ]
  },
  {
   "cell_type": "code",
   "execution_count": 79,
   "id": "e42b8dfc-f5a1-47f7-a0a7-43c2a0499e2e",
   "metadata": {},
   "outputs": [
    {
     "name": "stderr",
     "output_type": "stream",
     "text": [
      "                                                                                \r"
     ]
    },
    {
     "data": {
      "text/plain": [
       "207936"
      ]
     },
     "execution_count": 79,
     "metadata": {},
     "output_type": "execute_result"
    }
   ],
   "source": [
    "#filter for non-profit organization\n",
    "ngo_users = tweets_filt4.filter(tweets_filt4.user_category == 'Nonprofit Organization')\n",
    "ngo_users.count()"
   ]
  },
  {
   "cell_type": "code",
   "execution_count": 80,
   "id": "c4c7343c-c1db-45a0-a173-f77d697b23ed",
   "metadata": {},
   "outputs": [
    {
     "name": "stderr",
     "output_type": "stream",
     "text": [
      "                                                                                \r"
     ]
    },
    {
     "data": {
      "text/plain": [
       "10044"
      ]
     },
     "execution_count": 80,
     "metadata": {},
     "output_type": "execute_result"
    }
   ],
   "source": [
    "ngo_users_sample = ngo_users.sample(False, 0.048, 12345)\n",
    "ngo_users_sample.count()"
   ]
  },
  {
   "cell_type": "code",
   "execution_count": 81,
   "id": "8dd19c69-d435-46dd-a588-d44bf71d722c",
   "metadata": {},
   "outputs": [
    {
     "data": {
      "text/html": [
       "<table border='1'>\n",
       "<tr><th>text</th></tr>\n",
       "<tr><td>rt hannahkrieg th...</td></tr>\n",
       "<tr><td>elementary school...</td></tr>\n",
       "<tr><td>homelessness surg...</td></tr>\n",
       "<tr><td>rt ucustandard ug...</td></tr>\n",
       "<tr><td>rt cav_peteam the...</td></tr>\n",
       "</table>\n"
      ],
      "text/plain": [
       "+--------------------+\n",
       "|                text|\n",
       "+--------------------+\n",
       "|rt hannahkrieg th...|\n",
       "|elementary school...|\n",
       "|homelessness surg...|\n",
       "|rt ucustandard ug...|\n",
       "|rt cav_peteam the...|\n",
       "+--------------------+"
      ]
     },
     "execution_count": 81,
     "metadata": {},
     "output_type": "execute_result"
    }
   ],
   "source": [
    "#select the text column from the data for further analysis\n",
    "ngo_users2 = ngo_users_sample.select([\"text\"])\n",
    "ngo_users2.limit(5)"
   ]
  },
  {
   "cell_type": "code",
   "execution_count": 82,
   "id": "3a8e865c-6223-4908-b81b-3d914c19dc04",
   "metadata": {},
   "outputs": [
    {
     "name": "stderr",
     "output_type": "stream",
     "text": [
      "                                                                                \r"
     ]
    }
   ],
   "source": [
    "# drop any rows with null values\n",
    "text = ngo_users2.rdd.map(lambda x : x['text']).filter(lambda x: x is not None)\n",
    "\n",
    "StopWords = stopwords.words(\"english\")\n",
    "\n",
    "tokens1 = text\\\n",
    "    .map( lambda document: document.strip().lower())\\\n",
    "    .map( lambda document: re.split(\" \", document))\\\n",
    "    .map( lambda word: [x for x in word if x.isalnum()])\\\n",
    "    .map( lambda word: [x for x in word if x not in StopWords])\\\n",
    "    .map( lambda word: [x for x in word if len(x) > 1] )\\\n",
    "    .zipWithIndex()"
   ]
  },
  {
   "cell_type": "code",
   "execution_count": 83,
   "id": "8c0a8f6b-0218-4acb-8da6-91bfa8d54781",
   "metadata": {},
   "outputs": [
    {
     "name": "stderr",
     "output_type": "stream",
     "text": [
      "                                                                                \r"
     ]
    },
    {
     "data": {
      "text/html": [
       "<table border='1'>\n",
       "<tr><th>text</th><th>id</th></tr>\n",
       "<tr><td>{how does deafnes...</td><td>35</td></tr>\n",
       "<tr><td>{this past weeken...</td><td>36</td></tr>\n",
       "<tr><td>{the moes in ugan...</td><td>37</td></tr>\n",
       "<tr><td>{rt wjbf eligibil...</td><td>38</td></tr>\n",
       "<tr><td>{rt acarpendigita...</td><td>39</td></tr>\n",
       "</table>\n"
      ],
      "text/plain": [
       "+--------------------+---+\n",
       "|                text| id|\n",
       "+--------------------+---+\n",
       "|{rt stuckiny2k th...|401|\n",
       "|{rt btsthroughyea...|402|\n",
       "|{rt itvnews the k...|403|\n",
       "|{rt mdrc_news icy...|404|\n",
       "|{rt cnn pop super...|405|\n",
       "+--------------------+---+"
      ]
     },
     "execution_count": 83,
     "metadata": {},
     "output_type": "execute_result"
    }
   ],
   "source": [
    "row = Row('text')\n",
    "df_text = text.map(row).zipWithIndex().toDF(['text','id'])\n",
    "df_text.limit(5)"
   ]
  },
  {
   "cell_type": "code",
   "execution_count": 84,
   "id": "a9e04f8a-bfc4-424a-b332-b07301e4a3c3",
   "metadata": {},
   "outputs": [
    {
     "data": {
      "text/html": [
       "<div>\n",
       "<style scoped>\n",
       "    .dataframe tbody tr th:only-of-type {\n",
       "        vertical-align: middle;\n",
       "    }\n",
       "\n",
       "    .dataframe tbody tr th {\n",
       "        vertical-align: top;\n",
       "    }\n",
       "\n",
       "    .dataframe thead th {\n",
       "        text-align: right;\n",
       "    }\n",
       "</style>\n",
       "<table border=\"1\" class=\"dataframe\">\n",
       "  <thead>\n",
       "    <tr style=\"text-align: right;\">\n",
       "      <th></th>\n",
       "      <th>words_list</th>\n",
       "      <th>id</th>\n",
       "    </tr>\n",
       "  </thead>\n",
       "  <tbody>\n",
       "    <tr>\n",
       "      <th>0</th>\n",
       "      <td>[rt, hannahkrieg, morning, ingraham, high, school, students, seattle, students, union, organized, district, wide, walk, st]</td>\n",
       "      <td>0</td>\n",
       "    </tr>\n",
       "    <tr>\n",
       "      <th>1</th>\n",
       "      <td>[elementary, school, https, tco, umddisueve]</td>\n",
       "      <td>1</td>\n",
       "    </tr>\n",
       "    <tr>\n",
       "      <th>2</th>\n",
       "      <td>[homelessness, surges, among, memphis, shelby, county, schools, students, https, tco, owpy85qq2z]</td>\n",
       "      <td>2</td>\n",
       "    </tr>\n",
       "    <tr>\n",
       "      <th>3</th>\n",
       "      <td>[rt, ucustandard, uganda, christian, university, ucu, retained, national, council, higher, education, exhibition, award, fourth]</td>\n",
       "      <td>3</td>\n",
       "    </tr>\n",
       "    <tr>\n",
       "      <th>4</th>\n",
       "      <td>[rt, macmillan, information, support, centre, university, hospital, wales, closed, notice, please, contact]</td>\n",
       "      <td>4</td>\n",
       "    </tr>\n",
       "  </tbody>\n",
       "</table>\n",
       "</div>"
      ],
      "text/plain": [
       "                                                                                                                         words_list  \\\n",
       "0       [rt, hannahkrieg, morning, ingraham, high, school, students, seattle, students, union, organized, district, wide, walk, st]   \n",
       "1                                                                                      [elementary, school, https, tco, umddisueve]   \n",
       "2                                 [homelessness, surges, among, memphis, shelby, county, schools, students, https, tco, owpy85qq2z]   \n",
       "3  [rt, ucustandard, uganda, christian, university, ucu, retained, national, council, higher, education, exhibition, award, fourth]   \n",
       "4                       [rt, macmillan, information, support, centre, university, hospital, wales, closed, notice, please, contact]   \n",
       "\n",
       "   id  \n",
       "0   0  \n",
       "1   1  \n",
       "2   2  \n",
       "3   3  \n",
       "4   4  "
      ]
     },
     "execution_count": 84,
     "metadata": {},
     "output_type": "execute_result"
    }
   ],
   "source": [
    "df_text_tokens = spark.createDataFrame(tokens1, [\"words_list\",'id'])\n",
    "\n",
    "#Drop records with no tokens\n",
    "df_text_tokens = df_text_tokens.where(col('words_list').getItem(0).isNotNull())\n",
    "df_text_tokens.limit(5).toPandas()"
   ]
  },
  {
   "cell_type": "code",
   "execution_count": 85,
   "id": "9d352479-584c-4daf-8b2d-84124ff6f0a6",
   "metadata": {},
   "outputs": [
    {
     "name": "stderr",
     "output_type": "stream",
     "text": [
      "                                                                                \r"
     ]
    }
   ],
   "source": [
    "#Fit countvectorizer to create word features\n",
    "vectorize1 = CountVectorizer(inputCol=\"words_list\", outputCol=\"features\", minDF=1.0)\n",
    "df_text_vectorize = vectorize1.fit(df_text_tokens).transform(df_text_tokens)"
   ]
  },
  {
   "cell_type": "code",
   "execution_count": 86,
   "id": "749322aa-c031-4487-9c02-bbe92fd9f43d",
   "metadata": {},
   "outputs": [],
   "source": [
    "#Fit MinHashLSH to create hash table\n",
    "mh1 = MinHashLSH(inputCol=\"features\", outputCol=\"hashes\", numHashTables=5)\n",
    "model1 = mh1.fit(df_text_vectorize)\n",
    "df_hashed1 = model1.transform(df_text_vectorize).cache()"
   ]
  },
  {
   "cell_type": "code",
   "execution_count": 87,
   "id": "fbf9d19d-8aaf-4917-a6d8-2e6149b02ac2",
   "metadata": {},
   "outputs": [
    {
     "name": "stderr",
     "output_type": "stream",
     "text": [
      "                                                                                \r"
     ]
    },
    {
     "data": {
      "text/html": [
       "<table border='1'>\n",
       "<tr><th>id</th><th>text</th><th>words_list</th><th>features</th><th>hashes</th></tr>\n",
       "<tr><td>237</td><td>{rt meakoopa in s...</td><td>[rt, meakoopa, st...</td><td>(29882,[0,3,12,19...</td><td>[[4.7945584E7], [...</td></tr>\n",
       "<tr><td>241</td><td>{rt bbcwomanshour...</td><td>[rt, bbcwomanshou...</td><td>(29882,[0,3,74,17...</td><td>[[4.7945584E7], [...</td></tr>\n",
       "<tr><td>347</td><td>{d_co0p jasoncver...</td><td>[jasoncvercko, mi...</td><td>(29882,[1,2,3,6,1...</td><td>[[5.7031042E7], [...</td></tr>\n",
       "<tr><td>564</td><td>{rt thebhanuu las...</td><td>[rt, thebhanuu, l...</td><td>(29882,[0,1,2,5,8...</td><td>[[4.7945584E7], [...</td></tr>\n",
       "<tr><td>588</td><td>{doyon foundation...</td><td>[doyon, foundatio...</td><td>(29882,[1,2,3,7,1...</td><td>[[1.73116016E8], ...</td></tr>\n",
       "</table>\n"
      ],
      "text/plain": [
       "+---+--------------------+--------------------+--------------------+--------------------+\n",
       "| id|                text|          words_list|            features|              hashes|\n",
       "+---+--------------------+--------------------+--------------------+--------------------+\n",
       "| 32|{rt tempworksforu...|[rt, tempworksfor...|(29882,[0,4,170,3...|[[3.1294153E7], [...|\n",
       "| 43|{we collaborate w...|[collaborate, est...|(29882,[1,2,8,10,...|[[1.2632468E7], [...|\n",
       "|420|{have several tra...|[several, trans, ...|(29882,[1,2,5,10,...|[[2.09418533E8], ...|\n",
       "|555|{breaking bnnkeny...|[breaking, bnnken...|(29882,[1,2,4,7,1...|[[2.02857687E8], ...|\n",
       "|696|{controversial su...|[controversial, s...|(29882,[1,2,4,123...|[[5.9049159E7], [...|\n",
       "+---+--------------------+--------------------+--------------------+--------------------+"
      ]
     },
     "execution_count": 87,
     "metadata": {},
     "output_type": "execute_result"
    }
   ],
   "source": [
    "df_hashed_text = df_text.join(df_hashed1, \"id\", how = 'left').cache()\n",
    "df_hashed_text.limit(5)"
   ]
  },
  {
   "cell_type": "code",
   "execution_count": 88,
   "id": "0e29bd5f-28bb-473b-91ac-d7569af84b93",
   "metadata": {},
   "outputs": [],
   "source": [
    "#Establish similarity threshold and return near-duplicate records\n",
    "jaccard_distance = 0.3\n",
    "\n",
    "df_dups_text3 = model1.approxSimilarityJoin(df_hashed_text, df_hashed_text, jaccard_distance).filter(\"datasetA.id < datasetB.id\").select(\n",
    "            col(\"distCol\"),\n",
    "            col(\"datasetA.id\").alias(\"id_A\"),\n",
    "            col(\"datasetB.id\").alias(\"id_B\"),\n",
    "            col('datasetA.text').alias('text_A'),\n",
    "            col('datasetB.text').alias('text_B')\n",
    "            )"
   ]
  },
  {
   "cell_type": "code",
   "execution_count": 89,
   "id": "e2f1fc46-13a8-4bde-91e0-37c2b777a8c0",
   "metadata": {},
   "outputs": [
    {
     "name": "stderr",
     "output_type": "stream",
     "text": [
      "                                                                                \r"
     ]
    },
    {
     "data": {
      "text/html": [
       "<div>\n",
       "<style scoped>\n",
       "    .dataframe tbody tr th:only-of-type {\n",
       "        vertical-align: middle;\n",
       "    }\n",
       "\n",
       "    .dataframe tbody tr th {\n",
       "        vertical-align: top;\n",
       "    }\n",
       "\n",
       "    .dataframe thead th {\n",
       "        text-align: right;\n",
       "    }\n",
       "</style>\n",
       "<table border=\"1\" class=\"dataframe\">\n",
       "  <thead>\n",
       "    <tr style=\"text-align: right;\">\n",
       "      <th></th>\n",
       "      <th>distCol</th>\n",
       "      <th>id_A</th>\n",
       "      <th>id_B</th>\n",
       "      <th>text_A</th>\n",
       "      <th>text_B</th>\n",
       "    </tr>\n",
       "  </thead>\n",
       "  <tbody>\n",
       "    <tr>\n",
       "      <th>0</th>\n",
       "      <td>0.250000</td>\n",
       "      <td>1989</td>\n",
       "      <td>2604</td>\n",
       "      <td>(orltzy henlo we re interested commsnifleurir_ consists of a college commer taking educ major in english amp her https tco ba3ibclakg,)</td>\n",
       "      <td>(powza10 henlo we re interested commsnifleurir_ consists of a college commer taking educ major in english amp he https tco 7bdplvpgpl,)</td>\n",
       "    </tr>\n",
       "    <tr>\n",
       "      <th>1</th>\n",
       "      <td>0.217391</td>\n",
       "      <td>5848</td>\n",
       "      <td>7850</td>\n",
       "      <td>(umbradylan andre washington c o 23 de dt 6 2 210 lbs 28 gpa durango high school las vegas nv full vid on my https tco gnt110m4kz,)</td>\n",
       "      <td>(ab_thelegend andre washington c o 23 de dt 6 2 220 lbs 28 gpa durango high school las vegas nv full vid on https tco 1jndw6h3yg,)</td>\n",
       "    </tr>\n",
       "    <tr>\n",
       "      <th>2</th>\n",
       "      <td>0.000000</td>\n",
       "      <td>3968</td>\n",
       "      <td>7947</td>\n",
       "      <td>(rt itsmutai this is a kenyan girl called diana chepkemoi meru university student who went to find work in saudi arabia she went healthy,)</td>\n",
       "      <td>(rt itsmutai this is a kenyan girl called diana chepkemoi meru university student who went to find work in saudi arabia she went healthy,)</td>\n",
       "    </tr>\n",
       "    <tr>\n",
       "      <th>3</th>\n",
       "      <td>0.000000</td>\n",
       "      <td>1929</td>\n",
       "      <td>4130</td>\n",
       "      <td>(rt guccithirdleg teanna trump suckin my dick in college who next https tco py8yrxk8po,)</td>\n",
       "      <td>(rt guccithirdleg teanna trump suckin my dick in college who next https tco py8yrxk8po,)</td>\n",
       "    </tr>\n",
       "    <tr>\n",
       "      <th>4</th>\n",
       "      <td>0.000000</td>\n",
       "      <td>1470</td>\n",
       "      <td>9981</td>\n",
       "      <td>(rt tyler02020202 i can t put into words how humbling being in college was during fall 2020 like everyday was a battle,)</td>\n",
       "      <td>(rt tyler02020202 i can t put into words how humbling being in college was during fall 2020 like everyday was a battle,)</td>\n",
       "    </tr>\n",
       "  </tbody>\n",
       "</table>\n",
       "</div>"
      ],
      "text/plain": [
       "    distCol  id_A  id_B  \\\n",
       "0  0.250000  1989  2604   \n",
       "1  0.217391  5848  7850   \n",
       "2  0.000000  3968  7947   \n",
       "3  0.000000  1929  4130   \n",
       "4  0.000000  1470  9981   \n",
       "\n",
       "                                                                                                                                       text_A  \\\n",
       "0     (orltzy henlo we re interested commsnifleurir_ consists of a college commer taking educ major in english amp her https tco ba3ibclakg,)   \n",
       "1         (umbradylan andre washington c o 23 de dt 6 2 210 lbs 28 gpa durango high school las vegas nv full vid on my https tco gnt110m4kz,)   \n",
       "2  (rt itsmutai this is a kenyan girl called diana chepkemoi meru university student who went to find work in saudi arabia she went healthy,)   \n",
       "3                                                    (rt guccithirdleg teanna trump suckin my dick in college who next https tco py8yrxk8po,)   \n",
       "4                    (rt tyler02020202 i can t put into words how humbling being in college was during fall 2020 like everyday was a battle,)   \n",
       "\n",
       "                                                                                                                                       text_B  \n",
       "0     (powza10 henlo we re interested commsnifleurir_ consists of a college commer taking educ major in english amp he https tco 7bdplvpgpl,)  \n",
       "1          (ab_thelegend andre washington c o 23 de dt 6 2 220 lbs 28 gpa durango high school las vegas nv full vid on https tco 1jndw6h3yg,)  \n",
       "2  (rt itsmutai this is a kenyan girl called diana chepkemoi meru university student who went to find work in saudi arabia she went healthy,)  \n",
       "3                                                    (rt guccithirdleg teanna trump suckin my dick in college who next https tco py8yrxk8po,)  \n",
       "4                    (rt tyler02020202 i can t put into words how humbling being in college was during fall 2020 like everyday was a battle,)  "
      ]
     },
     "execution_count": 89,
     "metadata": {},
     "output_type": "execute_result"
    }
   ],
   "source": [
    "df_dups_30 = df_dups_text3\n",
    "df_dups_text3.cache()\n",
    "df_dups_text3.limit(5).toPandas()"
   ]
  },
  {
   "cell_type": "code",
   "execution_count": 90,
   "id": "07e430f7-be24-48ec-8e73-def43fb9510e",
   "metadata": {},
   "outputs": [
    {
     "name": "stderr",
     "output_type": "stream",
     "text": [
      "[Stage 451:===================================================> (196 + 4) / 200]\r"
     ]
    },
    {
     "name": "stdout",
     "output_type": "stream",
     "text": [
      "Total records:  10044\n",
      "Proportion of duplicates based on { 0.3 } jaccard distance proportion:  0.05744723217841497\n",
      "Proportion of unique records based on { 0.3 } jaccard distance proportion:  0.942552767821585\n"
     ]
    },
    {
     "name": "stderr",
     "output_type": "stream",
     "text": [
      "                                                                                \r"
     ]
    }
   ],
   "source": [
    "records = df_hashed_text.count()\n",
    "dups = df_dups_text3.select('id_A').distinct().count()\n",
    "proportion_dups = dups/records\n",
    "uniques = records - dups\n",
    "proportion_uniques = uniques/records\n",
    "\n",
    "print('Total records: ', records)\n",
    "print('Proportion of duplicates based on {', jaccard_distance, '} jaccard distance proportion: ', proportion_dups)\n",
    "print('Proportion of unique records based on {', jaccard_distance, '} jaccard distance proportion: ', proportion_uniques)"
   ]
  },
  {
   "cell_type": "code",
   "execution_count": 91,
   "id": "791851f1-47e4-42da-8601-e6cddb61d376",
   "metadata": {},
   "outputs": [
    {
     "name": "stdout",
     "output_type": "stream",
     "text": [
      "Total records:  10044\n",
      "Duplicate titles based on { 0.3 } jaccard distance:  577\n",
      "Unique titles based on { 0.3 } jaccard distance:  0.3 :  9467\n"
     ]
    }
   ],
   "source": [
    "records = df_hashed_text.count()\n",
    "dups = df_dups_text3.select('id_A').distinct().count()\n",
    "uniques = records - dups\n",
    "\n",
    "print ('Total records: ', records)\n",
    "print ('Duplicate titles based on {', jaccard_distance, '} jaccard distance: ', dups)\n",
    "print ('Unique titles based on {', jaccard_distance, '} jaccard distance: ', jaccard_distance, ': ', uniques)"
   ]
  },
  {
   "cell_type": "code",
   "execution_count": 92,
   "id": "42cc6341-ae2f-4f12-90fc-a753765f983b",
   "metadata": {},
   "outputs": [
    {
     "data": {
      "image/png": "[encoded data removed]",
      "text/plain": [
       "<Figure size 640x480 with 1 Axes>"
      ]
     },
     "metadata": {},
     "output_type": "display_data"
    }
   ],
   "source": [
    "dups3_df = pd.DataFrame.from_dict({'near_dups': [dups], 'unique': [uniques]})\n",
    "\n",
    "ax=dups3_df.plot(kind = 'bar',y=['near_dups', 'unique'], fontsize=10, color=['grey', 'teal'], align='center', width=0.8, xlabel=\"Duplicates vs. Unique\")\n",
    "ax.set_title('Tweets Duplication Analysis for NGOs', fontsize=10)\n",
    "for p in ax.patches:\n",
    "       ax.annotate(format(p.get_height(), '.1f'), \n",
    "                   (p.get_x() + p.get_width() / 2., p.get_height()/2),  \n",
    "                   ha = 'center', va = 'center', \n",
    "                   xytext = (0, 9), \n",
    "                   textcoords = 'offset points') "
   ]
  },
  {
   "cell_type": "code",
   "execution_count": 93,
   "id": "6574e7f0-488d-43e5-bc93-083721f759c3",
   "metadata": {},
   "outputs": [],
   "source": [
    "sqlContext.clearCache()"
   ]
  },
  {
   "cell_type": "markdown",
   "id": "4486a998-7ff5-4d3d-bd11-97e61e2ebfe8",
   "metadata": {},
   "source": [
    "#### Other"
   ]
  },
  {
   "cell_type": "code",
   "execution_count": 94,
   "id": "d5a1714c-f91c-4043-b499-b00cdcf6d78a",
   "metadata": {},
   "outputs": [
    {
     "name": "stderr",
     "output_type": "stream",
     "text": [
      "                                                                                \r"
     ]
    },
    {
     "data": {
      "text/plain": [
       "29954803"
      ]
     },
     "execution_count": 94,
     "metadata": {},
     "output_type": "execute_result"
    }
   ],
   "source": [
    "#filter for other\n",
    "other_users = tweets_filt4.filter(tweets_filt4.user_category == 'Someone Else')\n",
    "other_users.count()"
   ]
  },
  {
   "cell_type": "code",
   "execution_count": 98,
   "id": "28b6184e-8fa5-4cdf-b316-0d975aca3155",
   "metadata": {},
   "outputs": [
    {
     "name": "stderr",
     "output_type": "stream",
     "text": [
      "                                                                                \r"
     ]
    },
    {
     "data": {
      "text/plain": [
       "10040"
      ]
     },
     "execution_count": 98,
     "metadata": {},
     "output_type": "execute_result"
    }
   ],
   "source": [
    "other_users_sample = other_users.sample(False, 0.000333, 12345)\n",
    "other_users_sample.count()"
   ]
  },
  {
   "cell_type": "code",
   "execution_count": 99,
   "id": "625e3f60-db31-4a81-aa57-275b72bdbbc4",
   "metadata": {},
   "outputs": [
    {
     "data": {
      "text/html": [
       "<table border='1'>\n",
       "<tr><th>text</th></tr>\n",
       "<tr><td>rt okay_nadiaa as...</td></tr>\n",
       "<tr><td>gt livestream hd ...</td></tr>\n",
       "<tr><td>matthew82069336 f...</td></tr>\n",
       "<tr><td>rt koresystem a s...</td></tr>\n",
       "<tr><td>notre dame was am...</td></tr>\n",
       "</table>\n"
      ],
      "text/plain": [
       "+--------------------+\n",
       "|                text|\n",
       "+--------------------+\n",
       "|rt okay_nadiaa as...|\n",
       "|gt livestream hd ...|\n",
       "|matthew82069336 f...|\n",
       "|rt koresystem a s...|\n",
       "|notre dame was am...|\n",
       "+--------------------+"
      ]
     },
     "execution_count": 99,
     "metadata": {},
     "output_type": "execute_result"
    }
   ],
   "source": [
    "#select the text column from the data for further analysis\n",
    "other_users2 = other_users_sample.select([\"text\"])\n",
    "other_users2.limit(5)"
   ]
  },
  {
   "cell_type": "code",
   "execution_count": 100,
   "id": "38efa615-b3b2-43bc-a8cf-9d3d1119010f",
   "metadata": {},
   "outputs": [
    {
     "name": "stderr",
     "output_type": "stream",
     "text": [
      "                                                                                \r"
     ]
    }
   ],
   "source": [
    "# drop any rows with null values\n",
    "text = other_users2.rdd.map(lambda x : x['text']).filter(lambda x: x is not None)\n",
    "\n",
    "StopWords = stopwords.words(\"english\")\n",
    "\n",
    "tokens1 = text\\\n",
    "    .map( lambda document: document.strip().lower())\\\n",
    "    .map( lambda document: re.split(\" \", document))\\\n",
    "    .map( lambda word: [x for x in word if x.isalnum()])\\\n",
    "    .map( lambda word: [x for x in word if x not in StopWords])\\\n",
    "    .map( lambda word: [x for x in word if len(x) > 1] )\\\n",
    "    .zipWithIndex()"
   ]
  },
  {
   "cell_type": "code",
   "execution_count": 101,
   "id": "796f0d8e-b1be-470a-b756-1efcd2f9083a",
   "metadata": {},
   "outputs": [
    {
     "name": "stderr",
     "output_type": "stream",
     "text": [
      "                                                                                \r"
     ]
    },
    {
     "data": {
      "text/html": [
       "<table border='1'>\n",
       "<tr><th>text</th><th>id</th></tr>\n",
       "<tr><td>{rt theerealdeeee...</td><td>368</td></tr>\n",
       "<tr><td>{rt irgarner teac...</td><td>369</td></tr>\n",
       "<tr><td>{rt bryanpassink ...</td><td>370</td></tr>\n",
       "<tr><td>{rt twee_teez jea...</td><td>371</td></tr>\n",
       "<tr><td>{rt daveatherton2...</td><td>372</td></tr>\n",
       "</table>\n"
      ],
      "text/plain": [
       "+--------------------+---+\n",
       "|                text| id|\n",
       "+--------------------+---+\n",
       "|{rt theerealdeeee...|368|\n",
       "|{rt irgarner teac...|369|\n",
       "|{rt bryanpassink ...|370|\n",
       "|{rt twee_teez jea...|371|\n",
       "|{rt daveatherton2...|372|\n",
       "+--------------------+---+"
      ]
     },
     "execution_count": 101,
     "metadata": {},
     "output_type": "execute_result"
    }
   ],
   "source": [
    "row = Row('text')\n",
    "df_text = text.map(row).zipWithIndex().toDF(['text','id'])\n",
    "df_text.limit(5)"
   ]
  },
  {
   "cell_type": "code",
   "execution_count": 102,
   "id": "05d845bb-95ad-4a47-b220-31d959ff7fc9",
   "metadata": {},
   "outputs": [
    {
     "data": {
      "text/html": [
       "<div>\n",
       "<style scoped>\n",
       "    .dataframe tbody tr th:only-of-type {\n",
       "        vertical-align: middle;\n",
       "    }\n",
       "\n",
       "    .dataframe tbody tr th {\n",
       "        vertical-align: top;\n",
       "    }\n",
       "\n",
       "    .dataframe thead th {\n",
       "        text-align: right;\n",
       "    }\n",
       "</style>\n",
       "<table border=\"1\" class=\"dataframe\">\n",
       "  <thead>\n",
       "    <tr style=\"text-align: right;\">\n",
       "      <th></th>\n",
       "      <th>words_list</th>\n",
       "      <th>id</th>\n",
       "    </tr>\n",
       "  </thead>\n",
       "  <tbody>\n",
       "    <tr>\n",
       "      <th>0</th>\n",
       "      <td>[rt, college, student, tired]</td>\n",
       "      <td>0</td>\n",
       "    </tr>\n",
       "    <tr>\n",
       "      <th>1</th>\n",
       "      <td>[gt, livestream, hd, high, school, girls, basketball, 2022, lt, shawe, memorial, vs, hauser, watch, live, hd, https, tco, amin8uuyav]</td>\n",
       "      <td>1</td>\n",
       "    </tr>\n",
       "    <tr>\n",
       "      <th>2</th>\n",
       "      <td>[matthew82069336, first, day, eton, college, lesson, lie, much, possible, whenever, possible, bullshit, https, tco, q5jmal5vsu]</td>\n",
       "      <td>2</td>\n",
       "    </tr>\n",
       "    <tr>\n",
       "      <th>3</th>\n",
       "      <td>[rt, koresystem, study, carried, climate, scientists, university, college, cork, affirms, solar, panels, could, power, quarter, ir]</td>\n",
       "      <td>3</td>\n",
       "    </tr>\n",
       "    <tr>\n",
       "      <th>4</th>\n",
       "      <td>[notre, dame, among, elite, elite, women, college, basketball, https, tco, rsrjto0g7a]</td>\n",
       "      <td>4</td>\n",
       "    </tr>\n",
       "  </tbody>\n",
       "</table>\n",
       "</div>"
      ],
      "text/plain": [
       "                                                                                                                              words_list  \\\n",
       "0                                                                                                          [rt, college, student, tired]   \n",
       "1  [gt, livestream, hd, high, school, girls, basketball, 2022, lt, shawe, memorial, vs, hauser, watch, live, hd, https, tco, amin8uuyav]   \n",
       "2        [matthew82069336, first, day, eton, college, lesson, lie, much, possible, whenever, possible, bullshit, https, tco, q5jmal5vsu]   \n",
       "3    [rt, koresystem, study, carried, climate, scientists, university, college, cork, affirms, solar, panels, could, power, quarter, ir]   \n",
       "4                                                 [notre, dame, among, elite, elite, women, college, basketball, https, tco, rsrjto0g7a]   \n",
       "\n",
       "   id  \n",
       "0   0  \n",
       "1   1  \n",
       "2   2  \n",
       "3   3  \n",
       "4   4  "
      ]
     },
     "execution_count": 102,
     "metadata": {},
     "output_type": "execute_result"
    }
   ],
   "source": [
    "df_text_tokens = spark.createDataFrame(tokens1, [\"words_list\",'id'])\n",
    "\n",
    "#Drop records with no tokens\n",
    "df_text_tokens = df_text_tokens.where(col('words_list').getItem(0).isNotNull())\n",
    "df_text_tokens.limit(5).toPandas()"
   ]
  },
  {
   "cell_type": "code",
   "execution_count": 103,
   "id": "ae7102a9-c3bd-42ef-95e7-13b2396af0dd",
   "metadata": {},
   "outputs": [
    {
     "name": "stderr",
     "output_type": "stream",
     "text": [
      "                                                                                \r"
     ]
    }
   ],
   "source": [
    "#Fit countvectorizer to create word features\n",
    "vectorize1 = CountVectorizer(inputCol=\"words_list\", outputCol=\"features\", minDF=1.0)\n",
    "df_text_vectorize = vectorize1.fit(df_text_tokens).transform(df_text_tokens)"
   ]
  },
  {
   "cell_type": "code",
   "execution_count": 104,
   "id": "ca2878f6-aedc-4e03-89e3-5b60e06cb85f",
   "metadata": {},
   "outputs": [],
   "source": [
    "#Fit MinHashLSH to create hash table\n",
    "mh1 = MinHashLSH(inputCol=\"features\", outputCol=\"hashes\", numHashTables=5)\n",
    "model1 = mh1.fit(df_text_vectorize)\n",
    "df_hashed1 = model1.transform(df_text_vectorize).cache()"
   ]
  },
  {
   "cell_type": "code",
   "execution_count": 105,
   "id": "a045412f-123f-42d6-92de-7609deb20b65",
   "metadata": {},
   "outputs": [
    {
     "name": "stderr",
     "output_type": "stream",
     "text": [
      "                                                                                \r"
     ]
    },
    {
     "data": {
      "text/html": [
       "<table border='1'>\n",
       "<tr><th>id</th><th>text</th><th>words_list</th><th>features</th><th>hashes</th></tr>\n",
       "<tr><td>243</td><td>{truth if that co...</td><td>[truth, college, ...</td><td>(28400,[4,57,68,7...</td><td>[[8.31591557E8], ...</td></tr>\n",
       "<tr><td>278</td><td>{rt frontendla ca...</td><td>[rt, frontendla, ...</td><td>(28400,[0,2,10,56...</td><td>[[4.7945584E7], [...</td></tr>\n",
       "<tr><td>367</td><td>{rt proffeynman s...</td><td>[rt, proffeynman,...</td><td>(28400,[0,1,7,10,...</td><td>[[4.7945584E7], [...</td></tr>\n",
       "<tr><td>442</td><td>{lausdsup laschoo...</td><td>[lausdsup, lascho...</td><td>(28400,[1,2,3,6,5...</td><td>[[1.07998325E8], ...</td></tr>\n",
       "<tr><td>705</td><td>{rt chude__ elder...</td><td>[rt, elder, state...</td><td>(28400,[0,5,122,2...</td><td>[[4.7945584E7], [...</td></tr>\n",
       "</table>\n"
      ],
      "text/plain": [
       "+---+--------------------+--------------------+--------------------+--------------------+\n",
       "| id|                text|          words_list|            features|              hashes|\n",
       "+---+--------------------+--------------------+--------------------+--------------------+\n",
       "|124|{rt phil_lewis_ c...|[rt, cecelia, lew...|(28400,[0,1,22,65...|[[4.7945584E7], [...|\n",
       "|181|{there s also pla...|[also, plans, imp...|(28400,[2,3,31,70...|[[1.3146826E7], [...|\n",
       "|363|{project 01 inaug...|[project, 01, ina...|(28400,[2,3,4,96,...|[[1.14598486E8], ...|\n",
       "|586|{rt tomilahren tr...|[rt, tomilahren, ...|(28400,[0,4,6,30,...|[[4.7945584E7], [...|\n",
       "|843|{https tco pdxnlk...|[https, tco, pdxn...|(28400,[2,3,4,640...|[[5.75251383E8], ...|\n",
       "+---+--------------------+--------------------+--------------------+--------------------+"
      ]
     },
     "execution_count": 105,
     "metadata": {},
     "output_type": "execute_result"
    }
   ],
   "source": [
    "df_hashed_text = df_text.join(df_hashed1, \"id\", how = 'left').cache()\n",
    "df_hashed_text.limit(5)"
   ]
  },
  {
   "cell_type": "code",
   "execution_count": 106,
   "id": "fdb854be-b8a3-4e9a-a1f9-b14b5db8398c",
   "metadata": {},
   "outputs": [],
   "source": [
    "#Establish similarity threshold and return near-duplicate records\n",
    "jaccard_distance = 0.3\n",
    "\n",
    "df_dups_text3 = model1.approxSimilarityJoin(df_hashed_text, df_hashed_text, jaccard_distance).filter(\"datasetA.id < datasetB.id\").select(\n",
    "            col(\"distCol\"),\n",
    "            col(\"datasetA.id\").alias(\"id_A\"),\n",
    "            col(\"datasetB.id\").alias(\"id_B\"),\n",
    "            col('datasetA.text').alias('text_A'),\n",
    "            col('datasetB.text').alias('text_B')\n",
    "            )"
   ]
  },
  {
   "cell_type": "code",
   "execution_count": 107,
   "id": "99654e7e-54c7-4635-952d-93596c8d71e7",
   "metadata": {},
   "outputs": [
    {
     "name": "stderr",
     "output_type": "stream",
     "text": [
      "                                                                                \r"
     ]
    },
    {
     "data": {
      "text/html": [
       "<div>\n",
       "<style scoped>\n",
       "    .dataframe tbody tr th:only-of-type {\n",
       "        vertical-align: middle;\n",
       "    }\n",
       "\n",
       "    .dataframe tbody tr th {\n",
       "        vertical-align: top;\n",
       "    }\n",
       "\n",
       "    .dataframe thead th {\n",
       "        text-align: right;\n",
       "    }\n",
       "</style>\n",
       "<table border=\"1\" class=\"dataframe\">\n",
       "  <thead>\n",
       "    <tr style=\"text-align: right;\">\n",
       "      <th></th>\n",
       "      <th>distCol</th>\n",
       "      <th>id_A</th>\n",
       "      <th>id_B</th>\n",
       "      <th>text_A</th>\n",
       "      <th>text_B</th>\n",
       "    </tr>\n",
       "  </thead>\n",
       "  <tbody>\n",
       "    <tr>\n",
       "      <th>0</th>\n",
       "      <td>0.0</td>\n",
       "      <td>2210</td>\n",
       "      <td>7022</td>\n",
       "      <td>(rt ishacouturee being close friends with someone since elementary middle school is such a surreal experience because you literally watch,)</td>\n",
       "      <td>(rt ishacouturee being close friends with someone since elementary middle school is such a surreal experience because you literally watch,)</td>\n",
       "    </tr>\n",
       "    <tr>\n",
       "      <th>1</th>\n",
       "      <td>0.0</td>\n",
       "      <td>994</td>\n",
       "      <td>8035</td>\n",
       "      <td>(greatness i evaluating the benefits and drawbacks of any university worth the name archangel zadkiel,)</td>\n",
       "      <td>(greatness i evaluating the benefits and drawbacks of any university worth the name archangel zadkiel,)</td>\n",
       "    </tr>\n",
       "    <tr>\n",
       "      <th>2</th>\n",
       "      <td>0.0</td>\n",
       "      <td>631</td>\n",
       "      <td>1437</td>\n",
       "      <td>(rt therealcliffyb as someone who played mercutio in high school pretty much this dramanerd https tco poyyfvxlza,)</td>\n",
       "      <td>(rt therealcliffyb as someone who played mercutio in high school pretty much this dramanerd https tco poyyfvxlza,)</td>\n",
       "    </tr>\n",
       "    <tr>\n",
       "      <th>3</th>\n",
       "      <td>0.0</td>\n",
       "      <td>8968</td>\n",
       "      <td>9309</td>\n",
       "      <td>(rt abir1971_das jyoti ghosh 20 a student of nazrul college in dhaka was abducted by some local muslims vijay ahmed forcibly convert,)</td>\n",
       "      <td>(rt abir1971_das jyoti ghosh 20 a student of nazrul college in dhaka was abducted by some local muslims vijay ahmed forcibly convert,)</td>\n",
       "    </tr>\n",
       "    <tr>\n",
       "      <th>4</th>\n",
       "      <td>0.0</td>\n",
       "      <td>5785</td>\n",
       "      <td>5959</td>\n",
       "      <td>(rt davidhundeyin forged chicago state university certificate check false works history claims check failure to disclose apparent du,)</td>\n",
       "      <td>(rt davidhundeyin forged chicago state university certificate check false works history claims check failure to disclose apparent du,)</td>\n",
       "    </tr>\n",
       "  </tbody>\n",
       "</table>\n",
       "</div>"
      ],
      "text/plain": [
       "   distCol  id_A  id_B  \\\n",
       "0      0.0  2210  7022   \n",
       "1      0.0   994  8035   \n",
       "2      0.0   631  1437   \n",
       "3      0.0  8968  9309   \n",
       "4      0.0  5785  5959   \n",
       "\n",
       "                                                                                                                                        text_A  \\\n",
       "0  (rt ishacouturee being close friends with someone since elementary middle school is such a surreal experience because you literally watch,)   \n",
       "1                                      (greatness i evaluating the benefits and drawbacks of any university worth the name archangel zadkiel,)   \n",
       "2                           (rt therealcliffyb as someone who played mercutio in high school pretty much this dramanerd https tco poyyfvxlza,)   \n",
       "3       (rt abir1971_das jyoti ghosh 20 a student of nazrul college in dhaka was abducted by some local muslims vijay ahmed forcibly convert,)   \n",
       "4       (rt davidhundeyin forged chicago state university certificate check false works history claims check failure to disclose apparent du,)   \n",
       "\n",
       "                                                                                                                                        text_B  \n",
       "0  (rt ishacouturee being close friends with someone since elementary middle school is such a surreal experience because you literally watch,)  \n",
       "1                                      (greatness i evaluating the benefits and drawbacks of any university worth the name archangel zadkiel,)  \n",
       "2                           (rt therealcliffyb as someone who played mercutio in high school pretty much this dramanerd https tco poyyfvxlza,)  \n",
       "3       (rt abir1971_das jyoti ghosh 20 a student of nazrul college in dhaka was abducted by some local muslims vijay ahmed forcibly convert,)  \n",
       "4       (rt davidhundeyin forged chicago state university certificate check false works history claims check failure to disclose apparent du,)  "
      ]
     },
     "execution_count": 107,
     "metadata": {},
     "output_type": "execute_result"
    }
   ],
   "source": [
    "df_dups_30 = df_dups_text3\n",
    "df_dups_text3.cache()\n",
    "df_dups_text3.limit(5).toPandas()"
   ]
  },
  {
   "cell_type": "code",
   "execution_count": 108,
   "id": "c09f0eb1-9e35-4f50-bf5f-1cc080f860b7",
   "metadata": {},
   "outputs": [
    {
     "name": "stdout",
     "output_type": "stream",
     "text": [
      "Total records:  10040\n",
      "Proportion of duplicates based on { 0.3 } jaccard distance proportion:  0.0944223107569721\n",
      "Proportion of unique records based on { 0.3 } jaccard distance proportion:  0.9055776892430278\n"
     ]
    }
   ],
   "source": [
    "records = df_hashed_text.count()\n",
    "dups = df_dups_text3.select('id_A').distinct().count()\n",
    "proportion_dups = dups/records\n",
    "uniques = records - dups\n",
    "proportion_uniques = uniques/records\n",
    "\n",
    "print('Total records: ', records)\n",
    "print('Proportion of duplicates based on {', jaccard_distance, '} jaccard distance proportion: ', proportion_dups)\n",
    "print('Proportion of unique records based on {', jaccard_distance, '} jaccard distance proportion: ', proportion_uniques)"
   ]
  },
  {
   "cell_type": "code",
   "execution_count": 109,
   "id": "2428b69f-3f8c-4718-be97-1369dc3cf6fa",
   "metadata": {},
   "outputs": [
    {
     "name": "stdout",
     "output_type": "stream",
     "text": [
      "Total records:  10040\n",
      "Duplicate titles based on { 0.3 } jaccard distance:  948\n",
      "Unique titles based on { 0.3 } jaccard distance:  0.3 :  9092\n"
     ]
    }
   ],
   "source": [
    "records = df_hashed_text.count()\n",
    "dups = df_dups_text3.select('id_A').distinct().count()\n",
    "uniques = records - dups\n",
    "\n",
    "print ('Total records: ', records)\n",
    "print ('Duplicate titles based on {', jaccard_distance, '} jaccard distance: ', dups)\n",
    "print ('Unique titles based on {', jaccard_distance, '} jaccard distance: ', jaccard_distance, ': ', uniques)"
   ]
  },
  {
   "cell_type": "code",
   "execution_count": 110,
   "id": "e5bce249-a2dd-4990-86f5-b09199e4854e",
   "metadata": {},
   "outputs": [
    {
     "data": {
      "image/png": "[encoded data removed]",
      "text/plain": [
       "<Figure size 640x480 with 1 Axes>"
      ]
     },
     "metadata": {},
     "output_type": "display_data"
    }
   ],
   "source": [
    "dups3_df = pd.DataFrame.from_dict({'near_dups': [dups], 'unique': [uniques]})\n",
    "\n",
    "ax=dups3_df.plot(kind = 'bar',y=['near_dups', 'unique'], fontsize=10, color=['grey', 'teal'], align='center', width=0.8, xlabel=\"Duplicates vs. Unique\")\n",
    "ax.set_title('Tweets Duplication Analysis for Other Twitterers', fontsize=10)\n",
    "for p in ax.patches:\n",
    "       ax.annotate(format(p.get_height(), '.1f'), \n",
    "                   (p.get_x() + p.get_width() / 2., p.get_height()/2),  \n",
    "                   ha = 'center', va = 'center', \n",
    "                   xytext = (0, 9), \n",
    "                   textcoords = 'offset points') "
   ]
  },
  {
   "cell_type": "code",
   "execution_count": 111,
   "id": "bd80ec7f-e427-4da0-b27f-cc9ef752774e",
   "metadata": {},
   "outputs": [],
   "source": [
    "sqlContext.clearCache()"
   ]
  },
  {
   "cell_type": "code",
   "execution_count": 44,
   "id": "e57c201f-a912-436b-a659-a3ba9f046279",
   "metadata": {},
   "outputs": [
    {
     "name": "stderr",
     "output_type": "stream",
     "text": [
      "                                                                                \r"
     ]
    },
    {
     "data": {
      "text/plain": [
       "['Someone Else',\n",
       " 'School',\n",
       " 'Social Media Influencer',\n",
       " 'Government Entity',\n",
       " 'Nonprofit Organization',\n",
       " 'News Outlet',\n",
       " 'University']"
      ]
     },
     "execution_count": 44,
     "metadata": {},
     "output_type": "execute_result"
    }
   ],
   "source": [
    "original_tweet_sample.select('user_category').distinct().rdd.map(lambda x: x[0]).collect()"
   ]
  }
 ],
 "metadata": {
  "kernelspec": {
   "display_name": "Python 3 (ipykernel)",
   "language": "python",
   "name": "python3"
  },
  "language_info": {
   "codemirror_mode": {
    "name": "ipython",
    "version": 3
   },
   "file_extension": ".py",
   "mimetype": "text/x-python",
   "name": "python",
   "nbconvert_exporter": "python",
   "pygments_lexer": "ipython3",
   "version": "3.9.15"
  }
 },
 "nbformat": 4,
 "nbformat_minor": 5
}
